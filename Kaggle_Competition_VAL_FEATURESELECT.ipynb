{
  "cells": [
    {
      "cell_type": "markdown",
      "id": "e774ce5e",
      "metadata": {
        "id": "e774ce5e"
      },
      "source": [
        "1. Get train data and test data\n",
        "2. Split train data (train, eval) right away to simulate train vs test data\n",
        "3. Handle missing values (na and 'insert')\n",
        "4. Handle outliers"
      ]
    },
    {
      "cell_type": "code",
      "execution_count": 50,
      "id": "a4ac8607",
      "metadata": {
        "id": "a4ac8607"
      },
      "outputs": [],
      "source": [
        "import numpy as np\n",
        "import pandas as pd\n",
        "import matplotlib.pyplot as plt\n",
        "import copy\n",
        "from sklearn.model_selection import train_test_split\n",
        "from sklearn import preprocessing\n",
        "import os\n",
        "from scipy import stats\n",
        "from sklearn.preprocessing import OneHotEncoder"
      ]
    },
    {
      "cell_type": "code",
      "source": [
        "# This is specifically for use in google collab. Import the train.csv file in order to import the data.\n",
        "from google.colab import drive \n",
        "drive.mount('/content/gdrive')"
      ],
      "metadata": {
        "colab": {
          "base_uri": "https://localhost:8080/"
        },
        "id": "zahvN4UFLn6T",
        "outputId": "76fb6115-98ef-4673-b76a-2f6173dea9e8"
      },
      "id": "zahvN4UFLn6T",
      "execution_count": 51,
      "outputs": [
        {
          "output_type": "stream",
          "name": "stdout",
          "text": [
            "Drive already mounted at /content/gdrive; to attempt to forcibly remount, call drive.mount(\"/content/gdrive\", force_remount=True).\n"
          ]
        }
      ]
    },
    {
      "cell_type": "code",
      "execution_count": 52,
      "id": "e70ea8f1",
      "metadata": {
        "colab": {
          "base_uri": "https://localhost:8080/"
        },
        "id": "e70ea8f1",
        "outputId": "8193a7b9-7788-48e0-ebe5-7980b53b60ee"
      },
      "outputs": [
        {
          "output_type": "stream",
          "name": "stdout",
          "text": [
            "(170000, 19)\n",
            "(30000, 18)\n"
          ]
        }
      ],
      "source": [
        "df_train = pd.read_csv('gdrive/My Drive/train.csv')\n",
        "df_test = pd.read_csv('gdrive/My Drive/test.csv')\n",
        "print(df_train.shape)\n",
        "print(df_test.shape)"
      ]
    },
    {
      "cell_type": "code",
      "execution_count": 53,
      "id": "28b9ffc2",
      "metadata": {
        "id": "28b9ffc2"
      },
      "outputs": [],
      "source": [
        "\n",
        "def convertToNum(a):\n",
        "    if a == 'Worst Concert Ever':\n",
        "        return 0\n",
        "    elif a == 'Did Not Enjoy':\n",
        "        return 1\n",
        "    elif a == 'Enjoyed':\n",
        "        return 2\n",
        "    else:\n",
        "        return 3\n",
        "    \n",
        "\n",
        "#df_train['Num Concert Enjoyment'] = df_train['Concert Enjoyment'].replace(\n",
        "#    ['Worst Concert Ever', 'Did Not Enjoy', 'Enjoyed', 'Best Concert Ever'], \n",
        "#    [0,1,2,3]\n",
        "#)"
      ]
    },
    {
      "cell_type": "code",
      "execution_count": 54,
      "id": "18cea9d6",
      "metadata": {
        "id": "18cea9d6",
        "outputId": "525f015c-7da9-475f-d18d-276cf0612591",
        "colab": {
          "base_uri": "https://localhost:8080/"
        }
      },
      "outputs": [
        {
          "output_type": "stream",
          "name": "stdout",
          "text": [
            "(161500, 19)\n",
            "(8500, 19)\n"
          ]
        }
      ],
      "source": [
        "df_train, df_eval = np.split(df_train, [int(0.95*len(df_train))])\n",
        "print(df_train.shape)\n",
        "print(df_eval.shape)"
      ]
    },
    {
      "cell_type": "markdown",
      "id": "119a6926",
      "metadata": {
        "id": "119a6926"
      },
      "source": [
        "# To Lower and To String"
      ]
    },
    {
      "cell_type": "code",
      "execution_count": 55,
      "id": "93a6d0c0",
      "metadata": {
        "id": "93a6d0c0"
      },
      "outputs": [],
      "source": [
        "def toLower(a):\n",
        "    if a == None or a != a:\n",
        "        pass\n",
        "    else:\n",
        "        a = a.lower()\n",
        "    return a\n",
        "\n",
        "def toString(a):\n",
        "  if a == None or a!=a :    #if a is none or nan on pass \n",
        "    pass \n",
        "  else:\n",
        "    a = str(int(a))   \n",
        "  return a\n",
        "\n",
        "for c in [\"Band Country of Origin\",\"Band Name\",\"Band Genre\",\"Concert Goer Country of Origin\"]:\n",
        "    df_train[c] = df_train[c].map(toLower)\n",
        "    df_eval[c] = df_eval[c].map(toLower)\n",
        "    df_test[c] = df_test[c].map(toLower)\n",
        "    \n",
        "for c in ['Concert ID']:\n",
        "    df_train[c] = df_train[c].map(toString)\n",
        "    df_eval[c] = df_eval[c].map(toString)\n",
        "    df_test[c] = df_test[c].map(toString)"
      ]
    },
    {
      "cell_type": "markdown",
      "id": "8ba6d285",
      "metadata": {
        "id": "8ba6d285"
      },
      "source": [
        "# By Decile"
      ]
    },
    {
      "cell_type": "code",
      "execution_count": 56,
      "id": "1e63ef60",
      "metadata": {
        "id": "1e63ef60"
      },
      "outputs": [],
      "source": [
        "def groupByDecile(a):\n",
        "  if a == None or a!=a :     \n",
        "    pass \n",
        "  elif a< 20:\n",
        "    a = str(16)     #ca permet de faire commencer à 16 ans l'intervalle des âges sinon ce serait 10 ans X(\n",
        "  else :\n",
        "    a = a - a%10        #  Ex : 1976 - 1976%10 = 1970\n",
        "    a = str(int(a))\n",
        "  return a\n",
        "\n",
        "for c in [\"Band Debut\",\"Concert Goer Age\"]:\n",
        "    df_train[c] = df_train[c].map(groupByDecile)\n",
        "    df_eval[c] = df_eval[c].map(groupByDecile)\n",
        "    df_test[c] = df_test[c].map(groupByDecile)"
      ]
    },
    {
      "cell_type": "markdown",
      "id": "44ce7457",
      "metadata": {
        "id": "44ce7457"
      },
      "source": [
        "# Handle Missing values"
      ]
    },
    {
      "cell_type": "code",
      "execution_count": 57,
      "id": "d936145c",
      "metadata": {
        "id": "d936145c"
      },
      "outputs": [],
      "source": [
        "# Missing values are nan or '*insert*'\n",
        "# Want to replace by most popular\n",
        "from sklearn.impute import SimpleImputer\n",
        "imp = SimpleImputer(missing_values=np.nan, strategy='most_frequent')\n",
        "\n",
        "X_train = df_train.drop(columns=['Concert Enjoyment'])\n",
        "y_train = df_train['Concert Enjoyment']\n",
        "\n",
        "X_eval = df_eval.drop(columns=['Concert Enjoyment'])\n",
        "y_eval = df_eval['Concert Enjoyment']\n",
        "\n",
        "idx_train = X_train.index\n",
        "idx_eval = X_eval.index\n",
        "\n",
        "imp.fit(X_train)\n",
        "\n",
        "cols = X_train.columns.values\n",
        "\n",
        "X_train = imp.transform(X_train)\n",
        "X_eval = imp.transform(X_eval)\n",
        "X_test = imp.transform(df_test)\n",
        "\n",
        "# Quand soumission on train sur TOUT train\n",
        "df_train = pd.concat([pd.DataFrame(X_train, columns=cols, index=idx_train), y_train], axis=1)\n",
        "df_eval = pd.concat([pd.DataFrame(X_eval, columns=cols, index=idx_eval), y_eval], axis=1)\n",
        "df_test = pd.DataFrame(X_test, columns=cols)\n"
      ]
    },
    {
      "cell_type": "markdown",
      "id": "14f7d21e",
      "metadata": {
        "id": "14f7d21e"
      },
      "source": [
        "# To Int"
      ]
    },
    {
      "cell_type": "code",
      "execution_count": 58,
      "id": "bb0fac7d",
      "metadata": {
        "id": "bb0fac7d"
      },
      "outputs": [],
      "source": [
        "cols_to_int = ['Inside Venue','Rain','Seated']\n",
        "for c in cols_to_int:\n",
        "    df_train[c] = df_train[c].astype(int)\n",
        "    df_eval[c] = df_eval[c].astype(int)\n",
        "    # Quand soummission\n",
        "    df_test[c] = df_test[c].astype(int)"
      ]
    },
    {
      "cell_type": "code",
      "execution_count": 59,
      "id": "2bcd2941",
      "metadata": {
        "id": "2bcd2941"
      },
      "outputs": [],
      "source": [
        "cols_with_insert = ['Band Name', 'Band Genre', 'Band Country of Origin','Concert Goer Country of Origin']\n",
        "for c in cols_with_insert:\n",
        "    df_train.loc[df_train[c].str.contains('insert'), c] = df_train[c].mode()[0]\n",
        "    df_eval.loc[df_eval[c].str.contains('insert'), c] = df_train[c].mode()[0]\n",
        "    # Quand soumission on fait tout sur le train mode\n",
        "    df_test.loc[df_test[c].str.contains('insert'), c] = df_test[c].mode()[0]"
      ]
    },
    {
      "cell_type": "markdown",
      "id": "0bf33089",
      "metadata": {
        "id": "0bf33089"
      },
      "source": [
        "# Handle Outliers"
      ]
    },
    {
      "cell_type": "code",
      "execution_count": 60,
      "id": "d9114119",
      "metadata": {
        "id": "d9114119"
      },
      "outputs": [],
      "source": [
        "def convertConcertAttendance(a):\n",
        "    if int(a) > 162754:\n",
        "        a = (a / 10000)\n",
        "    return a\n",
        "\n",
        "df_train['Concert Attendance'] = df_train['Concert Attendance'].map(convertConcertAttendance)\n",
        "df_eval['Concert Attendance'] = df_eval['Concert Attendance'].map(convertConcertAttendance)\n",
        "# Quand soumission\n",
        "df_test['Concert Attendance'] = df_test['Concert Attendance'].map(convertConcertAttendance)"
      ]
    },
    {
      "cell_type": "code",
      "execution_count": 61,
      "id": "d938035b",
      "metadata": {
        "id": "d938035b"
      },
      "outputs": [],
      "source": [
        "df_train.loc[\n",
        "    (df_train['Personnality Trait 2'] < -5) |\n",
        "    (df_train['Personnality Trait 2'] > 5), 'Personnality Trait 2'\n",
        "] = df_train['Personnality Trait 2'].mean()\n",
        "\n",
        "df_eval.loc[\n",
        "    (df_eval['Personnality Trait 2'] < -5) |\n",
        "    (df_eval['Personnality Trait 2'] > 5), 'Personnality Trait 2'\n",
        "] = df_train['Personnality Trait 2'].mean()\n",
        "\n",
        "\n",
        "df_test.loc[\n",
        "    (df_test['Personnality Trait 2'] < -5) |\n",
        "    (df_test['Personnality Trait 2'] > 5), 'Personnality Trait 2'\n",
        "] = df_train['Personnality Trait 2'].mean()\n",
        "\n",
        "# Quand soumission on le fait sur df_test"
      ]
    },
    {
      "cell_type": "markdown",
      "id": "f9492575",
      "metadata": {
        "id": "f9492575"
      },
      "source": [
        "# Group Data"
      ]
    },
    {
      "cell_type": "code",
      "execution_count": 62,
      "id": "dd3a1166",
      "metadata": {
        "id": "dd3a1166"
      },
      "outputs": [],
      "source": [
        "def groupCountry(a):\n",
        "    if a not in ['canada', 'united states of america (usa)', 'united kingdom (uk)']:\n",
        "        a = 'other'\n",
        "    return a\n",
        "\n",
        "df_train['Concert Goer Country of Origin'] = df_train['Concert Goer Country of Origin'].map(groupCountry)\n",
        "df_eval['Concert Goer Country of Origin'] = df_eval['Concert Goer Country of Origin'].map(groupCountry)\n",
        "# quand soumission sur test aussi\n",
        "df_test['Concert Goer Country of Origin'] = df_test['Concert Goer Country of Origin'].map(groupCountry)"
      ]
    },
    {
      "cell_type": "markdown",
      "id": "fa743cc7",
      "metadata": {
        "id": "fa743cc7"
      },
      "source": [
        "# Keep Important Concert IDs"
      ]
    },
    {
      "cell_type": "code",
      "execution_count": 63,
      "id": "1c36e9fd",
      "metadata": {
        "id": "1c36e9fd"
      },
      "outputs": [],
      "source": [
        "def convertConcertID(a):\n",
        "    # Top 5 meilleurs average rating qui sont a l'interieur, Pire 5 qui sont a l'intérieur\n",
        "    if int(a) in [879, 539, 456, 961, 592, 978, 441, 193, 24, 164]:\n",
        "        return str(a)\n",
        "    else:\n",
        "        return 'other'\n",
        "    \n",
        "df_train['Concert ID'] = df_train['Concert ID'].map(convertConcertID)\n",
        "df_test['Concert ID'] = df_test['Concert ID'].map(convertConcertID)\n",
        "df_eval['Concert ID'] = df_eval['Concert ID'].map(convertConcertID)"
      ]
    },
    {
      "cell_type": "markdown",
      "id": "751bb858",
      "metadata": {
        "id": "751bb858"
      },
      "source": [
        "# Keep Important Concert Goer IDs"
      ]
    },
    {
      "cell_type": "code",
      "execution_count": 64,
      "id": "f0b1ac16",
      "metadata": {
        "id": "f0b1ac16"
      },
      "outputs": [],
      "source": [
        "def convertConcertGoerID(a):\n",
        "    if str(a) in ['concert_goer_695', 'concert_goer_413', 'concert_goer_1392', 'concert_goer_398', 'concert_goer_1770', 'concert_goer_1011', 'concert_goer_1414', 'concert_goer_1419', 'concert_goer_1506', 'concert_goer_390']:\n",
        "        return str(a)\n",
        "    else:\n",
        "        return 'other'\n",
        "    \n",
        "df_train['Concert Goer ID'] = df_train['Concert Goer ID'].map(convertConcertGoerID)\n",
        "df_test['Concert Goer ID'] = df_test['Concert Goer ID'].map(convertConcertGoerID)\n",
        "df_eval['Concert Goer ID'] = df_eval['Concert Goer ID'].map(convertConcertGoerID)"
      ]
    },
    {
      "cell_type": "markdown",
      "id": "3b32b23b",
      "metadata": {
        "id": "3b32b23b"
      },
      "source": [
        "# Create New Feature"
      ]
    },
    {
      "cell_type": "code",
      "execution_count": 65,
      "id": "1c8ac24d",
      "metadata": {
        "id": "1c8ac24d"
      },
      "outputs": [],
      "source": [
        "df_train['Out n Rain'] = ((df_train['Inside Venue'] == 0) & (df_train['Rain'] == 1)).astype(int)\n",
        "df_test['Out n Rain'] = ((df_test['Inside Venue'] == 0) & (df_test['Rain'] == 1)).astype(int)\n",
        "df_eval['Out n Rain'] = ((df_eval['Inside Venue'] == 0) & (df_eval['Rain'] == 1)).astype(int)"
      ]
    },
    {
      "cell_type": "markdown",
      "id": "412297f8",
      "metadata": {
        "id": "412297f8"
      },
      "source": [
        "# Drop Cols"
      ]
    },
    {
      "cell_type": "code",
      "execution_count": 66,
      "id": "5ddf0759",
      "metadata": {
        "id": "5ddf0759"
      },
      "outputs": [],
      "source": [
        "cols_to_drop = ['Id']\n",
        "ids_test = df_test['Id']\n",
        "df_train = df_train.drop(columns=cols_to_drop)\n",
        "df_eval = df_eval.drop(columns=cols_to_drop)\n",
        "df_test = df_test.drop(columns=cols_to_drop)"
      ]
    },
    {
      "cell_type": "markdown",
      "id": "a83898c4",
      "metadata": {
        "id": "a83898c4"
      },
      "source": [
        "# Balance Dataset"
      ]
    },
    {
      "cell_type": "code",
      "source": [
        "''' from sklearn.metrics import DistanceMetric \n",
        "from imblearn.over_sampling import SMOTENC\n",
        "\n",
        "df_train['Concert Enjoyment'].value_counts()\n",
        "\n",
        "df_train = df_train.drop( df_train[ df_train['Concert Enjoyment'] == 'Enjoyed' ].sample(frac=0.25).index)\n",
        "\n",
        "df_train = df_train.drop( df_train[ df_train['Concert Enjoyment'] == 'Did Not Enjoy' ].sample(frac=0.25).index)\n",
        "\n",
        "df_train['Concert Enjoyment'].value_counts()\n",
        "\n",
        "nb_class_dict = { 'Did Not Enjoy':40783, 'Enjoyed':40769, 'Worst Concert Ever':26000, 'Best Concert Ever':26000 } \n",
        "X = df_train.drop(columns=['Concert Enjoyment']) \n",
        "y = df_train['Concert Enjoyment'] \n",
        "cols = X.columns \n",
        "num_cols = X._get_numeric_data().columns \n",
        "cat_cols = list(set(cols) - set(num_cols)) \n",
        "cat_cols_idx = [X.columns.get_loc(c) for c in cat_cols]\n",
        "\n",
        "sm = SMOTENC(random_state=0, sampling_strategy=nb_class_dict, categorical_features=cat_cols_idx)\n",
        "\n",
        "X_bal, y_bal = sm.fit_resample(X, y)\n",
        "\n",
        "df_train = pd.concat([X_bal, y_bal], axis=1)\n",
        "\n",
        "df_train['Concert Enjoyment'].value_counts() '''"
      ],
      "metadata": {
        "colab": {
          "base_uri": "https://localhost:8080/",
          "height": 1000
        },
        "id": "53z5TWNPO-uT",
        "outputId": "65f84619-3208-4b69-dd96-b2ad46d790d2"
      },
      "id": "53z5TWNPO-uT",
      "execution_count": 67,
      "outputs": [
        {
          "output_type": "execute_result",
          "data": {
            "text/plain": [
              "\" from sklearn.metrics import DistanceMetric \\nfrom imblearn.over_sampling import SMOTENC\\n\\ndf_train['Concert Enjoyment'].value_counts()\\n\\ndf_train = df_train.drop( df_train[ df_train['Concert Enjoyment'] == 'Enjoyed' ].sample(frac=0.25).index)\\n\\ndf_train = df_train.drop( df_train[ df_train['Concert Enjoyment'] == 'Did Not Enjoy' ].sample(frac=0.25).index)\\n\\ndf_train['Concert Enjoyment'].value_counts()\\n\\nnb_class_dict = { 'Did Not Enjoy':40783, 'Enjoyed':40769, 'Worst Concert Ever':26000, 'Best Concert Ever':26000 } \\nX = df_train.drop(columns=['Concert Enjoyment']) \\ny = df_train['Concert Enjoyment'] \\ncols = X.columns \\nnum_cols = X._get_numeric_data().columns \\ncat_cols = list(set(cols) - set(num_cols)) \\ncat_cols_idx = [X.columns.get_loc(c) for c in cat_cols]\\n\\nsm = SMOTENC(random_state=0, sampling_strategy=nb_class_dict, categorical_features=cat_cols_idx)\\n\\nX_bal, y_bal = sm.fit_resample(X, y)\\n\\ndf_train = pd.concat([X_bal, y_bal], axis=1)\\n\\ndf_train['Concert Enjoyment'].value_counts() \""
            ],
            "application/vnd.google.colaboratory.intrinsic+json": {
              "type": "string"
            }
          },
          "metadata": {},
          "execution_count": 67
        }
      ]
    },
    {
      "cell_type": "markdown",
      "id": "7ca7fc7c",
      "metadata": {
        "id": "7ca7fc7c"
      },
      "source": [
        "# One Hot"
      ]
    },
    {
      "cell_type": "code",
      "execution_count": 68,
      "id": "7f988245",
      "metadata": {
        "id": "7f988245"
      },
      "outputs": [],
      "source": [
        "one_hot_cols = ['Band Name', 'Concert Goer ID', 'Concert ID', 'Band Genre', 'Band Country of Origin', 'Concert Goer Country of Origin']"
      ]
    },
    {
      "cell_type": "code",
      "execution_count": 69,
      "id": "d9219379",
      "metadata": {
        "id": "d9219379"
      },
      "outputs": [],
      "source": [
        "from sklearn.preprocessing import OneHotEncoder\n",
        "from sklearn.compose import make_column_transformer"
      ]
    },
    {
      "cell_type": "code",
      "execution_count": 70,
      "id": "95a733a7",
      "metadata": {
        "id": "95a733a7"
      },
      "outputs": [],
      "source": [
        "X_train = df_train.drop(columns=['Concert Enjoyment'])\n",
        "X_eval = df_eval.drop(columns=['Concert Enjoyment'])\n",
        "\n",
        "y_train = df_train['Concert Enjoyment']\n",
        "y_eval = df_eval['Concert Enjoyment']"
      ]
    },
    {
      "cell_type": "code",
      "execution_count": 71,
      "id": "f8b955e4",
      "metadata": {
        "id": "f8b955e4",
        "outputId": "87b2034e-3c07-4fbf-e3af-168eb130ba79",
        "colab": {
          "base_uri": "https://localhost:8080/"
        }
      },
      "outputs": [
        {
          "output_type": "execute_result",
          "data": {
            "text/plain": [
              "array(['Band Name', 'Band Genre', 'Band Country of Origin', 'Band Debut',\n",
              "       'Concert ID', 'Concert Attendance', 'Inside Venue', 'Rain',\n",
              "       'Seated', 'Personnality Trait 1', 'Personnality Trait 2',\n",
              "       'Personnality Trait 3', 'Personnality Trait 4', 'Concert Goer Age',\n",
              "       'Concert Goer ID', 'Height (cm)', 'Concert Goer Country of Origin',\n",
              "       'Out n Rain'], dtype=object)"
            ]
          },
          "metadata": {},
          "execution_count": 71
        }
      ],
      "source": [
        "df_test.columns.values"
      ]
    },
    {
      "cell_type": "code",
      "execution_count": 72,
      "id": "574f3aa7",
      "metadata": {
        "id": "574f3aa7"
      },
      "outputs": [],
      "source": [
        "X_train = pd.get_dummies(X_train, columns = one_hot_cols)\n",
        "X_eval = pd.get_dummies(X_eval, columns = one_hot_cols)\n",
        "X_test = pd.get_dummies(df_test, columns = one_hot_cols)"
      ]
    },
    {
      "cell_type": "code",
      "execution_count": 73,
      "id": "dfcf4f02",
      "metadata": {
        "id": "dfcf4f02",
        "outputId": "808cdbbe-ab71-4647-95bb-87174dc99dca",
        "colab": {
          "base_uri": "https://localhost:8080/"
        }
      },
      "outputs": [
        {
          "output_type": "execute_result",
          "data": {
            "text/plain": [
              "Index(['Band Debut', 'Concert Attendance', 'Inside Venue', 'Rain', 'Seated',\n",
              "       'Personnality Trait 1', 'Personnality Trait 2', 'Personnality Trait 3',\n",
              "       'Personnality Trait 4', 'Concert Goer Age',\n",
              "       ...\n",
              "       'Band Genre_pop music', 'Band Genre_rnb', 'Band Genre_rock n roll',\n",
              "       'Band Country of Origin_canada',\n",
              "       'Band Country of Origin_united kingdom (uk)',\n",
              "       'Band Country of Origin_united states of america (usa)',\n",
              "       'Concert Goer Country of Origin_canada',\n",
              "       'Concert Goer Country of Origin_other',\n",
              "       'Concert Goer Country of Origin_united kingdom (uk)',\n",
              "       'Concert Goer Country of Origin_united states of america (usa)'],\n",
              "      dtype='object', length=101)"
            ]
          },
          "metadata": {},
          "execution_count": 73
        }
      ],
      "source": [
        "X_test.columns"
      ]
    },
    {
      "cell_type": "code",
      "execution_count": 74,
      "id": "39985ffd",
      "metadata": {
        "id": "39985ffd"
      },
      "outputs": [],
      "source": [
        "X_train = X_train.reindex(sorted(X_train.columns), axis=1)\n",
        "X_eval = X_eval.reindex(sorted(X_train.columns), axis=1)\n",
        "X_test = X_test.reindex(sorted(X_test.columns), axis=1)\n",
        "\n"
      ]
    },
    {
      "cell_type": "code",
      "execution_count": 75,
      "id": "7171e4ff",
      "metadata": {
        "id": "7171e4ff"
      },
      "outputs": [],
      "source": [
        "# Pour verifier qu'ils sont dans le meme ordre\n",
        "for i , c in enumerate(X_train.columns.values):\n",
        "    if X_eval.columns.values[i] != c:\n",
        "        print(c)"
      ]
    },
    {
      "cell_type": "code",
      "execution_count": 76,
      "id": "d9a04ae2",
      "metadata": {
        "id": "d9a04ae2"
      },
      "outputs": [],
      "source": [
        "X_train\n",
        "# For use in feature selection\n",
        "X_corr = X_train.corr()\n",
        "X_features = X_train.columns.values"
      ]
    },
    {
      "cell_type": "markdown",
      "id": "400feb53",
      "metadata": {
        "id": "400feb53"
      },
      "source": [
        "# Scale & Formatting"
      ]
    },
    {
      "cell_type": "code",
      "execution_count": 77,
      "id": "08a19bec",
      "metadata": {
        "id": "08a19bec"
      },
      "outputs": [],
      "source": [
        "from sklearn.preprocessing import StandardScaler, MinMaxScaler"
      ]
    },
    {
      "cell_type": "code",
      "execution_count": 78,
      "id": "9a467d19",
      "metadata": {
        "id": "9a467d19"
      },
      "outputs": [],
      "source": [
        "sc = MinMaxScaler()\n",
        "sc.fit(X_train)\n",
        "\n",
        "X_train = sc.transform(X_train)\n",
        "X_eval = sc.transform(X_eval)\n",
        "X_test = sc.transform(X_test)"
      ]
    },
    {
      "cell_type": "code",
      "execution_count": null,
      "metadata": {
        "id": "f71f3c19"
      },
      "outputs": [],
      "source": [
        "from sklearn.preprocessing import LabelEncoder"
      ],
      "id": "f71f3c19"
    },
    {
      "cell_type": "code",
      "execution_count": null,
      "metadata": {
        "id": "d73d52c0"
      },
      "outputs": [],
      "source": [
        "le = LabelEncoder().fit(y_train)\n",
        "y_train_encoded = le.transform(y_train)\n",
        "y_eval_encoded = le.transform(y_eval)"
      ],
      "id": "d73d52c0"
    },
    {
      "cell_type": "markdown",
      "source": [
        "# Feature engineering, Hyperparameter tuning & Validation"
      ],
      "metadata": {
        "id": "3DuXb7lGTbe8"
      },
      "id": "3DuXb7lGTbe8"
    },
    {
      "cell_type": "markdown",
      "source": [
        "## Hyperparameter Tuning"
      ],
      "metadata": {
        "id": "OIDiuEfo9BpY"
      },
      "id": "OIDiuEfo9BpY"
    },
    {
      "cell_type": "code",
      "source": [
        "from sklearn.model_selection import RandomizedSearchCV, GridSearchCV\n",
        "from scipy.stats import randint\n",
        "\n",
        "def getValidHyperparams(X_train, y_train, modelConstructor, parameters, hyperparameters, isRandom=True):\n",
        "  model =  modelConstructor(**parameters)\n",
        "  # cv can take a CV Splitter object... make our own custom for more control than the automatic stratified splitting? see https://scikit-learn.org/stable/glossary.html#term-CV-splitter\n",
        "  # cv=5 in itself is a hyper parameter that we should tune... manually? Values 3 and 4 change very little performance wise.\n",
        "  model_cv = RandomizedSearchCV(model, hyperparameters, cv=4, scoring='f1_micro', n_iter=2, n_jobs=1, return_train_score=True) if isRandom else GridSearchCV(model, hyperparams, cv=4, scoring='f1_micro', return_train_score=True)\n",
        "\n",
        "  cv_results = model_cv.fit(X_train, y_train)\n",
        "\n",
        "  print(cv_results.best_params_)\n",
        "  return cv_results.best_params_, cv_results\n",
        "\n",
        "# def plot_grid_search(cv_results, grid_param_1, grid_param_2, name_param_1, name_param_2):\n",
        "#   # Get Test Scores Mean and std for each grid search\n",
        "#   scores_mean = cv_results['mean_test_score']\n",
        "#   scores_mean = np.array(scores_mean).reshape(len(grid_param_2),len(grid_param_1))\n",
        "\n",
        "#   scores_sd = cv_results['std_test_score']\n",
        "#   scores_sd = np.array(scores_sd).reshape(len(grid_param_2),len(grid_param_1))\n",
        "\n",
        "#   # Plot Grid search scores\n",
        "#   _, ax = plt.subplots(1,1)\n",
        "\n",
        "#   # Param1 is the X-axis, Param 2 is represented as a different curve (color line)\n",
        "#   for idx, val in enumerate(grid_param_2):\n",
        "#       ax.plot(grid_param_1, scores_mean[idx,:], '-o', label= name_param_2 + ': ' + str(val))\n",
        "\n",
        "#   ax.set_title(\"Grid Search Scores\", fontsize=20, fontweight='bold')\n",
        "#   ax.set_xlabel(name_param_1, fontsize=16)\n",
        "#   ax.set_ylabel('CV Average Score', fontsize=16)\n",
        "#   ax.legend(loc=\"best\", fontsize=15)\n",
        "#   ax.grid('on')"
      ],
      "metadata": {
        "id": "aDz-lSqcTlOS"
      },
      "id": "aDz-lSqcTlOS",
      "execution_count": 79,
      "outputs": []
    },
    {
      "cell_type": "code",
      "execution_count": 80,
      "id": "8ee93594",
      "metadata": {
        "id": "8ee93594"
      },
      "outputs": [],
      "source": [
        "from sklearn.neighbors import KNeighborsClassifier"
      ]
    },
    {
      "cell_type": "code",
      "execution_count": 83,
      "id": "c65239b4",
      "metadata": {
        "id": "c65239b4"
      },
      "outputs": [],
      "source": [
        "## This is WAY too slow...\n",
        "## See cuML: https://developer.nvidia.com/blog/scikit-learn-tutorial-beginners-guide-to-gpu-accelerated-ml-pipelines/\n",
        "## https://docs.rapids.ai/api/cuml/stable/\n",
        "## Use cuML estimators (model constructors) inside scipy gridsearch, as described here: https://stackoverflow.com/questions/70139811/how-do-you-do-a-grid-search-with-cuml-without-a-datatype-error\n",
        "\n",
        "\n",
        "# params = {'algorithm': 'kd_tree', # based on documentation, kd tree speeds things up quite a bit and is good for dimensions under 20 (it's our case).\n",
        "#           'p': 2}\n",
        "# hyperparams = {'n_neighbors': [27],\n",
        "#                'weights': [\"uniform\", \"distance\"]}\n",
        "\n",
        "\n",
        "\n",
        "# val_hyperparams, cv_results = getValidHyperparams(X_train, y_train_encoded, KNeighborsClassifier, params, hyperparams, isRandom=True)\n",
        "# knn = KNeighborsClassifier(**val_hyperparams, **params)\n",
        "\n",
        "# print(cv_results)\n",
        "knn = KNeighborsClassifier(n_neighbors=27, weights=\"uniform\", p=2, algorithm='kd_tree')"
      ]
    },
    {
      "cell_type": "markdown",
      "source": [
        "## Feature Selection"
      ],
      "metadata": {
        "id": "ELjPtyOCTtg2"
      },
      "id": "ELjPtyOCTtg2"
    },
    {
      "cell_type": "markdown",
      "source": [
        "Many categories of feature selection methods exist:\n",
        "\n",
        "- **Filter methods**, which are generaly less computationally intensive and rely on unvariate statistical analysis rather than model performance.\n",
        "\n",
        "- **Wrapper methods**, which come down to training and evaluating the performance of the model over various combinations of features. Hence, they tend to be more computationnally expensive. The approach is greedy, but it tends to have more extensive and performant results.\n",
        "\n",
        "- **Embedded methods**, which derives the importance of the different features by analysing the result of the training. These methods typically require that the training algorithms involve quantification of the impact of each feature on the result. A common example is the LASSO regularization (L1), which does so through it's feature penalization.\n",
        "\n",
        "As our computing ressources are limited, Wrapper methods are mostly out of the question. Filter methods will be prefered. Additionally, our experimentations and intuitions lead us towards gradient boosted ensemble based algorithms. The most straightforward embedded method would therefore be Random Forest Importance. It allows us to identify the features that improve the purity of the subsequent splits the most.\n",
        "\n",
        "\n",
        "Sources: \n",
        "\n",
        "https://www.analyticsvidhya.com/blog/2020/10/feature-selection-techniques-in-machine-learning/\n",
        "\n",
        "https://towardsdatascience.com/feature-selection-and-dimensionality-reduction-f488d1a035de\n",
        "\n",
        "https://ml-concepts.com/2021/10/07/3-embedded-methods/\n",
        "\n",
        "https://scikit-learn.org/stable/auto_examples/feature_selection/plot_f_test_vs_mi.html#sphx-glr-auto-examples-feature-selection-plot-f-test-vs-mi-py\n",
        "\n",
        "\n",
        "\n",
        "StackOverflow posts (for reference, not the report):\n",
        "\n",
        "https://stats.stackexchange.com/questions/52034/using-lasso-on-random-forest"
      ],
      "metadata": {
        "id": "ucY9c563Ukvc"
      },
      "id": "ucY9c563Ukvc"
    },
    {
      "cell_type": "markdown",
      "source": [
        "### Filter Methods"
      ],
      "metadata": {
        "id": "6fVD2lWrftsv"
      },
      "id": "6fVD2lWrftsv"
    },
    {
      "cell_type": "markdown",
      "source": [
        "The first filter method is **Information Gain**. We prefer this filter method over the tests that rely on Fisher scores as we have no good reason to assume a linear dependency between the features and the prediction values. the Mutual information algorithm measures the dependency between discrete variables (every feature and the prediction result)."
      ],
      "metadata": {
        "id": "ZFPQrAWrLkB9"
      },
      "id": "ZFPQrAWrLkB9"
    },
    {
      "cell_type": "code",
      "source": [
        "\n",
        "from sklearn.feature_selection import mutual_info_classif\n",
        "importances = mutual_info_classif(X_train, y_train_encoded)\n",
        "feature_importances = pd.Series(importances)#, index=X_features)\n",
        "plt.rcParams.update({'font.size': 22})\n",
        "feature_importances.sort_values(ascending=False, inplace=True)"
      ],
      "metadata": {
        "id": "tivu0bSOfqI9"
      },
      "id": "tivu0bSOfqI9",
      "execution_count": 84,
      "outputs": []
    },
    {
      "cell_type": "code",
      "source": [
        "\n",
        "feature_importances.plot.bar(figsize=(60,10))\n"
      ],
      "metadata": {
        "colab": {
          "base_uri": "https://localhost:8080/",
          "height": 318
        },
        "id": "l6227-iFJdaV",
        "outputId": "631024b2-bf86-4134-aaee-c92cf18e1a56"
      },
      "id": "l6227-iFJdaV",
      "execution_count": 85,
      "outputs": [
        {
          "output_type": "execute_result",
          "data": {
            "text/plain": [
              "<matplotlib.axes._subplots.AxesSubplot at 0x7f3f3a498100>"
            ]
          },
          "metadata": {},
          "execution_count": 85
        },
        {
          "output_type": "display_data",
          "data": {
            "text/plain": [
              "<Figure size 4320x720 with 1 Axes>"
            ],
            "image/png": "[encoded data removed]"
          },
          "metadata": {
            "needs_background": "light"
          }
        }
      ]
    },
    {
      "cell_type": "markdown",
      "source": [
        "The second method is the **Chi-square ranking**. The Chi-square test is very similar to the mutual information algorithm in the sense that it measures the dependency between the features and the classification values. \n",
        "\n",
        "TODO: **HOW TO INTERPRET CHI2 RESULTS?**"
      ],
      "metadata": {
        "id": "KA6XApvtbotB"
      },
      "id": "KA6XApvtbotB"
    },
    {
      "cell_type": "code",
      "source": [
        "# from sklearn.feature_selection import chi2\n",
        "# chi_stats, p_values = chi2(X_train, y_train_encoded)\n",
        "# print(p_values)"
      ],
      "metadata": {
        "id": "abkACz6fdZlM"
      },
      "id": "abkACz6fdZlM",
      "execution_count": 86,
      "outputs": []
    },
    {
      "cell_type": "markdown",
      "source": [
        "### Embedded Method"
      ],
      "metadata": {
        "id": "CmgZuKrtf2Tc"
      },
      "id": "CmgZuKrtf2Tc"
    },
    {
      "cell_type": "markdown",
      "source": [
        "**Random Forest Importance** Allows us to identify features that have the most polarizing effect in the tree splits. They are the features that categorize the output the most."
      ],
      "metadata": {
        "id": "oPlFCXcMMvjK"
      },
      "id": "oPlFCXcMMvjK"
    },
    {
      "cell_type": "code",
      "source": [
        "from sklearn.ensemble import RandomForestClassifier \n",
        "# use hyperparams of random forest here...\n",
        "RF =  RandomForestClassifier(n_estimators=340, class_weight='balanced')\n",
        "RF.fit(X_train, y_train_encoded)"
      ],
      "metadata": {
        "colab": {
          "base_uri": "https://localhost:8080/"
        },
        "id": "5PctWZlWTsjW",
        "outputId": "3e4a0515-2d22-4958-f3ee-de2bde4eefd7"
      },
      "id": "5PctWZlWTsjW",
      "execution_count": 87,
      "outputs": [
        {
          "output_type": "execute_result",
          "data": {
            "text/plain": [
              "RandomForestClassifier(class_weight='balanced', n_estimators=340)"
            ]
          },
          "metadata": {},
          "execution_count": 87
        }
      ]
    },
    {
      "cell_type": "code",
      "source": [
        "importances = RF.feature_importances_\n",
        "feature_importances = pd.Series(importances)#, index=X_features)\n",
        "feature_importances.sort_values(ascending=False, inplace=True)\n",
        "print(feature_importances)\n",
        "\n",
        "\n",
        "fig, ax = plt.subplots()\n",
        "feature_importances.plot.bar(ax=ax, figsize=(60,10))\n",
        "ax.set_title(\"Feature importances using MDI\")\n",
        "ax.set_ylabel(\"Mean decrease in impurity\")\n",
        "fig.tight_layout()\n",
        "\n",
        "##TODO map the feature numbers to the length of one hot encodings to reverse engineer which starting features are more meaningful? or simple drop the features with lower importanace..."
      ],
      "metadata": {
        "colab": {
          "base_uri": "https://localhost:8080/",
          "height": 496
        },
        "id": "ySC731WBZ3ej",
        "outputId": "978ded12-181b-4f1a-89df-16e2a70171a1"
      },
      "id": "ySC731WBZ3ej",
      "execution_count": 88,
      "outputs": [
        {
          "output_type": "stream",
          "name": "stdout",
          "text": [
            "97    0.096323\n",
            "96    0.093386\n",
            "95    0.093371\n",
            "98    0.093142\n",
            "92    0.085266\n",
            "        ...   \n",
            "74    0.000111\n",
            "72    0.000101\n",
            "70    0.000095\n",
            "89    0.000091\n",
            "78    0.000090\n",
            "Length: 101, dtype: float64\n"
          ]
        },
        {
          "output_type": "display_data",
          "data": {
            "text/plain": [
              "<Figure size 4320x720 with 1 Axes>"
            ],
            "image/png": "[encoded data removed]"
          },
          "metadata": {
            "needs_background": "light"
          }
        }
      ]
    },
    {
      "cell_type": "markdown",
      "source": [
        "### Correlation Coefficient Method (Filter Method part 2)"
      ],
      "metadata": {
        "id": "8pTufEsNyJLd"
      },
      "id": "8pTufEsNyJLd"
    },
    {
      "cell_type": "markdown",
      "source": [
        "The last filter method we use is **Correlation Coefficient** method. It allows to visualize the dependence of features within themselves. The idea is that a feature can be used to infer the same information as the other features it is highly correlated to. This allows us to reduce the complexity of the model with the least impact on performance by using the features that are the most independent of one another."
      ],
      "metadata": {
        "id": "4dVIZ0httn5V"
      },
      "id": "4dVIZ0httn5V"
    },
    {
      "cell_type": "code",
      "source": [
        "from seaborn import heatmap\n",
        "plt.figure(figsize=(10,10))\n",
        "#heatmap(X_corr, annot=True)"
      ],
      "metadata": {
        "colab": {
          "base_uri": "https://localhost:8080/",
          "height": 54
        },
        "id": "LPP4ATnnuasP",
        "outputId": "0ad1eff9-9464-441a-ec7a-4f1e2da40f4e"
      },
      "execution_count": 89,
      "outputs": [
        {
          "output_type": "execute_result",
          "data": {
            "text/plain": [
              "<Figure size 720x720 with 0 Axes>"
            ]
          },
          "metadata": {},
          "execution_count": 89
        },
        {
          "output_type": "display_data",
          "data": {
            "text/plain": [
              "<Figure size 720x720 with 0 Axes>"
            ]
          },
          "metadata": {}
        }
      ],
      "id": "LPP4ATnnuasP"
    },
    {
      "cell_type": "markdown",
      "source": [
        "There are too many features for this to be readble. Yet, we still notice there are an incredible amount of highly correlated values (white zones), indicating that there are quite a few features we could do away with.\n",
        "\n",
        "Usually, with this method, we would pick a threshold of in-feature correlation to select the features we consider for our model, and then discriminate them based on their correlation with the target vector. The correlations with the target vectors were plotted in the previous cells. We will therefore use these results to inform which features we can already eliminate in order to make the correlation coefficient method more approachable.\n",
        "\n",
        "For instance, let us focus on using the results of the RandomForest Importance measure, as it is the most suited to the ensemble based algorithms we intend to use.\n"
      ],
      "metadata": {
        "id": "_TahaIiXyVU0"
      },
      "id": "_TahaIiXyVU0"
    },
    {
      "cell_type": "code",
      "source": [
        "# Based on the graph, we take the 12 most important features.\n",
        "plt.figure(figsize=(13,13))\n",
        "plt.rcParams.update({'font.size': 10})\n",
        "#print(X_train.shape)\n",
        "column_indices = feature_importances.iloc[:12].index.values\n",
        "# X_pruned = X_train[:, column_indices]\n",
        "# print(X_pruned.shape)\n",
        "#print(X_features.shape)\n",
        "\n",
        "heatmap(pd.DataFrame(X_train[:, column_indices],columns=column_indices).corr(), annot=True)\n",
        "\n",
        "#Legend\n",
        "pd.DataFrame(column_indices, index=X_features[column_indices])\n"
      ],
      "metadata": {
        "colab": {
          "base_uri": "https://localhost:8080/",
          "height": 1000
        },
        "id": "vkNHaSSd0wFe",
        "outputId": "7d3fe904-6d6b-40c7-fcae-d05430614f68"
      },
      "id": "vkNHaSSd0wFe",
      "execution_count": 98,
      "outputs": [
        {
          "output_type": "execute_result",
          "data": {
            "text/plain": [
              "                        0\n",
              "Personnality Trait 3   97\n",
              "Personnality Trait 2   96\n",
              "Personnality Trait 1   95\n",
              "Personnality Trait 4   98\n",
              "Height (cm)            92\n",
              "Concert Attendance     64\n",
              "Concert Goer Age       65\n",
              "Out n Rain             94\n",
              "Seated                100\n",
              "Band Debut              3\n",
              "Inside Venue           93\n",
              "Rain                   99"
            ],
            "text/html": [
              "\n",
              "  <div id=\"df-e26f8954-8a39-4d18-be2d-b7ab8d67a4a5\">\n",
              "    <div class=\"colab-df-container\">\n",
              "      <div>\n",
              "<style scoped>\n",
              "    .dataframe tbody tr th:only-of-type {\n",
              "        vertical-align: middle;\n",
              "    }\n",
              "\n",
              "    .dataframe tbody tr th {\n",
              "        vertical-align: top;\n",
              "    }\n",
              "\n",
              "    .dataframe thead th {\n",
              "        text-align: right;\n",
              "    }\n",
              "</style>\n",
              "<table border=\"1\" class=\"dataframe\">\n",
              "  <thead>\n",
              "    <tr style=\"text-align: right;\">\n",
              "      <th></th>\n",
              "      <th>0</th>\n",
              "    </tr>\n",
              "  </thead>\n",
              "  <tbody>\n",
              "    <tr>\n",
              "      <th>Personnality Trait 3</th>\n",
              "      <td>97</td>\n",
              "    </tr>\n",
              "    <tr>\n",
              "      <th>Personnality Trait 2</th>\n",
              "      <td>96</td>\n",
              "    </tr>\n",
              "    <tr>\n",
              "      <th>Personnality Trait 1</th>\n",
              "      <td>95</td>\n",
              "    </tr>\n",
              "    <tr>\n",
              "      <th>Personnality Trait 4</th>\n",
              "      <td>98</td>\n",
              "    </tr>\n",
              "    <tr>\n",
              "      <th>Height (cm)</th>\n",
              "      <td>92</td>\n",
              "    </tr>\n",
              "    <tr>\n",
              "      <th>Concert Attendance</th>\n",
              "      <td>64</td>\n",
              "    </tr>\n",
              "    <tr>\n",
              "      <th>Concert Goer Age</th>\n",
              "      <td>65</td>\n",
              "    </tr>\n",
              "    <tr>\n",
              "      <th>Out n Rain</th>\n",
              "      <td>94</td>\n",
              "    </tr>\n",
              "    <tr>\n",
              "      <th>Seated</th>\n",
              "      <td>100</td>\n",
              "    </tr>\n",
              "    <tr>\n",
              "      <th>Band Debut</th>\n",
              "      <td>3</td>\n",
              "    </tr>\n",
              "    <tr>\n",
              "      <th>Inside Venue</th>\n",
              "      <td>93</td>\n",
              "    </tr>\n",
              "    <tr>\n",
              "      <th>Rain</th>\n",
              "      <td>99</td>\n",
              "    </tr>\n",
              "  </tbody>\n",
              "</table>\n",
              "</div>\n",
              "      <button class=\"colab-df-convert\" onclick=\"convertToInteractive('df-e26f8954-8a39-4d18-be2d-b7ab8d67a4a5')\"\n",
              "              title=\"Convert this dataframe to an interactive table.\"\n",
              "              style=\"display:none;\">\n",
              "        \n",
              "  <svg xmlns=\"http://www.w3.org/2000/svg\" height=\"24px\"viewBox=\"0 0 24 24\"\n",
              "       width=\"24px\">\n",
              "    <path d=\"M0 0h24v24H0V0z\" fill=\"none\"/>\n",
              "    <path d=\"M18.56 5.44l.94 2.06.94-2.06 2.06-.94-2.06-.94-.94-2.06-.94 2.06-2.06.94zm-11 1L8.5 8.5l.94-2.06 2.06-.94-2.06-.94L8.5 2.5l-.94 2.06-2.06.94zm10 10l.94 2.06.94-2.06 2.06-.94-2.06-.94-.94-2.06-.94 2.06-2.06.94z\"/><path d=\"M17.41 7.96l-1.37-1.37c-.4-.4-.92-.59-1.43-.59-.52 0-1.04.2-1.43.59L10.3 9.45l-7.72 7.72c-.78.78-.78 2.05 0 2.83L4 21.41c.39.39.9.59 1.41.59.51 0 1.02-.2 1.41-.59l7.78-7.78 2.81-2.81c.8-.78.8-2.07 0-2.86zM5.41 20L4 18.59l7.72-7.72 1.47 1.35L5.41 20z\"/>\n",
              "  </svg>\n",
              "      </button>\n",
              "      \n",
              "  <style>\n",
              "    .colab-df-container {\n",
              "      display:flex;\n",
              "      flex-wrap:wrap;\n",
              "      gap: 12px;\n",
              "    }\n",
              "\n",
              "    .colab-df-convert {\n",
              "      background-color: #E8F0FE;\n",
              "      border: none;\n",
              "      border-radius: 50%;\n",
              "      cursor: pointer;\n",
              "      display: none;\n",
              "      fill: #1967D2;\n",
              "      height: 32px;\n",
              "      padding: 0 0 0 0;\n",
              "      width: 32px;\n",
              "    }\n",
              "\n",
              "    .colab-df-convert:hover {\n",
              "      background-color: #E2EBFA;\n",
              "      box-shadow: 0px 1px 2px rgba(60, 64, 67, 0.3), 0px 1px 3px 1px rgba(60, 64, 67, 0.15);\n",
              "      fill: #174EA6;\n",
              "    }\n",
              "\n",
              "    [theme=dark] .colab-df-convert {\n",
              "      background-color: #3B4455;\n",
              "      fill: #D2E3FC;\n",
              "    }\n",
              "\n",
              "    [theme=dark] .colab-df-convert:hover {\n",
              "      background-color: #434B5C;\n",
              "      box-shadow: 0px 1px 3px 1px rgba(0, 0, 0, 0.15);\n",
              "      filter: drop-shadow(0px 1px 2px rgba(0, 0, 0, 0.3));\n",
              "      fill: #FFFFFF;\n",
              "    }\n",
              "  </style>\n",
              "\n",
              "      <script>\n",
              "        const buttonEl =\n",
              "          document.querySelector('#df-e26f8954-8a39-4d18-be2d-b7ab8d67a4a5 button.colab-df-convert');\n",
              "        buttonEl.style.display =\n",
              "          google.colab.kernel.accessAllowed ? 'block' : 'none';\n",
              "\n",
              "        async function convertToInteractive(key) {\n",
              "          const element = document.querySelector('#df-e26f8954-8a39-4d18-be2d-b7ab8d67a4a5');\n",
              "          const dataTable =\n",
              "            await google.colab.kernel.invokeFunction('convertToInteractive',\n",
              "                                                     [key], {});\n",
              "          if (!dataTable) return;\n",
              "\n",
              "          const docLinkHtml = 'Like what you see? Visit the ' +\n",
              "            '<a target=\"_blank\" href=https://colab.research.google.com/notebooks/data_table.ipynb>data table notebook</a>'\n",
              "            + ' to learn more about interactive tables.';\n",
              "          element.innerHTML = '';\n",
              "          dataTable['output_type'] = 'display_data';\n",
              "          await google.colab.output.renderOutput(dataTable, element);\n",
              "          const docLink = document.createElement('div');\n",
              "          docLink.innerHTML = docLinkHtml;\n",
              "          element.appendChild(docLink);\n",
              "        }\n",
              "      </script>\n",
              "    </div>\n",
              "  </div>\n",
              "  "
            ]
          },
          "metadata": {},
          "execution_count": 98
        },
        {
          "output_type": "display_data",
          "data": {
            "text/plain": [
              "<Figure size 936x936 with 2 Axes>"
            ],
            "image/png": "[encoded data removed]"
          },
          "metadata": {
            "needs_background": "light"
          }
        }
      ]
    },
    {
      "cell_type": "markdown",
      "source": [
        "Setting an arbitrary threshold of +-0.1, and considering the importances of features 94, 93 and 99 in the RandomForest Importance approach, we would remove features 99 and 93 (Rain and Inside venue respectively) in favor of feature 99 (Out and Rain). We can therefore retrain our chosen model with it's found hyperparameters with the new features!"
      ],
      "metadata": {
        "id": "hsWldIcW-7X6"
      },
      "id": "hsWldIcW-7X6"
    },
    {
      "cell_type": "code",
      "source": [
        "# Selected features:\n"
      ],
      "metadata": {
        "id": "8xClTTVj_ihu"
      },
      "id": "8xClTTVj_ihu",
      "execution_count": null,
      "outputs": []
    },
    {
      "cell_type": "markdown",
      "source": [
        "### Takeaways"
      ],
      "metadata": {
        "id": "Ff8Uj1E5uh-n"
      },
      "id": "Ff8Uj1E5uh-n"
    },
    {
      "cell_type": "markdown",
      "source": [
        "Information Gain sort des trucs un peu particuliers... gnre concert ID_other qui est plus important que seated..\n",
        "You sent\n",
        "mais ca peut être assez facilement dismissed je pense. Correct me if I'm wrong mais comme les concert goer ids sont reorganisés après avoir balance les classes du training dataset, concert goer id finit par etre unbalanced (bcp plus de others que de ceux qui sont conserves) donc ca trick le mutual information algorithm.\n",
        "\n",
        "Ce qui est interessant du mutual information, c'est que la popularite des bands semble ressortir. Ca valide aussi l'intuition que out+rain est un bon feature a ajouter."
      ],
      "metadata": {
        "id": "LE_aNB9-umEq"
      },
      "id": "LE_aNB9-umEq"
    },
    {
      "cell_type": "markdown",
      "source": [
        "## Model Fitting"
      ],
      "metadata": {
        "id": "AbAEGJ4YT-sF"
      },
      "id": "AbAEGJ4YT-sF"
    },
    {
      "cell_type": "code",
      "execution_count": null,
      "id": "ddad9d78",
      "metadata": {
        "id": "ddad9d78"
      },
      "outputs": [],
      "source": [
        "knn.fit(X_train, y_train_encoded)"
      ]
    },
    {
      "cell_type": "markdown",
      "id": "feb8683c",
      "metadata": {
        "id": "feb8683c"
      },
      "source": [
        "# Predictions & Metrics"
      ]
    },
    {
      "cell_type": "code",
      "execution_count": null,
      "id": "2fde2efd",
      "metadata": {
        "id": "2fde2efd"
      },
      "outputs": [],
      "source": [
        "y_eval_pred = knn.predict(X_eval)"
      ]
    },
    {
      "cell_type": "code",
      "execution_count": null,
      "id": "09590651",
      "metadata": {
        "id": "09590651"
      },
      "outputs": [],
      "source": [
        "y_eval_pred"
      ]
    },
    {
      "cell_type": "code",
      "execution_count": null,
      "id": "902f2590",
      "metadata": {
        "id": "902f2590"
      },
      "outputs": [],
      "source": [
        "from sklearn.metrics import accuracy_score, f1_score\n",
        "\n",
        "acc = f1_score(y_eval_encoded, y_eval_pred, average=None)\n",
        "\n",
        "print(acc)"
      ]
    },
    {
      "cell_type": "code",
      "execution_count": null,
      "id": "d61594d8",
      "metadata": {
        "id": "d61594d8"
      },
      "outputs": [],
      "source": [
        "acc = f1_score(y_eval_encoded, y_eval_pred, average='micro')\n",
        "print(acc)"
      ]
    },
    {
      "cell_type": "code",
      "execution_count": null,
      "id": "cb698554",
      "metadata": {
        "id": "cb698554"
      },
      "outputs": [],
      "source": [
        "from sklearn.metrics import classification_report\n",
        "\n",
        "print(dict(zip(le.classes_, le.transform(le.classes_))))\n",
        "print(classification_report(y_eval_encoded, y_eval_pred))"
      ]
    },
    {
      "cell_type": "markdown",
      "id": "1b06b1c3",
      "metadata": {
        "id": "1b06b1c3"
      },
      "source": [
        "# Test Predictions"
      ]
    },
    {
      "cell_type": "code",
      "execution_count": null,
      "id": "ced09c14",
      "metadata": {
        "id": "ced09c14"
      },
      "outputs": [],
      "source": [
        "y_pred_test = knn.predict(X_test)"
      ]
    },
    {
      "cell_type": "code",
      "execution_count": null,
      "id": "1cfbcd52",
      "metadata": {
        "id": "1cfbcd52"
      },
      "outputs": [],
      "source": [
        "y_pred_test = le.inverse_transform(y_pred_test)"
      ]
    },
    {
      "cell_type": "code",
      "execution_count": null,
      "id": "fe3ed4ad",
      "metadata": {
        "id": "fe3ed4ad",
        "outputId": "5f22565c-5612-410d-c0fd-04bffa9eef5c"
      },
      "outputs": [
        {
          "data": {
            "text/plain": [
              "array(['Best Concert Ever', 'Enjoyed', 'Enjoyed', ..., 'Enjoyed',\n",
              "       'Did Not Enjoy', 'Worst Concert Ever'], dtype=object)"
            ]
          },
          "execution_count": 341,
          "metadata": {},
          "output_type": "execute_result"
        }
      ],
      "source": [
        "y_pred_test"
      ]
    },
    {
      "cell_type": "code",
      "execution_count": null,
      "id": "2dadf1d9",
      "metadata": {
        "id": "2dadf1d9",
        "outputId": "dece3522-3335-4102-97c2-5aabc6553fe6"
      },
      "outputs": [
        {
          "data": {
            "text/plain": [
              "array(['ConcertExperience_70055', 'ConcertExperience_34799',\n",
              "       'ConcertExperience_100410', ..., 'ConcertExperience_197434',\n",
              "       'ConcertExperience_166029', 'ConcertExperience_24025'],\n",
              "      dtype=object)"
            ]
          },
          "execution_count": 342,
          "metadata": {},
          "output_type": "execute_result"
        }
      ],
      "source": [
        "ids_test.values"
      ]
    },
    {
      "cell_type": "code",
      "execution_count": null,
      "id": "392c68e0",
      "metadata": {
        "id": "392c68e0"
      },
      "outputs": [],
      "source": [
        "df_soumission = pd.DataFrame({'Id' : ids_test.values, 'Predicted' : y_pred_test})"
      ]
    },
    {
      "cell_type": "code",
      "execution_count": null,
      "id": "1699bb89",
      "metadata": {
        "id": "1699bb89"
      },
      "outputs": [],
      "source": [
        "df_soumission.to_csv('Soumission3.csv', index=False)"
      ]
    },
    {
      "cell_type": "code",
      "execution_count": null,
      "id": "6216edfe",
      "metadata": {
        "id": "6216edfe"
      },
      "outputs": [],
      "source": []
    }
  ],
  "metadata": {
    "kernelspec": {
      "display_name": "Python 3.10.7 64-bit",
      "language": "python",
      "name": "python3"
    },
    "language_info": {
      "codemirror_mode": {
        "name": "ipython",
        "version": 3
      },
      "file_extension": ".py",
      "mimetype": "text/x-python",
      "name": "python",
      "nbconvert_exporter": "python",
      "pygments_lexer": "ipython3",
      "version": "3.10.7"
    },
    "vscode": {
      "interpreter": {
        "hash": "e7370f93d1d0cde622a1f8e1c04877d8463912d04d973331ad4851f04de6915a"
      }
    },
    "colab": {
      "provenance": [],
      "collapsed_sections": [
        "412297f8",
        "a83898c4",
        "OIDiuEfo9BpY",
        "1b06b1c3"
      ]
    },
    "accelerator": "GPU",
    "gpuClass": "standard"
  },
  "nbformat": 4,
  "nbformat_minor": 5
}