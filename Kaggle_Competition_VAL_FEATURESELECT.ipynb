{
  "cells": [
    {
      "cell_type": "markdown",
      "id": "e774ce5e",
      "metadata": {
        "id": "e774ce5e"
      },
      "source": [
        "1. Get train data and test data\n",
        "2. Split train data (train, eval) right away to simulate train vs test data\n",
        "3. Handle missing values (na and 'insert')\n",
        "4. Handle outliers"
      ]
    },
    {
      "cell_type": "code",
      "execution_count": 38,
      "id": "a4ac8607",
      "metadata": {
        "id": "a4ac8607"
      },
      "outputs": [],
      "source": [
        "import numpy as np\n",
        "import pandas as pd\n",
        "import matplotlib.pyplot as plt\n",
        "import copy\n",
        "from sklearn.model_selection import train_test_split\n",
        "from sklearn import preprocessing\n",
        "import os\n",
        "from scipy import stats\n",
        "from sklearn.preprocessing import OneHotEncoder"
      ]
    },
    {
      "cell_type": "code",
      "source": [
        "# This is specifically for use in google collab. Import the train.csv file in order to import the data.\n",
        "from google.colab import drive \n",
        "drive.mount('/content/gdrive')"
      ],
      "metadata": {
        "colab": {
          "base_uri": "https://localhost:8080/"
        },
        "id": "zahvN4UFLn6T",
        "outputId": "8a1d5a8f-9d35-4973-aa21-b1bf561a0a78"
      },
      "id": "zahvN4UFLn6T",
      "execution_count": 39,
      "outputs": [
        {
          "output_type": "stream",
          "name": "stdout",
          "text": [
            "Drive already mounted at /content/gdrive; to attempt to forcibly remount, call drive.mount(\"/content/gdrive\", force_remount=True).\n"
          ]
        }
      ]
    },
    {
      "cell_type": "code",
      "execution_count": 40,
      "id": "e70ea8f1",
      "metadata": {
        "colab": {
          "base_uri": "https://localhost:8080/"
        },
        "id": "e70ea8f1",
        "outputId": "0508cfa9-f535-48fa-e3f9-92dc915903d1"
      },
      "outputs": [
        {
          "output_type": "stream",
          "name": "stdout",
          "text": [
            "(170000, 19)\n",
            "(30000, 18)\n"
          ]
        }
      ],
      "source": [
        "df_train = pd.read_csv('gdrive/My Drive/train.csv')\n",
        "df_test = pd.read_csv('gdrive/My Drive/test.csv')\n",
        "print(df_train.shape)\n",
        "print(df_test.shape)"
      ]
    },
    {
      "cell_type": "code",
      "execution_count": 41,
      "id": "28b9ffc2",
      "metadata": {
        "id": "28b9ffc2"
      },
      "outputs": [],
      "source": [
        "\n",
        "def convertToNum(a):\n",
        "    if a == 'Worst Concert Ever':\n",
        "        return 0\n",
        "    elif a == 'Did Not Enjoy':\n",
        "        return 1\n",
        "    elif a == 'Enjoyed':\n",
        "        return 2\n",
        "    else:\n",
        "        return 3\n",
        "    \n",
        "\n",
        "#df_train['Num Concert Enjoyment'] = df_train['Concert Enjoyment'].replace(\n",
        "#    ['Worst Concert Ever', 'Did Not Enjoy', 'Enjoyed', 'Best Concert Ever'], \n",
        "#    [0,1,2,3]\n",
        "#)"
      ]
    },
    {
      "cell_type": "code",
      "execution_count": 42,
      "id": "18cea9d6",
      "metadata": {
        "id": "18cea9d6",
        "outputId": "451dec98-9049-44ad-9950-da9f703f48a2",
        "colab": {
          "base_uri": "https://localhost:8080/"
        }
      },
      "outputs": [
        {
          "output_type": "stream",
          "name": "stdout",
          "text": [
            "(161500, 19)\n",
            "(8500, 19)\n"
          ]
        }
      ],
      "source": [
        "df_train, df_eval = np.split(df_train, [int(0.95*len(df_train))])\n",
        "print(df_train.shape)\n",
        "print(df_eval.shape)"
      ]
    },
    {
      "cell_type": "markdown",
      "id": "119a6926",
      "metadata": {
        "id": "119a6926"
      },
      "source": [
        "# To Lower and To String"
      ]
    },
    {
      "cell_type": "code",
      "execution_count": 43,
      "id": "93a6d0c0",
      "metadata": {
        "id": "93a6d0c0"
      },
      "outputs": [],
      "source": [
        "def toLower(a):\n",
        "    if a == None or a != a:\n",
        "        pass\n",
        "    else:\n",
        "        a = a.lower()\n",
        "    return a\n",
        "\n",
        "def toString(a):\n",
        "  if a == None or a!=a :    #if a is none or nan on pass \n",
        "    pass \n",
        "  else:\n",
        "    a = str(int(a))   \n",
        "  return a\n",
        "\n",
        "for c in [\"Band Country of Origin\",\"Band Name\",\"Band Genre\",\"Concert Goer Country of Origin\"]:\n",
        "    df_train[c] = df_train[c].map(toLower)\n",
        "    df_eval[c] = df_eval[c].map(toLower)\n",
        "    df_test[c] = df_test[c].map(toLower)\n",
        "    \n",
        "for c in ['Concert ID']:\n",
        "    df_train[c] = df_train[c].map(toString)\n",
        "    df_eval[c] = df_eval[c].map(toString)\n",
        "    df_test[c] = df_test[c].map(toString)"
      ]
    },
    {
      "cell_type": "markdown",
      "id": "8ba6d285",
      "metadata": {
        "id": "8ba6d285"
      },
      "source": [
        "# By Decile"
      ]
    },
    {
      "cell_type": "code",
      "execution_count": 44,
      "id": "1e63ef60",
      "metadata": {
        "id": "1e63ef60"
      },
      "outputs": [],
      "source": [
        "def groupByDecile(a):\n",
        "  if a == None or a!=a :     \n",
        "    pass \n",
        "  elif a< 20:\n",
        "    a = str(16)     #ca permet de faire commencer à 16 ans l'intervalle des âges sinon ce serait 10 ans X(\n",
        "  else :\n",
        "    a = a - a%10        #  Ex : 1976 - 1976%10 = 1970\n",
        "    a = str(int(a))\n",
        "  return a\n",
        "\n",
        "for c in [\"Band Debut\",\"Concert Goer Age\"]:\n",
        "    df_train[c] = df_train[c].map(groupByDecile)\n",
        "    df_eval[c] = df_eval[c].map(groupByDecile)\n",
        "    df_test[c] = df_test[c].map(groupByDecile)"
      ]
    },
    {
      "cell_type": "markdown",
      "id": "44ce7457",
      "metadata": {
        "id": "44ce7457"
      },
      "source": [
        "# Handle Missing values"
      ]
    },
    {
      "cell_type": "code",
      "execution_count": 45,
      "id": "d936145c",
      "metadata": {
        "id": "d936145c"
      },
      "outputs": [],
      "source": [
        "# Missing values are nan or '*insert*'\n",
        "# Want to replace by most popular\n",
        "from sklearn.impute import SimpleImputer\n",
        "imp = SimpleImputer(missing_values=np.nan, strategy='most_frequent')\n",
        "\n",
        "X_train = df_train.drop(columns=['Concert Enjoyment'])\n",
        "y_train = df_train['Concert Enjoyment']\n",
        "\n",
        "X_eval = df_eval.drop(columns=['Concert Enjoyment'])\n",
        "y_eval = df_eval['Concert Enjoyment']\n",
        "\n",
        "idx_train = X_train.index\n",
        "idx_eval = X_eval.index\n",
        "\n",
        "imp.fit(X_train)\n",
        "\n",
        "cols = X_train.columns.values\n",
        "\n",
        "X_train = imp.transform(X_train)\n",
        "X_eval = imp.transform(X_eval)\n",
        "X_test = imp.transform(df_test)\n",
        "\n",
        "# Quand soumission on train sur TOUT train\n",
        "df_train = pd.concat([pd.DataFrame(X_train, columns=cols, index=idx_train), y_train], axis=1)\n",
        "df_eval = pd.concat([pd.DataFrame(X_eval, columns=cols, index=idx_eval), y_eval], axis=1)\n",
        "df_test = pd.DataFrame(X_test, columns=cols)\n"
      ]
    },
    {
      "cell_type": "markdown",
      "id": "14f7d21e",
      "metadata": {
        "id": "14f7d21e"
      },
      "source": [
        "# To Int"
      ]
    },
    {
      "cell_type": "code",
      "execution_count": 46,
      "id": "bb0fac7d",
      "metadata": {
        "id": "bb0fac7d"
      },
      "outputs": [],
      "source": [
        "cols_to_int = ['Inside Venue','Rain','Seated']\n",
        "for c in cols_to_int:\n",
        "    df_train[c] = df_train[c].astype(int)\n",
        "    df_eval[c] = df_eval[c].astype(int)\n",
        "    # Quand soummission\n",
        "    df_test[c] = df_test[c].astype(int)"
      ]
    },
    {
      "cell_type": "code",
      "execution_count": 47,
      "id": "2bcd2941",
      "metadata": {
        "id": "2bcd2941"
      },
      "outputs": [],
      "source": [
        "cols_with_insert = ['Band Name', 'Band Genre', 'Band Country of Origin','Concert Goer Country of Origin']\n",
        "for c in cols_with_insert:\n",
        "    df_train.loc[df_train[c].str.contains('insert'), c] = df_train[c].mode()[0]\n",
        "    df_eval.loc[df_eval[c].str.contains('insert'), c] = df_train[c].mode()[0]\n",
        "    # Quand soumission on fait tout sur le train mode\n",
        "    df_test.loc[df_test[c].str.contains('insert'), c] = df_test[c].mode()[0]"
      ]
    },
    {
      "cell_type": "markdown",
      "id": "0bf33089",
      "metadata": {
        "id": "0bf33089"
      },
      "source": [
        "# Handle Outliers"
      ]
    },
    {
      "cell_type": "code",
      "execution_count": 48,
      "id": "d9114119",
      "metadata": {
        "id": "d9114119"
      },
      "outputs": [],
      "source": [
        "def convertConcertAttendance(a):\n",
        "    if int(a) > 162754:\n",
        "        a = (a / 10000)\n",
        "    return a\n",
        "\n",
        "df_train['Concert Attendance'] = df_train['Concert Attendance'].map(convertConcertAttendance)\n",
        "df_eval['Concert Attendance'] = df_eval['Concert Attendance'].map(convertConcertAttendance)\n",
        "# Quand soumission\n",
        "df_test['Concert Attendance'] = df_test['Concert Attendance'].map(convertConcertAttendance)"
      ]
    },
    {
      "cell_type": "code",
      "execution_count": 49,
      "id": "d938035b",
      "metadata": {
        "id": "d938035b"
      },
      "outputs": [],
      "source": [
        "df_train.loc[\n",
        "    (df_train['Personnality Trait 2'] < -5) |\n",
        "    (df_train['Personnality Trait 2'] > 5), 'Personnality Trait 2'\n",
        "] = df_train['Personnality Trait 2'].mean()\n",
        "\n",
        "df_eval.loc[\n",
        "    (df_eval['Personnality Trait 2'] < -5) |\n",
        "    (df_eval['Personnality Trait 2'] > 5), 'Personnality Trait 2'\n",
        "] = df_train['Personnality Trait 2'].mean()\n",
        "\n",
        "\n",
        "df_test.loc[\n",
        "    (df_test['Personnality Trait 2'] < -5) |\n",
        "    (df_test['Personnality Trait 2'] > 5), 'Personnality Trait 2'\n",
        "] = df_train['Personnality Trait 2'].mean()\n",
        "\n",
        "# Quand soumission on le fait sur df_test"
      ]
    },
    {
      "cell_type": "markdown",
      "id": "f9492575",
      "metadata": {
        "id": "f9492575"
      },
      "source": [
        "# Group Data"
      ]
    },
    {
      "cell_type": "code",
      "execution_count": 50,
      "id": "dd3a1166",
      "metadata": {
        "id": "dd3a1166"
      },
      "outputs": [],
      "source": [
        "def groupCountry(a):\n",
        "    if a not in ['canada', 'united states of america (usa)', 'united kingdom (uk)']:\n",
        "        a = 'other'\n",
        "    return a\n",
        "\n",
        "df_train['Concert Goer Country of Origin'] = df_train['Concert Goer Country of Origin'].map(groupCountry)\n",
        "df_eval['Concert Goer Country of Origin'] = df_eval['Concert Goer Country of Origin'].map(groupCountry)\n",
        "# quand soumission sur test aussi\n",
        "df_test['Concert Goer Country of Origin'] = df_test['Concert Goer Country of Origin'].map(groupCountry)"
      ]
    },
    {
      "cell_type": "markdown",
      "id": "fa743cc7",
      "metadata": {
        "id": "fa743cc7"
      },
      "source": [
        "# Keep Important Concert IDs"
      ]
    },
    {
      "cell_type": "code",
      "execution_count": 51,
      "id": "1c36e9fd",
      "metadata": {
        "id": "1c36e9fd"
      },
      "outputs": [],
      "source": [
        "def convertConcertID(a):\n",
        "    # Top 5 meilleurs average rating qui sont a l'interieur, Pire 5 qui sont a l'intérieur\n",
        "    if int(a) in [879, 539, 456, 961, 592, 978, 441, 193, 24, 164]:\n",
        "        return str(a)\n",
        "    else:\n",
        "        return 'other'\n",
        "    \n",
        "df_train['Concert ID'] = df_train['Concert ID'].map(convertConcertID)\n",
        "df_test['Concert ID'] = df_test['Concert ID'].map(convertConcertID)\n",
        "df_eval['Concert ID'] = df_eval['Concert ID'].map(convertConcertID)"
      ]
    },
    {
      "cell_type": "markdown",
      "id": "751bb858",
      "metadata": {
        "id": "751bb858"
      },
      "source": [
        "# Keep Important Concert Goer IDs"
      ]
    },
    {
      "cell_type": "code",
      "execution_count": 52,
      "id": "f0b1ac16",
      "metadata": {
        "id": "f0b1ac16"
      },
      "outputs": [],
      "source": [
        "def convertConcertGoerID(a):\n",
        "    if str(a) in ['concert_goer_695', 'concert_goer_413', 'concert_goer_1392', 'concert_goer_398', 'concert_goer_1770', 'concert_goer_1011', 'concert_goer_1414', 'concert_goer_1419', 'concert_goer_1506', 'concert_goer_390']:\n",
        "        return str(a)\n",
        "    else:\n",
        "        return 'other'\n",
        "    \n",
        "df_train['Concert Goer ID'] = df_train['Concert Goer ID'].map(convertConcertGoerID)\n",
        "df_test['Concert Goer ID'] = df_test['Concert Goer ID'].map(convertConcertGoerID)\n",
        "df_eval['Concert Goer ID'] = df_eval['Concert Goer ID'].map(convertConcertGoerID)"
      ]
    },
    {
      "cell_type": "markdown",
      "id": "3b32b23b",
      "metadata": {
        "id": "3b32b23b"
      },
      "source": [
        "# Create New Feature"
      ]
    },
    {
      "cell_type": "code",
      "execution_count": 53,
      "id": "1c8ac24d",
      "metadata": {
        "id": "1c8ac24d"
      },
      "outputs": [],
      "source": [
        "df_train['Out n Rain'] = ((df_train['Inside Venue'] == 0) & (df_train['Rain'] == 1)).astype(int)\n",
        "df_test['Out n Rain'] = ((df_test['Inside Venue'] == 0) & (df_test['Rain'] == 1)).astype(int)\n",
        "df_eval['Out n Rain'] = ((df_eval['Inside Venue'] == 0) & (df_eval['Rain'] == 1)).astype(int)"
      ]
    },
    {
      "cell_type": "markdown",
      "id": "412297f8",
      "metadata": {
        "id": "412297f8"
      },
      "source": [
        "# Drop Cols"
      ]
    },
    {
      "cell_type": "code",
      "execution_count": 54,
      "id": "5ddf0759",
      "metadata": {
        "id": "5ddf0759"
      },
      "outputs": [],
      "source": [
        "cols_to_drop = ['Id']\n",
        "ids_test = df_test['Id']\n",
        "df_train = df_train.drop(columns=cols_to_drop)\n",
        "df_eval = df_eval.drop(columns=cols_to_drop)\n",
        "df_test = df_test.drop(columns=cols_to_drop)"
      ]
    },
    {
      "cell_type": "markdown",
      "id": "a83898c4",
      "metadata": {
        "id": "a83898c4"
      },
      "source": [
        "# Balance Dataset"
      ]
    },
    {
      "cell_type": "code",
      "source": [
        "''' from sklearn.metrics import DistanceMetric \n",
        "from imblearn.over_sampling import SMOTENC\n",
        "\n",
        "df_train['Concert Enjoyment'].value_counts()\n",
        "\n",
        "df_train = df_train.drop( df_train[ df_train['Concert Enjoyment'] == 'Enjoyed' ].sample(frac=0.25).index)\n",
        "\n",
        "df_train = df_train.drop( df_train[ df_train['Concert Enjoyment'] == 'Did Not Enjoy' ].sample(frac=0.25).index)\n",
        "\n",
        "df_train['Concert Enjoyment'].value_counts()\n",
        "\n",
        "nb_class_dict = { 'Did Not Enjoy':40783, 'Enjoyed':40769, 'Worst Concert Ever':26000, 'Best Concert Ever':26000 } \n",
        "X = df_train.drop(columns=['Concert Enjoyment']) \n",
        "y = df_train['Concert Enjoyment'] \n",
        "cols = X.columns \n",
        "num_cols = X._get_numeric_data().columns \n",
        "cat_cols = list(set(cols) - set(num_cols)) \n",
        "cat_cols_idx = [X.columns.get_loc(c) for c in cat_cols]\n",
        "\n",
        "sm = SMOTENC(random_state=0, sampling_strategy=nb_class_dict, categorical_features=cat_cols_idx)\n",
        "\n",
        "X_bal, y_bal = sm.fit_resample(X, y)\n",
        "\n",
        "df_train = pd.concat([X_bal, y_bal], axis=1)\n",
        "\n",
        "df_train['Concert Enjoyment'].value_counts() '''"
      ],
      "metadata": {
        "colab": {
          "base_uri": "https://localhost:8080/",
          "height": 1000
        },
        "id": "53z5TWNPO-uT",
        "outputId": "f9240c74-6ee6-4778-edc9-0aab83b6a346"
      },
      "id": "53z5TWNPO-uT",
      "execution_count": 55,
      "outputs": [
        {
          "output_type": "execute_result",
          "data": {
            "text/plain": [
              "\" from sklearn.metrics import DistanceMetric \\nfrom imblearn.over_sampling import SMOTENC\\n\\ndf_train['Concert Enjoyment'].value_counts()\\n\\ndf_train = df_train.drop( df_train[ df_train['Concert Enjoyment'] == 'Enjoyed' ].sample(frac=0.25).index)\\n\\ndf_train = df_train.drop( df_train[ df_train['Concert Enjoyment'] == 'Did Not Enjoy' ].sample(frac=0.25).index)\\n\\ndf_train['Concert Enjoyment'].value_counts()\\n\\nnb_class_dict = { 'Did Not Enjoy':40783, 'Enjoyed':40769, 'Worst Concert Ever':26000, 'Best Concert Ever':26000 } \\nX = df_train.drop(columns=['Concert Enjoyment']) \\ny = df_train['Concert Enjoyment'] \\ncols = X.columns \\nnum_cols = X._get_numeric_data().columns \\ncat_cols = list(set(cols) - set(num_cols)) \\ncat_cols_idx = [X.columns.get_loc(c) for c in cat_cols]\\n\\nsm = SMOTENC(random_state=0, sampling_strategy=nb_class_dict, categorical_features=cat_cols_idx)\\n\\nX_bal, y_bal = sm.fit_resample(X, y)\\n\\ndf_train = pd.concat([X_bal, y_bal], axis=1)\\n\\ndf_train['Concert Enjoyment'].value_counts() \""
            ],
            "application/vnd.google.colaboratory.intrinsic+json": {
              "type": "string"
            }
          },
          "metadata": {},
          "execution_count": 55
        }
      ]
    },
    {
      "cell_type": "markdown",
      "id": "7ca7fc7c",
      "metadata": {
        "id": "7ca7fc7c"
      },
      "source": [
        "# One Hot"
      ]
    },
    {
      "cell_type": "code",
      "execution_count": 56,
      "id": "7f988245",
      "metadata": {
        "id": "7f988245"
      },
      "outputs": [],
      "source": [
        "one_hot_cols = ['Band Name', 'Concert Goer ID', 'Concert ID', 'Band Genre', 'Band Country of Origin', 'Concert Goer Country of Origin']"
      ]
    },
    {
      "cell_type": "code",
      "execution_count": 57,
      "id": "d9219379",
      "metadata": {
        "id": "d9219379"
      },
      "outputs": [],
      "source": [
        "from sklearn.preprocessing import OneHotEncoder\n",
        "from sklearn.compose import make_column_transformer"
      ]
    },
    {
      "cell_type": "code",
      "execution_count": 58,
      "id": "95a733a7",
      "metadata": {
        "id": "95a733a7"
      },
      "outputs": [],
      "source": [
        "X_train = df_train.drop(columns=['Concert Enjoyment'])\n",
        "X_eval = df_eval.drop(columns=['Concert Enjoyment'])\n",
        "\n",
        "y_train = df_train['Concert Enjoyment']\n",
        "y_eval = df_eval['Concert Enjoyment']"
      ]
    },
    {
      "cell_type": "code",
      "execution_count": 59,
      "id": "f8b955e4",
      "metadata": {
        "id": "f8b955e4",
        "outputId": "8038ec27-9f39-4bca-e5b6-36412db19619",
        "colab": {
          "base_uri": "https://localhost:8080/"
        }
      },
      "outputs": [
        {
          "output_type": "execute_result",
          "data": {
            "text/plain": [
              "array(['Band Name', 'Band Genre', 'Band Country of Origin', 'Band Debut',\n",
              "       'Concert ID', 'Concert Attendance', 'Inside Venue', 'Rain',\n",
              "       'Seated', 'Personnality Trait 1', 'Personnality Trait 2',\n",
              "       'Personnality Trait 3', 'Personnality Trait 4', 'Concert Goer Age',\n",
              "       'Concert Goer ID', 'Height (cm)', 'Concert Goer Country of Origin',\n",
              "       'Out n Rain'], dtype=object)"
            ]
          },
          "metadata": {},
          "execution_count": 59
        }
      ],
      "source": [
        "df_test.columns.values"
      ]
    },
    {
      "cell_type": "code",
      "execution_count": 60,
      "id": "574f3aa7",
      "metadata": {
        "id": "574f3aa7"
      },
      "outputs": [],
      "source": [
        "X_train = pd.get_dummies(X_train, columns = one_hot_cols)\n",
        "X_eval = pd.get_dummies(X_eval, columns = one_hot_cols)\n",
        "X_test = pd.get_dummies(df_test, columns = one_hot_cols)"
      ]
    },
    {
      "cell_type": "code",
      "execution_count": 61,
      "id": "dfcf4f02",
      "metadata": {
        "id": "dfcf4f02",
        "outputId": "cfebf677-d4de-43ba-9f3d-612b6300218d",
        "colab": {
          "base_uri": "https://localhost:8080/"
        }
      },
      "outputs": [
        {
          "output_type": "execute_result",
          "data": {
            "text/plain": [
              "Index(['Band Debut', 'Concert Attendance', 'Inside Venue', 'Rain', 'Seated',\n",
              "       'Personnality Trait 1', 'Personnality Trait 2', 'Personnality Trait 3',\n",
              "       'Personnality Trait 4', 'Concert Goer Age',\n",
              "       ...\n",
              "       'Band Genre_pop music', 'Band Genre_rnb', 'Band Genre_rock n roll',\n",
              "       'Band Country of Origin_canada',\n",
              "       'Band Country of Origin_united kingdom (uk)',\n",
              "       'Band Country of Origin_united states of america (usa)',\n",
              "       'Concert Goer Country of Origin_canada',\n",
              "       'Concert Goer Country of Origin_other',\n",
              "       'Concert Goer Country of Origin_united kingdom (uk)',\n",
              "       'Concert Goer Country of Origin_united states of america (usa)'],\n",
              "      dtype='object', length=101)"
            ]
          },
          "metadata": {},
          "execution_count": 61
        }
      ],
      "source": [
        "X_test.columns"
      ]
    },
    {
      "cell_type": "code",
      "execution_count": 62,
      "id": "39985ffd",
      "metadata": {
        "id": "39985ffd"
      },
      "outputs": [],
      "source": [
        "X_train = X_train.reindex(sorted(X_train.columns), axis=1)\n",
        "X_eval = X_eval.reindex(sorted(X_train.columns), axis=1)\n",
        "X_test = X_test.reindex(sorted(X_test.columns), axis=1)"
      ]
    },
    {
      "cell_type": "code",
      "execution_count": 63,
      "id": "7171e4ff",
      "metadata": {
        "id": "7171e4ff"
      },
      "outputs": [],
      "source": [
        "# Pour verifier qu'ils sont dans le meme ordre\n",
        "for i , c in enumerate(X_train.columns.values):\n",
        "    if X_eval.columns.values[i] != c:\n",
        "        print(c)"
      ]
    },
    {
      "cell_type": "code",
      "execution_count": 64,
      "id": "d9a04ae2",
      "metadata": {
        "id": "d9a04ae2",
        "outputId": "6263353d-b405-466a-e0c5-8968b48d036f",
        "colab": {
          "base_uri": "https://localhost:8080/",
          "height": 557
        }
      },
      "outputs": [
        {
          "output_type": "execute_result",
          "data": {
            "text/plain": [
              "        Band Country of Origin_canada  \\\n",
              "0                                   0   \n",
              "1                                   0   \n",
              "2                                   1   \n",
              "3                                   0   \n",
              "4                                   0   \n",
              "...                               ...   \n",
              "161495                              0   \n",
              "161496                              0   \n",
              "161497                              0   \n",
              "161498                              0   \n",
              "161499                              0   \n",
              "\n",
              "        Band Country of Origin_united kingdom (uk)  \\\n",
              "0                                                0   \n",
              "1                                                0   \n",
              "2                                                0   \n",
              "3                                                0   \n",
              "4                                                0   \n",
              "...                                            ...   \n",
              "161495                                           0   \n",
              "161496                                           0   \n",
              "161497                                           1   \n",
              "161498                                           0   \n",
              "161499                                           1   \n",
              "\n",
              "        Band Country of Origin_united states of america (usa) Band Debut  \\\n",
              "0                                                       1           1970   \n",
              "1                                                       1           1960   \n",
              "2                                                       0           1950   \n",
              "3                                                       1           1990   \n",
              "4                                                       1           1960   \n",
              "...                                                   ...            ...   \n",
              "161495                                                  1           1960   \n",
              "161496                                                  1           1970   \n",
              "161497                                                  0           1970   \n",
              "161498                                                  1           1950   \n",
              "161499                                                  0           1970   \n",
              "\n",
              "        Band Genre_country  Band Genre_heavy metal  Band Genre_hip hop/rap  \\\n",
              "0                        0                       0                       0   \n",
              "1                        0                       0                       0   \n",
              "2                        0                       0                       0   \n",
              "3                        0                       0                       0   \n",
              "4                        0                       0                       0   \n",
              "...                    ...                     ...                     ...   \n",
              "161495                   0                       0                       0   \n",
              "161496                   0                       0                       0   \n",
              "161497                   0                       0                       0   \n",
              "161498                   0                       0                       1   \n",
              "161499                   0                       0                       0   \n",
              "\n",
              "        Band Genre_indie/alt rock  Band Genre_pop music  Band Genre_rnb  ...  \\\n",
              "0                               1                     0               0  ...   \n",
              "1                               0                     1               0  ...   \n",
              "2                               0                     0               0  ...   \n",
              "3                               0                     0               1  ...   \n",
              "4                               0                     1               0  ...   \n",
              "...                           ...                   ...             ...  ...   \n",
              "161495                          0                     1               0  ...   \n",
              "161496                          0                     0               0  ...   \n",
              "161497                          0                     1               0  ...   \n",
              "161498                          0                     0               0  ...   \n",
              "161499                          0                     1               0  ...   \n",
              "\n",
              "        Concert ID_other  Height (cm)  Inside Venue  Out n Rain  \\\n",
              "0                      1        140.0             0           0   \n",
              "1                      1        158.0             1           0   \n",
              "2                      1        159.0             0           0   \n",
              "3                      1        150.0             0           1   \n",
              "4                      1        166.0             0           0   \n",
              "...                  ...          ...           ...         ...   \n",
              "161495                 1        182.0             0           0   \n",
              "161496                 1        154.0             1           0   \n",
              "161497                 1        167.0             1           0   \n",
              "161498                 1        167.0             1           0   \n",
              "161499                 1        185.0             0           1   \n",
              "\n",
              "        Personnality Trait 1  Personnality Trait 2  Personnality Trait 3  \\\n",
              "0                   0.330843             -0.958408             -0.943548   \n",
              "1                  -2.069449              0.017777             -1.910675   \n",
              "2                  -0.484268              1.968772             -0.064167   \n",
              "3                  -0.858054              1.022827             -0.348389   \n",
              "4                  -0.793029             -1.166528             -0.043766   \n",
              "...                      ...                   ...                   ...   \n",
              "161495              0.586789             -0.288211             -0.746254   \n",
              "161496              0.659164             -1.074516              0.855201   \n",
              "161497             -0.208026             -1.716854              1.460769   \n",
              "161498             -0.270337             -3.120069              0.552467   \n",
              "161499              0.255832             -1.582423             -1.445451   \n",
              "\n",
              "        Personnality Trait 4  Rain  Seated  \n",
              "0                  -1.636806     0       0  \n",
              "1                   0.610265     0       1  \n",
              "2                  -1.260871     0       1  \n",
              "3                  -1.147251     1       0  \n",
              "4                   0.969661     0       0  \n",
              "...                      ...   ...     ...  \n",
              "161495              -1.19351     0       0  \n",
              "161496              2.426957     0       0  \n",
              "161497              0.166714     0       1  \n",
              "161498              0.000186     1       0  \n",
              "161499             -0.367416     1       1  \n",
              "\n",
              "[161500 rows x 101 columns]"
            ],
            "text/html": [
              "\n",
              "  <div id=\"df-bbc32823-b3b1-4cc1-a1cd-bfdf08cdf066\">\n",
              "    <div class=\"colab-df-container\">\n",
              "      <div>\n",
              "<style scoped>\n",
              "    .dataframe tbody tr th:only-of-type {\n",
              "        vertical-align: middle;\n",
              "    }\n",
              "\n",
              "    .dataframe tbody tr th {\n",
              "        vertical-align: top;\n",
              "    }\n",
              "\n",
              "    .dataframe thead th {\n",
              "        text-align: right;\n",
              "    }\n",
              "</style>\n",
              "<table border=\"1\" class=\"dataframe\">\n",
              "  <thead>\n",
              "    <tr style=\"text-align: right;\">\n",
              "      <th></th>\n",
              "      <th>Band Country of Origin_canada</th>\n",
              "      <th>Band Country of Origin_united kingdom (uk)</th>\n",
              "      <th>Band Country of Origin_united states of america (usa)</th>\n",
              "      <th>Band Debut</th>\n",
              "      <th>Band Genre_country</th>\n",
              "      <th>Band Genre_heavy metal</th>\n",
              "      <th>Band Genre_hip hop/rap</th>\n",
              "      <th>Band Genre_indie/alt rock</th>\n",
              "      <th>Band Genre_pop music</th>\n",
              "      <th>Band Genre_rnb</th>\n",
              "      <th>...</th>\n",
              "      <th>Concert ID_other</th>\n",
              "      <th>Height (cm)</th>\n",
              "      <th>Inside Venue</th>\n",
              "      <th>Out n Rain</th>\n",
              "      <th>Personnality Trait 1</th>\n",
              "      <th>Personnality Trait 2</th>\n",
              "      <th>Personnality Trait 3</th>\n",
              "      <th>Personnality Trait 4</th>\n",
              "      <th>Rain</th>\n",
              "      <th>Seated</th>\n",
              "    </tr>\n",
              "  </thead>\n",
              "  <tbody>\n",
              "    <tr>\n",
              "      <th>0</th>\n",
              "      <td>0</td>\n",
              "      <td>0</td>\n",
              "      <td>1</td>\n",
              "      <td>1970</td>\n",
              "      <td>0</td>\n",
              "      <td>0</td>\n",
              "      <td>0</td>\n",
              "      <td>1</td>\n",
              "      <td>0</td>\n",
              "      <td>0</td>\n",
              "      <td>...</td>\n",
              "      <td>1</td>\n",
              "      <td>140.0</td>\n",
              "      <td>0</td>\n",
              "      <td>0</td>\n",
              "      <td>0.330843</td>\n",
              "      <td>-0.958408</td>\n",
              "      <td>-0.943548</td>\n",
              "      <td>-1.636806</td>\n",
              "      <td>0</td>\n",
              "      <td>0</td>\n",
              "    </tr>\n",
              "    <tr>\n",
              "      <th>1</th>\n",
              "      <td>0</td>\n",
              "      <td>0</td>\n",
              "      <td>1</td>\n",
              "      <td>1960</td>\n",
              "      <td>0</td>\n",
              "      <td>0</td>\n",
              "      <td>0</td>\n",
              "      <td>0</td>\n",
              "      <td>1</td>\n",
              "      <td>0</td>\n",
              "      <td>...</td>\n",
              "      <td>1</td>\n",
              "      <td>158.0</td>\n",
              "      <td>1</td>\n",
              "      <td>0</td>\n",
              "      <td>-2.069449</td>\n",
              "      <td>0.017777</td>\n",
              "      <td>-1.910675</td>\n",
              "      <td>0.610265</td>\n",
              "      <td>0</td>\n",
              "      <td>1</td>\n",
              "    </tr>\n",
              "    <tr>\n",
              "      <th>2</th>\n",
              "      <td>1</td>\n",
              "      <td>0</td>\n",
              "      <td>0</td>\n",
              "      <td>1950</td>\n",
              "      <td>0</td>\n",
              "      <td>0</td>\n",
              "      <td>0</td>\n",
              "      <td>0</td>\n",
              "      <td>0</td>\n",
              "      <td>0</td>\n",
              "      <td>...</td>\n",
              "      <td>1</td>\n",
              "      <td>159.0</td>\n",
              "      <td>0</td>\n",
              "      <td>0</td>\n",
              "      <td>-0.484268</td>\n",
              "      <td>1.968772</td>\n",
              "      <td>-0.064167</td>\n",
              "      <td>-1.260871</td>\n",
              "      <td>0</td>\n",
              "      <td>1</td>\n",
              "    </tr>\n",
              "    <tr>\n",
              "      <th>3</th>\n",
              "      <td>0</td>\n",
              "      <td>0</td>\n",
              "      <td>1</td>\n",
              "      <td>1990</td>\n",
              "      <td>0</td>\n",
              "      <td>0</td>\n",
              "      <td>0</td>\n",
              "      <td>0</td>\n",
              "      <td>0</td>\n",
              "      <td>1</td>\n",
              "      <td>...</td>\n",
              "      <td>1</td>\n",
              "      <td>150.0</td>\n",
              "      <td>0</td>\n",
              "      <td>1</td>\n",
              "      <td>-0.858054</td>\n",
              "      <td>1.022827</td>\n",
              "      <td>-0.348389</td>\n",
              "      <td>-1.147251</td>\n",
              "      <td>1</td>\n",
              "      <td>0</td>\n",
              "    </tr>\n",
              "    <tr>\n",
              "      <th>4</th>\n",
              "      <td>0</td>\n",
              "      <td>0</td>\n",
              "      <td>1</td>\n",
              "      <td>1960</td>\n",
              "      <td>0</td>\n",
              "      <td>0</td>\n",
              "      <td>0</td>\n",
              "      <td>0</td>\n",
              "      <td>1</td>\n",
              "      <td>0</td>\n",
              "      <td>...</td>\n",
              "      <td>1</td>\n",
              "      <td>166.0</td>\n",
              "      <td>0</td>\n",
              "      <td>0</td>\n",
              "      <td>-0.793029</td>\n",
              "      <td>-1.166528</td>\n",
              "      <td>-0.043766</td>\n",
              "      <td>0.969661</td>\n",
              "      <td>0</td>\n",
              "      <td>0</td>\n",
              "    </tr>\n",
              "    <tr>\n",
              "      <th>...</th>\n",
              "      <td>...</td>\n",
              "      <td>...</td>\n",
              "      <td>...</td>\n",
              "      <td>...</td>\n",
              "      <td>...</td>\n",
              "      <td>...</td>\n",
              "      <td>...</td>\n",
              "      <td>...</td>\n",
              "      <td>...</td>\n",
              "      <td>...</td>\n",
              "      <td>...</td>\n",
              "      <td>...</td>\n",
              "      <td>...</td>\n",
              "      <td>...</td>\n",
              "      <td>...</td>\n",
              "      <td>...</td>\n",
              "      <td>...</td>\n",
              "      <td>...</td>\n",
              "      <td>...</td>\n",
              "      <td>...</td>\n",
              "      <td>...</td>\n",
              "    </tr>\n",
              "    <tr>\n",
              "      <th>161495</th>\n",
              "      <td>0</td>\n",
              "      <td>0</td>\n",
              "      <td>1</td>\n",
              "      <td>1960</td>\n",
              "      <td>0</td>\n",
              "      <td>0</td>\n",
              "      <td>0</td>\n",
              "      <td>0</td>\n",
              "      <td>1</td>\n",
              "      <td>0</td>\n",
              "      <td>...</td>\n",
              "      <td>1</td>\n",
              "      <td>182.0</td>\n",
              "      <td>0</td>\n",
              "      <td>0</td>\n",
              "      <td>0.586789</td>\n",
              "      <td>-0.288211</td>\n",
              "      <td>-0.746254</td>\n",
              "      <td>-1.19351</td>\n",
              "      <td>0</td>\n",
              "      <td>0</td>\n",
              "    </tr>\n",
              "    <tr>\n",
              "      <th>161496</th>\n",
              "      <td>0</td>\n",
              "      <td>0</td>\n",
              "      <td>1</td>\n",
              "      <td>1970</td>\n",
              "      <td>0</td>\n",
              "      <td>0</td>\n",
              "      <td>0</td>\n",
              "      <td>0</td>\n",
              "      <td>0</td>\n",
              "      <td>0</td>\n",
              "      <td>...</td>\n",
              "      <td>1</td>\n",
              "      <td>154.0</td>\n",
              "      <td>1</td>\n",
              "      <td>0</td>\n",
              "      <td>0.659164</td>\n",
              "      <td>-1.074516</td>\n",
              "      <td>0.855201</td>\n",
              "      <td>2.426957</td>\n",
              "      <td>0</td>\n",
              "      <td>0</td>\n",
              "    </tr>\n",
              "    <tr>\n",
              "      <th>161497</th>\n",
              "      <td>0</td>\n",
              "      <td>1</td>\n",
              "      <td>0</td>\n",
              "      <td>1970</td>\n",
              "      <td>0</td>\n",
              "      <td>0</td>\n",
              "      <td>0</td>\n",
              "      <td>0</td>\n",
              "      <td>1</td>\n",
              "      <td>0</td>\n",
              "      <td>...</td>\n",
              "      <td>1</td>\n",
              "      <td>167.0</td>\n",
              "      <td>1</td>\n",
              "      <td>0</td>\n",
              "      <td>-0.208026</td>\n",
              "      <td>-1.716854</td>\n",
              "      <td>1.460769</td>\n",
              "      <td>0.166714</td>\n",
              "      <td>0</td>\n",
              "      <td>1</td>\n",
              "    </tr>\n",
              "    <tr>\n",
              "      <th>161498</th>\n",
              "      <td>0</td>\n",
              "      <td>0</td>\n",
              "      <td>1</td>\n",
              "      <td>1950</td>\n",
              "      <td>0</td>\n",
              "      <td>0</td>\n",
              "      <td>1</td>\n",
              "      <td>0</td>\n",
              "      <td>0</td>\n",
              "      <td>0</td>\n",
              "      <td>...</td>\n",
              "      <td>1</td>\n",
              "      <td>167.0</td>\n",
              "      <td>1</td>\n",
              "      <td>0</td>\n",
              "      <td>-0.270337</td>\n",
              "      <td>-3.120069</td>\n",
              "      <td>0.552467</td>\n",
              "      <td>0.000186</td>\n",
              "      <td>1</td>\n",
              "      <td>0</td>\n",
              "    </tr>\n",
              "    <tr>\n",
              "      <th>161499</th>\n",
              "      <td>0</td>\n",
              "      <td>1</td>\n",
              "      <td>0</td>\n",
              "      <td>1970</td>\n",
              "      <td>0</td>\n",
              "      <td>0</td>\n",
              "      <td>0</td>\n",
              "      <td>0</td>\n",
              "      <td>1</td>\n",
              "      <td>0</td>\n",
              "      <td>...</td>\n",
              "      <td>1</td>\n",
              "      <td>185.0</td>\n",
              "      <td>0</td>\n",
              "      <td>1</td>\n",
              "      <td>0.255832</td>\n",
              "      <td>-1.582423</td>\n",
              "      <td>-1.445451</td>\n",
              "      <td>-0.367416</td>\n",
              "      <td>1</td>\n",
              "      <td>1</td>\n",
              "    </tr>\n",
              "  </tbody>\n",
              "</table>\n",
              "<p>161500 rows × 101 columns</p>\n",
              "</div>\n",
              "      <button class=\"colab-df-convert\" onclick=\"convertToInteractive('df-bbc32823-b3b1-4cc1-a1cd-bfdf08cdf066')\"\n",
              "              title=\"Convert this dataframe to an interactive table.\"\n",
              "              style=\"display:none;\">\n",
              "        \n",
              "  <svg xmlns=\"http://www.w3.org/2000/svg\" height=\"24px\"viewBox=\"0 0 24 24\"\n",
              "       width=\"24px\">\n",
              "    <path d=\"M0 0h24v24H0V0z\" fill=\"none\"/>\n",
              "    <path d=\"M18.56 5.44l.94 2.06.94-2.06 2.06-.94-2.06-.94-.94-2.06-.94 2.06-2.06.94zm-11 1L8.5 8.5l.94-2.06 2.06-.94-2.06-.94L8.5 2.5l-.94 2.06-2.06.94zm10 10l.94 2.06.94-2.06 2.06-.94-2.06-.94-.94-2.06-.94 2.06-2.06.94z\"/><path d=\"M17.41 7.96l-1.37-1.37c-.4-.4-.92-.59-1.43-.59-.52 0-1.04.2-1.43.59L10.3 9.45l-7.72 7.72c-.78.78-.78 2.05 0 2.83L4 21.41c.39.39.9.59 1.41.59.51 0 1.02-.2 1.41-.59l7.78-7.78 2.81-2.81c.8-.78.8-2.07 0-2.86zM5.41 20L4 18.59l7.72-7.72 1.47 1.35L5.41 20z\"/>\n",
              "  </svg>\n",
              "      </button>\n",
              "      \n",
              "  <style>\n",
              "    .colab-df-container {\n",
              "      display:flex;\n",
              "      flex-wrap:wrap;\n",
              "      gap: 12px;\n",
              "    }\n",
              "\n",
              "    .colab-df-convert {\n",
              "      background-color: #E8F0FE;\n",
              "      border: none;\n",
              "      border-radius: 50%;\n",
              "      cursor: pointer;\n",
              "      display: none;\n",
              "      fill: #1967D2;\n",
              "      height: 32px;\n",
              "      padding: 0 0 0 0;\n",
              "      width: 32px;\n",
              "    }\n",
              "\n",
              "    .colab-df-convert:hover {\n",
              "      background-color: #E2EBFA;\n",
              "      box-shadow: 0px 1px 2px rgba(60, 64, 67, 0.3), 0px 1px 3px 1px rgba(60, 64, 67, 0.15);\n",
              "      fill: #174EA6;\n",
              "    }\n",
              "\n",
              "    [theme=dark] .colab-df-convert {\n",
              "      background-color: #3B4455;\n",
              "      fill: #D2E3FC;\n",
              "    }\n",
              "\n",
              "    [theme=dark] .colab-df-convert:hover {\n",
              "      background-color: #434B5C;\n",
              "      box-shadow: 0px 1px 3px 1px rgba(0, 0, 0, 0.15);\n",
              "      filter: drop-shadow(0px 1px 2px rgba(0, 0, 0, 0.3));\n",
              "      fill: #FFFFFF;\n",
              "    }\n",
              "  </style>\n",
              "\n",
              "      <script>\n",
              "        const buttonEl =\n",
              "          document.querySelector('#df-bbc32823-b3b1-4cc1-a1cd-bfdf08cdf066 button.colab-df-convert');\n",
              "        buttonEl.style.display =\n",
              "          google.colab.kernel.accessAllowed ? 'block' : 'none';\n",
              "\n",
              "        async function convertToInteractive(key) {\n",
              "          const element = document.querySelector('#df-bbc32823-b3b1-4cc1-a1cd-bfdf08cdf066');\n",
              "          const dataTable =\n",
              "            await google.colab.kernel.invokeFunction('convertToInteractive',\n",
              "                                                     [key], {});\n",
              "          if (!dataTable) return;\n",
              "\n",
              "          const docLinkHtml = 'Like what you see? Visit the ' +\n",
              "            '<a target=\"_blank\" href=https://colab.research.google.com/notebooks/data_table.ipynb>data table notebook</a>'\n",
              "            + ' to learn more about interactive tables.';\n",
              "          element.innerHTML = '';\n",
              "          dataTable['output_type'] = 'display_data';\n",
              "          await google.colab.output.renderOutput(dataTable, element);\n",
              "          const docLink = document.createElement('div');\n",
              "          docLink.innerHTML = docLinkHtml;\n",
              "          element.appendChild(docLink);\n",
              "        }\n",
              "      </script>\n",
              "    </div>\n",
              "  </div>\n",
              "  "
            ]
          },
          "metadata": {},
          "execution_count": 64
        }
      ],
      "source": [
        "X_train"
      ]
    },
    {
      "cell_type": "markdown",
      "id": "400feb53",
      "metadata": {
        "id": "400feb53"
      },
      "source": [
        "# Scale"
      ]
    },
    {
      "cell_type": "code",
      "execution_count": 65,
      "id": "08a19bec",
      "metadata": {
        "id": "08a19bec"
      },
      "outputs": [],
      "source": [
        "from sklearn.preprocessing import StandardScaler, MinMaxScaler"
      ]
    },
    {
      "cell_type": "code",
      "execution_count": 66,
      "id": "9a467d19",
      "metadata": {
        "id": "9a467d19"
      },
      "outputs": [],
      "source": [
        "sc = MinMaxScaler()\n",
        "sc.fit(X_train)\n",
        "\n",
        "X_train = sc.transform(X_train)\n",
        "X_eval = sc.transform(X_eval)\n",
        "X_test = sc.transform(X_test)"
      ]
    },
    {
      "cell_type": "markdown",
      "source": [
        "# Feature engineering, Hyperparameter tuning & Validation"
      ],
      "metadata": {
        "id": "3DuXb7lGTbe8"
      },
      "id": "3DuXb7lGTbe8"
    },
    {
      "cell_type": "code",
      "source": [
        "from sklearn.model_selection import RandomizedSearchCV, GridSearchCV\n",
        "from scipy.stats import randint\n",
        "\n",
        "def getValidHyperparams(X_train, y_train, modelConstructor, parameters, hyperparameters, isRandom=True):\n",
        "  model =  modelConstructor(**parameters)\n",
        "  # cv can take a CV Splitter object... make our own custom for more control than the automatic stratified splitting? see https://scikit-learn.org/stable/glossary.html#term-CV-splitter\n",
        "  # cv=5 in itself is a hyper parameter that we should tune... manually? Values 3 and 4 change very little performance wise.\n",
        "  model_cv = RandomizedSearchCV(model, hyperparameters, cv=4, scoring='f1_micro', n_iter=2, n_jobs=1, return_train_score=True) if isRandom else GridSearchCV(model, hyperparams, cv=4, scoring='f1_micro', return_train_score=True)\n",
        "\n",
        "  cv_results = model_cv.fit(X_train, y_train)\n",
        "\n",
        "  print(cv_results.best_params_)\n",
        "  return cv_results.best_params_, cv_results\n",
        "\n",
        "# def plot_grid_search(cv_results, grid_param_1, grid_param_2, name_param_1, name_param_2):\n",
        "#   # Get Test Scores Mean and std for each grid search\n",
        "#   scores_mean = cv_results['mean_test_score']\n",
        "#   scores_mean = np.array(scores_mean).reshape(len(grid_param_2),len(grid_param_1))\n",
        "\n",
        "#   scores_sd = cv_results['std_test_score']\n",
        "#   scores_sd = np.array(scores_sd).reshape(len(grid_param_2),len(grid_param_1))\n",
        "\n",
        "#   # Plot Grid search scores\n",
        "#   _, ax = plt.subplots(1,1)\n",
        "\n",
        "#   # Param1 is the X-axis, Param 2 is represented as a different curve (color line)\n",
        "#   for idx, val in enumerate(grid_param_2):\n",
        "#       ax.plot(grid_param_1, scores_mean[idx,:], '-o', label= name_param_2 + ': ' + str(val))\n",
        "\n",
        "#   ax.set_title(\"Grid Search Scores\", fontsize=20, fontweight='bold')\n",
        "#   ax.set_xlabel(name_param_1, fontsize=16)\n",
        "#   ax.set_ylabel('CV Average Score', fontsize=16)\n",
        "#   ax.legend(loc=\"best\", fontsize=15)\n",
        "#   ax.grid('on')"
      ],
      "metadata": {
        "id": "aDz-lSqcTlOS"
      },
      "id": "aDz-lSqcTlOS",
      "execution_count": 67,
      "outputs": []
    },
    {
      "cell_type": "code",
      "execution_count": 68,
      "id": "8ee93594",
      "metadata": {
        "id": "8ee93594"
      },
      "outputs": [],
      "source": [
        "from sklearn.neighbors import KNeighborsClassifier"
      ]
    },
    {
      "cell_type": "code",
      "execution_count": 69,
      "id": "f71f3c19",
      "metadata": {
        "id": "f71f3c19"
      },
      "outputs": [],
      "source": [
        "from sklearn.preprocessing import LabelEncoder"
      ]
    },
    {
      "cell_type": "code",
      "execution_count": 70,
      "id": "d73d52c0",
      "metadata": {
        "id": "d73d52c0"
      },
      "outputs": [],
      "source": [
        "le = LabelEncoder().fit(y_train)\n",
        "y_train_encoded = le.transform(y_train)\n",
        "y_eval_encoded = le.transform(y_eval)"
      ]
    },
    {
      "cell_type": "code",
      "execution_count": 71,
      "id": "c65239b4",
      "metadata": {
        "id": "c65239b4"
      },
      "outputs": [],
      "source": [
        "## This is WAY too slow...\n",
        "## See cuML: https://developer.nvidia.com/blog/scikit-learn-tutorial-beginners-guide-to-gpu-accelerated-ml-pipelines/\n",
        "## https://docs.rapids.ai/api/cuml/stable/\n",
        "## Use cuML estimators (model constructors) inside scipy gridsearch, as described here: https://stackoverflow.com/questions/70139811/how-do-you-do-a-grid-search-with-cuml-without-a-datatype-error\n",
        "\n",
        "\n",
        "# params = {'algorithm': 'kd_tree', # based on documentation, kd tree speeds things up quite a bit and is good for dimensions under 20 (it's our case).\n",
        "#           'p': 2}\n",
        "# hyperparams = {'n_neighbors': [27],\n",
        "#                'weights': [\"uniform\", \"distance\"]}\n",
        "\n",
        "\n",
        "\n",
        "# val_hyperparams, cv_results = getValidHyperparams(X_train, y_train_encoded, KNeighborsClassifier, params, hyperparams, isRandom=True)\n",
        "# knn = KNeighborsClassifier(**val_hyperparams, **params)\n",
        "\n",
        "# print(cv_results)\n",
        "knn = KNeighborsClassifier(n_neighbors=27, weights=\"uniform\", p=2, algorithm='kd_tree')"
      ]
    },
    {
      "cell_type": "markdown",
      "source": [
        "## Feature Selection"
      ],
      "metadata": {
        "id": "ELjPtyOCTtg2"
      },
      "id": "ELjPtyOCTtg2"
    },
    {
      "cell_type": "markdown",
      "source": [
        "Many categories of feature selection methods exist:\n",
        "\n",
        "- **Filter methods**, which are generaly less computationally intensive and rely on unvariate statistical analysis rather than model performance.\n",
        "\n",
        "- **Wrapper methods**, which come down to training and evaluating the performance of the model over various combinations of features. Hence, they tend to be more computationnally expensive. The approach is greedy, but it tends to have more extensive and performant results.\n",
        "\n",
        "- **Embedded methods**, which derives the importance of the different features by analysing the result of the training. These methods typically require that the training algorithms involve quantification of the impact of each feature on the result. A common example is the LASSO regularization (L1), which does so through it's feature penalization.\n",
        "\n",
        "As our computing ressources are limited, Wrapper methods are mostly out of the question. Filter methods will be prefered. Additionally, our experimentations and intuitions lead us towards gradient boosted ensemble based algorithms. The most straightforward embedded method would therefore be Random Forest Importance. It allows us to identify the features that improve the purity of the subsequent splits the most.\n",
        "\n",
        "\n",
        "Sources: \n",
        "\n",
        "https://www.analyticsvidhya.com/blog/2020/10/feature-selection-techniques-in-machine-learning/\n",
        "\n",
        "https://towardsdatascience.com/feature-selection-and-dimensionality-reduction-f488d1a035de\n",
        "\n",
        "https://ml-concepts.com/2021/10/07/3-embedded-methods/\n",
        "\n",
        "https://scikit-learn.org/stable/auto_examples/feature_selection/plot_f_test_vs_mi.html#sphx-glr-auto-examples-feature-selection-plot-f-test-vs-mi-py\n",
        "\n",
        "\n",
        "\n",
        "StackOverflow posts (for reference, not the report):\n",
        "\n",
        "https://stats.stackexchange.com/questions/52034/using-lasso-on-random-forest"
      ],
      "metadata": {
        "id": "ucY9c563Ukvc"
      },
      "id": "ucY9c563Ukvc"
    },
    {
      "cell_type": "markdown",
      "source": [
        "### Filter Methods"
      ],
      "metadata": {
        "id": "6fVD2lWrftsv"
      },
      "id": "6fVD2lWrftsv"
    },
    {
      "cell_type": "markdown",
      "source": [
        "The first filter method is **Information Gain**. We prefer this filter method over the tests that rely on Fisher scores as we have no good reason to assume a linear dependency between the features and the prediction values. the Mutual information algorithm measures the dependency between discrete variables (every feature and the prediction result)."
      ],
      "metadata": {
        "id": "ZFPQrAWrLkB9"
      },
      "id": "ZFPQrAWrLkB9"
    },
    {
      "cell_type": "code",
      "source": [
        "\n",
        "from sklearn.feature_selection import mutual_info_classif\n",
        "importances = mutual_info_classif(X_train, y_train_encoded)\n",
        "feature_importances = pd.Series(importances)\n",
        "plt.rcParams.update({'font.size': 22})\n",
        "feature_importances.sort_values(ascending=False, inplace=True)"
      ],
      "metadata": {
        "id": "tivu0bSOfqI9"
      },
      "id": "tivu0bSOfqI9",
      "execution_count": 72,
      "outputs": []
    },
    {
      "cell_type": "code",
      "source": [
        "\n",
        "feature_importances.plot.bar(figsize=(60,10))\n"
      ],
      "metadata": {
        "colab": {
          "base_uri": "https://localhost:8080/",
          "height": 318
        },
        "id": "l6227-iFJdaV",
        "outputId": "d612856b-d341-475e-c7b3-fd01df0f533c"
      },
      "id": "l6227-iFJdaV",
      "execution_count": 73,
      "outputs": [
        {
          "output_type": "execute_result",
          "data": {
            "text/plain": [
              "<matplotlib.axes._subplots.AxesSubplot at 0x7fcf9ac95d10>"
            ]
          },
          "metadata": {},
          "execution_count": 73
        },
        {
          "output_type": "display_data",
          "data": {
            "text/plain": [
              "<Figure size 4320x720 with 1 Axes>"
            ],
            "image/png": "[encoded data removed]"
          },
          "metadata": {
            "needs_background": "light"
          }
        }
      ]
    },
    {
      "cell_type": "markdown",
      "source": [
        "The second method is the **Chi-square ranking**. The Chi-square test is very similar to the mutual information algorithm in the sense that it measures the dependency between the features and the classification values. \n",
        "\n",
        "TODO: **HOW TO INTERPRET CHI2 RESULTS?**"
      ],
      "metadata": {
        "id": "KA6XApvtbotB"
      },
      "id": "KA6XApvtbotB"
    },
    {
      "cell_type": "code",
      "source": [
        "from sklearn.feature_selection import chi2\n",
        "chi_stats, p_values = chi2(X_train, y_train_encoded)\n",
        "print(p_values)"
      ],
      "metadata": {
        "colab": {
          "base_uri": "https://localhost:8080/"
        },
        "id": "abkACz6fdZlM",
        "outputId": "b5929014-15be-4427-feda-59769b3d7b4b"
      },
      "id": "abkACz6fdZlM",
      "execution_count": 74,
      "outputs": [
        {
          "output_type": "stream",
          "name": "stdout",
          "text": [
            "[0.00000000e+000 0.00000000e+000 5.52121960e-032 2.14263314e-021\n",
            " 6.43697914e-166 0.00000000e+000 1.44436738e-283 0.00000000e+000\n",
            " 1.11199246e-148 0.00000000e+000 1.44008417e-068 1.42179562e-080\n",
            " 3.59170791e-113 0.00000000e+000 5.14608089e-109 3.76544586e-075\n",
            " 1.28794654e-229 6.90982456e-128 0.00000000e+000 0.00000000e+000\n",
            " 2.42676326e-083 3.49748704e-240 4.27284450e-165 0.00000000e+000\n",
            " 9.50134562e-103 0.00000000e+000 1.09539346e-225 1.09084385e-101\n",
            " 1.35893350e-066 0.00000000e+000 7.82108792e-076 2.36676103e-187\n",
            " 0.00000000e+000 1.99727281e-143 6.31802886e-033 0.00000000e+000\n",
            " 1.37178918e-088 0.00000000e+000 2.83353348e-274 7.95412554e-309\n",
            " 0.00000000e+000 1.22376900e-078 0.00000000e+000 0.00000000e+000\n",
            " 0.00000000e+000 2.42295759e-132 3.21755544e-240 4.35199497e-073\n",
            " 0.00000000e+000 4.29227124e-122 1.70003199e-240 3.34508187e-199\n",
            " 0.00000000e+000 2.95895734e-069 4.22937931e-039 0.00000000e+000\n",
            " 0.00000000e+000 0.00000000e+000 0.00000000e+000 3.36146734e-213\n",
            " 0.00000000e+000 0.00000000e+000 0.00000000e+000 0.00000000e+000\n",
            " 5.50298218e-033 8.78577257e-143 5.36495229e-048 9.61371254e-088\n",
            " 2.26752077e-018 1.01628517e-238 4.56770263e-012 7.19564650e-016\n",
            " 1.45999895e-010 6.34423442e-012 8.14310727e-017 3.15116158e-010\n",
            " 1.19523672e-018 7.98657977e-013 1.32326771e-008 1.50390796e-015\n",
            " 8.71489621e-001 2.14310485e-127 5.59818197e-116 2.88100802e-130\n",
            " 1.17026215e-104 1.61443313e-084 4.33593466e-095 1.17699824e-086\n",
            " 4.11731394e-196 7.38836287e-084 6.01347747e-099 5.41515641e-004\n",
            " 6.46763611e-001 7.32664337e-131 0.00000000e+000 3.77940721e-001\n",
            " 9.78492729e-001 9.63878374e-001 9.97678838e-001 0.00000000e+000\n",
            " 4.72678940e-048]\n"
          ]
        }
      ]
    },
    {
      "cell_type": "markdown",
      "source": [
        "### Embedded Method"
      ],
      "metadata": {
        "id": "CmgZuKrtf2Tc"
      },
      "id": "CmgZuKrtf2Tc"
    },
    {
      "cell_type": "markdown",
      "source": [
        "**Random Forest Importance** Allows us to identify features that have the most polarizing effect in the tree splits. They are the features that categorize the output the most."
      ],
      "metadata": {
        "id": "oPlFCXcMMvjK"
      },
      "id": "oPlFCXcMMvjK"
    },
    {
      "cell_type": "code",
      "source": [
        "from sklearn.ensemble import RandomForestClassifier \n",
        "#use hyperparams of random forest here...\n",
        "RF =  RandomForestClassifier(n_estimators=340, class_weight='balanced')\n",
        "RF.fit(X_train, y_train_encoded)"
      ],
      "metadata": {
        "colab": {
          "base_uri": "https://localhost:8080/"
        },
        "id": "5PctWZlWTsjW",
        "outputId": "6d7f8147-aaa9-4a93-8fc6-d444f62782a1"
      },
      "id": "5PctWZlWTsjW",
      "execution_count": null,
      "outputs": [
        {
          "output_type": "execute_result",
          "data": {
            "text/plain": [
              "RandomForestClassifier(class_weight='balanced', n_estimators=340)"
            ]
          },
          "metadata": {},
          "execution_count": 39
        }
      ]
    },
    {
      "cell_type": "markdown",
      "source": [
        "#### Plotting"
      ],
      "metadata": {
        "id": "g1sBokA0Z9Jg"
      },
      "id": "g1sBokA0Z9Jg"
    },
    {
      "cell_type": "code",
      "source": [
        "feature_n = [f\"feature {i}\" for i in range(X_train.shape[1])]\n",
        "importances = RF.feature_importances_\n",
        "RF_df = pd.Series(importances, index=feature_n)\n",
        "RF_df.sort_values(ascending=False, inplace=True)\n",
        "print(RF_df)\n",
        "\n",
        "\n",
        "fig, ax = plt.subplots()\n",
        "RF_df.plot.bar(ax=ax, figsize=(60,10))\n",
        "ax.set_title(\"Feature importances using MDI\")\n",
        "ax.set_ylabel(\"Mean decrease in impurity\")\n",
        "fig.tight_layout()\n",
        "\n",
        "##TODO map the feature numbers to the length of one hot encodings to reverse engineer which starting features are more meaningful? or simple drop the features with lower importanace..."
      ],
      "metadata": {
        "colab": {
          "base_uri": "https://localhost:8080/",
          "height": 496
        },
        "id": "ySC731WBZ3ej",
        "outputId": "f9044d8f-53d1-4b71-aaab-a010747e4a70"
      },
      "id": "ySC731WBZ3ej",
      "execution_count": null,
      "outputs": [
        {
          "output_type": "stream",
          "name": "stdout",
          "text": [
            "feature 97    0.096415\n",
            "feature 96    0.093651\n",
            "feature 98    0.093335\n",
            "feature 95    0.093303\n",
            "feature 92    0.085352\n",
            "                ...   \n",
            "feature 74    0.000108\n",
            "feature 72    0.000103\n",
            "feature 70    0.000098\n",
            "feature 78    0.000097\n",
            "feature 89    0.000088\n",
            "Length: 101, dtype: float64\n"
          ]
        },
        {
          "output_type": "display_data",
          "data": {
            "text/plain": [
              "<Figure size 4320x720 with 1 Axes>"
            ],
            "image/png": "[encoded data removed]"
          },
          "metadata": {
            "needs_background": "light"
          }
        }
      ]
    },
    {
      "cell_type": "markdown",
      "source": [
        "## Model Fitting"
      ],
      "metadata": {
        "id": "AbAEGJ4YT-sF"
      },
      "id": "AbAEGJ4YT-sF"
    },
    {
      "cell_type": "code",
      "execution_count": null,
      "id": "ddad9d78",
      "metadata": {
        "id": "ddad9d78"
      },
      "outputs": [],
      "source": [
        "knn.fit(X_train, y_train_encoded)"
      ]
    },
    {
      "cell_type": "markdown",
      "id": "feb8683c",
      "metadata": {
        "id": "feb8683c"
      },
      "source": [
        "# Predictions & Metrics"
      ]
    },
    {
      "cell_type": "code",
      "execution_count": null,
      "id": "2fde2efd",
      "metadata": {
        "id": "2fde2efd"
      },
      "outputs": [],
      "source": [
        "y_eval_pred = knn.predict(X_eval)"
      ]
    },
    {
      "cell_type": "code",
      "execution_count": null,
      "id": "09590651",
      "metadata": {
        "id": "09590651"
      },
      "outputs": [],
      "source": [
        "y_eval_pred"
      ]
    },
    {
      "cell_type": "code",
      "execution_count": null,
      "id": "902f2590",
      "metadata": {
        "id": "902f2590"
      },
      "outputs": [],
      "source": [
        "from sklearn.metrics import accuracy_score, f1_score\n",
        "\n",
        "acc = f1_score(y_eval_encoded, y_eval_pred, average=None)\n",
        "\n",
        "print(acc)"
      ]
    },
    {
      "cell_type": "code",
      "execution_count": null,
      "id": "d61594d8",
      "metadata": {
        "id": "d61594d8"
      },
      "outputs": [],
      "source": [
        "acc = f1_score(y_eval_encoded, y_eval_pred, average='micro')\n",
        "print(acc)"
      ]
    },
    {
      "cell_type": "code",
      "execution_count": null,
      "id": "cb698554",
      "metadata": {
        "id": "cb698554"
      },
      "outputs": [],
      "source": [
        "from sklearn.metrics import classification_report\n",
        "\n",
        "print(dict(zip(le.classes_, le.transform(le.classes_))))\n",
        "print(classification_report(y_eval_encoded, y_eval_pred))"
      ]
    },
    {
      "cell_type": "markdown",
      "id": "1b06b1c3",
      "metadata": {
        "id": "1b06b1c3"
      },
      "source": [
        "# Test Predictions"
      ]
    },
    {
      "cell_type": "code",
      "execution_count": null,
      "id": "ced09c14",
      "metadata": {
        "id": "ced09c14"
      },
      "outputs": [],
      "source": [
        "y_pred_test = knn.predict(X_test)"
      ]
    },
    {
      "cell_type": "code",
      "execution_count": null,
      "id": "1cfbcd52",
      "metadata": {
        "id": "1cfbcd52"
      },
      "outputs": [],
      "source": [
        "y_pred_test = le.inverse_transform(y_pred_test)"
      ]
    },
    {
      "cell_type": "code",
      "execution_count": null,
      "id": "fe3ed4ad",
      "metadata": {
        "id": "fe3ed4ad",
        "outputId": "5f22565c-5612-410d-c0fd-04bffa9eef5c"
      },
      "outputs": [
        {
          "data": {
            "text/plain": [
              "array(['Best Concert Ever', 'Enjoyed', 'Enjoyed', ..., 'Enjoyed',\n",
              "       'Did Not Enjoy', 'Worst Concert Ever'], dtype=object)"
            ]
          },
          "execution_count": 341,
          "metadata": {},
          "output_type": "execute_result"
        }
      ],
      "source": [
        "y_pred_test"
      ]
    },
    {
      "cell_type": "code",
      "execution_count": null,
      "id": "2dadf1d9",
      "metadata": {
        "id": "2dadf1d9",
        "outputId": "dece3522-3335-4102-97c2-5aabc6553fe6"
      },
      "outputs": [
        {
          "data": {
            "text/plain": [
              "array(['ConcertExperience_70055', 'ConcertExperience_34799',\n",
              "       'ConcertExperience_100410', ..., 'ConcertExperience_197434',\n",
              "       'ConcertExperience_166029', 'ConcertExperience_24025'],\n",
              "      dtype=object)"
            ]
          },
          "execution_count": 342,
          "metadata": {},
          "output_type": "execute_result"
        }
      ],
      "source": [
        "ids_test.values"
      ]
    },
    {
      "cell_type": "code",
      "execution_count": null,
      "id": "392c68e0",
      "metadata": {
        "id": "392c68e0"
      },
      "outputs": [],
      "source": [
        "df_soumission = pd.DataFrame({'Id' : ids_test.values, 'Predicted' : y_pred_test})"
      ]
    },
    {
      "cell_type": "code",
      "execution_count": null,
      "id": "1699bb89",
      "metadata": {
        "id": "1699bb89"
      },
      "outputs": [],
      "source": [
        "df_soumission.to_csv('Soumission3.csv', index=False)"
      ]
    },
    {
      "cell_type": "code",
      "execution_count": null,
      "id": "6216edfe",
      "metadata": {
        "id": "6216edfe"
      },
      "outputs": [],
      "source": []
    }
  ],
  "metadata": {
    "kernelspec": {
      "display_name": "Python 3.10.7 64-bit",
      "language": "python",
      "name": "python3"
    },
    "language_info": {
      "codemirror_mode": {
        "name": "ipython",
        "version": 3
      },
      "file_extension": ".py",
      "mimetype": "text/x-python",
      "name": "python",
      "nbconvert_exporter": "python",
      "pygments_lexer": "ipython3",
      "version": "3.10.7"
    },
    "vscode": {
      "interpreter": {
        "hash": "e7370f93d1d0cde622a1f8e1c04877d8463912d04d973331ad4851f04de6915a"
      }
    },
    "colab": {
      "provenance": [],
      "collapsed_sections": [
        "412297f8",
        "a83898c4",
        "1b06b1c3"
      ]
    },
    "accelerator": "GPU",
    "gpuClass": "standard"
  },
  "nbformat": 4,
  "nbformat_minor": 5
}