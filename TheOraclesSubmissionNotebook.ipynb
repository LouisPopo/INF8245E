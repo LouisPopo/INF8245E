{
  "cells": [
    {
      "cell_type": "markdown",
      "metadata": {
        "id": "e774ce5e"
      },
      "source": [
        "1. Get train data and test data\n",
        "2. Split train data (train, eval) right away to simulate train vs test data\n",
        "3. Handle missing values (na and 'insert')\n",
        "4. Handle outliers\n"
      ],
      "id": "e774ce5e"
    },
    {
      "cell_type": "code",
      "execution_count": null,
      "metadata": {
        "colab": {
          "base_uri": "https://localhost:8080/"
        },
        "id": "0STKQ_kQWr7p",
        "outputId": "53ad8d3c-fe24-4ab4-8edb-6f00dbeb4bcd"
      },
      "outputs": [
        {
          "output_type": "stream",
          "name": "stdout",
          "text": [
            "Looking in indexes: https://pypi.org/simple, https://us-python.pkg.dev/colab-wheels/public/simple/\n",
            "Requirement already satisfied: catboost in /usr/local/lib/python3.7/dist-packages (1.1.1)\n",
            "Requirement already satisfied: six in /usr/local/lib/python3.7/dist-packages (from catboost) (1.15.0)\n",
            "Requirement already satisfied: graphviz in /usr/local/lib/python3.7/dist-packages (from catboost) (0.10.1)\n",
            "Requirement already satisfied: scipy in /usr/local/lib/python3.7/dist-packages (from catboost) (1.7.3)\n",
            "Requirement already satisfied: plotly in /usr/local/lib/python3.7/dist-packages (from catboost) (5.5.0)\n",
            "Requirement already satisfied: pandas>=0.24.0 in /usr/local/lib/python3.7/dist-packages (from catboost) (1.3.5)\n",
            "Requirement already satisfied: numpy>=1.16.0 in /usr/local/lib/python3.7/dist-packages (from catboost) (1.21.6)\n",
            "Requirement already satisfied: matplotlib in /usr/local/lib/python3.7/dist-packages (from catboost) (3.2.2)\n",
            "Requirement already satisfied: python-dateutil>=2.7.3 in /usr/local/lib/python3.7/dist-packages (from pandas>=0.24.0->catboost) (2.8.2)\n",
            "Requirement already satisfied: pytz>=2017.3 in /usr/local/lib/python3.7/dist-packages (from pandas>=0.24.0->catboost) (2022.6)\n",
            "Requirement already satisfied: kiwisolver>=1.0.1 in /usr/local/lib/python3.7/dist-packages (from matplotlib->catboost) (1.4.4)\n",
            "Requirement already satisfied: pyparsing!=2.0.4,!=2.1.2,!=2.1.6,>=2.0.1 in /usr/local/lib/python3.7/dist-packages (from matplotlib->catboost) (3.0.9)\n",
            "Requirement already satisfied: cycler>=0.10 in /usr/local/lib/python3.7/dist-packages (from matplotlib->catboost) (0.11.0)\n",
            "Requirement already satisfied: typing-extensions in /usr/local/lib/python3.7/dist-packages (from kiwisolver>=1.0.1->matplotlib->catboost) (4.1.1)\n",
            "Requirement already satisfied: tenacity>=6.2.0 in /usr/local/lib/python3.7/dist-packages (from plotly->catboost) (8.1.0)\n"
          ]
        }
      ],
      "source": [
        "%pip install catboost"
      ],
      "id": "0STKQ_kQWr7p"
    },
    {
      "cell_type": "markdown",
      "metadata": {
        "id": "9CGDpEX62ao5"
      },
      "source": [],
      "id": "9CGDpEX62ao5"
    },
    {
      "cell_type": "code",
      "execution_count": null,
      "metadata": {
        "id": "a4ac8607"
      },
      "outputs": [],
      "source": [
        "import numpy as np\n",
        "import pandas as pd\n",
        "import copy\n",
        "from sklearn.model_selection import train_test_split\n",
        "from sklearn import preprocessing\n",
        "import os\n",
        "from scipy import stats\n",
        "from sklearn.preprocessing import OneHotEncoder"
      ],
      "id": "a4ac8607"
    },
    {
      "cell_type": "code",
      "execution_count": null,
      "metadata": {
        "colab": {
          "base_uri": "https://localhost:8080/"
        },
        "id": "e70ea8f1",
        "outputId": "35b0da29-9bbb-4b81-8c81-4ae43a81c013"
      },
      "outputs": [
        {
          "output_type": "stream",
          "name": "stdout",
          "text": [
            "(170000, 19)\n",
            "(30000, 18)\n"
          ]
        }
      ],
      "source": [
        "df_train = pd.read_csv('train.csv')\n",
        "df_test = pd.read_csv('test.csv')\n",
        "print(df_train.shape)\n",
        "print(df_test.shape)"
      ],
      "id": "e70ea8f1"
    },
    {
      "cell_type": "code",
      "execution_count": null,
      "metadata": {
        "id": "28b9ffc2"
      },
      "outputs": [],
      "source": [
        "\n",
        "def convertToNum(a):\n",
        "    if a == 'Worst Concert Ever':\n",
        "        return 0\n",
        "    elif a == 'Did Not Enjoy':\n",
        "        return 1\n",
        "    elif a == 'Enjoyed':\n",
        "        return 2\n",
        "    else:\n",
        "        return 3\n",
        "    \n",
        "\n",
        "#df_train['Num Concert Enjoyment'] = df_train['Concert Enjoyment'].replace(\n",
        "#    ['Worst Concert Ever', 'Did Not Enjoy', 'Enjoyed', 'Best Concert Ever'], \n",
        "#    [0,1,2,3]\n",
        "#)"
      ],
      "id": "28b9ffc2"
    },
    {
      "cell_type": "code",
      "execution_count": null,
      "metadata": {
        "colab": {
          "base_uri": "https://localhost:8080/"
        },
        "id": "18cea9d6",
        "outputId": "cea067fb-394a-46cd-ee6c-48eed0570f61"
      },
      "outputs": [
        {
          "output_type": "stream",
          "name": "stdout",
          "text": [
            "(144500, 19)\n",
            "(25500, 19)\n"
          ]
        }
      ],
      "source": [
        "df_train, df_eval = np.split(df_train, [int(0.85*len(df_train))])\n",
        "print(df_train.shape)\n",
        "print(df_eval.shape)"
      ],
      "id": "18cea9d6"
    },
    {
      "cell_type": "markdown",
      "metadata": {
        "id": "119a6926"
      },
      "source": [
        "# To Lower and To String"
      ],
      "id": "119a6926"
    },
    {
      "cell_type": "code",
      "execution_count": null,
      "metadata": {
        "id": "93a6d0c0"
      },
      "outputs": [],
      "source": [
        "def toLower(a):\n",
        "    if a == None or a != a:\n",
        "        pass\n",
        "    else:\n",
        "        a = a.lower()\n",
        "    return a\n",
        "\n",
        "def toString(a):\n",
        "  if a == None or a!=a :    #if a is none or nan on pass \n",
        "    pass \n",
        "  else:\n",
        "    a = str(int(a))   \n",
        "  return a\n",
        "\n",
        "for c in [\"Band Country of Origin\",\"Band Name\",\"Band Genre\",\"Concert Goer Country of Origin\"]:\n",
        "    df_train[c] = df_train[c].map(toLower)\n",
        "    df_eval[c] = df_eval[c].map(toLower)\n",
        "    df_test[c] = df_test[c].map(toLower)\n",
        "    \n",
        "for c in ['Concert ID']:\n",
        "    df_train[c] = df_train[c].map(toString)\n",
        "    df_eval[c] = df_eval[c].map(toString)\n",
        "    df_test[c] = df_test[c].map(toString)"
      ],
      "id": "93a6d0c0"
    },
    {
      "cell_type": "markdown",
      "metadata": {
        "id": "8ba6d285"
      },
      "source": [
        "# By Decile"
      ],
      "id": "8ba6d285"
    },
    {
      "cell_type": "code",
      "execution_count": null,
      "metadata": {
        "id": "1e63ef60"
      },
      "outputs": [],
      "source": [
        "def groupByDecile(a):\n",
        "  if a == None or a!=a :     \n",
        "    pass \n",
        "  elif a< 20:\n",
        "    a = str(16)     #ca permet de faire commencer à 16 ans l'intervalle des âges sinon ce serait 10 ans X(\n",
        "  else :\n",
        "    a = a - a%10        #  Ex : 1976 - 1976%10 = 1970\n",
        "    a = str(int(a))\n",
        "  return a\n",
        "\n",
        "for c in [\"Band Debut\",\"Concert Goer Age\"]:\n",
        "    df_train[c] = df_train[c].map(groupByDecile)\n",
        "    df_eval[c] = df_eval[c].map(groupByDecile)\n",
        "    df_test[c] = df_test[c].map(groupByDecile)"
      ],
      "id": "1e63ef60"
    },
    {
      "cell_type": "markdown",
      "metadata": {
        "id": "44ce7457"
      },
      "source": [
        "# Handle Missing values"
      ],
      "id": "44ce7457"
    },
    {
      "cell_type": "code",
      "execution_count": null,
      "metadata": {
        "id": "d936145c"
      },
      "outputs": [],
      "source": [
        "# Missing values are nan or '*insert*'\n",
        "# Want to replace by most popular\n",
        "from sklearn.impute import SimpleImputer\n",
        "imp = SimpleImputer(missing_values=np.nan, strategy='most_frequent')\n",
        "\n",
        "X_train = df_train.drop(columns=['Concert Enjoyment'])\n",
        "y_train = df_train['Concert Enjoyment']\n",
        "\n",
        "X_eval = df_eval.drop(columns=['Concert Enjoyment'])\n",
        "y_eval = df_eval['Concert Enjoyment']\n",
        "\n",
        "idx_train = X_train.index\n",
        "idx_eval = X_eval.index\n",
        "\n",
        "imp.fit(X_train)\n",
        "\n",
        "cols = X_train.columns.values\n",
        "\n",
        "X_train = imp.transform(X_train)\n",
        "X_eval = imp.transform(X_eval)\n",
        "X_test = imp.transform(df_test)\n",
        "\n",
        "# Quand soumission on train sur TOUT train\n",
        "df_train = pd.concat([pd.DataFrame(X_train, columns=cols, index=idx_train), y_train], axis=1)\n",
        "df_eval = pd.concat([pd.DataFrame(X_eval, columns=cols, index=idx_eval), y_eval], axis=1)\n",
        "df_test = pd.DataFrame(X_test, columns=cols)\n"
      ],
      "id": "d936145c"
    },
    {
      "cell_type": "markdown",
      "metadata": {
        "id": "14f7d21e"
      },
      "source": [
        "# To Int"
      ],
      "id": "14f7d21e"
    },
    {
      "cell_type": "code",
      "execution_count": null,
      "metadata": {
        "id": "bb0fac7d"
      },
      "outputs": [],
      "source": [
        "cols_to_int = ['Inside Venue','Rain','Seated']\n",
        "for c in cols_to_int:\n",
        "    df_train[c] = df_train[c].astype(int)\n",
        "    df_eval[c] = df_eval[c].astype(int)\n",
        "    # Quand soummission\n",
        "    df_test[c] = df_test[c].astype(int)"
      ],
      "id": "bb0fac7d"
    },
    {
      "cell_type": "code",
      "execution_count": null,
      "metadata": {
        "id": "2bcd2941"
      },
      "outputs": [],
      "source": [
        "cols_with_insert = ['Band Name', 'Band Genre', 'Band Country of Origin','Concert Goer Country of Origin']\n",
        "for c in cols_with_insert:\n",
        "    df_train.loc[df_train[c].str.contains('insert'), c] = df_train[c].mode()[0]\n",
        "    df_eval.loc[df_eval[c].str.contains('insert'), c] = df_train[c].mode()[0]\n",
        "    # Quand soumission on fait tout sur le train mode\n",
        "    df_test.loc[df_test[c].str.contains('insert'), c] = df_test[c].mode()[0]"
      ],
      "id": "2bcd2941"
    },
    {
      "cell_type": "markdown",
      "metadata": {
        "id": "0bf33089"
      },
      "source": [
        "# Handle Outliers"
      ],
      "id": "0bf33089"
    },
    {
      "cell_type": "code",
      "execution_count": null,
      "metadata": {
        "id": "d9114119"
      },
      "outputs": [],
      "source": [
        "def convertConcertAttendance(a):\n",
        "    if int(a) > 162754:\n",
        "        a = (a / 10000)\n",
        "    return a\n",
        "\n",
        "df_train['Concert Attendance'] = df_train['Concert Attendance'].map(convertConcertAttendance)\n",
        "df_eval['Concert Attendance'] = df_eval['Concert Attendance'].map(convertConcertAttendance)\n",
        "# Quand soumission\n",
        "df_test['Concert Attendance'] = df_test['Concert Attendance'].map(convertConcertAttendance)"
      ],
      "id": "d9114119"
    },
    {
      "cell_type": "code",
      "execution_count": null,
      "metadata": {
        "id": "d938035b"
      },
      "outputs": [],
      "source": [
        "df_train.loc[\n",
        "    (df_train['Personnality Trait 2'] < -5) |\n",
        "    (df_train['Personnality Trait 2'] > 5), 'Personnality Trait 2'\n",
        "] = df_train['Personnality Trait 2'].mean()\n",
        "\n",
        "df_eval.loc[\n",
        "    (df_eval['Personnality Trait 2'] < -5) |\n",
        "    (df_eval['Personnality Trait 2'] > 5), 'Personnality Trait 2'\n",
        "] = df_train['Personnality Trait 2'].mean()\n",
        "\n",
        "\n",
        "df_test.loc[\n",
        "    (df_test['Personnality Trait 2'] < -5) |\n",
        "    (df_test['Personnality Trait 2'] > 5), 'Personnality Trait 2'\n",
        "] = df_train['Personnality Trait 2'].mean()\n",
        "\n",
        "# Quand soumission on le fait sur df_test"
      ],
      "id": "d938035b"
    },
    {
      "cell_type": "markdown",
      "metadata": {
        "id": "f9492575"
      },
      "source": [
        "# Group Data"
      ],
      "id": "f9492575"
    },
    {
      "cell_type": "code",
      "execution_count": null,
      "metadata": {
        "id": "dd3a1166"
      },
      "outputs": [],
      "source": [
        "def groupCountry(a):\n",
        "    if a not in ['canada', 'united states of america (usa)', 'united kingdom (uk)']:\n",
        "        a = 'other'\n",
        "    return a\n",
        "\n",
        "df_train['Concert Goer Country of Origin'] = df_train['Concert Goer Country of Origin'].map(groupCountry)\n",
        "df_eval['Concert Goer Country of Origin'] = df_eval['Concert Goer Country of Origin'].map(groupCountry)\n",
        "# quand soumission sur test aussi\n",
        "df_test['Concert Goer Country of Origin'] = df_test['Concert Goer Country of Origin'].map(groupCountry)"
      ],
      "id": "dd3a1166"
    },
    {
      "cell_type": "markdown",
      "metadata": {
        "id": "fa743cc7"
      },
      "source": [
        "# Keep Important Concert IDs"
      ],
      "id": "fa743cc7"
    },
    {
      "cell_type": "code",
      "execution_count": null,
      "metadata": {
        "colab": {
          "base_uri": "https://localhost:8080/"
        },
        "id": "BhaDAZPIkg5b",
        "outputId": "2e44e6f8-70da-49c2-b016-0394ddfe1d21"
      },
      "outputs": [
        {
          "output_type": "stream",
          "name": "stdout",
          "text": [
            "626    895\n",
            "537    162\n",
            "717    162\n",
            "289    162\n",
            "71     161\n",
            "      ... \n",
            "627    127\n",
            "450    126\n",
            "918    126\n",
            "997    125\n",
            "287    123\n",
            "Name: Concert ID, Length: 1000, dtype: int64\n",
            "626    183\n",
            "342     46\n",
            "997     45\n",
            "615     45\n",
            "101     45\n",
            "      ... \n",
            "159     18\n",
            "576     18\n",
            "773     17\n",
            "464     17\n",
            "136     16\n",
            "Name: Concert ID, Length: 1000, dtype: int64\n",
            "626    150\n",
            "117     45\n",
            "847     41\n",
            "794     40\n",
            "627     38\n",
            "      ... \n",
            "738     14\n",
            "513     14\n",
            "534     14\n",
            "289     14\n",
            "537     13\n",
            "Name: Concert ID, Length: 1000, dtype: int64\n"
          ]
        }
      ],
      "source": [
        "print(df_train['Concert ID'].value_counts())\n",
        "print(df_test['Concert ID'].value_counts())\n",
        "print(df_eval['Concert ID'].value_counts())"
      ],
      "id": "BhaDAZPIkg5b"
    },
    {
      "cell_type": "code",
      "execution_count": null,
      "metadata": {
        "id": "1c36e9fd"
      },
      "outputs": [],
      "source": [
        "def convertConcertID(a):\n",
        "    # Top 5 meilleurs average rating qui sont a l'interieur, Pire 5 qui sont a l'intérieur\n",
        "    if int(a) in [879, 539, 456, 961, 592, 978, 441, 193, 24, 164]:\n",
        "        return str(a)\n",
        "    else:\n",
        "        return 'other'\n",
        "    \n",
        "df_train['Concert ID'] = df_train['Concert ID'].map(convertConcertID)\n",
        "df_test['Concert ID'] = df_test['Concert ID'].map(convertConcertID)\n",
        "df_eval['Concert ID'] = df_eval['Concert ID'].map(convertConcertID)"
      ],
      "id": "1c36e9fd"
    },
    {
      "cell_type": "markdown",
      "metadata": {
        "id": "751bb858"
      },
      "source": [
        "# Keep Important Concert Goer IDs"
      ],
      "id": "751bb858"
    },
    {
      "cell_type": "code",
      "execution_count": null,
      "metadata": {
        "colab": {
          "base_uri": "https://localhost:8080/"
        },
        "id": "TE6JgfjZngFS",
        "outputId": "9d9b9eab-e9ea-4697-940c-8e748e207f9f"
      },
      "outputs": [
        {
          "output_type": "stream",
          "name": "stdout",
          "text": [
            "concert_goer_1502    812\n",
            "concert_goer_1501    100\n",
            "concert_goer_1415     98\n",
            "concert_goer_255      98\n",
            "concert_goer_559      97\n",
            "                    ... \n",
            "concert_goer_1737     50\n",
            "concert_goer_903      49\n",
            "concert_goer_639      49\n",
            "concert_goer_1081     47\n",
            "concert_goer_861      44\n",
            "Name: Concert Goer ID, Length: 2000, dtype: int64\n",
            "concert_goer_1502    159\n",
            "concert_goer_1833     29\n",
            "concert_goer_1722     27\n",
            "concert_goer_1193     27\n",
            "concert_goer_854      27\n",
            "                    ... \n",
            "concert_goer_553       5\n",
            "concert_goer_1737      5\n",
            "concert_goer_1643      4\n",
            "concert_goer_864       4\n",
            "concert_goer_112       3\n",
            "Name: Concert Goer ID, Length: 2000, dtype: int64\n",
            "concert_goer_1502    112\n",
            "concert_goer_202      25\n",
            "concert_goer_969      25\n",
            "concert_goer_1351     25\n",
            "concert_goer_1931     24\n",
            "                    ... \n",
            "concert_goer_1910      4\n",
            "concert_goer_1413      4\n",
            "concert_goer_185       4\n",
            "concert_goer_1408      4\n",
            "concert_goer_1467      3\n",
            "Name: Concert Goer ID, Length: 2000, dtype: int64\n"
          ]
        }
      ],
      "source": [
        "print(df_train['Concert Goer ID'].value_counts())\n",
        "print(df_test['Concert Goer ID'].value_counts())\n",
        "print(df_eval['Concert Goer ID'].value_counts())"
      ],
      "id": "TE6JgfjZngFS"
    },
    {
      "cell_type": "code",
      "execution_count": null,
      "metadata": {
        "id": "f0b1ac16"
      },
      "outputs": [],
      "source": [
        "def convertConcertGoerID(a):\n",
        "    if str(a) in ['concert_goer_695', 'concert_goer_413', 'concert_goer_1392', 'concert_goer_398', 'concert_goer_1770', 'concert_goer_1011', 'concert_goer_1414', 'concert_goer_1419', 'concert_goer_1506', 'concert_goer_390']:\n",
        "        return str(a)\n",
        "    else:\n",
        "        return 'other'\n",
        "    \n",
        "df_train['Concert Goer ID'] = df_train['Concert Goer ID'].map(convertConcertGoerID)\n",
        "df_test['Concert Goer ID'] = df_test['Concert Goer ID'].map(convertConcertGoerID)\n",
        "df_eval['Concert Goer ID'] = df_eval['Concert Goer ID'].map(convertConcertGoerID)"
      ],
      "id": "f0b1ac16"
    },
    {
      "cell_type": "markdown",
      "metadata": {
        "id": "3b32b23b"
      },
      "source": [
        "# Create New Feature"
      ],
      "id": "3b32b23b"
    },
    {
      "cell_type": "code",
      "execution_count": null,
      "metadata": {
        "id": "1c8ac24d"
      },
      "outputs": [],
      "source": [
        "df_train['Out n Rain'] = ((df_train['Inside Venue'] == 0) & (df_train['Rain'] == 1)).astype(int)\n",
        "df_test['Out n Rain'] = ((df_test['Inside Venue'] == 0) & (df_test['Rain'] == 1)).astype(int)\n",
        "df_eval['Out n Rain'] = ((df_eval['Inside Venue'] == 0) & (df_eval['Rain'] == 1)).astype(int)"
      ],
      "id": "1c8ac24d"
    },
    {
      "cell_type": "markdown",
      "metadata": {
        "id": "412297f8"
      },
      "source": [
        "# Drop Cols"
      ],
      "id": "412297f8"
    },
    {
      "cell_type": "code",
      "execution_count": null,
      "metadata": {
        "colab": {
          "base_uri": "https://localhost:8080/"
        },
        "id": "xCw6Lnj0dirB",
        "outputId": "84f8f47b-ee97-4749-945a-ae0c5647a0d6"
      },
      "outputs": [
        {
          "output_type": "execute_result",
          "data": {
            "text/plain": [
              "Index(['Id', 'Band Name', 'Band Genre', 'Band Country of Origin', 'Band Debut',\n",
              "       'Concert ID', 'Concert Attendance', 'Inside Venue', 'Rain', 'Seated',\n",
              "       'Personnality Trait 1', 'Personnality Trait 2', 'Personnality Trait 3',\n",
              "       'Personnality Trait 4', 'Concert Goer Age', 'Concert Goer ID',\n",
              "       'Height (cm)', 'Concert Goer Country of Origin', 'Out n Rain'],\n",
              "      dtype='object')"
            ]
          },
          "metadata": {},
          "execution_count": 20
        }
      ],
      "source": [
        "df_test.columns"
      ],
      "id": "xCw6Lnj0dirB"
    },
    {
      "cell_type": "code",
      "execution_count": null,
      "metadata": {
        "id": "5ddf0759"
      },
      "outputs": [],
      "source": [
        "cols_to_drop = ['Id']\n",
        "ids_test = df_test['Id']\n",
        "df_train = df_train.drop(columns=cols_to_drop)\n",
        "df_eval = df_eval.drop(columns=cols_to_drop)\n",
        "df_test = df_test.drop(columns=cols_to_drop)"
      ],
      "id": "5ddf0759"
    },
    {
      "cell_type": "markdown",
      "metadata": {
        "id": "a83898c4"
      },
      "source": [
        "# Balance Dataset"
      ],
      "id": "a83898c4"
    },
    {
      "cell_type": "markdown",
      "metadata": {
        "id": "bdaed0e9"
      },
      "source": [
        "from sklearn.metrics import DistanceMetric\n",
        "from imblearn.over_sampling import SMOTENC"
      ],
      "id": "bdaed0e9"
    },
    {
      "cell_type": "markdown",
      "metadata": {
        "id": "4d489f31"
      },
      "source": [
        "df_train['Concert Enjoyment'].value_counts()"
      ],
      "id": "4d489f31"
    },
    {
      "cell_type": "markdown",
      "metadata": {
        "id": "52f436bf"
      },
      "source": [
        "df_train = df_train.drop(\n",
        "    df_train[\n",
        "        df_train['Concert Enjoyment'] == 'Enjoyed'\n",
        "    ].sample(frac=0.25).index)\n",
        "\n",
        "df_train = df_train.drop(\n",
        "    df_train[\n",
        "        df_train['Concert Enjoyment'] == 'Did Not Enjoy'\n",
        "    ].sample(frac=0.25).index)"
      ],
      "id": "52f436bf"
    },
    {
      "cell_type": "markdown",
      "metadata": {
        "id": "4b274500"
      },
      "source": [
        "df_train['Concert Enjoyment'].value_counts()"
      ],
      "id": "4b274500"
    },
    {
      "cell_type": "markdown",
      "metadata": {
        "id": "32d69249"
      },
      "source": [
        "nb_class_dict = {\n",
        "    'Did Not Enjoy':40783,\n",
        "    'Enjoyed':40769,\n",
        "    'Worst Concert Ever':26000,\n",
        "    'Best Concert Ever':26000\n",
        "}\n",
        "X = df_train.drop(columns=['Concert Enjoyment'])\n",
        "y = df_train['Concert Enjoyment']\n",
        "cols = X.columns\n",
        "num_cols = X._get_numeric_data().columns\n",
        "cat_cols = list(set(cols) - set(num_cols))\n",
        "cat_cols_idx = [X.columns.get_loc(c) for c in cat_cols]\n",
        "\n",
        "sm = SMOTENC(random_state=0, sampling_strategy=nb_class_dict, categorical_features=cat_cols_idx)\n",
        "\n",
        "X_bal, y_bal = sm.fit_resample(X, y)"
      ],
      "id": "32d69249"
    },
    {
      "cell_type": "markdown",
      "metadata": {
        "id": "1558c429"
      },
      "source": [
        "df_train = pd.concat([X_bal, y_bal], axis=1)"
      ],
      "id": "1558c429"
    },
    {
      "cell_type": "markdown",
      "metadata": {
        "id": "c6dbbaf8"
      },
      "source": [
        "df_train['Concert Enjoyment'].value_counts()"
      ],
      "id": "c6dbbaf8"
    },
    {
      "cell_type": "markdown",
      "metadata": {
        "id": "7ca7fc7c"
      },
      "source": [
        "# One Hot"
      ],
      "id": "7ca7fc7c"
    },
    {
      "cell_type": "code",
      "execution_count": null,
      "metadata": {
        "id": "7f988245"
      },
      "outputs": [],
      "source": [
        "one_hot_cols = ['Band Name', 'Concert Goer ID', 'Concert ID', 'Band Genre', 'Band Country of Origin', 'Concert Goer Country of Origin']"
      ],
      "id": "7f988245"
    },
    {
      "cell_type": "code",
      "execution_count": null,
      "metadata": {
        "id": "d9219379"
      },
      "outputs": [],
      "source": [
        "from sklearn.preprocessing import OneHotEncoder\n",
        "from sklearn.compose import make_column_transformer"
      ],
      "id": "d9219379"
    },
    {
      "cell_type": "code",
      "execution_count": null,
      "metadata": {
        "id": "95a733a7"
      },
      "outputs": [],
      "source": [
        "X_train = df_train.drop(columns=['Concert Enjoyment'])\n",
        "X_eval = df_eval.drop(columns=['Concert Enjoyment'])\n",
        "\n",
        "y_train = df_train['Concert Enjoyment']\n",
        "y_eval = df_eval['Concert Enjoyment']"
      ],
      "id": "95a733a7"
    },
    {
      "cell_type": "code",
      "execution_count": null,
      "metadata": {
        "colab": {
          "base_uri": "https://localhost:8080/"
        },
        "id": "f8b955e4",
        "outputId": "da2e5cef-dd15-4ba0-fd0a-73340981916c"
      },
      "outputs": [
        {
          "output_type": "execute_result",
          "data": {
            "text/plain": [
              "array(['Band Name', 'Band Genre', 'Band Country of Origin', 'Band Debut',\n",
              "       'Concert ID', 'Concert Attendance', 'Inside Venue', 'Rain',\n",
              "       'Seated', 'Personnality Trait 1', 'Personnality Trait 2',\n",
              "       'Personnality Trait 3', 'Personnality Trait 4', 'Concert Goer Age',\n",
              "       'Concert Goer ID', 'Height (cm)', 'Concert Goer Country of Origin',\n",
              "       'Out n Rain'], dtype=object)"
            ]
          },
          "metadata": {},
          "execution_count": 25
        }
      ],
      "source": [
        "df_test.columns.values"
      ],
      "id": "f8b955e4"
    },
    {
      "cell_type": "code",
      "execution_count": null,
      "metadata": {
        "id": "574f3aa7"
      },
      "outputs": [],
      "source": [
        "X_train = pd.get_dummies(X_train, columns = one_hot_cols)\n",
        "X_eval = pd.get_dummies(X_eval, columns = one_hot_cols)\n",
        "X_test = pd.get_dummies(df_test, columns = one_hot_cols)"
      ],
      "id": "574f3aa7"
    },
    {
      "cell_type": "code",
      "execution_count": null,
      "metadata": {
        "colab": {
          "base_uri": "https://localhost:8080/"
        },
        "id": "dfcf4f02",
        "outputId": "cf6d3960-dd74-4ca6-fc84-8596de7b1518"
      },
      "outputs": [
        {
          "output_type": "execute_result",
          "data": {
            "text/plain": [
              "Index(['Band Debut', 'Concert Attendance', 'Inside Venue', 'Rain', 'Seated',\n",
              "       'Personnality Trait 1', 'Personnality Trait 2', 'Personnality Trait 3',\n",
              "       'Personnality Trait 4', 'Concert Goer Age',\n",
              "       ...\n",
              "       'Band Genre_pop music', 'Band Genre_rnb', 'Band Genre_rock n roll',\n",
              "       'Band Country of Origin_canada',\n",
              "       'Band Country of Origin_united kingdom (uk)',\n",
              "       'Band Country of Origin_united states of america (usa)',\n",
              "       'Concert Goer Country of Origin_canada',\n",
              "       'Concert Goer Country of Origin_other',\n",
              "       'Concert Goer Country of Origin_united kingdom (uk)',\n",
              "       'Concert Goer Country of Origin_united states of america (usa)'],\n",
              "      dtype='object', length=101)"
            ]
          },
          "metadata": {},
          "execution_count": 27
        }
      ],
      "source": [
        "X_test.columns"
      ],
      "id": "dfcf4f02"
    },
    {
      "cell_type": "code",
      "execution_count": null,
      "metadata": {
        "id": "39985ffd"
      },
      "outputs": [],
      "source": [
        "X_train = X_train.reindex(sorted(X_train.columns), axis=1)\n",
        "X_eval = X_eval.reindex(sorted(X_train.columns), axis=1)\n",
        "X_test = X_test.reindex(sorted(X_test.columns), axis=1)"
      ],
      "id": "39985ffd"
    },
    {
      "cell_type": "code",
      "execution_count": null,
      "metadata": {
        "id": "7171e4ff"
      },
      "outputs": [],
      "source": [
        "# Pour verifier qu'ils sont dans le meme ordre\n",
        "for i , c in enumerate(X_train.columns.values):\n",
        "    if X_eval.columns.values[i] != c:\n",
        "        print(c)"
      ],
      "id": "7171e4ff"
    },
    {
      "cell_type": "code",
      "execution_count": null,
      "metadata": {
        "id": "d9a04ae2"
      },
      "outputs": [],
      "source": [
        "colonnesXTrain = X_train.columns"
      ],
      "id": "d9a04ae2"
    },
    {
      "cell_type": "markdown",
      "metadata": {
        "id": "400feb53"
      },
      "source": [
        "# Scale"
      ],
      "id": "400feb53"
    },
    {
      "cell_type": "code",
      "execution_count": null,
      "metadata": {
        "id": "08a19bec"
      },
      "outputs": [],
      "source": [
        "from sklearn.preprocessing import StandardScaler, MinMaxScaler"
      ],
      "id": "08a19bec"
    },
    {
      "cell_type": "code",
      "execution_count": null,
      "metadata": {
        "id": "9a467d19"
      },
      "outputs": [],
      "source": [
        "sc = MinMaxScaler()\n",
        "sc.fit(X_train)\n",
        "\n",
        "X_train = sc.transform(X_train)\n",
        "X_eval = sc.transform(X_eval)\n",
        "X_test = sc.transform(X_test)"
      ],
      "id": "9a467d19"
    },
    {
      "cell_type": "code",
      "execution_count": null,
      "metadata": {
        "colab": {
          "base_uri": "https://localhost:8080/"
        },
        "id": "pfC8GTc83M_-",
        "outputId": "edc9f3cf-2e64-44ee-e358-20b06d60ae41"
      },
      "outputs": [
        {
          "output_type": "execute_result",
          "data": {
            "text/plain": [
              "array([[0.        , 0.        , 1.        , ..., 0.23192147, 0.        ,\n",
              "        0.        ],\n",
              "       [0.        , 0.        , 1.        , ..., 0.54757852, 0.        ,\n",
              "        1.        ],\n",
              "       [1.        , 0.        , 0.        , ..., 0.2847309 , 0.        ,\n",
              "        1.        ],\n",
              "       ...,\n",
              "       [0.        , 0.        , 1.        , ..., 0.60023167, 1.        ,\n",
              "        0.        ],\n",
              "       [0.        , 0.        , 1.        , ..., 0.64166392, 1.        ,\n",
              "        1.        ],\n",
              "       [0.        , 0.        , 1.        , ..., 0.43430479, 1.        ,\n",
              "        0.        ]])"
            ]
          },
          "metadata": {},
          "execution_count": 33
        }
      ],
      "source": [
        "X_train[:,:]"
      ],
      "id": "pfC8GTc83M_-"
    },
    {
      "cell_type": "markdown",
      "metadata": {
        "id": "feb8683c"
      },
      "source": [
        "# Predictions"
      ],
      "id": "feb8683c"
    },
    {
      "cell_type": "code",
      "execution_count": null,
      "metadata": {
        "id": "8ee93594"
      },
      "outputs": [],
      "source": [
        "from catboost import CatBoostClassifier"
      ],
      "id": "8ee93594"
    },
    {
      "cell_type": "code",
      "execution_count": null,
      "metadata": {
        "id": "c65239b4"
      },
      "outputs": [],
      "source": [
        "#cat = CatBoostClassifier(random_state=1,silent=True, l2_leaf_reg= 3, learning_rate= 0.15) train  0.6983114186851211    eval  0.6637254901960784\n",
        "#cat = CatBoostClassifier(random_state=1,silent=True, l2_leaf_reg= 3, learning_rate= 0.1)    # 0.6625098039215687\n",
        "cat = CatBoostClassifier(random_state=25)  \n"
      ],
      "id": "c65239b4"
    },
    {
      "cell_type": "code",
      "execution_count": null,
      "metadata": {
        "id": "f71f3c19"
      },
      "outputs": [],
      "source": [
        "from sklearn.preprocessing import LabelEncoder"
      ],
      "id": "f71f3c19"
    },
    {
      "cell_type": "code",
      "execution_count": null,
      "metadata": {
        "id": "d73d52c0"
      },
      "outputs": [],
      "source": [
        "le = LabelEncoder().fit(y_train)\n",
        "y_train_encoded = le.transform(y_train)\n",
        "y_eval_encoded = le.transform(y_eval)"
      ],
      "id": "d73d52c0"
    },
    {
      "cell_type": "code",
      "execution_count": null,
      "metadata": {
        "id": "ddad9d78"
      },
      "outputs": [],
      "source": [
        "%matplotlib inline\n",
        "cat.fit(X_train, y_train_encoded,silent=True,plot=True)"
      ],
      "id": "ddad9d78"
    },
    {
      "cell_type": "code",
      "execution_count": null,
      "metadata": {
        "id": "2fde2efd"
      },
      "outputs": [],
      "source": [
        "y_eval_pred = cat.predict(X_eval)\n",
        "y_train_pred = cat.predict(X_train)\n"
      ],
      "id": "2fde2efd"
    },
    {
      "cell_type": "code",
      "execution_count": null,
      "metadata": {
        "colab": {
          "base_uri": "https://localhost:8080/"
        },
        "id": "902f2590",
        "outputId": "de334dd7-8acb-4cac-d4fd-b211b5992178"
      },
      "outputs": [
        {
          "output_type": "stream",
          "name": "stdout",
          "text": [
            "train  [0.44069431 0.72181641 0.71942029 0.54861384]\n",
            "eval  [0.39754327 0.7011505  0.7030209  0.51091703]\n"
          ]
        }
      ],
      "source": [
        "from sklearn.metrics import accuracy_score, f1_score,confusion_matrix\n",
        "acc = f1_score(y_train_encoded, y_train_pred, average=None)\n",
        "\n",
        "print(\"train \",acc)\n",
        "acc = f1_score(y_eval_encoded, y_eval_pred, average=None)\n",
        "\n",
        "print(\"eval \",acc)"
      ],
      "id": "902f2590"
    },
    {
      "cell_type": "code",
      "execution_count": null,
      "metadata": {
        "colab": {
          "base_uri": "https://localhost:8080/"
        },
        "id": "d61594d8",
        "outputId": "21e11cf4-4bda-4e41-c38c-937f4bfac612"
      },
      "outputs": [
        {
          "output_type": "stream",
          "name": "stdout",
          "text": [
            "train  0.6868858131487889\n",
            "eval  0.6652549019607843\n"
          ]
        }
      ],
      "source": [
        "acc = f1_score(y_train_encoded, y_train_pred, average='micro')\n",
        "print(\"train \",acc)\n",
        "acc = f1_score(y_eval_encoded, y_eval_pred, average='micro')\n",
        "print(\"eval \",acc)"
      ],
      "id": "d61594d8"
    },
    {
      "cell_type": "code",
      "execution_count": null,
      "metadata": {
        "colab": {
          "base_uri": "https://localhost:8080/"
        },
        "id": "cb698554",
        "outputId": "a8fff71f-1fba-470c-8f72-9d215fa29069"
      },
      "outputs": [
        {
          "output_type": "stream",
          "name": "stdout",
          "text": [
            "{'Best Concert Ever': 0, 'Did Not Enjoy': 1, 'Enjoyed': 2, 'Worst Concert Ever': 3}\n",
            "              precision    recall  f1-score   support\n",
            "\n",
            "           0       0.68      0.28      0.40      2528\n",
            "           1       0.67      0.74      0.70     10149\n",
            "           2       0.66      0.75      0.70     10230\n",
            "           3       0.69      0.41      0.51      2593\n",
            "\n",
            "    accuracy                           0.67     25500\n",
            "   macro avg       0.67      0.54      0.58     25500\n",
            "weighted avg       0.67      0.67      0.65     25500\n",
            "\n"
          ]
        }
      ],
      "source": [
        "from sklearn.metrics import classification_report\n",
        "\n",
        "print(dict(zip(le.classes_, le.transform(le.classes_))))\n",
        "print(classification_report(y_eval_encoded, y_eval_pred))"
      ],
      "id": "cb698554"
    },
    {
      "cell_type": "code",
      "execution_count": null,
      "metadata": {
        "colab": {
          "base_uri": "https://localhost:8080/"
        },
        "id": "fsxJsAFyTiKD",
        "outputId": "e9fbccfe-9b18-427a-8a9d-6894cb476727"
      },
      "outputs": [
        {
          "output_type": "execute_result",
          "data": {
            "text/plain": [
              "array([[ 712,   33, 1783,    0],\n",
              "       [   6, 7496, 2182,  465],\n",
              "       [ 336, 2180, 7703,   11],\n",
              "       [   0, 1524,   16, 1053]])"
            ]
          },
          "metadata": {},
          "execution_count": 43
        }
      ],
      "source": [
        "confusion_matrix(y_eval_encoded, y_eval_pred)"
      ],
      "id": "fsxJsAFyTiKD"
    },
    {
      "cell_type": "markdown",
      "metadata": {
        "id": "1b06b1c3"
      },
      "source": [
        "# Test Predictions"
      ],
      "id": "1b06b1c3"
    },
    {
      "cell_type": "code",
      "execution_count": null,
      "metadata": {
        "id": "ced09c14"
      },
      "outputs": [],
      "source": [
        "y_pred_test = cat.predict(X_test)"
      ],
      "id": "ced09c14"
    },
    {
      "cell_type": "code",
      "execution_count": null,
      "metadata": {
        "colab": {
          "base_uri": "https://localhost:8080/"
        },
        "id": "1cfbcd52",
        "outputId": "b78fe0e4-8b04-4820-8e92-7b8c9c6054e1"
      },
      "outputs": [
        {
          "output_type": "stream",
          "name": "stderr",
          "text": [
            "/usr/local/lib/python3.7/dist-packages/sklearn/preprocessing/_label.py:154: DataConversionWarning: A column-vector y was passed when a 1d array was expected. Please change the shape of y to (n_samples, ), for example using ravel().\n",
            "  y = column_or_1d(y, warn=True)\n"
          ]
        }
      ],
      "source": [
        "y_pred_test = le.inverse_transform(y_pred_test)"
      ],
      "id": "1cfbcd52"
    },
    {
      "cell_type": "code",
      "execution_count": null,
      "metadata": {
        "colab": {
          "base_uri": "https://localhost:8080/"
        },
        "id": "fe3ed4ad",
        "outputId": "16cf537a-c9c1-4871-e64f-2a15047b4f58"
      },
      "outputs": [
        {
          "output_type": "execute_result",
          "data": {
            "text/plain": [
              "array(['Best Concert Ever', 'Enjoyed', 'Enjoyed', ..., 'Enjoyed',\n",
              "       'Worst Concert Ever', 'Worst Concert Ever'], dtype=object)"
            ]
          },
          "metadata": {},
          "execution_count": 46
        }
      ],
      "source": [
        "y_pred_test"
      ],
      "id": "fe3ed4ad"
    },
    {
      "cell_type": "code",
      "execution_count": null,
      "metadata": {
        "colab": {
          "base_uri": "https://localhost:8080/"
        },
        "id": "2dadf1d9",
        "outputId": "88cad4ce-4157-4f47-dbec-505a60e2eb23"
      },
      "outputs": [
        {
          "output_type": "execute_result",
          "data": {
            "text/plain": [
              "array(['ConcertExperience_70055', 'ConcertExperience_34799',\n",
              "       'ConcertExperience_100410', ..., 'ConcertExperience_197434',\n",
              "       'ConcertExperience_166029', 'ConcertExperience_24025'],\n",
              "      dtype=object)"
            ]
          },
          "metadata": {},
          "execution_count": 47
        }
      ],
      "source": [
        "ids_test.values"
      ],
      "id": "2dadf1d9"
    },
    {
      "cell_type": "code",
      "execution_count": null,
      "metadata": {
        "id": "392c68e0"
      },
      "outputs": [],
      "source": [
        "df_soumission = pd.DataFrame({'Id' : ids_test.values, 'Predicted' : y_pred_test})"
      ],
      "id": "392c68e0"
    },
    {
      "cell_type": "code",
      "execution_count": null,
      "metadata": {
        "id": "1699bb89"
      },
      "outputs": [],
      "source": [
        "df_soumission.to_csv('Soumission8.csv', index=False)"
      ],
      "id": "1699bb89"
    },
    {
      "cell_type": "code",
      "execution_count": null,
      "metadata": {
        "id": "6216edfe",
        "colab": {
          "base_uri": "https://localhost:8080/",
          "height": 424
        },
        "outputId": "e5b55b51-45f5-4342-82bb-beeae9cd121f"
      },
      "outputs": [
        {
          "output_type": "execute_result",
          "data": {
            "text/plain": [
              "                             Id           Predicted\n",
              "0       ConcertExperience_70055   Best Concert Ever\n",
              "1       ConcertExperience_34799             Enjoyed\n",
              "2      ConcertExperience_100410             Enjoyed\n",
              "3      ConcertExperience_106446             Enjoyed\n",
              "4      ConcertExperience_127249       Did Not Enjoy\n",
              "...                         ...                 ...\n",
              "29995   ConcertExperience_82288       Did Not Enjoy\n",
              "29996   ConcertExperience_27139             Enjoyed\n",
              "29997  ConcertExperience_197434             Enjoyed\n",
              "29998  ConcertExperience_166029  Worst Concert Ever\n",
              "29999   ConcertExperience_24025  Worst Concert Ever\n",
              "\n",
              "[30000 rows x 2 columns]"
            ],
            "text/html": [
              "\n",
              "  <div id=\"df-b2597a51-f13f-4b38-a515-2749c287603e\">\n",
              "    <div class=\"colab-df-container\">\n",
              "      <div>\n",
              "<style scoped>\n",
              "    .dataframe tbody tr th:only-of-type {\n",
              "        vertical-align: middle;\n",
              "    }\n",
              "\n",
              "    .dataframe tbody tr th {\n",
              "        vertical-align: top;\n",
              "    }\n",
              "\n",
              "    .dataframe thead th {\n",
              "        text-align: right;\n",
              "    }\n",
              "</style>\n",
              "<table border=\"1\" class=\"dataframe\">\n",
              "  <thead>\n",
              "    <tr style=\"text-align: right;\">\n",
              "      <th></th>\n",
              "      <th>Id</th>\n",
              "      <th>Predicted</th>\n",
              "    </tr>\n",
              "  </thead>\n",
              "  <tbody>\n",
              "    <tr>\n",
              "      <th>0</th>\n",
              "      <td>ConcertExperience_70055</td>\n",
              "      <td>Best Concert Ever</td>\n",
              "    </tr>\n",
              "    <tr>\n",
              "      <th>1</th>\n",
              "      <td>ConcertExperience_34799</td>\n",
              "      <td>Enjoyed</td>\n",
              "    </tr>\n",
              "    <tr>\n",
              "      <th>2</th>\n",
              "      <td>ConcertExperience_100410</td>\n",
              "      <td>Enjoyed</td>\n",
              "    </tr>\n",
              "    <tr>\n",
              "      <th>3</th>\n",
              "      <td>ConcertExperience_106446</td>\n",
              "      <td>Enjoyed</td>\n",
              "    </tr>\n",
              "    <tr>\n",
              "      <th>4</th>\n",
              "      <td>ConcertExperience_127249</td>\n",
              "      <td>Did Not Enjoy</td>\n",
              "    </tr>\n",
              "    <tr>\n",
              "      <th>...</th>\n",
              "      <td>...</td>\n",
              "      <td>...</td>\n",
              "    </tr>\n",
              "    <tr>\n",
              "      <th>29995</th>\n",
              "      <td>ConcertExperience_82288</td>\n",
              "      <td>Did Not Enjoy</td>\n",
              "    </tr>\n",
              "    <tr>\n",
              "      <th>29996</th>\n",
              "      <td>ConcertExperience_27139</td>\n",
              "      <td>Enjoyed</td>\n",
              "    </tr>\n",
              "    <tr>\n",
              "      <th>29997</th>\n",
              "      <td>ConcertExperience_197434</td>\n",
              "      <td>Enjoyed</td>\n",
              "    </tr>\n",
              "    <tr>\n",
              "      <th>29998</th>\n",
              "      <td>ConcertExperience_166029</td>\n",
              "      <td>Worst Concert Ever</td>\n",
              "    </tr>\n",
              "    <tr>\n",
              "      <th>29999</th>\n",
              "      <td>ConcertExperience_24025</td>\n",
              "      <td>Worst Concert Ever</td>\n",
              "    </tr>\n",
              "  </tbody>\n",
              "</table>\n",
              "<p>30000 rows × 2 columns</p>\n",
              "</div>\n",
              "      <button class=\"colab-df-convert\" onclick=\"convertToInteractive('df-b2597a51-f13f-4b38-a515-2749c287603e')\"\n",
              "              title=\"Convert this dataframe to an interactive table.\"\n",
              "              style=\"display:none;\">\n",
              "        \n",
              "  <svg xmlns=\"http://www.w3.org/2000/svg\" height=\"24px\"viewBox=\"0 0 24 24\"\n",
              "       width=\"24px\">\n",
              "    <path d=\"M0 0h24v24H0V0z\" fill=\"none\"/>\n",
              "    <path d=\"M18.56 5.44l.94 2.06.94-2.06 2.06-.94-2.06-.94-.94-2.06-.94 2.06-2.06.94zm-11 1L8.5 8.5l.94-2.06 2.06-.94-2.06-.94L8.5 2.5l-.94 2.06-2.06.94zm10 10l.94 2.06.94-2.06 2.06-.94-2.06-.94-.94-2.06-.94 2.06-2.06.94z\"/><path d=\"M17.41 7.96l-1.37-1.37c-.4-.4-.92-.59-1.43-.59-.52 0-1.04.2-1.43.59L10.3 9.45l-7.72 7.72c-.78.78-.78 2.05 0 2.83L4 21.41c.39.39.9.59 1.41.59.51 0 1.02-.2 1.41-.59l7.78-7.78 2.81-2.81c.8-.78.8-2.07 0-2.86zM5.41 20L4 18.59l7.72-7.72 1.47 1.35L5.41 20z\"/>\n",
              "  </svg>\n",
              "      </button>\n",
              "      \n",
              "  <style>\n",
              "    .colab-df-container {\n",
              "      display:flex;\n",
              "      flex-wrap:wrap;\n",
              "      gap: 12px;\n",
              "    }\n",
              "\n",
              "    .colab-df-convert {\n",
              "      background-color: #E8F0FE;\n",
              "      border: none;\n",
              "      border-radius: 50%;\n",
              "      cursor: pointer;\n",
              "      display: none;\n",
              "      fill: #1967D2;\n",
              "      height: 32px;\n",
              "      padding: 0 0 0 0;\n",
              "      width: 32px;\n",
              "    }\n",
              "\n",
              "    .colab-df-convert:hover {\n",
              "      background-color: #E2EBFA;\n",
              "      box-shadow: 0px 1px 2px rgba(60, 64, 67, 0.3), 0px 1px 3px 1px rgba(60, 64, 67, 0.15);\n",
              "      fill: #174EA6;\n",
              "    }\n",
              "\n",
              "    [theme=dark] .colab-df-convert {\n",
              "      background-color: #3B4455;\n",
              "      fill: #D2E3FC;\n",
              "    }\n",
              "\n",
              "    [theme=dark] .colab-df-convert:hover {\n",
              "      background-color: #434B5C;\n",
              "      box-shadow: 0px 1px 3px 1px rgba(0, 0, 0, 0.15);\n",
              "      filter: drop-shadow(0px 1px 2px rgba(0, 0, 0, 0.3));\n",
              "      fill: #FFFFFF;\n",
              "    }\n",
              "  </style>\n",
              "\n",
              "      <script>\n",
              "        const buttonEl =\n",
              "          document.querySelector('#df-b2597a51-f13f-4b38-a515-2749c287603e button.colab-df-convert');\n",
              "        buttonEl.style.display =\n",
              "          google.colab.kernel.accessAllowed ? 'block' : 'none';\n",
              "\n",
              "        async function convertToInteractive(key) {\n",
              "          const element = document.querySelector('#df-b2597a51-f13f-4b38-a515-2749c287603e');\n",
              "          const dataTable =\n",
              "            await google.colab.kernel.invokeFunction('convertToInteractive',\n",
              "                                                     [key], {});\n",
              "          if (!dataTable) return;\n",
              "\n",
              "          const docLinkHtml = 'Like what you see? Visit the ' +\n",
              "            '<a target=\"_blank\" href=https://colab.research.google.com/notebooks/data_table.ipynb>data table notebook</a>'\n",
              "            + ' to learn more about interactive tables.';\n",
              "          element.innerHTML = '';\n",
              "          dataTable['output_type'] = 'display_data';\n",
              "          await google.colab.output.renderOutput(dataTable, element);\n",
              "          const docLink = document.createElement('div');\n",
              "          docLink.innerHTML = docLinkHtml;\n",
              "          element.appendChild(docLink);\n",
              "        }\n",
              "      </script>\n",
              "    </div>\n",
              "  </div>\n",
              "  "
            ]
          },
          "metadata": {},
          "execution_count": 50
        }
      ],
      "source": [
        "df_soumission"
      ],
      "id": "6216edfe"
    }
  ],
  "metadata": {
    "colab": {
      "collapsed_sections": [
        "8ba6d285",
        "44ce7457",
        "14f7d21e",
        "f9492575",
        "fa743cc7",
        "751bb858",
        "3b32b23b",
        "412297f8",
        "a83898c4",
        "400feb53"
      ],
      "provenance": []
    },
    "kernelspec": {
      "display_name": "Python 3 (ipykernel)",
      "language": "python",
      "name": "python3"
    },
    "language_info": {
      "codemirror_mode": {
        "name": "ipython",
        "version": 3
      },
      "file_extension": ".py",
      "mimetype": "text/x-python",
      "name": "python",
      "nbconvert_exporter": "python",
      "pygments_lexer": "ipython3",
      "version": "3.9.7"
    }
  },
  "nbformat": 4,
  "nbformat_minor": 5
}