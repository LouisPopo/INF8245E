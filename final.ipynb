{
 "cells": [
  {
   "cell_type": "markdown",
   "id": "e774ce5e",
   "metadata": {
    "id": "e774ce5e"
   },
   "source": [
    "1. Get train data and test data\n",
    "2. Split train data (train, eval) right away to simulate train vs test data\n",
    "3. Handle missing values (na and 'insert')\n",
    "4. Handle outliers\n"
   ]
  },
  {
   "cell_type": "code",
   "execution_count": 1,
   "id": "0STKQ_kQWr7p",
   "metadata": {
    "colab": {
     "base_uri": "https://localhost:8080/"
    },
    "id": "0STKQ_kQWr7p",
    "outputId": "fbe746ba-6bad-4f8d-9d62-21291acc18ef"
   },
   "outputs": [
    {
     "name": "stdout",
     "output_type": "stream",
     "text": [
      "Requirement already satisfied: catboost in c:\\programdata\\anaconda3\\lib\\site-packages (1.1.1)\n",
      "Requirement already satisfied: numpy>=1.16.0 in c:\\programdata\\anaconda3\\lib\\site-packages (from catboost) (1.21.5)\n",
      "Requirement already satisfied: plotly in c:\\programdata\\anaconda3\\lib\\site-packages (from catboost) (5.9.0)\n",
      "Requirement already satisfied: six in c:\\programdata\\anaconda3\\lib\\site-packages (from catboost) (1.16.0)\n",
      "Requirement already satisfied: graphviz in c:\\programdata\\anaconda3\\lib\\site-packages (from catboost) (0.20.1)\n",
      "Requirement already satisfied: scipy in c:\\programdata\\anaconda3\\lib\\site-packages (from catboost) (1.7.3)\n",
      "Requirement already satisfied: matplotlib in c:\\programdata\\anaconda3\\lib\\site-packages (from catboost) (3.5.2)\n",
      "Requirement already satisfied: pandas>=0.24.0 in c:\\programdata\\anaconda3\\lib\\site-packages (from catboost) (1.4.3)\n",
      "Requirement already satisfied: python-dateutil>=2.8.1 in c:\\programdata\\anaconda3\\lib\\site-packages (from pandas>=0.24.0->catboost) (2.8.2)\n",
      "Requirement already satisfied: pytz>=2020.1 in c:\\programdata\\anaconda3\\lib\\site-packages (from pandas>=0.24.0->catboost) (2022.1)\n",
      "Requirement already satisfied: kiwisolver>=1.0.1 in c:\\programdata\\anaconda3\\lib\\site-packages (from matplotlib->catboost) (1.4.2)\n",
      "Requirement already satisfied: pyparsing>=2.2.1 in c:\\programdata\\anaconda3\\lib\\site-packages (from matplotlib->catboost) (3.0.9)\n",
      "Requirement already satisfied: pillow>=6.2.0 in c:\\programdata\\anaconda3\\lib\\site-packages (from matplotlib->catboost) (9.2.0)\n",
      "Requirement already satisfied: packaging>=20.0 in c:\\programdata\\anaconda3\\lib\\site-packages (from matplotlib->catboost) (21.3)\n",
      "Requirement already satisfied: fonttools>=4.22.0 in c:\\programdata\\anaconda3\\lib\\site-packages (from matplotlib->catboost) (4.25.0)\n",
      "Requirement already satisfied: cycler>=0.10 in c:\\programdata\\anaconda3\\lib\\site-packages (from matplotlib->catboost) (0.11.0)\n",
      "Requirement already satisfied: tenacity>=6.2.0 in c:\\programdata\\anaconda3\\lib\\site-packages (from plotly->catboost) (8.0.1)\n",
      "Note: you may need to restart the kernel to use updated packages.\n"
     ]
    }
   ],
   "source": [
    "%pip install catboost"
   ]
  },
  {
   "cell_type": "code",
   "execution_count": 2,
   "id": "7898aa6f",
   "metadata": {},
   "outputs": [
    {
     "name": "stdout",
     "output_type": "stream",
     "text": [
      "Requirement already satisfied: ipywidgets in c:\\programdata\\anaconda3\\lib\\site-packages (7.6.5)\n",
      "Requirement already satisfied: jupyterlab-widgets>=1.0.0 in c:\\programdata\\anaconda3\\lib\\site-packages (from ipywidgets) (1.0.0)\n",
      "Requirement already satisfied: ipython-genutils~=0.2.0 in c:\\programdata\\anaconda3\\lib\\site-packages (from ipywidgets) (0.2.0)\n",
      "Requirement already satisfied: nbformat>=4.2.0 in c:\\programdata\\anaconda3\\lib\\site-packages (from ipywidgets) (5.3.0)\n",
      "Requirement already satisfied: traitlets>=4.3.1 in c:\\programdata\\anaconda3\\lib\\site-packages (from ipywidgets) (5.1.1)\n",
      "Requirement already satisfied: ipython>=4.0.0 in c:\\programdata\\anaconda3\\lib\\site-packages (from ipywidgets) (7.31.1)\n",
      "Requirement already satisfied: ipykernel>=4.5.1 in c:\\programdata\\anaconda3\\lib\\site-packages (from ipywidgets) (6.15.2)\n",
      "Requirement already satisfied: widgetsnbextension~=3.5.0 in c:\\programdata\\anaconda3\\lib\\site-packages (from ipywidgets) (3.5.2)\n",
      "Requirement already satisfied: matplotlib-inline>=0.1 in c:\\programdata\\anaconda3\\lib\\site-packages (from ipykernel>=4.5.1->ipywidgets) (0.1.6)\n",
      "Requirement already satisfied: tornado>=6.1 in c:\\programdata\\anaconda3\\lib\\site-packages (from ipykernel>=4.5.1->ipywidgets) (6.1)\n",
      "Requirement already satisfied: packaging in c:\\programdata\\anaconda3\\lib\\site-packages (from ipykernel>=4.5.1->ipywidgets) (21.3)\n",
      "Requirement already satisfied: debugpy>=1.0 in c:\\programdata\\anaconda3\\lib\\site-packages (from ipykernel>=4.5.1->ipywidgets) (1.5.1)\n",
      "Requirement already satisfied: psutil in c:\\programdata\\anaconda3\\lib\\site-packages (from ipykernel>=4.5.1->ipywidgets) (5.9.0)\n",
      "Requirement already satisfied: nest-asyncio in c:\\programdata\\anaconda3\\lib\\site-packages (from ipykernel>=4.5.1->ipywidgets) (1.5.5)\n",
      "Requirement already satisfied: pyzmq>=17 in c:\\programdata\\anaconda3\\lib\\site-packages (from ipykernel>=4.5.1->ipywidgets) (23.2.0)\n",
      "Requirement already satisfied: jupyter-client>=6.1.12 in c:\\programdata\\anaconda3\\lib\\site-packages (from ipykernel>=4.5.1->ipywidgets) (7.3.4)\n",
      "Requirement already satisfied: colorama in c:\\programdata\\anaconda3\\lib\\site-packages (from ipython>=4.0.0->ipywidgets) (0.4.5)\n",
      "Requirement already satisfied: jedi>=0.16 in c:\\programdata\\anaconda3\\lib\\site-packages (from ipython>=4.0.0->ipywidgets) (0.18.1)\n",
      "Requirement already satisfied: pygments in c:\\programdata\\anaconda3\\lib\\site-packages (from ipython>=4.0.0->ipywidgets) (2.11.2)\n",
      "Requirement already satisfied: decorator in c:\\programdata\\anaconda3\\lib\\site-packages (from ipython>=4.0.0->ipywidgets) (5.1.1)\n",
      "Requirement already satisfied: setuptools>=18.5 in c:\\programdata\\anaconda3\\lib\\site-packages (from ipython>=4.0.0->ipywidgets) (63.4.1)\n",
      "Requirement already satisfied: backcall in c:\\programdata\\anaconda3\\lib\\site-packages (from ipython>=4.0.0->ipywidgets) (0.2.0)\n",
      "Requirement already satisfied: pickleshare in c:\\programdata\\anaconda3\\lib\\site-packages (from ipython>=4.0.0->ipywidgets) (0.7.5)\n",
      "Requirement already satisfied: prompt-toolkit!=3.0.0,!=3.0.1,<3.1.0,>=2.0.0 in c:\\programdata\\anaconda3\\lib\\site-packages (from ipython>=4.0.0->ipywidgets) (3.0.20)\n",
      "Requirement already satisfied: jupyter-core in c:\\programdata\\anaconda3\\lib\\site-packages (from nbformat>=4.2.0->ipywidgets) (4.10.0)\n",
      "Requirement already satisfied: fastjsonschema in c:\\programdata\\anaconda3\\lib\\site-packages (from nbformat>=4.2.0->ipywidgets) (2.16.2)\n",
      "Requirement already satisfied: jsonschema>=2.6 in c:\\programdata\\anaconda3\\lib\\site-packages (from nbformat>=4.2.0->ipywidgets) (4.4.0)\n",
      "Requirement already satisfied: notebook>=4.4.1 in c:\\programdata\\anaconda3\\lib\\site-packages (from widgetsnbextension~=3.5.0->ipywidgets) (6.4.8)\n",
      "Requirement already satisfied: parso<0.9.0,>=0.8.0 in c:\\programdata\\anaconda3\\lib\\site-packages (from jedi>=0.16->ipython>=4.0.0->ipywidgets) (0.8.3)\n",
      "Requirement already satisfied: attrs>=17.4.0 in c:\\programdata\\anaconda3\\lib\\site-packages (from jsonschema>=2.6->nbformat>=4.2.0->ipywidgets) (21.4.0)\n",
      "Requirement already satisfied: pyrsistent!=0.17.0,!=0.17.1,!=0.17.2,>=0.14.0 in c:\\programdata\\anaconda3\\lib\\site-packages (from jsonschema>=2.6->nbformat>=4.2.0->ipywidgets) (0.18.0)\n",
      "Requirement already satisfied: python-dateutil>=2.8.2 in c:\\programdata\\anaconda3\\lib\\site-packages (from jupyter-client>=6.1.12->ipykernel>=4.5.1->ipywidgets) (2.8.2)\n",
      "Requirement already satisfied: entrypoints in c:\\programdata\\anaconda3\\lib\\site-packages (from jupyter-client>=6.1.12->ipykernel>=4.5.1->ipywidgets) (0.4)\n",
      "Requirement already satisfied: pywin32>=1.0 in c:\\programdata\\anaconda3\\lib\\site-packages (from jupyter-core->nbformat>=4.2.0->ipywidgets) (302)\n",
      "Requirement already satisfied: terminado>=0.8.3 in c:\\programdata\\anaconda3\\lib\\site-packages (from notebook>=4.4.1->widgetsnbextension~=3.5.0->ipywidgets) (0.13.1)\n",
      "Requirement already satisfied: nbconvert in c:\\programdata\\anaconda3\\lib\\site-packages (from notebook>=4.4.1->widgetsnbextension~=3.5.0->ipywidgets) (6.4.4)\n",
      "Requirement already satisfied: prometheus-client in c:\\programdata\\anaconda3\\lib\\site-packages (from notebook>=4.4.1->widgetsnbextension~=3.5.0->ipywidgets) (0.14.1)\n",
      "Requirement already satisfied: argon2-cffi in c:\\programdata\\anaconda3\\lib\\site-packages (from notebook>=4.4.1->widgetsnbextension~=3.5.0->ipywidgets) (21.3.0)\n",
      "Requirement already satisfied: Send2Trash>=1.8.0 in c:\\programdata\\anaconda3\\lib\\site-packages (from notebook>=4.4.1->widgetsnbextension~=3.5.0->ipywidgets) (1.8.0)\n",
      "Requirement already satisfied: jinja2 in c:\\programdata\\anaconda3\\lib\\site-packages (from notebook>=4.4.1->widgetsnbextension~=3.5.0->ipywidgets) (2.11.3)\n",
      "Requirement already satisfied: wcwidth in c:\\programdata\\anaconda3\\lib\\site-packages (from prompt-toolkit!=3.0.0,!=3.0.1,<3.1.0,>=2.0.0->ipython>=4.0.0->ipywidgets) (0.2.5)\n",
      "Requirement already satisfied: pyparsing!=3.0.5,>=2.0.2 in c:\\programdata\\anaconda3\\lib\\site-packages (from packaging->ipykernel>=4.5.1->ipywidgets) (3.0.9)\n",
      "Requirement already satisfied: six>=1.5 in c:\\programdata\\anaconda3\\lib\\site-packages (from python-dateutil>=2.8.2->jupyter-client>=6.1.12->ipykernel>=4.5.1->ipywidgets) (1.16.0)\n",
      "Requirement already satisfied: pywinpty>=1.1.0 in c:\\programdata\\anaconda3\\lib\\site-packages (from terminado>=0.8.3->notebook>=4.4.1->widgetsnbextension~=3.5.0->ipywidgets) (2.0.2)\n",
      "Requirement already satisfied: argon2-cffi-bindings in c:\\programdata\\anaconda3\\lib\\site-packages (from argon2-cffi->notebook>=4.4.1->widgetsnbextension~=3.5.0->ipywidgets) (21.2.0)\n",
      "Requirement already satisfied: MarkupSafe>=0.23 in c:\\programdata\\anaconda3\\lib\\site-packages (from jinja2->notebook>=4.4.1->widgetsnbextension~=3.5.0->ipywidgets) (2.0.1)\n",
      "Requirement already satisfied: defusedxml in c:\\programdata\\anaconda3\\lib\\site-packages (from nbconvert->notebook>=4.4.1->widgetsnbextension~=3.5.0->ipywidgets) (0.7.1)\n",
      "Requirement already satisfied: bleach in c:\\programdata\\anaconda3\\lib\\site-packages (from nbconvert->notebook>=4.4.1->widgetsnbextension~=3.5.0->ipywidgets) (4.1.0)\n",
      "Requirement already satisfied: mistune<2,>=0.8.1 in c:\\programdata\\anaconda3\\lib\\site-packages (from nbconvert->notebook>=4.4.1->widgetsnbextension~=3.5.0->ipywidgets) (0.8.4)\n",
      "Requirement already satisfied: nbclient<0.6.0,>=0.5.0 in c:\\programdata\\anaconda3\\lib\\site-packages (from nbconvert->notebook>=4.4.1->widgetsnbextension~=3.5.0->ipywidgets) (0.5.13)\n",
      "Requirement already satisfied: pandocfilters>=1.4.1 in c:\\programdata\\anaconda3\\lib\\site-packages (from nbconvert->notebook>=4.4.1->widgetsnbextension~=3.5.0->ipywidgets) (1.5.0)\n",
      "Requirement already satisfied: jupyterlab-pygments in c:\\programdata\\anaconda3\\lib\\site-packages (from nbconvert->notebook>=4.4.1->widgetsnbextension~=3.5.0->ipywidgets) (0.1.2)\n",
      "Requirement already satisfied: testpath in c:\\programdata\\anaconda3\\lib\\site-packages (from nbconvert->notebook>=4.4.1->widgetsnbextension~=3.5.0->ipywidgets) (0.6.0)\n",
      "Requirement already satisfied: beautifulsoup4 in c:\\programdata\\anaconda3\\lib\\site-packages (from nbconvert->notebook>=4.4.1->widgetsnbextension~=3.5.0->ipywidgets) (4.11.1)\n",
      "Requirement already satisfied: cffi>=1.0.1 in c:\\programdata\\anaconda3\\lib\\site-packages (from argon2-cffi-bindings->argon2-cffi->notebook>=4.4.1->widgetsnbextension~=3.5.0->ipywidgets) (1.15.1)\n",
      "Requirement already satisfied: soupsieve>1.2 in c:\\programdata\\anaconda3\\lib\\site-packages (from beautifulsoup4->nbconvert->notebook>=4.4.1->widgetsnbextension~=3.5.0->ipywidgets) (2.3.1)\n",
      "Requirement already satisfied: webencodings in c:\\programdata\\anaconda3\\lib\\site-packages (from bleach->nbconvert->notebook>=4.4.1->widgetsnbextension~=3.5.0->ipywidgets) (0.5.1)\n",
      "Requirement already satisfied: pycparser in c:\\programdata\\anaconda3\\lib\\site-packages (from cffi>=1.0.1->argon2-cffi-bindings->argon2-cffi->notebook>=4.4.1->widgetsnbextension~=3.5.0->ipywidgets) (2.21)\n",
      "Note: you may need to restart the kernel to use updated packages.\n"
     ]
    }
   ],
   "source": [
    "%pip install ipywidgets"
   ]
  },
  {
   "cell_type": "code",
   "execution_count": 3,
   "id": "a4ac8607",
   "metadata": {
    "id": "a4ac8607"
   },
   "outputs": [],
   "source": [
    "import numpy as np\n",
    "import pandas as pd\n",
    "import copy\n",
    "from sklearn.model_selection import train_test_split\n",
    "from sklearn import preprocessing\n",
    "import os\n",
    "from scipy import stats\n",
    "from sklearn.preprocessing import OneHotEncoder\n",
    "import seaborn as sns\n",
    "import matplotlib.pyplot as plt\n",
    "import warnings\n",
    "warnings.simplefilter(\"ignore\")"
   ]
  },
  {
   "cell_type": "code",
   "execution_count": 4,
   "id": "e70ea8f1",
   "metadata": {
    "colab": {
     "base_uri": "https://localhost:8080/"
    },
    "id": "e70ea8f1",
    "outputId": "84e91b59-9372-4ab2-9cfd-2bd87db2b1d4"
   },
   "outputs": [
    {
     "name": "stdout",
     "output_type": "stream",
     "text": [
      "(170000, 19)\n",
      "(30000, 18)\n"
     ]
    }
   ],
   "source": [
    "df_train = pd.read_csv('train.csv')\n",
    "df_test = pd.read_csv('test.csv')\n",
    "print(df_train.shape)\n",
    "print(df_test.shape)"
   ]
  },
  {
   "cell_type": "code",
   "execution_count": 5,
   "id": "28b9ffc2",
   "metadata": {
    "id": "28b9ffc2"
   },
   "outputs": [],
   "source": [
    "\n",
    "def convertToNum(a):\n",
    "    if a == 'Worst Concert Ever':\n",
    "        return 0\n",
    "    elif a == 'Did Not Enjoy':\n",
    "        return 1\n",
    "    elif a == 'Enjoyed':\n",
    "        return 2\n",
    "    else:\n",
    "        return 3\n",
    "    \n",
    "\n",
    "#df_train['Num Concert Enjoyment'] = df_train['Concert Enjoyment'].replace(\n",
    "#    ['Worst Concert Ever', 'Did Not Enjoy', 'Enjoyed', 'Best Concert Ever'], \n",
    "#    [0,1,2,3]\n",
    "#)"
   ]
  },
  {
   "cell_type": "code",
   "execution_count": 6,
   "id": "18cea9d6",
   "metadata": {
    "colab": {
     "base_uri": "https://localhost:8080/"
    },
    "id": "18cea9d6",
    "outputId": "43c63b7a-db6e-4b46-c95f-50cb66c0fef7"
   },
   "outputs": [
    {
     "name": "stdout",
     "output_type": "stream",
     "text": [
      "(153000, 19)\n",
      "(17000, 19)\n"
     ]
    }
   ],
   "source": [
    "df_train, df_eval = np.split(df_train, [int(0.9*len(df_train))])\n",
    "print(df_train.shape)\n",
    "print(df_eval.shape)"
   ]
  },
  {
   "cell_type": "markdown",
   "id": "119a6926",
   "metadata": {
    "id": "119a6926"
   },
   "source": [
    "# To Lower and To String"
   ]
  },
  {
   "cell_type": "code",
   "execution_count": 7,
   "id": "93a6d0c0",
   "metadata": {
    "id": "93a6d0c0"
   },
   "outputs": [],
   "source": [
    "def toLower(a):\n",
    "    if a == None or a != a:\n",
    "        pass\n",
    "    else:\n",
    "        a = a.lower()\n",
    "    return a\n",
    "\n",
    "def toString(a):\n",
    "  if a == None or a!=a :    #if a is none or nan on pass \n",
    "    pass \n",
    "  else:\n",
    "    a = str(int(a))   \n",
    "  return a\n",
    "\n",
    "for c in [\"Band Country of Origin\",\"Band Name\",\"Band Genre\",\"Concert Goer Country of Origin\"]:\n",
    "    df_train[c] = df_train[c].map(toLower)\n",
    "    df_eval[c] = df_eval[c].map(toLower)\n",
    "    df_test[c] = df_test[c].map(toLower)\n",
    "    \n",
    "for c in ['Concert ID']:\n",
    "    df_train[c] = df_train[c].map(toString)\n",
    "    df_eval[c] = df_eval[c].map(toString)\n",
    "    df_test[c] = df_test[c].map(toString)"
   ]
  },
  {
   "cell_type": "markdown",
   "id": "8ba6d285",
   "metadata": {
    "id": "8ba6d285"
   },
   "source": [
    "# By Decile"
   ]
  },
  {
   "cell_type": "code",
   "execution_count": 8,
   "id": "1e63ef60",
   "metadata": {
    "id": "1e63ef60"
   },
   "outputs": [],
   "source": [
    "def groupByDecile(a):\n",
    "  if a == None or a!=a :     \n",
    "    pass \n",
    "  elif a< 20:\n",
    "    a = str(16)     #ca permet de faire commencer à 16 ans l'intervalle des âges sinon ce serait 10 ans X(\n",
    "  else :\n",
    "    a = a - a%10        #  Ex : 1976 - 1976%10 = 1970\n",
    "    a = str(int(a))\n",
    "  return a\n",
    "\n",
    "for c in [\"Band Debut\",\"Concert Goer Age\"]:\n",
    "    df_train[c] = df_train[c].map(groupByDecile)\n",
    "    df_eval[c] = df_eval[c].map(groupByDecile)\n",
    "    df_test[c] = df_test[c].map(groupByDecile)"
   ]
  },
  {
   "cell_type": "markdown",
   "id": "44ce7457",
   "metadata": {
    "id": "44ce7457"
   },
   "source": [
    "# Handle Missing values"
   ]
  },
  {
   "cell_type": "code",
   "execution_count": 9,
   "id": "d936145c",
   "metadata": {
    "id": "d936145c"
   },
   "outputs": [],
   "source": [
    "# Missing values are nan or '*insert*'\n",
    "# Want to replace by most popular\n",
    "from sklearn.impute import SimpleImputer\n",
    "imp = SimpleImputer(missing_values=np.nan, strategy='most_frequent')\n",
    "\n",
    "X_train = df_train.drop(columns=['Concert Enjoyment'])\n",
    "y_train = df_train['Concert Enjoyment']\n",
    "\n",
    "X_eval = df_eval.drop(columns=['Concert Enjoyment'])\n",
    "y_eval = df_eval['Concert Enjoyment']\n",
    "\n",
    "idx_train = X_train.index\n",
    "idx_eval = X_eval.index\n",
    "\n",
    "imp.fit(X_train)\n",
    "\n",
    "cols = X_train.columns.values\n",
    "\n",
    "X_train = imp.transform(X_train)\n",
    "X_eval = imp.transform(X_eval)\n",
    "X_test = imp.transform(df_test)\n",
    "\n",
    "# Quand soumission on train sur TOUT train\n",
    "df_train = pd.concat([pd.DataFrame(X_train, columns=cols, index=idx_train), y_train], axis=1)\n",
    "df_eval = pd.concat([pd.DataFrame(X_eval, columns=cols, index=idx_eval), y_eval], axis=1)\n",
    "df_test = pd.DataFrame(X_test, columns=cols)\n"
   ]
  },
  {
   "cell_type": "markdown",
   "id": "14f7d21e",
   "metadata": {
    "id": "14f7d21e"
   },
   "source": [
    "# To Int"
   ]
  },
  {
   "cell_type": "code",
   "execution_count": 10,
   "id": "bb0fac7d",
   "metadata": {
    "id": "bb0fac7d"
   },
   "outputs": [],
   "source": [
    "cols_to_int = ['Inside Venue','Rain','Seated']\n",
    "for c in cols_to_int:\n",
    "    df_train[c] = df_train[c].astype(int)\n",
    "    df_eval[c] = df_eval[c].astype(int)\n",
    "    # Quand soummission\n",
    "    df_test[c] = df_test[c].astype(int)"
   ]
  },
  {
   "cell_type": "code",
   "execution_count": 11,
   "id": "2bcd2941",
   "metadata": {
    "id": "2bcd2941"
   },
   "outputs": [],
   "source": [
    "cols_with_insert = ['Band Name', 'Band Genre', 'Band Country of Origin','Concert Goer Country of Origin']\n",
    "for c in cols_with_insert:\n",
    "    df_train.loc[df_train[c].str.contains('insert'), c] = df_train[c].mode()[0]\n",
    "    df_eval.loc[df_eval[c].str.contains('insert'), c] = df_train[c].mode()[0]\n",
    "    # Quand soumission on fait tout sur le train mode\n",
    "    df_test.loc[df_test[c].str.contains('insert'), c] = df_test[c].mode()[0]"
   ]
  },
  {
   "cell_type": "markdown",
   "id": "0bf33089",
   "metadata": {
    "id": "0bf33089"
   },
   "source": [
    "# Handle Outliers"
   ]
  },
  {
   "cell_type": "code",
   "execution_count": 12,
   "id": "d9114119",
   "metadata": {
    "id": "d9114119"
   },
   "outputs": [],
   "source": [
    "def convertConcertAttendance(a):\n",
    "    if int(a) > 162754:\n",
    "        a = (a / 10000)\n",
    "    return a\n",
    "\n",
    "df_train['Concert Attendance'] = df_train['Concert Attendance'].map(convertConcertAttendance)\n",
    "df_eval['Concert Attendance'] = df_eval['Concert Attendance'].map(convertConcertAttendance)\n",
    "# Quand soumission\n",
    "df_test['Concert Attendance'] = df_test['Concert Attendance'].map(convertConcertAttendance)"
   ]
  },
  {
   "cell_type": "code",
   "execution_count": 13,
   "id": "d938035b",
   "metadata": {
    "id": "d938035b"
   },
   "outputs": [],
   "source": [
    "df_train.loc[\n",
    "    (df_train['Personnality Trait 2'] < -5) |\n",
    "    (df_train['Personnality Trait 2'] > 5), 'Personnality Trait 2'\n",
    "] = df_train['Personnality Trait 2'].mean()\n",
    "\n",
    "df_eval.loc[\n",
    "    (df_eval['Personnality Trait 2'] < -5) |\n",
    "    (df_eval['Personnality Trait 2'] > 5), 'Personnality Trait 2'\n",
    "] = df_train['Personnality Trait 2'].mean()\n",
    "\n",
    "\n",
    "df_test.loc[\n",
    "    (df_test['Personnality Trait 2'] < -5) |\n",
    "    (df_test['Personnality Trait 2'] > 5), 'Personnality Trait 2'\n",
    "] = df_train['Personnality Trait 2'].mean()\n",
    "\n",
    "# Quand soumission on le fait sur df_test"
   ]
  },
  {
   "cell_type": "markdown",
   "id": "f9492575",
   "metadata": {
    "id": "f9492575"
   },
   "source": [
    "# Group Data"
   ]
  },
  {
   "cell_type": "code",
   "execution_count": 14,
   "id": "dd3a1166",
   "metadata": {
    "id": "dd3a1166"
   },
   "outputs": [],
   "source": [
    "def groupCountry(a):\n",
    "    if a not in ['canada', 'united states of america (usa)', 'united kingdom (uk)']:\n",
    "        a = 'other'\n",
    "    return a\n",
    "\n",
    "df_train['Concert Goer Country of Origin'] = df_train['Concert Goer Country of Origin'].map(groupCountry)\n",
    "df_eval['Concert Goer Country of Origin'] = df_eval['Concert Goer Country of Origin'].map(groupCountry)\n",
    "# quand soumission sur test aussi\n",
    "df_test['Concert Goer Country of Origin'] = df_test['Concert Goer Country of Origin'].map(groupCountry)"
   ]
  },
  {
   "cell_type": "markdown",
   "id": "fa743cc7",
   "metadata": {
    "id": "fa743cc7"
   },
   "source": [
    "# Keep Important Concert IDs"
   ]
  },
  {
   "cell_type": "code",
   "execution_count": 15,
   "id": "BhaDAZPIkg5b",
   "metadata": {
    "colab": {
     "base_uri": "https://localhost:8080/"
    },
    "id": "BhaDAZPIkg5b",
    "outputId": "5f4ceb6c-a23d-4323-bfc6-c4402b341ca1"
   },
   "outputs": [
    {
     "name": "stdout",
     "output_type": "stream",
     "text": [
      "503    939\n",
      "626    171\n",
      "294    170\n",
      "576    169\n",
      "717    168\n",
      "      ... \n",
      "124    135\n",
      "242    133\n",
      "997    132\n",
      "450    131\n",
      "287    130\n",
      "Name: Concert ID, Length: 1000, dtype: int64\n",
      "503    179\n",
      "342     46\n",
      "101     45\n",
      "615     45\n",
      "997     45\n",
      "      ... \n",
      "359     18\n",
      "558     18\n",
      "464     17\n",
      "773     17\n",
      "136     16\n",
      "Name: Concert ID, Length: 1000, dtype: int64\n",
      "503    109\n",
      "368     30\n",
      "779     30\n",
      "68      29\n",
      "422     28\n",
      "      ... \n",
      "565      7\n",
      "983      7\n",
      "17       7\n",
      "342      7\n",
      "626      4\n",
      "Name: Concert ID, Length: 1000, dtype: int64\n"
     ]
    }
   ],
   "source": [
    "print(df_train['Concert ID'].value_counts())\n",
    "print(df_test['Concert ID'].value_counts())\n",
    "print(df_eval['Concert ID'].value_counts())"
   ]
  },
  {
   "cell_type": "code",
   "execution_count": 16,
   "id": "1c36e9fd",
   "metadata": {
    "id": "1c36e9fd"
   },
   "outputs": [],
   "source": [
    "def convertConcertID(a):\n",
    "    # Top 5 meilleurs average rating qui sont a l'interieur, Pire 5 qui sont a l'intérieur\n",
    "    if int(a) in [879, 539, 456, 961, 592, 978, 441, 193, 24, 164]:\n",
    "        return str(a)\n",
    "    else:\n",
    "        return 'other'\n",
    "    \n",
    "df_train['Concert ID'] = df_train['Concert ID'].map(convertConcertID)\n",
    "df_test['Concert ID'] = df_test['Concert ID'].map(convertConcertID)\n",
    "df_eval['Concert ID'] = df_eval['Concert ID'].map(convertConcertID)"
   ]
  },
  {
   "cell_type": "markdown",
   "id": "751bb858",
   "metadata": {
    "id": "751bb858"
   },
   "source": [
    "# Keep Important Concert Goer IDs"
   ]
  },
  {
   "cell_type": "code",
   "execution_count": 17,
   "id": "TE6JgfjZngFS",
   "metadata": {
    "colab": {
     "base_uri": "https://localhost:8080/"
    },
    "id": "TE6JgfjZngFS",
    "outputId": "c3e170c4-7f89-43f1-d97a-4fd76169fe7a"
   },
   "outputs": [
    {
     "name": "stdout",
     "output_type": "stream",
     "text": [
      "concert_goer_1501    845\n",
      "concert_goer_1502    104\n",
      "concert_goer_1415    104\n",
      "concert_goer_255     103\n",
      "concert_goer_1158    103\n",
      "                    ... \n",
      "concert_goer_639      53\n",
      "concert_goer_601      53\n",
      "concert_goer_1408     52\n",
      "concert_goer_1081     50\n",
      "concert_goer_861      45\n",
      "Name: Concert Goer ID, Length: 2000, dtype: int64\n",
      "concert_goer_1501    156\n",
      "concert_goer_1833     29\n",
      "concert_goer_854      27\n",
      "concert_goer_1722     27\n",
      "concert_goer_1193     27\n",
      "                    ... \n",
      "concert_goer_130       5\n",
      "concert_goer_1197      5\n",
      "concert_goer_864       4\n",
      "concert_goer_1643      4\n",
      "concert_goer_112       3\n",
      "Name: Concert Goer ID, Length: 2000, dtype: int64\n",
      "concert_goer_1501    84\n",
      "concert_goer_1931    21\n",
      "concert_goer_513     20\n",
      "concert_goer_4       18\n",
      "concert_goer_1194    18\n",
      "                     ..\n",
      "concert_goer_1542     2\n",
      "concert_goer_1196     2\n",
      "concert_goer_64       2\n",
      "concert_goer_1885     2\n",
      "concert_goer_185      2\n",
      "Name: Concert Goer ID, Length: 2000, dtype: int64\n"
     ]
    }
   ],
   "source": [
    "print(df_train['Concert Goer ID'].value_counts())\n",
    "print(df_test['Concert Goer ID'].value_counts())\n",
    "print(df_eval['Concert Goer ID'].value_counts())"
   ]
  },
  {
   "cell_type": "code",
   "execution_count": 18,
   "id": "f0b1ac16",
   "metadata": {
    "id": "f0b1ac16"
   },
   "outputs": [],
   "source": [
    "def convertConcertGoerID(a):\n",
    "    if str(a) in ['concert_goer_695', 'concert_goer_413', 'concert_goer_1392', 'concert_goer_398', 'concert_goer_1770', 'concert_goer_1011', 'concert_goer_1414', 'concert_goer_1419', 'concert_goer_1506', 'concert_goer_390']:\n",
    "        return str(a)\n",
    "    else:\n",
    "        return 'other'\n",
    "    \n",
    "df_train['Concert Goer ID'] = df_train['Concert Goer ID'].map(convertConcertGoerID)\n",
    "df_test['Concert Goer ID'] = df_test['Concert Goer ID'].map(convertConcertGoerID)\n",
    "df_eval['Concert Goer ID'] = df_eval['Concert Goer ID'].map(convertConcertGoerID)"
   ]
  },
  {
   "cell_type": "markdown",
   "id": "3b32b23b",
   "metadata": {
    "id": "3b32b23b"
   },
   "source": [
    "# Create New Feature"
   ]
  },
  {
   "cell_type": "code",
   "execution_count": 19,
   "id": "1c8ac24d",
   "metadata": {
    "id": "1c8ac24d"
   },
   "outputs": [],
   "source": [
    "df_train['Out n Rain'] = ((df_train['Inside Venue'] == 0) & (df_train['Rain'] == 1)).astype(int)\n",
    "df_test['Out n Rain'] = ((df_test['Inside Venue'] == 0) & (df_test['Rain'] == 1)).astype(int)\n",
    "df_eval['Out n Rain'] = ((df_eval['Inside Venue'] == 0) & (df_eval['Rain'] == 1)).astype(int)"
   ]
  },
  {
   "cell_type": "markdown",
   "id": "412297f8",
   "metadata": {
    "id": "412297f8"
   },
   "source": [
    "# Drop Cols"
   ]
  },
  {
   "cell_type": "code",
   "execution_count": 20,
   "id": "xCw6Lnj0dirB",
   "metadata": {
    "colab": {
     "base_uri": "https://localhost:8080/"
    },
    "id": "xCw6Lnj0dirB",
    "outputId": "b67aa78e-03e4-423b-860b-1c9ebcebdd50"
   },
   "outputs": [
    {
     "data": {
      "text/plain": [
       "Index(['Id', 'Band Name', 'Band Genre', 'Band Country of Origin', 'Band Debut',\n",
       "       'Concert ID', 'Concert Attendance', 'Inside Venue', 'Rain', 'Seated',\n",
       "       'Personnality Trait 1', 'Personnality Trait 2', 'Personnality Trait 3',\n",
       "       'Personnality Trait 4', 'Concert Goer Age', 'Concert Goer ID',\n",
       "       'Height (cm)', 'Concert Goer Country of Origin', 'Out n Rain'],\n",
       "      dtype='object')"
      ]
     },
     "execution_count": 20,
     "metadata": {},
     "output_type": "execute_result"
    }
   ],
   "source": [
    "df_test.columns"
   ]
  },
  {
   "cell_type": "code",
   "execution_count": 21,
   "id": "5ddf0759",
   "metadata": {
    "id": "5ddf0759"
   },
   "outputs": [],
   "source": [
    "cols_to_drop = ['Id']\n",
    "ids_test = df_test['Id']\n",
    "df_train = df_train.drop(columns=cols_to_drop)\n",
    "df_eval = df_eval.drop(columns=cols_to_drop)\n",
    "df_test = df_test.drop(columns=cols_to_drop)"
   ]
  },
  {
   "cell_type": "markdown",
   "id": "a83898c4",
   "metadata": {
    "id": "a83898c4"
   },
   "source": [
    "# Balance Dataset"
   ]
  },
  {
   "cell_type": "markdown",
   "id": "bdaed0e9",
   "metadata": {
    "id": "bdaed0e9"
   },
   "source": [
    "from sklearn.metrics import DistanceMetric\n",
    "from imblearn.over_sampling import SMOTENC"
   ]
  },
  {
   "cell_type": "markdown",
   "id": "4d489f31",
   "metadata": {
    "id": "4d489f31"
   },
   "source": [
    "df_train['Concert Enjoyment'].value_counts()"
   ]
  },
  {
   "cell_type": "markdown",
   "id": "52f436bf",
   "metadata": {
    "id": "52f436bf"
   },
   "source": [
    "df_train = df_train.drop(\n",
    "    df_train[\n",
    "        df_train['Concert Enjoyment'] == 'Enjoyed'\n",
    "    ].sample(frac=0.25).index)\n",
    "\n",
    "df_train = df_train.drop(\n",
    "    df_train[\n",
    "        df_train['Concert Enjoyment'] == 'Did Not Enjoy'\n",
    "    ].sample(frac=0.25).index)"
   ]
  },
  {
   "cell_type": "markdown",
   "id": "4b274500",
   "metadata": {
    "id": "4b274500"
   },
   "source": [
    "df_train['Concert Enjoyment'].value_counts()"
   ]
  },
  {
   "cell_type": "markdown",
   "id": "32d69249",
   "metadata": {
    "id": "32d69249"
   },
   "source": [
    "nb_class_dict = {\n",
    "    'Did Not Enjoy':40783,\n",
    "    'Enjoyed':40769,\n",
    "    'Worst Concert Ever':26000,\n",
    "    'Best Concert Ever':26000\n",
    "}\n",
    "X = df_train.drop(columns=['Concert Enjoyment'])\n",
    "y = df_train['Concert Enjoyment']\n",
    "cols = X.columns\n",
    "num_cols = X._get_numeric_data().columns\n",
    "cat_cols = list(set(cols) - set(num_cols))\n",
    "cat_cols_idx = [X.columns.get_loc(c) for c in cat_cols]\n",
    "\n",
    "sm = SMOTENC(random_state=0, sampling_strategy=nb_class_dict, categorical_features=cat_cols_idx)\n",
    "\n",
    "X_bal, y_bal = sm.fit_resample(X, y)"
   ]
  },
  {
   "cell_type": "markdown",
   "id": "1558c429",
   "metadata": {
    "id": "1558c429"
   },
   "source": [
    "df_train = pd.concat([X_bal, y_bal], axis=1)"
   ]
  },
  {
   "cell_type": "markdown",
   "id": "c6dbbaf8",
   "metadata": {
    "id": "c6dbbaf8"
   },
   "source": [
    "df_train['Concert Enjoyment'].value_counts()"
   ]
  },
  {
   "cell_type": "markdown",
   "id": "7ca7fc7c",
   "metadata": {
    "id": "7ca7fc7c"
   },
   "source": [
    "# One Hot"
   ]
  },
  {
   "cell_type": "code",
   "execution_count": 22,
   "id": "7f988245",
   "metadata": {
    "id": "7f988245"
   },
   "outputs": [],
   "source": [
    "one_hot_cols = ['Band Name', 'Concert Goer ID', 'Concert ID', 'Band Genre', 'Band Country of Origin', 'Concert Goer Country of Origin']"
   ]
  },
  {
   "cell_type": "code",
   "execution_count": 23,
   "id": "d9219379",
   "metadata": {
    "id": "d9219379"
   },
   "outputs": [],
   "source": [
    "from sklearn.preprocessing import OneHotEncoder\n",
    "from sklearn.compose import make_column_transformer"
   ]
  },
  {
   "cell_type": "code",
   "execution_count": 24,
   "id": "95a733a7",
   "metadata": {
    "id": "95a733a7"
   },
   "outputs": [],
   "source": [
    "X_train = df_train.drop(columns=['Concert Enjoyment'])\n",
    "X_eval = df_eval.drop(columns=['Concert Enjoyment'])\n",
    "\n",
    "y_train = df_train['Concert Enjoyment']\n",
    "y_eval = df_eval['Concert Enjoyment']"
   ]
  },
  {
   "cell_type": "code",
   "execution_count": 25,
   "id": "f8b955e4",
   "metadata": {
    "colab": {
     "base_uri": "https://localhost:8080/"
    },
    "id": "f8b955e4",
    "outputId": "86dada6c-146b-45e7-8946-ac0ea316252a"
   },
   "outputs": [
    {
     "data": {
      "text/plain": [
       "array(['Band Name', 'Band Genre', 'Band Country of Origin', 'Band Debut',\n",
       "       'Concert ID', 'Concert Attendance', 'Inside Venue', 'Rain',\n",
       "       'Seated', 'Personnality Trait 1', 'Personnality Trait 2',\n",
       "       'Personnality Trait 3', 'Personnality Trait 4', 'Concert Goer Age',\n",
       "       'Concert Goer ID', 'Height (cm)', 'Concert Goer Country of Origin',\n",
       "       'Out n Rain'], dtype=object)"
      ]
     },
     "execution_count": 25,
     "metadata": {},
     "output_type": "execute_result"
    }
   ],
   "source": [
    "df_test.columns.values"
   ]
  },
  {
   "cell_type": "code",
   "execution_count": 26,
   "id": "574f3aa7",
   "metadata": {
    "id": "574f3aa7"
   },
   "outputs": [],
   "source": [
    "X_train = pd.get_dummies(X_train, columns = one_hot_cols)\n",
    "X_eval = pd.get_dummies(X_eval, columns = one_hot_cols)\n",
    "X_test = pd.get_dummies(df_test, columns = one_hot_cols)"
   ]
  },
  {
   "cell_type": "code",
   "execution_count": 27,
   "id": "dfcf4f02",
   "metadata": {
    "colab": {
     "base_uri": "https://localhost:8080/"
    },
    "id": "dfcf4f02",
    "outputId": "def1b80b-d5ce-4e1a-a82e-34d6a9c8abcf"
   },
   "outputs": [
    {
     "data": {
      "text/plain": [
       "Index(['Band Debut', 'Concert Attendance', 'Inside Venue', 'Rain', 'Seated',\n",
       "       'Personnality Trait 1', 'Personnality Trait 2', 'Personnality Trait 3',\n",
       "       'Personnality Trait 4', 'Concert Goer Age',\n",
       "       ...\n",
       "       'Band Genre_pop music', 'Band Genre_rnb', 'Band Genre_rock n roll',\n",
       "       'Band Country of Origin_canada',\n",
       "       'Band Country of Origin_united kingdom (uk)',\n",
       "       'Band Country of Origin_united states of america (usa)',\n",
       "       'Concert Goer Country of Origin_canada',\n",
       "       'Concert Goer Country of Origin_other',\n",
       "       'Concert Goer Country of Origin_united kingdom (uk)',\n",
       "       'Concert Goer Country of Origin_united states of america (usa)'],\n",
       "      dtype='object', length=101)"
      ]
     },
     "execution_count": 27,
     "metadata": {},
     "output_type": "execute_result"
    }
   ],
   "source": [
    "X_test.columns"
   ]
  },
  {
   "cell_type": "code",
   "execution_count": 28,
   "id": "39985ffd",
   "metadata": {
    "id": "39985ffd"
   },
   "outputs": [],
   "source": [
    "X_train = X_train.reindex(sorted(X_train.columns), axis=1)\n",
    "X_eval = X_eval.reindex(sorted(X_train.columns), axis=1)\n",
    "X_test = X_test.reindex(sorted(X_test.columns), axis=1)"
   ]
  },
  {
   "cell_type": "code",
   "execution_count": 29,
   "id": "7171e4ff",
   "metadata": {
    "id": "7171e4ff"
   },
   "outputs": [],
   "source": [
    "# Pour verifier qu'ils sont dans le meme ordre\n",
    "for i , c in enumerate(X_train.columns.values):\n",
    "    if X_eval.columns.values[i] != c:\n",
    "        print(c)"
   ]
  },
  {
   "cell_type": "code",
   "execution_count": 30,
   "id": "d9a04ae2",
   "metadata": {
    "id": "d9a04ae2"
   },
   "outputs": [],
   "source": [
    "colonnesXTrain = X_train.columns"
   ]
  },
  {
   "cell_type": "markdown",
   "id": "400feb53",
   "metadata": {
    "id": "400feb53"
   },
   "source": [
    "# Scale"
   ]
  },
  {
   "cell_type": "code",
   "execution_count": 31,
   "id": "08a19bec",
   "metadata": {
    "id": "08a19bec"
   },
   "outputs": [],
   "source": [
    "from sklearn.preprocessing import StandardScaler, MinMaxScaler"
   ]
  },
  {
   "cell_type": "code",
   "execution_count": 32,
   "id": "9a467d19",
   "metadata": {
    "id": "9a467d19"
   },
   "outputs": [],
   "source": [
    "sc = MinMaxScaler()\n",
    "sc.fit(X_train)\n",
    "\n",
    "X_train = sc.transform(X_train)\n",
    "X_eval = sc.transform(X_eval)\n",
    "X_test = sc.transform(X_test)"
   ]
  },
  {
   "cell_type": "markdown",
   "id": "feb8683c",
   "metadata": {
    "id": "feb8683c"
   },
   "source": [
    "# Predictions"
   ]
  },
  {
   "cell_type": "code",
   "execution_count": 34,
   "id": "8ee93594",
   "metadata": {
    "id": "8ee93594"
   },
   "outputs": [],
   "source": [
    "from catboost import CatBoostClassifier"
   ]
  },
  {
   "cell_type": "code",
   "execution_count": 35,
   "id": "f71f3c19",
   "metadata": {
    "id": "f71f3c19"
   },
   "outputs": [],
   "source": [
    "from sklearn.preprocessing import LabelEncoder"
   ]
  },
  {
   "cell_type": "code",
   "execution_count": 38,
   "id": "d73d52c0",
   "metadata": {
    "id": "d73d52c0"
   },
   "outputs": [],
   "source": [
    "le = LabelEncoder().fit(y_train)\n",
    "y_train_encoded = le.transform(y_train)\n",
    "y_eval_encoded = le.transform(y_eval)"
   ]
  },
  {
   "cell_type": "code",
   "execution_count": 39,
   "id": "1ee7d4f4",
   "metadata": {},
   "outputs": [
    {
     "data": {
      "application/vnd.jupyter.widget-view+json": {
       "model_id": "5e47c51e89da4bef82922412ec554615",
       "version_major": 2,
       "version_minor": 0
      },
      "text/plain": [
       "MetricVisualizer(layout=Layout(align_self='stretch', height='500px'))"
      ]
     },
     "metadata": {},
     "output_type": "display_data"
    },
    {
     "name": "stdout",
     "output_type": "stream",
     "text": [
      "Wall time: 26.2 s\n"
     ]
    },
    {
     "data": {
      "text/plain": [
       "<catboost.core.CatBoostClassifier at 0x1df86257eb0>"
      ]
     },
     "execution_count": 39,
     "metadata": {},
     "output_type": "execute_result"
    }
   ],
   "source": [
    "%%time\n",
    "cat = CatBoostClassifier(random_state=0,iterations=1100,learning_rate=0.1495,silent=True)\n",
    "cat.fit(X=X_train,y= y_train_encoded,plot=True)\n"
   ]
  },
  {
   "cell_type": "code",
   "execution_count": 40,
   "id": "2fde2efd",
   "metadata": {
    "id": "2fde2efd"
   },
   "outputs": [],
   "source": [
    "y_eval_pred = cat.predict(X_eval)\n",
    "y_train_pred = cat.predict(X_train)\n"
   ]
  },
  {
   "cell_type": "code",
   "execution_count": 41,
   "id": "902f2590",
   "metadata": {
    "colab": {
     "base_uri": "https://localhost:8080/"
    },
    "id": "902f2590",
    "outputId": "6de49928-1f20-4345-c51e-c87331c215d5"
   },
   "outputs": [
    {
     "name": "stdout",
     "output_type": "stream",
     "text": [
      "train  [0.48884987 0.7351456  0.73194059 0.57642134]\n",
      "eval  [0.40245399 0.6968557  0.70287235 0.51975792]\n"
     ]
    }
   ],
   "source": [
    "from sklearn.metrics import accuracy_score, f1_score,confusion_matrix\n",
    "acc = f1_score(y_train_encoded, y_train_pred, average=None)\n",
    "\n",
    "print(\"train \",acc)\n",
    "acc = f1_score(y_eval_encoded, y_eval_pred, average=None)\n",
    "\n",
    "print(\"eval \",acc)"
   ]
  },
  {
   "cell_type": "code",
   "execution_count": 42,
   "id": "d61594d8",
   "metadata": {
    "colab": {
     "base_uri": "https://localhost:8080/"
    },
    "id": "d61594d8",
    "outputId": "01c42671-a4a8-44f6-d190-0f50497596f0"
   },
   "outputs": [
    {
     "name": "stdout",
     "output_type": "stream",
     "text": [
      "train  0.7026797385620915\n",
      "eval  0.6636470588235294\n"
     ]
    }
   ],
   "source": [
    "acc = f1_score(y_train_encoded, y_train_pred, average='micro')\n",
    "print(\"train \",acc)\n",
    "acc = f1_score(y_eval_encoded, y_eval_pred, average='micro')\n",
    "print(\"eval \",acc)"
   ]
  },
  {
   "cell_type": "code",
   "execution_count": 43,
   "id": "cb698554",
   "metadata": {
    "colab": {
     "base_uri": "https://localhost:8080/"
    },
    "id": "cb698554",
    "outputId": "01033189-6bea-4e20-f0b2-25a61d85fad7"
   },
   "outputs": [
    {
     "name": "stdout",
     "output_type": "stream",
     "text": [
      "{'Best Concert Ever': 0, 'Did Not Enjoy': 1, 'Enjoyed': 2, 'Worst Concert Ever': 3}\n",
      "              precision    recall  f1-score   support\n",
      "\n",
      "           0       0.65      0.29      0.40      1684\n",
      "           1       0.67      0.73      0.70      6712\n",
      "           2       0.66      0.75      0.70      6865\n",
      "           3       0.68      0.42      0.52      1739\n",
      "\n",
      "    accuracy                           0.66     17000\n",
      "   macro avg       0.66      0.55      0.58     17000\n",
      "weighted avg       0.66      0.66      0.65     17000\n",
      "\n"
     ]
    }
   ],
   "source": [
    "from sklearn.metrics import classification_report\n",
    "\n",
    "print(dict(zip(le.classes_, le.transform(le.classes_))))\n",
    "print(classification_report(y_eval_encoded, y_eval_pred))"
   ]
  },
  {
   "cell_type": "code",
   "execution_count": 44,
   "id": "fsxJsAFyTiKD",
   "metadata": {
    "colab": {
     "base_uri": "https://localhost:8080/"
    },
    "id": "fsxJsAFyTiKD",
    "outputId": "8e2f50f7-3da8-49b7-e80a-85dcfdd2bd24"
   },
   "outputs": [
    {
     "data": {
      "text/plain": [
       "array([[ 492,   27, 1165,    0],\n",
       "       [   7, 4909, 1466,  330],\n",
       "       [ 262, 1442, 5151,   10],\n",
       "       [   0,  999,   10,  730]], dtype=int64)"
      ]
     },
     "execution_count": 44,
     "metadata": {},
     "output_type": "execute_result"
    }
   ],
   "source": [
    "confusion_matrix(y_eval_encoded, y_eval_pred)"
   ]
  },
  {
   "cell_type": "code",
   "execution_count": 46,
   "id": "aaa2fece",
   "metadata": {},
   "outputs": [
    {
     "name": "stdout",
     "output_type": "stream",
     "text": [
      "[0.65898693 0.65918301 0.66202614 0.66058824 0.66160131]\n",
      "0.6604771241830065\n",
      "0.6589869281045752\n",
      "0.6620261437908497\n"
     ]
    }
   ],
   "source": [
    "from sklearn.model_selection import cross_val_score\n",
    "cvvalscore1 = cross_val_score(cat, X_train, y_train_encoded, cv=5)\n",
    "print(cvvalscore1)\n",
    "print(cvvalscore1.mean())\n",
    "print(cvvalscore1.min())\n",
    "print(cvvalscore1.max())"
   ]
  },
  {
   "cell_type": "markdown",
   "id": "1b06b1c3",
   "metadata": {
    "id": "1b06b1c3"
   },
   "source": [
    "# Test Predictions"
   ]
  },
  {
   "cell_type": "code",
   "execution_count": 53,
   "id": "ced09c14",
   "metadata": {
    "id": "ced09c14"
   },
   "outputs": [],
   "source": [
    "y_pred_test = cat.predict(X_test)"
   ]
  },
  {
   "cell_type": "code",
   "execution_count": 55,
   "id": "1cfbcd52",
   "metadata": {
    "colab": {
     "base_uri": "https://localhost:8080/"
    },
    "id": "1cfbcd52",
    "outputId": "eb40a364-0cfd-4199-d9a6-dc026fadb61c"
   },
   "outputs": [],
   "source": [
    "y_pred_test = le.inverse_transform(y_pred_test)"
   ]
  },
  {
   "cell_type": "code",
   "execution_count": 56,
   "id": "fe3ed4ad",
   "metadata": {
    "colab": {
     "base_uri": "https://localhost:8080/"
    },
    "id": "fe3ed4ad",
    "outputId": "f30f0bd7-5985-4e12-8c1c-43be7bff76a8"
   },
   "outputs": [
    {
     "data": {
      "text/plain": [
       "array(['Best Concert Ever', 'Enjoyed', 'Enjoyed', ..., 'Enjoyed',\n",
       "       'Worst Concert Ever', 'Worst Concert Ever'], dtype=object)"
      ]
     },
     "execution_count": 56,
     "metadata": {},
     "output_type": "execute_result"
    }
   ],
   "source": [
    "y_pred_test"
   ]
  },
  {
   "cell_type": "code",
   "execution_count": 57,
   "id": "2dadf1d9",
   "metadata": {
    "colab": {
     "base_uri": "https://localhost:8080/"
    },
    "id": "2dadf1d9",
    "outputId": "26b94e30-21e5-4bc6-e8c0-7beecf521a96"
   },
   "outputs": [
    {
     "data": {
      "text/plain": [
       "array(['ConcertExperience_70055', 'ConcertExperience_34799',\n",
       "       'ConcertExperience_100410', ..., 'ConcertExperience_197434',\n",
       "       'ConcertExperience_166029', 'ConcertExperience_24025'],\n",
       "      dtype=object)"
      ]
     },
     "execution_count": 57,
     "metadata": {},
     "output_type": "execute_result"
    }
   ],
   "source": [
    "ids_test.values"
   ]
  },
  {
   "cell_type": "code",
   "execution_count": 58,
   "id": "392c68e0",
   "metadata": {
    "id": "392c68e0"
   },
   "outputs": [],
   "source": [
    "df_soumission = pd.DataFrame({'Id' : ids_test.values, 'Predicted' : y_pred_test})"
   ]
  },
  {
   "cell_type": "code",
   "execution_count": 59,
   "id": "1699bb89",
   "metadata": {
    "id": "1699bb89"
   },
   "outputs": [],
   "source": [
    "df_soumission.to_csv('Soumission11.csv', index=False)"
   ]
  },
  {
   "cell_type": "code",
   "execution_count": null,
   "id": "ff725f15",
   "metadata": {},
   "outputs": [],
   "source": []
  }
 ],
 "metadata": {
  "colab": {
   "collapsed_sections": [
    "8ba6d285",
    "44ce7457",
    "14f7d21e",
    "f9492575",
    "fa743cc7",
    "751bb858",
    "3b32b23b",
    "412297f8",
    "a83898c4",
    "400feb53"
   ],
   "provenance": []
  },
  "kernelspec": {
   "display_name": "Python 3 (ipykernel)",
   "language": "python",
   "name": "python3"
  },
  "language_info": {
   "codemirror_mode": {
    "name": "ipython",
    "version": 3
   },
   "file_extension": ".py",
   "mimetype": "text/x-python",
   "name": "python",
   "nbconvert_exporter": "python",
   "pygments_lexer": "ipython3",
   "version": "3.9.12"
  }
 },
 "nbformat": 4,
 "nbformat_minor": 5
}
