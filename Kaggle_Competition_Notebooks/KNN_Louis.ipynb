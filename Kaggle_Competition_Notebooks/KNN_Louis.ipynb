{
 "cells": [
  {
   "cell_type": "markdown",
   "id": "c9da9488",
   "metadata": {},
   "source": [
    "1. Get train data and test data\n",
    "2. Split train data (train, eval) right away to simulate train vs test data\n",
    "3. Handle missing values (na and 'insert')\n",
    "4. Handle outliers"
   ]
  },
  {
   "cell_type": "code",
   "execution_count": 1,
   "id": "014a21ea",
   "metadata": {},
   "outputs": [],
   "source": [
    "import numpy as np\n",
    "import pandas as pd\n",
    "import copy\n",
    "from sklearn.model_selection import train_test_split\n",
    "from sklearn import preprocessing\n",
    "import os\n",
    "from scipy import stats\n",
    "from sklearn.preprocessing import OneHotEncoder"
   ]
  },
  {
   "cell_type": "code",
   "execution_count": 2,
   "id": "b6b6c5fb",
   "metadata": {},
   "outputs": [
    {
     "name": "stdout",
     "output_type": "stream",
     "text": [
      "(170000, 19)\n",
      "(30000, 18)\n"
     ]
    }
   ],
   "source": [
    "df_train = pd.read_csv('train.csv')\n",
    "df_test = pd.read_csv('test.csv')\n",
    "print(df_train.shape)\n",
    "print(df_test.shape)"
   ]
  },
  {
   "cell_type": "code",
   "execution_count": 3,
   "id": "d5958a38",
   "metadata": {},
   "outputs": [
    {
     "name": "stdout",
     "output_type": "stream",
     "text": [
      "(136000, 19)\n",
      "(34000, 19)\n"
     ]
    }
   ],
   "source": [
    "df_train, df_eval = np.split(df_train, [int(0.80*len(df_train))])\n",
    "print(df_train.shape)\n",
    "print(df_eval.shape)"
   ]
  },
  {
   "cell_type": "markdown",
   "id": "e8667548",
   "metadata": {},
   "source": [
    "# To Lower and To String"
   ]
  },
  {
   "cell_type": "code",
   "execution_count": 4,
   "id": "260ac42c",
   "metadata": {},
   "outputs": [],
   "source": [
    "def toLower(a):\n",
    "    if a == None or a != a:\n",
    "        pass\n",
    "    else:\n",
    "        a = a.lower()\n",
    "    return a\n",
    "\n",
    "def toString(a):\n",
    "  if a == None or a!=a :    #if a is none or nan on pass \n",
    "    pass \n",
    "  else:\n",
    "    a = str(int(a))   \n",
    "  return a\n",
    "\n",
    "for c in [\"Band Country of Origin\",\"Band Name\",\"Band Genre\",\"Concert Goer Country of Origin\"]:\n",
    "    df_train[c] = df_train[c].map(toLower)\n",
    "    df_eval[c] = df_eval[c].map(toLower)\n",
    "    df_test[c] = df_test[c].map(toLower)\n",
    "    \n",
    "for c in ['Concert ID']:\n",
    "    df_train[c] = df_train[c].map(toString)\n",
    "    df_eval[c] = df_eval[c].map(toString)\n",
    "    df_test[c] = df_test[c].map(toString)"
   ]
  },
  {
   "cell_type": "markdown",
   "id": "2cd64639",
   "metadata": {},
   "source": [
    "# By Decile"
   ]
  },
  {
   "cell_type": "code",
   "execution_count": 5,
   "id": "f1a2881f",
   "metadata": {},
   "outputs": [],
   "source": [
    "def groupByDecile(a):\n",
    "  if a == None or a!=a :     \n",
    "    pass \n",
    "  elif a< 20:\n",
    "    a = str(16)     #ca permet de faire commencer à 16 ans l'intervalle des âges sinon ce serait 10 ans X(\n",
    "  else :\n",
    "    a = a - a%10        #  Ex : 1976 - 1976%10 = 1970\n",
    "    a = str(int(a))\n",
    "  return a\n",
    "\n",
    "for c in [\"Band Debut\",\"Concert Goer Age\"]:\n",
    "    df_train[c] = df_train[c].map(groupByDecile)\n",
    "    df_eval[c] = df_eval[c].map(groupByDecile)\n",
    "    df_test[c] = df_test[c].map(groupByDecile)"
   ]
  },
  {
   "cell_type": "markdown",
   "id": "4497103f",
   "metadata": {},
   "source": [
    "# Handle Missing values"
   ]
  },
  {
   "cell_type": "code",
   "execution_count": 6,
   "id": "e4878ff9",
   "metadata": {},
   "outputs": [],
   "source": [
    "# Missing values are nan or '*insert*'\n",
    "# Want to replace by most popular\n",
    "from sklearn.impute import SimpleImputer\n",
    "imp = SimpleImputer(missing_values=np.nan, strategy='most_frequent')\n",
    "\n",
    "X_train = df_train.drop(columns=['Concert Enjoyment'])\n",
    "y_train = df_train['Concert Enjoyment']\n",
    "\n",
    "X_eval = df_eval.drop(columns=['Concert Enjoyment'])\n",
    "y_eval = df_eval['Concert Enjoyment']\n",
    "\n",
    "idx_train = X_train.index\n",
    "idx_eval = X_eval.index\n",
    "\n",
    "imp.fit(X_train)\n",
    "\n",
    "cols = X_train.columns.values\n",
    "\n",
    "X_train = imp.transform(X_train)\n",
    "X_eval = imp.transform(X_eval)\n",
    "X_test = imp.transform(df_test)\n",
    "\n",
    "# Quand soumission on train sur TOUT train\n",
    "df_train = pd.concat([pd.DataFrame(X_train, columns=cols, index=idx_train), y_train], axis=1)\n",
    "df_eval = pd.concat([pd.DataFrame(X_eval, columns=cols, index=idx_eval), y_eval], axis=1)\n",
    "df_test = pd.DataFrame(X_test, columns=cols)\n"
   ]
  },
  {
   "cell_type": "markdown",
   "id": "8713591e",
   "metadata": {},
   "source": [
    "# To Int"
   ]
  },
  {
   "cell_type": "code",
   "execution_count": 7,
   "id": "9a563248",
   "metadata": {},
   "outputs": [],
   "source": [
    "cols_to_int = ['Inside Venue','Rain','Seated']\n",
    "for c in cols_to_int:\n",
    "    df_train[c] = df_train[c].astype(int)\n",
    "    df_eval[c] = df_eval[c].astype(int)\n",
    "    # Quand soummission\n",
    "    df_test[c] = df_test[c].astype(int)"
   ]
  },
  {
   "cell_type": "code",
   "execution_count": 8,
   "id": "da62e6c9",
   "metadata": {},
   "outputs": [],
   "source": [
    "cols_with_insert = ['Band Name', 'Band Genre', 'Band Country of Origin','Concert Goer Country of Origin']\n",
    "for c in cols_with_insert:\n",
    "    df_train.loc[df_train[c].str.contains('insert'), c] = df_train[c].mode()[0]\n",
    "    df_eval.loc[df_eval[c].str.contains('insert'), c] = df_train[c].mode()[0]\n",
    "    # Quand soumission on fait tout sur le train mode\n",
    "    df_test.loc[df_test[c].str.contains('insert'), c] = df_test[c].mode()[0]"
   ]
  },
  {
   "cell_type": "markdown",
   "id": "85fda498",
   "metadata": {},
   "source": [
    "# Handle Outliers"
   ]
  },
  {
   "cell_type": "code",
   "execution_count": 9,
   "id": "4a682eaa",
   "metadata": {},
   "outputs": [],
   "source": [
    "def convertConcertAttendance(a):\n",
    "    if int(a) > 162754:\n",
    "        a = (a / 10000)\n",
    "    return a\n",
    "\n",
    "df_train['Concert Attendance'] = df_train['Concert Attendance'].map(convertConcertAttendance)\n",
    "df_eval['Concert Attendance'] = df_eval['Concert Attendance'].map(convertConcertAttendance)\n",
    "# Quand soumission\n",
    "df_test['Concert Attendance'] = df_test['Concert Attendance'].map(convertConcertAttendance)"
   ]
  },
  {
   "cell_type": "code",
   "execution_count": 10,
   "id": "605ec0f5",
   "metadata": {},
   "outputs": [],
   "source": [
    "df_train.loc[\n",
    "    (df_train['Personnality Trait 2'] < -5) |\n",
    "    (df_train['Personnality Trait 2'] > 5), 'Personnality Trait 2'\n",
    "] = df_train['Personnality Trait 2'].mean()\n",
    "\n",
    "df_eval.loc[\n",
    "    (df_eval['Personnality Trait 2'] < -5) |\n",
    "    (df_eval['Personnality Trait 2'] > 5), 'Personnality Trait 2'\n",
    "] = df_train['Personnality Trait 2'].mean()\n",
    "\n",
    "\n",
    "df_test.loc[\n",
    "    (df_test['Personnality Trait 2'] < -5) |\n",
    "    (df_test['Personnality Trait 2'] > 5), 'Personnality Trait 2'\n",
    "] = df_train['Personnality Trait 2'].mean()\n",
    "\n",
    "# Quand soumission on le fait sur df_test"
   ]
  },
  {
   "cell_type": "markdown",
   "id": "ac902b23",
   "metadata": {},
   "source": [
    "# Group Data"
   ]
  },
  {
   "cell_type": "code",
   "execution_count": 11,
   "id": "6db09930",
   "metadata": {},
   "outputs": [],
   "source": [
    "def groupCountry(a):\n",
    "    if a not in ['canada', 'united states of america (usa)', 'united kingdom (uk)']:\n",
    "        a = 'other'\n",
    "    return a\n",
    "\n",
    "df_train['Concert Goer Country of Origin'] = df_train['Concert Goer Country of Origin'].map(groupCountry)\n",
    "df_eval['Concert Goer Country of Origin'] = df_eval['Concert Goer Country of Origin'].map(groupCountry)\n",
    "# quand soumission sur test aussi\n",
    "df_test['Concert Goer Country of Origin'] = df_test['Concert Goer Country of Origin'].map(groupCountry)"
   ]
  },
  {
   "cell_type": "markdown",
   "id": "cde745a6",
   "metadata": {},
   "source": [
    "# Drop Cols"
   ]
  },
  {
   "cell_type": "code",
   "execution_count": 12,
   "id": "37717120",
   "metadata": {},
   "outputs": [],
   "source": [
    "cols_to_drop = ['Id', 'Concert ID', 'Concert Goer ID']\n",
    "ids_test = df_test['Id']\n",
    "df_train = df_train.drop(columns=cols_to_drop)\n",
    "df_eval = df_eval.drop(columns=cols_to_drop)\n",
    "df_test = df_test.drop(columns=cols_to_drop)"
   ]
  },
  {
   "cell_type": "markdown",
   "id": "b2442cf3",
   "metadata": {},
   "source": [
    "# Balance Dataset"
   ]
  },
  {
   "cell_type": "markdown",
   "id": "0dab621b",
   "metadata": {},
   "source": [
    "from sklearn.metrics import DistanceMetric\n",
    "from imblearn.over_sampling import SMOTENC"
   ]
  },
  {
   "cell_type": "markdown",
   "id": "962da782",
   "metadata": {},
   "source": [
    "df_train['Concert Enjoyment'].value_counts()"
   ]
  },
  {
   "cell_type": "markdown",
   "id": "6067b2d6",
   "metadata": {},
   "source": [
    "df_train = df_train.drop(\n",
    "    df_train[\n",
    "        df_train['Concert Enjoyment'] == 'Enjoyed'\n",
    "    ].sample(frac=0.25).index)\n",
    "\n",
    "df_train = df_train.drop(\n",
    "    df_train[\n",
    "        df_train['Concert Enjoyment'] == 'Did Not Enjoy'\n",
    "    ].sample(frac=0.25).index)"
   ]
  },
  {
   "cell_type": "markdown",
   "id": "5e83c2cd",
   "metadata": {},
   "source": [
    "df_train['Concert Enjoyment'].value_counts()"
   ]
  },
  {
   "cell_type": "markdown",
   "id": "ad667257",
   "metadata": {},
   "source": [
    "nb_class_dict = {\n",
    "    'Did Not Enjoy':40783,\n",
    "    'Enjoyed':40769,\n",
    "    'Worst Concert Ever':26000,\n",
    "    'Best Concert Ever':26000\n",
    "}\n",
    "X = df_train.drop(columns=['Concert Enjoyment'])\n",
    "y = df_train['Concert Enjoyment']\n",
    "cols = X.columns\n",
    "num_cols = X._get_numeric_data().columns\n",
    "cat_cols = list(set(cols) - set(num_cols))\n",
    "cat_cols_idx = [X.columns.get_loc(c) for c in cat_cols]\n",
    "\n",
    "sm = SMOTENC(random_state=0, sampling_strategy=nb_class_dict, categorical_features=cat_cols_idx)\n",
    "\n",
    "X_bal, y_bal = sm.fit_resample(X, y)"
   ]
  },
  {
   "cell_type": "markdown",
   "id": "d9ff4e53",
   "metadata": {},
   "source": [
    "df_train = pd.concat([X_bal, y_bal], axis=1)"
   ]
  },
  {
   "cell_type": "markdown",
   "id": "88b0f341",
   "metadata": {},
   "source": [
    "df_train['Concert Enjoyment'].value_counts()"
   ]
  },
  {
   "cell_type": "markdown",
   "id": "1c6fa83e",
   "metadata": {},
   "source": [
    "# One Hot"
   ]
  },
  {
   "cell_type": "code",
   "execution_count": 13,
   "id": "1ff27719",
   "metadata": {},
   "outputs": [],
   "source": [
    "one_hot_cols = ['Band Name', 'Band Genre', 'Band Country of Origin', 'Concert Goer Country of Origin']"
   ]
  },
  {
   "cell_type": "code",
   "execution_count": 14,
   "id": "6e9c8d9f",
   "metadata": {},
   "outputs": [],
   "source": [
    "from sklearn.preprocessing import OneHotEncoder\n",
    "from sklearn.compose import make_column_transformer"
   ]
  },
  {
   "cell_type": "code",
   "execution_count": 15,
   "id": "dee0eccd",
   "metadata": {},
   "outputs": [],
   "source": [
    "X_train = df_train.drop(columns=['Concert Enjoyment'])\n",
    "X_eval = df_eval.drop(columns=['Concert Enjoyment'])\n",
    "\n",
    "y_train = df_train['Concert Enjoyment']\n",
    "y_eval = df_eval['Concert Enjoyment']"
   ]
  },
  {
   "cell_type": "code",
   "execution_count": 16,
   "id": "924fc84f",
   "metadata": {},
   "outputs": [
    {
     "data": {
      "text/plain": [
       "array(['Band Name', 'Band Genre', 'Band Country of Origin', 'Band Debut',\n",
       "       'Concert Attendance', 'Inside Venue', 'Rain', 'Seated',\n",
       "       'Personnality Trait 1', 'Personnality Trait 2',\n",
       "       'Personnality Trait 3', 'Personnality Trait 4', 'Concert Goer Age',\n",
       "       'Height (cm)', 'Concert Goer Country of Origin'], dtype=object)"
      ]
     },
     "execution_count": 16,
     "metadata": {},
     "output_type": "execute_result"
    }
   ],
   "source": [
    "df_test.columns.values"
   ]
  },
  {
   "cell_type": "code",
   "execution_count": 17,
   "id": "a7974f35",
   "metadata": {},
   "outputs": [],
   "source": [
    "X_train = pd.get_dummies(X_train, columns = one_hot_cols)\n",
    "X_eval = pd.get_dummies(X_eval, columns = one_hot_cols)\n",
    "X_test = pd.get_dummies(df_test, columns = one_hot_cols)"
   ]
  },
  {
   "cell_type": "code",
   "execution_count": 18,
   "id": "3feb8660",
   "metadata": {},
   "outputs": [
    {
     "data": {
      "text/plain": [
       "Index(['Band Debut', 'Concert Attendance', 'Inside Venue', 'Rain', 'Seated',\n",
       "       'Personnality Trait 1', 'Personnality Trait 2', 'Personnality Trait 3',\n",
       "       'Personnality Trait 4', 'Concert Goer Age', 'Height (cm)',\n",
       "       'Band Name_a dozen running iced frogs', 'Band Name_allo knickers',\n",
       "       'Band Name_beyond devon', 'Band Name_big autumn',\n",
       "       'Band Name_big division', 'Band Name_big frogs dream',\n",
       "       'Band Name_big joystick', 'Band Name_crazy crazy',\n",
       "       'Band Name_crazy dream and a pinch of joystick',\n",
       "       'Band Name_crazy frogs of devon', 'Band Name_crazy joystick cult',\n",
       "       'Band Name_crazy tooth', 'Band Name_crazyplay',\n",
       "       'Band Name_das joystick', 'Band Name_devon revival',\n",
       "       'Band Name_devon thunder thighs', 'Band Name_disciples of devon',\n",
       "       'Band Name_flight of the knickers', 'Band Name_frogsica',\n",
       "       'Band Name_it's my joystick', 'Band Name_joystick a dozen',\n",
       "       'Band Name_joystick army', 'Band Name_joystick attack',\n",
       "       'Band Name_joystick for the jockies',\n",
       "       'Band Name_joystick of the big knickers', 'Band Name_king blue',\n",
       "       'Band Name_knickers a dozen', 'Band Name_knickers for the jockies',\n",
       "       'Band Name_lord of the crazy frogs', 'Band Name_my heart, your thighs',\n",
       "       'Band Name_puddle of joystick', 'Band Name_purely blue',\n",
       "       'Band Name_ron nor', 'Band Name_ron talent',\n",
       "       'Band Name_ron's midnight jockies', 'Band Name_ronatron',\n",
       "       'Band Name_rubbish devon frogs', 'Band Name_running at the disco',\n",
       "       'Band Name_running for the crazy woman', 'Band Name_running in devon',\n",
       "       'Band Name_running twins', 'Band Name_super crazy frogs',\n",
       "       'Band Name_taking back autumn', 'Band Name_teenage crazy blue knickers',\n",
       "       'Band Name_the big service', 'Band Name_the crazy heroes of devon',\n",
       "       'Band Name_the crazy r experience',\n",
       "       'Band Name_the running crazy jockies', 'Band Name_the running knickers',\n",
       "       'Band Name_this joystick', 'Band Name_twilight of the joystick gods',\n",
       "       'Band Name_undercover joystick and the crazy knickers',\n",
       "       'Band Name_why frogs, why?', 'Band Genre_country',\n",
       "       'Band Genre_heavy metal', 'Band Genre_hip hop/rap',\n",
       "       'Band Genre_indie/alt rock', 'Band Genre_pop music', 'Band Genre_rnb',\n",
       "       'Band Genre_rock n roll', 'Band Country of Origin_canada',\n",
       "       'Band Country of Origin_united kingdom (uk)',\n",
       "       'Band Country of Origin_united states of america (usa)',\n",
       "       'Concert Goer Country of Origin_canada',\n",
       "       'Concert Goer Country of Origin_other',\n",
       "       'Concert Goer Country of Origin_united kingdom (uk)',\n",
       "       'Concert Goer Country of Origin_united states of america (usa)'],\n",
       "      dtype='object')"
      ]
     },
     "execution_count": 18,
     "metadata": {},
     "output_type": "execute_result"
    }
   ],
   "source": [
    "X_test.columns"
   ]
  },
  {
   "cell_type": "code",
   "execution_count": 19,
   "id": "8d79daea",
   "metadata": {},
   "outputs": [],
   "source": [
    "X_train = X_train.reindex(sorted(X_train.columns), axis=1)\n",
    "X_eval = X_eval.reindex(sorted(X_train.columns), axis=1)\n",
    "X_test = X_test.reindex(sorted(X_test.columns), axis=1)"
   ]
  },
  {
   "cell_type": "code",
   "execution_count": 20,
   "id": "e74e96e3",
   "metadata": {},
   "outputs": [],
   "source": [
    "# Pour verifier qu'ils sont dans le meme ordre\n",
    "for i , c in enumerate(X_train.columns.values):\n",
    "    if X_test.columns.values[i] != c:\n",
    "        print(c)"
   ]
  },
  {
   "cell_type": "code",
   "execution_count": 21,
   "id": "d1374167",
   "metadata": {},
   "outputs": [
    {
     "data": {
      "text/html": [
       "<div>\n",
       "<style scoped>\n",
       "    .dataframe tbody tr th:only-of-type {\n",
       "        vertical-align: middle;\n",
       "    }\n",
       "\n",
       "    .dataframe tbody tr th {\n",
       "        vertical-align: top;\n",
       "    }\n",
       "\n",
       "    .dataframe thead th {\n",
       "        text-align: right;\n",
       "    }\n",
       "</style>\n",
       "<table border=\"1\" class=\"dataframe\">\n",
       "  <thead>\n",
       "    <tr style=\"text-align: right;\">\n",
       "      <th></th>\n",
       "      <th>Band Country of Origin_canada</th>\n",
       "      <th>Band Country of Origin_united kingdom (uk)</th>\n",
       "      <th>Band Country of Origin_united states of america (usa)</th>\n",
       "      <th>Band Debut</th>\n",
       "      <th>Band Genre_country</th>\n",
       "      <th>Band Genre_heavy metal</th>\n",
       "      <th>Band Genre_hip hop/rap</th>\n",
       "      <th>Band Genre_indie/alt rock</th>\n",
       "      <th>Band Genre_pop music</th>\n",
       "      <th>Band Genre_rnb</th>\n",
       "      <th>...</th>\n",
       "      <th>Concert Goer Country of Origin_united kingdom (uk)</th>\n",
       "      <th>Concert Goer Country of Origin_united states of america (usa)</th>\n",
       "      <th>Height (cm)</th>\n",
       "      <th>Inside Venue</th>\n",
       "      <th>Personnality Trait 1</th>\n",
       "      <th>Personnality Trait 2</th>\n",
       "      <th>Personnality Trait 3</th>\n",
       "      <th>Personnality Trait 4</th>\n",
       "      <th>Rain</th>\n",
       "      <th>Seated</th>\n",
       "    </tr>\n",
       "  </thead>\n",
       "  <tbody>\n",
       "    <tr>\n",
       "      <th>0</th>\n",
       "      <td>0</td>\n",
       "      <td>0</td>\n",
       "      <td>1</td>\n",
       "      <td>1970</td>\n",
       "      <td>0</td>\n",
       "      <td>0</td>\n",
       "      <td>0</td>\n",
       "      <td>1</td>\n",
       "      <td>0</td>\n",
       "      <td>0</td>\n",
       "      <td>...</td>\n",
       "      <td>0</td>\n",
       "      <td>0</td>\n",
       "      <td>140.0</td>\n",
       "      <td>0</td>\n",
       "      <td>0.330843</td>\n",
       "      <td>-0.958408</td>\n",
       "      <td>-0.943548</td>\n",
       "      <td>-1.636806</td>\n",
       "      <td>0</td>\n",
       "      <td>0</td>\n",
       "    </tr>\n",
       "    <tr>\n",
       "      <th>1</th>\n",
       "      <td>0</td>\n",
       "      <td>0</td>\n",
       "      <td>1</td>\n",
       "      <td>1960</td>\n",
       "      <td>0</td>\n",
       "      <td>0</td>\n",
       "      <td>0</td>\n",
       "      <td>0</td>\n",
       "      <td>1</td>\n",
       "      <td>0</td>\n",
       "      <td>...</td>\n",
       "      <td>1</td>\n",
       "      <td>0</td>\n",
       "      <td>158.0</td>\n",
       "      <td>1</td>\n",
       "      <td>-2.069449</td>\n",
       "      <td>0.017777</td>\n",
       "      <td>-1.910675</td>\n",
       "      <td>0.610265</td>\n",
       "      <td>0</td>\n",
       "      <td>1</td>\n",
       "    </tr>\n",
       "    <tr>\n",
       "      <th>2</th>\n",
       "      <td>1</td>\n",
       "      <td>0</td>\n",
       "      <td>0</td>\n",
       "      <td>1950</td>\n",
       "      <td>0</td>\n",
       "      <td>0</td>\n",
       "      <td>0</td>\n",
       "      <td>0</td>\n",
       "      <td>0</td>\n",
       "      <td>0</td>\n",
       "      <td>...</td>\n",
       "      <td>0</td>\n",
       "      <td>1</td>\n",
       "      <td>159.0</td>\n",
       "      <td>0</td>\n",
       "      <td>-0.484268</td>\n",
       "      <td>1.968772</td>\n",
       "      <td>-0.064167</td>\n",
       "      <td>-1.260871</td>\n",
       "      <td>0</td>\n",
       "      <td>1</td>\n",
       "    </tr>\n",
       "    <tr>\n",
       "      <th>3</th>\n",
       "      <td>0</td>\n",
       "      <td>0</td>\n",
       "      <td>1</td>\n",
       "      <td>1990</td>\n",
       "      <td>0</td>\n",
       "      <td>0</td>\n",
       "      <td>0</td>\n",
       "      <td>0</td>\n",
       "      <td>0</td>\n",
       "      <td>1</td>\n",
       "      <td>...</td>\n",
       "      <td>0</td>\n",
       "      <td>0</td>\n",
       "      <td>150.0</td>\n",
       "      <td>0</td>\n",
       "      <td>-0.858054</td>\n",
       "      <td>1.022827</td>\n",
       "      <td>-0.348389</td>\n",
       "      <td>-1.147251</td>\n",
       "      <td>1</td>\n",
       "      <td>0</td>\n",
       "    </tr>\n",
       "    <tr>\n",
       "      <th>4</th>\n",
       "      <td>0</td>\n",
       "      <td>0</td>\n",
       "      <td>1</td>\n",
       "      <td>1960</td>\n",
       "      <td>0</td>\n",
       "      <td>0</td>\n",
       "      <td>0</td>\n",
       "      <td>0</td>\n",
       "      <td>1</td>\n",
       "      <td>0</td>\n",
       "      <td>...</td>\n",
       "      <td>1</td>\n",
       "      <td>0</td>\n",
       "      <td>166.0</td>\n",
       "      <td>0</td>\n",
       "      <td>-0.793029</td>\n",
       "      <td>-1.166528</td>\n",
       "      <td>-0.043766</td>\n",
       "      <td>0.969661</td>\n",
       "      <td>0</td>\n",
       "      <td>0</td>\n",
       "    </tr>\n",
       "    <tr>\n",
       "      <th>...</th>\n",
       "      <td>...</td>\n",
       "      <td>...</td>\n",
       "      <td>...</td>\n",
       "      <td>...</td>\n",
       "      <td>...</td>\n",
       "      <td>...</td>\n",
       "      <td>...</td>\n",
       "      <td>...</td>\n",
       "      <td>...</td>\n",
       "      <td>...</td>\n",
       "      <td>...</td>\n",
       "      <td>...</td>\n",
       "      <td>...</td>\n",
       "      <td>...</td>\n",
       "      <td>...</td>\n",
       "      <td>...</td>\n",
       "      <td>...</td>\n",
       "      <td>...</td>\n",
       "      <td>...</td>\n",
       "      <td>...</td>\n",
       "      <td>...</td>\n",
       "    </tr>\n",
       "    <tr>\n",
       "      <th>135995</th>\n",
       "      <td>0</td>\n",
       "      <td>0</td>\n",
       "      <td>1</td>\n",
       "      <td>1960</td>\n",
       "      <td>0</td>\n",
       "      <td>0</td>\n",
       "      <td>0</td>\n",
       "      <td>0</td>\n",
       "      <td>0</td>\n",
       "      <td>1</td>\n",
       "      <td>...</td>\n",
       "      <td>0</td>\n",
       "      <td>1</td>\n",
       "      <td>157.0</td>\n",
       "      <td>1</td>\n",
       "      <td>-0.156783</td>\n",
       "      <td>-1.517616</td>\n",
       "      <td>-1.116404</td>\n",
       "      <td>1.890379</td>\n",
       "      <td>0</td>\n",
       "      <td>0</td>\n",
       "    </tr>\n",
       "    <tr>\n",
       "      <th>135996</th>\n",
       "      <td>0</td>\n",
       "      <td>0</td>\n",
       "      <td>1</td>\n",
       "      <td>1990</td>\n",
       "      <td>0</td>\n",
       "      <td>1</td>\n",
       "      <td>0</td>\n",
       "      <td>0</td>\n",
       "      <td>0</td>\n",
       "      <td>0</td>\n",
       "      <td>...</td>\n",
       "      <td>0</td>\n",
       "      <td>0</td>\n",
       "      <td>140.0</td>\n",
       "      <td>0</td>\n",
       "      <td>-0.726809</td>\n",
       "      <td>1.155656</td>\n",
       "      <td>-0.756992</td>\n",
       "      <td>1.371059</td>\n",
       "      <td>1</td>\n",
       "      <td>0</td>\n",
       "    </tr>\n",
       "    <tr>\n",
       "      <th>135997</th>\n",
       "      <td>0</td>\n",
       "      <td>0</td>\n",
       "      <td>1</td>\n",
       "      <td>1990</td>\n",
       "      <td>0</td>\n",
       "      <td>1</td>\n",
       "      <td>0</td>\n",
       "      <td>0</td>\n",
       "      <td>0</td>\n",
       "      <td>0</td>\n",
       "      <td>...</td>\n",
       "      <td>0</td>\n",
       "      <td>1</td>\n",
       "      <td>170.0</td>\n",
       "      <td>0</td>\n",
       "      <td>1.172671</td>\n",
       "      <td>-0.298887</td>\n",
       "      <td>0.994301</td>\n",
       "      <td>0.839205</td>\n",
       "      <td>1</td>\n",
       "      <td>1</td>\n",
       "    </tr>\n",
       "    <tr>\n",
       "      <th>135998</th>\n",
       "      <td>0</td>\n",
       "      <td>0</td>\n",
       "      <td>1</td>\n",
       "      <td>1980</td>\n",
       "      <td>0</td>\n",
       "      <td>1</td>\n",
       "      <td>0</td>\n",
       "      <td>0</td>\n",
       "      <td>0</td>\n",
       "      <td>0</td>\n",
       "      <td>...</td>\n",
       "      <td>0</td>\n",
       "      <td>1</td>\n",
       "      <td>180.0</td>\n",
       "      <td>0</td>\n",
       "      <td>-0.780775</td>\n",
       "      <td>0.097951</td>\n",
       "      <td>0.295827</td>\n",
       "      <td>-0.381833</td>\n",
       "      <td>1</td>\n",
       "      <td>1</td>\n",
       "    </tr>\n",
       "    <tr>\n",
       "      <th>135999</th>\n",
       "      <td>0</td>\n",
       "      <td>0</td>\n",
       "      <td>1</td>\n",
       "      <td>1990</td>\n",
       "      <td>0</td>\n",
       "      <td>0</td>\n",
       "      <td>1</td>\n",
       "      <td>0</td>\n",
       "      <td>0</td>\n",
       "      <td>0</td>\n",
       "      <td>...</td>\n",
       "      <td>0</td>\n",
       "      <td>0</td>\n",
       "      <td>148.0</td>\n",
       "      <td>1</td>\n",
       "      <td>0.594627</td>\n",
       "      <td>-1.170054</td>\n",
       "      <td>1.185474</td>\n",
       "      <td>0.652493</td>\n",
       "      <td>1</td>\n",
       "      <td>0</td>\n",
       "    </tr>\n",
       "  </tbody>\n",
       "</table>\n",
       "<p>136000 rows × 78 columns</p>\n",
       "</div>"
      ],
      "text/plain": [
       "        Band Country of Origin_canada  \\\n",
       "0                                   0   \n",
       "1                                   0   \n",
       "2                                   1   \n",
       "3                                   0   \n",
       "4                                   0   \n",
       "...                               ...   \n",
       "135995                              0   \n",
       "135996                              0   \n",
       "135997                              0   \n",
       "135998                              0   \n",
       "135999                              0   \n",
       "\n",
       "        Band Country of Origin_united kingdom (uk)  \\\n",
       "0                                                0   \n",
       "1                                                0   \n",
       "2                                                0   \n",
       "3                                                0   \n",
       "4                                                0   \n",
       "...                                            ...   \n",
       "135995                                           0   \n",
       "135996                                           0   \n",
       "135997                                           0   \n",
       "135998                                           0   \n",
       "135999                                           0   \n",
       "\n",
       "        Band Country of Origin_united states of america (usa) Band Debut  \\\n",
       "0                                                       1           1970   \n",
       "1                                                       1           1960   \n",
       "2                                                       0           1950   \n",
       "3                                                       1           1990   \n",
       "4                                                       1           1960   \n",
       "...                                                   ...            ...   \n",
       "135995                                                  1           1960   \n",
       "135996                                                  1           1990   \n",
       "135997                                                  1           1990   \n",
       "135998                                                  1           1980   \n",
       "135999                                                  1           1990   \n",
       "\n",
       "        Band Genre_country  Band Genre_heavy metal  Band Genre_hip hop/rap  \\\n",
       "0                        0                       0                       0   \n",
       "1                        0                       0                       0   \n",
       "2                        0                       0                       0   \n",
       "3                        0                       0                       0   \n",
       "4                        0                       0                       0   \n",
       "...                    ...                     ...                     ...   \n",
       "135995                   0                       0                       0   \n",
       "135996                   0                       1                       0   \n",
       "135997                   0                       1                       0   \n",
       "135998                   0                       1                       0   \n",
       "135999                   0                       0                       1   \n",
       "\n",
       "        Band Genre_indie/alt rock  Band Genre_pop music  Band Genre_rnb  ...  \\\n",
       "0                               1                     0               0  ...   \n",
       "1                               0                     1               0  ...   \n",
       "2                               0                     0               0  ...   \n",
       "3                               0                     0               1  ...   \n",
       "4                               0                     1               0  ...   \n",
       "...                           ...                   ...             ...  ...   \n",
       "135995                          0                     0               1  ...   \n",
       "135996                          0                     0               0  ...   \n",
       "135997                          0                     0               0  ...   \n",
       "135998                          0                     0               0  ...   \n",
       "135999                          0                     0               0  ...   \n",
       "\n",
       "        Concert Goer Country of Origin_united kingdom (uk)  \\\n",
       "0                                                       0    \n",
       "1                                                       1    \n",
       "2                                                       0    \n",
       "3                                                       0    \n",
       "4                                                       1    \n",
       "...                                                   ...    \n",
       "135995                                                  0    \n",
       "135996                                                  0    \n",
       "135997                                                  0    \n",
       "135998                                                  0    \n",
       "135999                                                  0    \n",
       "\n",
       "        Concert Goer Country of Origin_united states of america (usa)  \\\n",
       "0                                                       0               \n",
       "1                                                       0               \n",
       "2                                                       1               \n",
       "3                                                       0               \n",
       "4                                                       0               \n",
       "...                                                   ...               \n",
       "135995                                                  1               \n",
       "135996                                                  0               \n",
       "135997                                                  1               \n",
       "135998                                                  1               \n",
       "135999                                                  0               \n",
       "\n",
       "        Height (cm)  Inside Venue  Personnality Trait 1  Personnality Trait 2  \\\n",
       "0             140.0             0              0.330843             -0.958408   \n",
       "1             158.0             1             -2.069449              0.017777   \n",
       "2             159.0             0             -0.484268              1.968772   \n",
       "3             150.0             0             -0.858054              1.022827   \n",
       "4             166.0             0             -0.793029             -1.166528   \n",
       "...             ...           ...                   ...                   ...   \n",
       "135995        157.0             1             -0.156783             -1.517616   \n",
       "135996        140.0             0             -0.726809              1.155656   \n",
       "135997        170.0             0              1.172671             -0.298887   \n",
       "135998        180.0             0             -0.780775              0.097951   \n",
       "135999        148.0             1              0.594627             -1.170054   \n",
       "\n",
       "        Personnality Trait 3  Personnality Trait 4  Rain  Seated  \n",
       "0                  -0.943548             -1.636806     0       0  \n",
       "1                  -1.910675              0.610265     0       1  \n",
       "2                  -0.064167             -1.260871     0       1  \n",
       "3                  -0.348389             -1.147251     1       0  \n",
       "4                  -0.043766              0.969661     0       0  \n",
       "...                      ...                   ...   ...     ...  \n",
       "135995             -1.116404              1.890379     0       0  \n",
       "135996             -0.756992              1.371059     1       0  \n",
       "135997              0.994301              0.839205     1       1  \n",
       "135998              0.295827             -0.381833     1       1  \n",
       "135999              1.185474              0.652493     1       0  \n",
       "\n",
       "[136000 rows x 78 columns]"
      ]
     },
     "execution_count": 21,
     "metadata": {},
     "output_type": "execute_result"
    }
   ],
   "source": [
    "X_train"
   ]
  },
  {
   "cell_type": "markdown",
   "id": "d4ee7d27",
   "metadata": {},
   "source": [
    "# Scale"
   ]
  },
  {
   "cell_type": "code",
   "execution_count": 22,
   "id": "d894eba7",
   "metadata": {},
   "outputs": [],
   "source": [
    "from sklearn.preprocessing import StandardScaler, MinMaxScaler"
   ]
  },
  {
   "cell_type": "code",
   "execution_count": 23,
   "id": "df599772",
   "metadata": {},
   "outputs": [],
   "source": [
    "sc = MinMaxScaler()\n",
    "sc.fit(X_train)\n",
    "\n",
    "X_train = sc.transform(X_train)\n",
    "X_eval = sc.transform(X_eval)\n",
    "X_test = sc.transform(X_test)"
   ]
  },
  {
   "cell_type": "markdown",
   "id": "4d3e6777",
   "metadata": {},
   "source": [
    "# Predictions"
   ]
  },
  {
   "cell_type": "code",
   "execution_count": 24,
   "id": "ca541228",
   "metadata": {},
   "outputs": [],
   "source": [
    "from sklearn.neighbors import KNeighborsClassifier"
   ]
  },
  {
   "cell_type": "code",
   "execution_count": 25,
   "id": "0d427594",
   "metadata": {},
   "outputs": [],
   "source": [
    "knn = KNeighborsClassifier(n_neighbors=27, weights='uniform', p=1, algorithm='kd_tree')"
   ]
  },
  {
   "cell_type": "code",
   "execution_count": 26,
   "id": "ea9929e3",
   "metadata": {},
   "outputs": [],
   "source": [
    "from sklearn.preprocessing import LabelEncoder"
   ]
  },
  {
   "cell_type": "code",
   "execution_count": 27,
   "id": "8fc35dcc",
   "metadata": {},
   "outputs": [],
   "source": [
    "le = LabelEncoder().fit(y_train)\n",
    "y_train_encoded = le.transform(y_train)\n",
    "y_eval_encoded = le.transform(y_eval)"
   ]
  },
  {
   "cell_type": "code",
   "execution_count": 28,
   "id": "bfa323fe",
   "metadata": {},
   "outputs": [
    {
     "data": {
      "text/html": [
       "<style>#sk-container-id-1 {color: black;background-color: white;}#sk-container-id-1 pre{padding: 0;}#sk-container-id-1 div.sk-toggleable {background-color: white;}#sk-container-id-1 label.sk-toggleable__label {cursor: pointer;display: block;width: 100%;margin-bottom: 0;padding: 0.3em;box-sizing: border-box;text-align: center;}#sk-container-id-1 label.sk-toggleable__label-arrow:before {content: \"▸\";float: left;margin-right: 0.25em;color: #696969;}#sk-container-id-1 label.sk-toggleable__label-arrow:hover:before {color: black;}#sk-container-id-1 div.sk-estimator:hover label.sk-toggleable__label-arrow:before {color: black;}#sk-container-id-1 div.sk-toggleable__content {max-height: 0;max-width: 0;overflow: hidden;text-align: left;background-color: #f0f8ff;}#sk-container-id-1 div.sk-toggleable__content pre {margin: 0.2em;color: black;border-radius: 0.25em;background-color: #f0f8ff;}#sk-container-id-1 input.sk-toggleable__control:checked~div.sk-toggleable__content {max-height: 200px;max-width: 100%;overflow: auto;}#sk-container-id-1 input.sk-toggleable__control:checked~label.sk-toggleable__label-arrow:before {content: \"▾\";}#sk-container-id-1 div.sk-estimator input.sk-toggleable__control:checked~label.sk-toggleable__label {background-color: #d4ebff;}#sk-container-id-1 div.sk-label input.sk-toggleable__control:checked~label.sk-toggleable__label {background-color: #d4ebff;}#sk-container-id-1 input.sk-hidden--visually {border: 0;clip: rect(1px 1px 1px 1px);clip: rect(1px, 1px, 1px, 1px);height: 1px;margin: -1px;overflow: hidden;padding: 0;position: absolute;width: 1px;}#sk-container-id-1 div.sk-estimator {font-family: monospace;background-color: #f0f8ff;border: 1px dotted black;border-radius: 0.25em;box-sizing: border-box;margin-bottom: 0.5em;}#sk-container-id-1 div.sk-estimator:hover {background-color: #d4ebff;}#sk-container-id-1 div.sk-parallel-item::after {content: \"\";width: 100%;border-bottom: 1px solid gray;flex-grow: 1;}#sk-container-id-1 div.sk-label:hover label.sk-toggleable__label {background-color: #d4ebff;}#sk-container-id-1 div.sk-serial::before {content: \"\";position: absolute;border-left: 1px solid gray;box-sizing: border-box;top: 0;bottom: 0;left: 50%;z-index: 0;}#sk-container-id-1 div.sk-serial {display: flex;flex-direction: column;align-items: center;background-color: white;padding-right: 0.2em;padding-left: 0.2em;position: relative;}#sk-container-id-1 div.sk-item {position: relative;z-index: 1;}#sk-container-id-1 div.sk-parallel {display: flex;align-items: stretch;justify-content: center;background-color: white;position: relative;}#sk-container-id-1 div.sk-item::before, #sk-container-id-1 div.sk-parallel-item::before {content: \"\";position: absolute;border-left: 1px solid gray;box-sizing: border-box;top: 0;bottom: 0;left: 50%;z-index: -1;}#sk-container-id-1 div.sk-parallel-item {display: flex;flex-direction: column;z-index: 1;position: relative;background-color: white;}#sk-container-id-1 div.sk-parallel-item:first-child::after {align-self: flex-end;width: 50%;}#sk-container-id-1 div.sk-parallel-item:last-child::after {align-self: flex-start;width: 50%;}#sk-container-id-1 div.sk-parallel-item:only-child::after {width: 0;}#sk-container-id-1 div.sk-dashed-wrapped {border: 1px dashed gray;margin: 0 0.4em 0.5em 0.4em;box-sizing: border-box;padding-bottom: 0.4em;background-color: white;}#sk-container-id-1 div.sk-label label {font-family: monospace;font-weight: bold;display: inline-block;line-height: 1.2em;}#sk-container-id-1 div.sk-label-container {text-align: center;}#sk-container-id-1 div.sk-container {/* jupyter's `normalize.less` sets `[hidden] { display: none; }` but bootstrap.min.css set `[hidden] { display: none !important; }` so we also need the `!important` here to be able to override the default hidden behavior on the sphinx rendered scikit-learn.org. See: https://github.com/scikit-learn/scikit-learn/issues/21755 */display: inline-block !important;position: relative;}#sk-container-id-1 div.sk-text-repr-fallback {display: none;}</style><div id=\"sk-container-id-1\" class=\"sk-top-container\"><div class=\"sk-text-repr-fallback\"><pre>KNeighborsClassifier(algorithm=&#x27;kd_tree&#x27;, n_neighbors=27, p=1)</pre><b>In a Jupyter environment, please rerun this cell to show the HTML representation or trust the notebook. <br />On GitHub, the HTML representation is unable to render, please try loading this page with nbviewer.org.</b></div><div class=\"sk-container\" hidden><div class=\"sk-item\"><div class=\"sk-estimator sk-toggleable\"><input class=\"sk-toggleable__control sk-hidden--visually\" id=\"sk-estimator-id-1\" type=\"checkbox\" checked><label for=\"sk-estimator-id-1\" class=\"sk-toggleable__label sk-toggleable__label-arrow\">KNeighborsClassifier</label><div class=\"sk-toggleable__content\"><pre>KNeighborsClassifier(algorithm=&#x27;kd_tree&#x27;, n_neighbors=27, p=1)</pre></div></div></div></div></div>"
      ],
      "text/plain": [
       "KNeighborsClassifier(algorithm='kd_tree', n_neighbors=27, p=1)"
      ]
     },
     "execution_count": 28,
     "metadata": {},
     "output_type": "execute_result"
    }
   ],
   "source": [
    "knn.fit(X_train, y_train_encoded)"
   ]
  },
  {
   "cell_type": "code",
   "execution_count": 29,
   "id": "07ca04c2",
   "metadata": {},
   "outputs": [],
   "source": [
    "y_eval_pred = knn.predict(X_eval)"
   ]
  },
  {
   "cell_type": "code",
   "execution_count": 30,
   "id": "b23f9875",
   "metadata": {},
   "outputs": [
    {
     "data": {
      "text/plain": [
       "array([2, 2, 2, ..., 2, 2, 2])"
      ]
     },
     "execution_count": 30,
     "metadata": {},
     "output_type": "execute_result"
    }
   ],
   "source": [
    "y_eval_pred"
   ]
  },
  {
   "cell_type": "code",
   "execution_count": 31,
   "id": "02b4429c",
   "metadata": {},
   "outputs": [
    {
     "name": "stdout",
     "output_type": "stream",
     "text": [
      "[0.33185373 0.67814937 0.67505643 0.44934261]\n"
     ]
    }
   ],
   "source": [
    "from sklearn.metrics import accuracy_score, f1_score\n",
    "\n",
    "acc = f1_score(y_eval_encoded, y_eval_pred, average=None)\n",
    "\n",
    "print(acc)"
   ]
  },
  {
   "cell_type": "code",
   "execution_count": 32,
   "id": "b11078b1",
   "metadata": {},
   "outputs": [
    {
     "name": "stdout",
     "output_type": "stream",
     "text": [
      "0.6353235294117647\n"
     ]
    }
   ],
   "source": [
    "acc = f1_score(y_eval_encoded, y_eval_pred, average='micro')\n",
    "print(acc)"
   ]
  },
  {
   "cell_type": "code",
   "execution_count": null,
   "id": "95ace5d2",
   "metadata": {},
   "outputs": [],
   "source": [
    "from sklearn.model_selection import RandomizedSearchCV, ShuffleSplit\n",
    "\n",
    "X = np.concatenate([X_train, X_eval])\n",
    "y = np.concatenate([y_train, y_eval])\n",
    "\n",
    "knn = KNeighborsClassifier()\n",
    "param_grid = {\n",
    "    'n_neighbors' : [21, 23, 25, 27],\n",
    "    'weights' : ['uniform', 'distance'],\n",
    "    'algorithm' : ['ball_tree', 'kd_tree'],\n",
    "    'p' : [1,2]\n",
    "}\n",
    "\n",
    "rand = RandomizedSearchCV(knn, param_grid, cv=ShuffleSplit(n_splits=1), scoring='f1_micro', n_iter=10, random_state=1, verbose=10)\n",
    "\n",
    "rand.fit(X, y)   "
   ]
  },
  {
   "cell_type": "markdown",
   "id": "6da6a957",
   "metadata": {},
   "source": [
    "# Test Predictions"
   ]
  },
  {
   "cell_type": "code",
   "execution_count": null,
   "id": "fe62d034",
   "metadata": {},
   "outputs": [],
   "source": [
    "y_pred_test = knn.predict(X_test)"
   ]
  },
  {
   "cell_type": "code",
   "execution_count": null,
   "id": "ae70271d",
   "metadata": {},
   "outputs": [],
   "source": [
    "y_pred_test = le.inverse_transform(y_pred_test)"
   ]
  },
  {
   "cell_type": "code",
   "execution_count": null,
   "id": "19d9df03",
   "metadata": {},
   "outputs": [],
   "source": [
    "y_pred_test"
   ]
  },
  {
   "cell_type": "code",
   "execution_count": null,
   "id": "3b5c5d1b",
   "metadata": {},
   "outputs": [],
   "source": [
    "ids_test.values"
   ]
  },
  {
   "cell_type": "code",
   "execution_count": null,
   "id": "32ba48ea",
   "metadata": {},
   "outputs": [],
   "source": [
    "df_soumission = pd.DataFrame({'Id' : ids_test.values, 'Predicted' : y_pred_test})"
   ]
  },
  {
   "cell_type": "code",
   "execution_count": null,
   "id": "d562c52e",
   "metadata": {},
   "outputs": [],
   "source": [
    "df_soumission.to_csv('Soumission2.csv', index=False)"
   ]
  }
 ],
 "metadata": {
  "kernelspec": {
   "display_name": "Python 3 (ipykernel)",
   "language": "python",
   "name": "python3"
  },
  "language_info": {
   "codemirror_mode": {
    "name": "ipython",
    "version": 3
   },
   "file_extension": ".py",
   "mimetype": "text/x-python",
   "name": "python",
   "nbconvert_exporter": "python",
   "pygments_lexer": "ipython3",
   "version": "3.9.7"
  }
 },
 "nbformat": 4,
 "nbformat_minor": 5
}
