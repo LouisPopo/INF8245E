{
 "cells": [
  {
   "cell_type": "markdown",
   "id": "e774ce5e",
   "metadata": {},
   "source": [
    "1. Get train data and test data\n",
    "2. Split train data (train, eval) right away to simulate train vs test data\n",
    "3. Handle missing values (na and 'insert')\n",
    "4. Handle outliers"
   ]
  },
  {
   "cell_type": "code",
   "execution_count": 302,
   "id": "a4ac8607",
   "metadata": {},
   "outputs": [],
   "source": [
    "import numpy as np\n",
    "import pandas as pd\n",
    "import copy\n",
    "from sklearn.model_selection import train_test_split\n",
    "from sklearn import preprocessing\n",
    "import os\n",
    "from scipy import stats\n",
    "from sklearn.preprocessing import OneHotEncoder"
   ]
  },
  {
   "cell_type": "code",
   "execution_count": 303,
   "id": "e70ea8f1",
   "metadata": {},
   "outputs": [
    {
     "name": "stdout",
     "output_type": "stream",
     "text": [
      "(170000, 19)\n",
      "(30000, 18)\n"
     ]
    }
   ],
   "source": [
    "df_train = pd.read_csv('train.csv')\n",
    "df_test = pd.read_csv('test.csv')\n",
    "print(df_train.shape)\n",
    "print(df_test.shape)"
   ]
  },
  {
   "cell_type": "code",
   "execution_count": 304,
   "id": "28b9ffc2",
   "metadata": {},
   "outputs": [],
   "source": [
    "\n",
    "def convertToNum(a):\n",
    "    if a == 'Worst Concert Ever':\n",
    "        return 0\n",
    "    elif a == 'Did Not Enjoy':\n",
    "        return 1\n",
    "    elif a == 'Enjoyed':\n",
    "        return 2\n",
    "    else:\n",
    "        return 3\n",
    "    \n",
    "\n",
    "#df_train['Num Concert Enjoyment'] = df_train['Concert Enjoyment'].replace(\n",
    "#    ['Worst Concert Ever', 'Did Not Enjoy', 'Enjoyed', 'Best Concert Ever'], \n",
    "#    [0,1,2,3]\n",
    "#)"
   ]
  },
  {
   "cell_type": "code",
   "execution_count": 305,
   "id": "18cea9d6",
   "metadata": {},
   "outputs": [
    {
     "name": "stdout",
     "output_type": "stream",
     "text": [
      "(161500, 19)\n",
      "(8500, 19)\n"
     ]
    }
   ],
   "source": [
    "df_train, df_eval = np.split(df_train, [int(0.95*len(df_train))])\n",
    "print(df_train.shape)\n",
    "print(df_eval.shape)"
   ]
  },
  {
   "cell_type": "markdown",
   "id": "119a6926",
   "metadata": {},
   "source": [
    "# To Lower and To String"
   ]
  },
  {
   "cell_type": "code",
   "execution_count": 306,
   "id": "93a6d0c0",
   "metadata": {},
   "outputs": [],
   "source": [
    "def toLower(a):\n",
    "    if a == None or a != a:\n",
    "        pass\n",
    "    else:\n",
    "        a = a.lower()\n",
    "    return a\n",
    "\n",
    "def toString(a):\n",
    "  if a == None or a!=a :    #if a is none or nan on pass \n",
    "    pass \n",
    "  else:\n",
    "    a = str(int(a))   \n",
    "  return a\n",
    "\n",
    "for c in [\"Band Country of Origin\",\"Band Name\",\"Band Genre\",\"Concert Goer Country of Origin\"]:\n",
    "    df_train[c] = df_train[c].map(toLower)\n",
    "    df_eval[c] = df_eval[c].map(toLower)\n",
    "    df_test[c] = df_test[c].map(toLower)\n",
    "    \n",
    "for c in ['Concert ID']:\n",
    "    df_train[c] = df_train[c].map(toString)\n",
    "    df_eval[c] = df_eval[c].map(toString)\n",
    "    df_test[c] = df_test[c].map(toString)"
   ]
  },
  {
   "cell_type": "markdown",
   "id": "8ba6d285",
   "metadata": {},
   "source": [
    "# By Decile"
   ]
  },
  {
   "cell_type": "code",
   "execution_count": 307,
   "id": "1e63ef60",
   "metadata": {},
   "outputs": [],
   "source": [
    "def groupByDecile(a):\n",
    "  if a == None or a!=a :     \n",
    "    pass \n",
    "  elif a< 20:\n",
    "    a = str(16)     #ca permet de faire commencer à 16 ans l'intervalle des âges sinon ce serait 10 ans X(\n",
    "  else :\n",
    "    a = a - a%10        #  Ex : 1976 - 1976%10 = 1970\n",
    "    a = str(int(a))\n",
    "  return a\n",
    "\n",
    "for c in [\"Band Debut\",\"Concert Goer Age\"]:\n",
    "    df_train[c] = df_train[c].map(groupByDecile)\n",
    "    df_eval[c] = df_eval[c].map(groupByDecile)\n",
    "    df_test[c] = df_test[c].map(groupByDecile)"
   ]
  },
  {
   "cell_type": "markdown",
   "id": "44ce7457",
   "metadata": {},
   "source": [
    "# Handle Missing values"
   ]
  },
  {
   "cell_type": "code",
   "execution_count": 308,
   "id": "d936145c",
   "metadata": {},
   "outputs": [],
   "source": [
    "# Missing values are nan or '*insert*'\n",
    "# Want to replace by most popular\n",
    "from sklearn.impute import SimpleImputer\n",
    "imp = SimpleImputer(missing_values=np.nan, strategy='most_frequent')\n",
    "\n",
    "X_train = df_train.drop(columns=['Concert Enjoyment'])\n",
    "y_train = df_train['Concert Enjoyment']\n",
    "\n",
    "X_eval = df_eval.drop(columns=['Concert Enjoyment'])\n",
    "y_eval = df_eval['Concert Enjoyment']\n",
    "\n",
    "idx_train = X_train.index\n",
    "idx_eval = X_eval.index\n",
    "\n",
    "imp.fit(X_train)\n",
    "\n",
    "cols = X_train.columns.values\n",
    "\n",
    "X_train = imp.transform(X_train)\n",
    "X_eval = imp.transform(X_eval)\n",
    "X_test = imp.transform(df_test)\n",
    "\n",
    "# Quand soumission on train sur TOUT train\n",
    "df_train = pd.concat([pd.DataFrame(X_train, columns=cols, index=idx_train), y_train], axis=1)\n",
    "df_eval = pd.concat([pd.DataFrame(X_eval, columns=cols, index=idx_eval), y_eval], axis=1)\n",
    "df_test = pd.DataFrame(X_test, columns=cols)\n"
   ]
  },
  {
   "cell_type": "markdown",
   "id": "14f7d21e",
   "metadata": {},
   "source": [
    "# To Int"
   ]
  },
  {
   "cell_type": "code",
   "execution_count": 309,
   "id": "bb0fac7d",
   "metadata": {},
   "outputs": [],
   "source": [
    "cols_to_int = ['Inside Venue','Rain','Seated']\n",
    "for c in cols_to_int:\n",
    "    df_train[c] = df_train[c].astype(int)\n",
    "    df_eval[c] = df_eval[c].astype(int)\n",
    "    # Quand soummission\n",
    "    df_test[c] = df_test[c].astype(int)"
   ]
  },
  {
   "cell_type": "code",
   "execution_count": 310,
   "id": "2bcd2941",
   "metadata": {},
   "outputs": [],
   "source": [
    "cols_with_insert = ['Band Name', 'Band Genre', 'Band Country of Origin','Concert Goer Country of Origin']\n",
    "for c in cols_with_insert:\n",
    "    df_train.loc[df_train[c].str.contains('insert'), c] = df_train[c].mode()[0]\n",
    "    df_eval.loc[df_eval[c].str.contains('insert'), c] = df_train[c].mode()[0]\n",
    "    # Quand soumission on fait tout sur le train mode\n",
    "    df_test.loc[df_test[c].str.contains('insert'), c] = df_test[c].mode()[0]"
   ]
  },
  {
   "cell_type": "markdown",
   "id": "0bf33089",
   "metadata": {},
   "source": [
    "# Handle Outliers"
   ]
  },
  {
   "cell_type": "code",
   "execution_count": 311,
   "id": "d9114119",
   "metadata": {},
   "outputs": [],
   "source": [
    "def convertConcertAttendance(a):\n",
    "    if int(a) > 162754:\n",
    "        a = (a / 10000)\n",
    "    return a\n",
    "\n",
    "df_train['Concert Attendance'] = df_train['Concert Attendance'].map(convertConcertAttendance)\n",
    "df_eval['Concert Attendance'] = df_eval['Concert Attendance'].map(convertConcertAttendance)\n",
    "# Quand soumission\n",
    "df_test['Concert Attendance'] = df_test['Concert Attendance'].map(convertConcertAttendance)"
   ]
  },
  {
   "cell_type": "code",
   "execution_count": 312,
   "id": "d938035b",
   "metadata": {},
   "outputs": [],
   "source": [
    "df_train.loc[\n",
    "    (df_train['Personnality Trait 2'] < -5) |\n",
    "    (df_train['Personnality Trait 2'] > 5), 'Personnality Trait 2'\n",
    "] = df_train['Personnality Trait 2'].mean()\n",
    "\n",
    "df_eval.loc[\n",
    "    (df_eval['Personnality Trait 2'] < -5) |\n",
    "    (df_eval['Personnality Trait 2'] > 5), 'Personnality Trait 2'\n",
    "] = df_train['Personnality Trait 2'].mean()\n",
    "\n",
    "\n",
    "df_test.loc[\n",
    "    (df_test['Personnality Trait 2'] < -5) |\n",
    "    (df_test['Personnality Trait 2'] > 5), 'Personnality Trait 2'\n",
    "] = df_train['Personnality Trait 2'].mean()\n",
    "\n",
    "# Quand soumission on le fait sur df_test"
   ]
  },
  {
   "cell_type": "markdown",
   "id": "f9492575",
   "metadata": {},
   "source": [
    "# Group Data"
   ]
  },
  {
   "cell_type": "code",
   "execution_count": 313,
   "id": "dd3a1166",
   "metadata": {},
   "outputs": [],
   "source": [
    "def groupCountry(a):\n",
    "    if a not in ['canada', 'united states of america (usa)', 'united kingdom (uk)']:\n",
    "        a = 'other'\n",
    "    return a\n",
    "\n",
    "df_train['Concert Goer Country of Origin'] = df_train['Concert Goer Country of Origin'].map(groupCountry)\n",
    "df_eval['Concert Goer Country of Origin'] = df_eval['Concert Goer Country of Origin'].map(groupCountry)\n",
    "# quand soumission sur test aussi\n",
    "df_test['Concert Goer Country of Origin'] = df_test['Concert Goer Country of Origin'].map(groupCountry)"
   ]
  },
  {
   "cell_type": "markdown",
   "id": "fa743cc7",
   "metadata": {},
   "source": [
    "# Keep Important Concert IDs"
   ]
  },
  {
   "cell_type": "code",
   "execution_count": 314,
   "id": "1c36e9fd",
   "metadata": {},
   "outputs": [],
   "source": [
    "def convertConcertID(a):\n",
    "    # Top 5 meilleurs average rating qui sont a l'interieur, Pire 5 qui sont a l'intérieur\n",
    "    if int(a) in [879, 539, 456, 961, 592, 978, 441, 193, 24, 164]:\n",
    "        return str(a)\n",
    "    else:\n",
    "        return 'other'\n",
    "    \n",
    "df_train['Concert ID'] = df_train['Concert ID'].map(convertConcertID)\n",
    "df_test['Concert ID'] = df_test['Concert ID'].map(convertConcertID)\n",
    "df_eval['Concert ID'] = df_eval['Concert ID'].map(convertConcertID)"
   ]
  },
  {
   "cell_type": "markdown",
   "id": "751bb858",
   "metadata": {},
   "source": [
    "# Keep Important Concert Goer IDs"
   ]
  },
  {
   "cell_type": "code",
   "execution_count": 315,
   "id": "f0b1ac16",
   "metadata": {},
   "outputs": [],
   "source": [
    "def convertConcertGoerID(a):\n",
    "    if str(a) in ['concert_goer_695', 'concert_goer_413', 'concert_goer_1392', 'concert_goer_398', 'concert_goer_1770', 'concert_goer_1011', 'concert_goer_1414', 'concert_goer_1419', 'concert_goer_1506', 'concert_goer_390']:\n",
    "        return str(a)\n",
    "    else:\n",
    "        return 'other'\n",
    "    \n",
    "df_train['Concert Goer ID'] = df_train['Concert Goer ID'].map(convertConcertGoerID)\n",
    "df_test['Concert Goer ID'] = df_test['Concert Goer ID'].map(convertConcertGoerID)\n",
    "df_eval['Concert Goer ID'] = df_eval['Concert Goer ID'].map(convertConcertGoerID)"
   ]
  },
  {
   "cell_type": "markdown",
   "id": "3b32b23b",
   "metadata": {},
   "source": [
    "# Create New Feature"
   ]
  },
  {
   "cell_type": "code",
   "execution_count": 316,
   "id": "1c8ac24d",
   "metadata": {},
   "outputs": [],
   "source": [
    "df_train['Out n Rain'] = ((df_train['Inside Venue'] == 0) & (df_train['Rain'] == 1)).astype(int)\n",
    "df_test['Out n Rain'] = ((df_test['Inside Venue'] == 0) & (df_test['Rain'] == 1)).astype(int)\n",
    "df_eval['Out n Rain'] = ((df_eval['Inside Venue'] == 0) & (df_eval['Rain'] == 1)).astype(int)"
   ]
  },
  {
   "cell_type": "markdown",
   "id": "412297f8",
   "metadata": {},
   "source": [
    "# Drop Cols"
   ]
  },
  {
   "cell_type": "code",
   "execution_count": 317,
   "id": "5ddf0759",
   "metadata": {},
   "outputs": [],
   "source": [
    "cols_to_drop = ['Id']\n",
    "ids_test = df_test['Id']\n",
    "df_train = df_train.drop(columns=cols_to_drop)\n",
    "df_eval = df_eval.drop(columns=cols_to_drop)\n",
    "df_test = df_test.drop(columns=cols_to_drop)"
   ]
  },
  {
   "cell_type": "markdown",
   "id": "a83898c4",
   "metadata": {},
   "source": [
    "# Balance Dataset"
   ]
  },
  {
   "cell_type": "markdown",
   "id": "bdaed0e9",
   "metadata": {},
   "source": [
    "from sklearn.metrics import DistanceMetric\n",
    "from imblearn.over_sampling import SMOTENC"
   ]
  },
  {
   "cell_type": "markdown",
   "id": "4d489f31",
   "metadata": {},
   "source": [
    "df_train['Concert Enjoyment'].value_counts()"
   ]
  },
  {
   "cell_type": "markdown",
   "id": "52f436bf",
   "metadata": {},
   "source": [
    "df_train = df_train.drop(\n",
    "    df_train[\n",
    "        df_train['Concert Enjoyment'] == 'Enjoyed'\n",
    "    ].sample(frac=0.25).index)\n",
    "\n",
    "df_train = df_train.drop(\n",
    "    df_train[\n",
    "        df_train['Concert Enjoyment'] == 'Did Not Enjoy'\n",
    "    ].sample(frac=0.25).index)"
   ]
  },
  {
   "cell_type": "markdown",
   "id": "4b274500",
   "metadata": {},
   "source": [
    "df_train['Concert Enjoyment'].value_counts()"
   ]
  },
  {
   "cell_type": "markdown",
   "id": "32d69249",
   "metadata": {},
   "source": [
    "nb_class_dict = {\n",
    "    'Did Not Enjoy':40783,\n",
    "    'Enjoyed':40769,\n",
    "    'Worst Concert Ever':26000,\n",
    "    'Best Concert Ever':26000\n",
    "}\n",
    "X = df_train.drop(columns=['Concert Enjoyment'])\n",
    "y = df_train['Concert Enjoyment']\n",
    "cols = X.columns\n",
    "num_cols = X._get_numeric_data().columns\n",
    "cat_cols = list(set(cols) - set(num_cols))\n",
    "cat_cols_idx = [X.columns.get_loc(c) for c in cat_cols]\n",
    "\n",
    "sm = SMOTENC(random_state=0, sampling_strategy=nb_class_dict, categorical_features=cat_cols_idx)\n",
    "\n",
    "X_bal, y_bal = sm.fit_resample(X, y)"
   ]
  },
  {
   "cell_type": "markdown",
   "id": "1558c429",
   "metadata": {},
   "source": [
    "df_train = pd.concat([X_bal, y_bal], axis=1)"
   ]
  },
  {
   "cell_type": "markdown",
   "id": "c6dbbaf8",
   "metadata": {},
   "source": [
    "df_train['Concert Enjoyment'].value_counts()"
   ]
  },
  {
   "cell_type": "markdown",
   "id": "7ca7fc7c",
   "metadata": {},
   "source": [
    "# One Hot"
   ]
  },
  {
   "cell_type": "code",
   "execution_count": 318,
   "id": "7f988245",
   "metadata": {},
   "outputs": [],
   "source": [
    "one_hot_cols = ['Band Name', 'Concert Goer ID', 'Concert ID', 'Band Genre', 'Band Country of Origin', 'Concert Goer Country of Origin']"
   ]
  },
  {
   "cell_type": "code",
   "execution_count": 319,
   "id": "d9219379",
   "metadata": {},
   "outputs": [],
   "source": [
    "from sklearn.preprocessing import OneHotEncoder\n",
    "from sklearn.compose import make_column_transformer"
   ]
  },
  {
   "cell_type": "code",
   "execution_count": 320,
   "id": "95a733a7",
   "metadata": {},
   "outputs": [],
   "source": [
    "X_train = df_train.drop(columns=['Concert Enjoyment'])\n",
    "X_eval = df_eval.drop(columns=['Concert Enjoyment'])\n",
    "\n",
    "y_train = df_train['Concert Enjoyment']\n",
    "y_eval = df_eval['Concert Enjoyment']"
   ]
  },
  {
   "cell_type": "code",
   "execution_count": 321,
   "id": "f8b955e4",
   "metadata": {},
   "outputs": [
    {
     "data": {
      "text/plain": [
       "array(['Band Name', 'Band Genre', 'Band Country of Origin', 'Band Debut',\n",
       "       'Concert ID', 'Concert Attendance', 'Inside Venue', 'Rain',\n",
       "       'Seated', 'Personnality Trait 1', 'Personnality Trait 2',\n",
       "       'Personnality Trait 3', 'Personnality Trait 4', 'Concert Goer Age',\n",
       "       'Concert Goer ID', 'Height (cm)', 'Concert Goer Country of Origin',\n",
       "       'Out n Rain'], dtype=object)"
      ]
     },
     "execution_count": 321,
     "metadata": {},
     "output_type": "execute_result"
    }
   ],
   "source": [
    "df_test.columns.values"
   ]
  },
  {
   "cell_type": "code",
   "execution_count": 322,
   "id": "574f3aa7",
   "metadata": {},
   "outputs": [],
   "source": [
    "X_train = pd.get_dummies(X_train, columns = one_hot_cols)\n",
    "X_eval = pd.get_dummies(X_eval, columns = one_hot_cols)\n",
    "X_test = pd.get_dummies(df_test, columns = one_hot_cols)"
   ]
  },
  {
   "cell_type": "code",
   "execution_count": 323,
   "id": "dfcf4f02",
   "metadata": {},
   "outputs": [
    {
     "data": {
      "text/plain": [
       "Index(['Band Debut', 'Concert Attendance', 'Inside Venue', 'Rain', 'Seated',\n",
       "       'Personnality Trait 1', 'Personnality Trait 2', 'Personnality Trait 3',\n",
       "       'Personnality Trait 4', 'Concert Goer Age',\n",
       "       ...\n",
       "       'Band Genre_pop music', 'Band Genre_rnb', 'Band Genre_rock n roll',\n",
       "       'Band Country of Origin_canada',\n",
       "       'Band Country of Origin_united kingdom (uk)',\n",
       "       'Band Country of Origin_united states of america (usa)',\n",
       "       'Concert Goer Country of Origin_canada',\n",
       "       'Concert Goer Country of Origin_other',\n",
       "       'Concert Goer Country of Origin_united kingdom (uk)',\n",
       "       'Concert Goer Country of Origin_united states of america (usa)'],\n",
       "      dtype='object', length=101)"
      ]
     },
     "execution_count": 323,
     "metadata": {},
     "output_type": "execute_result"
    }
   ],
   "source": [
    "X_test.columns"
   ]
  },
  {
   "cell_type": "code",
   "execution_count": 324,
   "id": "39985ffd",
   "metadata": {},
   "outputs": [],
   "source": [
    "X_train = X_train.reindex(sorted(X_train.columns), axis=1)\n",
    "X_eval = X_eval.reindex(sorted(X_train.columns), axis=1)\n",
    "X_test = X_test.reindex(sorted(X_test.columns), axis=1)"
   ]
  },
  {
   "cell_type": "code",
   "execution_count": 325,
   "id": "7171e4ff",
   "metadata": {},
   "outputs": [],
   "source": [
    "# Pour verifier qu'ils sont dans le meme ordre\n",
    "for i , c in enumerate(X_train.columns.values):\n",
    "    if X_eval.columns.values[i] != c:\n",
    "        print(c)"
   ]
  },
  {
   "cell_type": "code",
   "execution_count": 326,
   "id": "d9a04ae2",
   "metadata": {},
   "outputs": [
    {
     "data": {
      "text/html": [
       "<div>\n",
       "<style scoped>\n",
       "    .dataframe tbody tr th:only-of-type {\n",
       "        vertical-align: middle;\n",
       "    }\n",
       "\n",
       "    .dataframe tbody tr th {\n",
       "        vertical-align: top;\n",
       "    }\n",
       "\n",
       "    .dataframe thead th {\n",
       "        text-align: right;\n",
       "    }\n",
       "</style>\n",
       "<table border=\"1\" class=\"dataframe\">\n",
       "  <thead>\n",
       "    <tr style=\"text-align: right;\">\n",
       "      <th></th>\n",
       "      <th>Band Country of Origin_canada</th>\n",
       "      <th>Band Country of Origin_united kingdom (uk)</th>\n",
       "      <th>Band Country of Origin_united states of america (usa)</th>\n",
       "      <th>Band Debut</th>\n",
       "      <th>Band Genre_country</th>\n",
       "      <th>Band Genre_heavy metal</th>\n",
       "      <th>Band Genre_hip hop/rap</th>\n",
       "      <th>Band Genre_indie/alt rock</th>\n",
       "      <th>Band Genre_pop music</th>\n",
       "      <th>Band Genre_rnb</th>\n",
       "      <th>...</th>\n",
       "      <th>Concert ID_other</th>\n",
       "      <th>Height (cm)</th>\n",
       "      <th>Inside Venue</th>\n",
       "      <th>Out n Rain</th>\n",
       "      <th>Personnality Trait 1</th>\n",
       "      <th>Personnality Trait 2</th>\n",
       "      <th>Personnality Trait 3</th>\n",
       "      <th>Personnality Trait 4</th>\n",
       "      <th>Rain</th>\n",
       "      <th>Seated</th>\n",
       "    </tr>\n",
       "  </thead>\n",
       "  <tbody>\n",
       "    <tr>\n",
       "      <th>0</th>\n",
       "      <td>0</td>\n",
       "      <td>0</td>\n",
       "      <td>1</td>\n",
       "      <td>1970</td>\n",
       "      <td>0</td>\n",
       "      <td>0</td>\n",
       "      <td>0</td>\n",
       "      <td>1</td>\n",
       "      <td>0</td>\n",
       "      <td>0</td>\n",
       "      <td>...</td>\n",
       "      <td>1</td>\n",
       "      <td>140.0</td>\n",
       "      <td>0</td>\n",
       "      <td>0</td>\n",
       "      <td>0.330843</td>\n",
       "      <td>-0.958408</td>\n",
       "      <td>-0.943548</td>\n",
       "      <td>-1.636806</td>\n",
       "      <td>0</td>\n",
       "      <td>0</td>\n",
       "    </tr>\n",
       "    <tr>\n",
       "      <th>1</th>\n",
       "      <td>0</td>\n",
       "      <td>0</td>\n",
       "      <td>1</td>\n",
       "      <td>1960</td>\n",
       "      <td>0</td>\n",
       "      <td>0</td>\n",
       "      <td>0</td>\n",
       "      <td>0</td>\n",
       "      <td>1</td>\n",
       "      <td>0</td>\n",
       "      <td>...</td>\n",
       "      <td>1</td>\n",
       "      <td>158.0</td>\n",
       "      <td>1</td>\n",
       "      <td>0</td>\n",
       "      <td>-2.069449</td>\n",
       "      <td>0.017777</td>\n",
       "      <td>-1.910675</td>\n",
       "      <td>0.610265</td>\n",
       "      <td>0</td>\n",
       "      <td>1</td>\n",
       "    </tr>\n",
       "    <tr>\n",
       "      <th>2</th>\n",
       "      <td>1</td>\n",
       "      <td>0</td>\n",
       "      <td>0</td>\n",
       "      <td>1950</td>\n",
       "      <td>0</td>\n",
       "      <td>0</td>\n",
       "      <td>0</td>\n",
       "      <td>0</td>\n",
       "      <td>0</td>\n",
       "      <td>0</td>\n",
       "      <td>...</td>\n",
       "      <td>1</td>\n",
       "      <td>159.0</td>\n",
       "      <td>0</td>\n",
       "      <td>0</td>\n",
       "      <td>-0.484268</td>\n",
       "      <td>1.968772</td>\n",
       "      <td>-0.064167</td>\n",
       "      <td>-1.260871</td>\n",
       "      <td>0</td>\n",
       "      <td>1</td>\n",
       "    </tr>\n",
       "    <tr>\n",
       "      <th>3</th>\n",
       "      <td>0</td>\n",
       "      <td>0</td>\n",
       "      <td>1</td>\n",
       "      <td>1990</td>\n",
       "      <td>0</td>\n",
       "      <td>0</td>\n",
       "      <td>0</td>\n",
       "      <td>0</td>\n",
       "      <td>0</td>\n",
       "      <td>1</td>\n",
       "      <td>...</td>\n",
       "      <td>1</td>\n",
       "      <td>150.0</td>\n",
       "      <td>0</td>\n",
       "      <td>1</td>\n",
       "      <td>-0.858054</td>\n",
       "      <td>1.022827</td>\n",
       "      <td>-0.348389</td>\n",
       "      <td>-1.147251</td>\n",
       "      <td>1</td>\n",
       "      <td>0</td>\n",
       "    </tr>\n",
       "    <tr>\n",
       "      <th>4</th>\n",
       "      <td>0</td>\n",
       "      <td>0</td>\n",
       "      <td>1</td>\n",
       "      <td>1960</td>\n",
       "      <td>0</td>\n",
       "      <td>0</td>\n",
       "      <td>0</td>\n",
       "      <td>0</td>\n",
       "      <td>1</td>\n",
       "      <td>0</td>\n",
       "      <td>...</td>\n",
       "      <td>1</td>\n",
       "      <td>166.0</td>\n",
       "      <td>0</td>\n",
       "      <td>0</td>\n",
       "      <td>-0.793029</td>\n",
       "      <td>-1.166528</td>\n",
       "      <td>-0.043766</td>\n",
       "      <td>0.969661</td>\n",
       "      <td>0</td>\n",
       "      <td>0</td>\n",
       "    </tr>\n",
       "    <tr>\n",
       "      <th>...</th>\n",
       "      <td>...</td>\n",
       "      <td>...</td>\n",
       "      <td>...</td>\n",
       "      <td>...</td>\n",
       "      <td>...</td>\n",
       "      <td>...</td>\n",
       "      <td>...</td>\n",
       "      <td>...</td>\n",
       "      <td>...</td>\n",
       "      <td>...</td>\n",
       "      <td>...</td>\n",
       "      <td>...</td>\n",
       "      <td>...</td>\n",
       "      <td>...</td>\n",
       "      <td>...</td>\n",
       "      <td>...</td>\n",
       "      <td>...</td>\n",
       "      <td>...</td>\n",
       "      <td>...</td>\n",
       "      <td>...</td>\n",
       "      <td>...</td>\n",
       "    </tr>\n",
       "    <tr>\n",
       "      <th>161495</th>\n",
       "      <td>0</td>\n",
       "      <td>0</td>\n",
       "      <td>1</td>\n",
       "      <td>1960</td>\n",
       "      <td>0</td>\n",
       "      <td>0</td>\n",
       "      <td>0</td>\n",
       "      <td>0</td>\n",
       "      <td>1</td>\n",
       "      <td>0</td>\n",
       "      <td>...</td>\n",
       "      <td>1</td>\n",
       "      <td>182.0</td>\n",
       "      <td>0</td>\n",
       "      <td>0</td>\n",
       "      <td>0.586789</td>\n",
       "      <td>-0.288211</td>\n",
       "      <td>-0.746254</td>\n",
       "      <td>-1.19351</td>\n",
       "      <td>0</td>\n",
       "      <td>0</td>\n",
       "    </tr>\n",
       "    <tr>\n",
       "      <th>161496</th>\n",
       "      <td>0</td>\n",
       "      <td>0</td>\n",
       "      <td>1</td>\n",
       "      <td>1970</td>\n",
       "      <td>0</td>\n",
       "      <td>0</td>\n",
       "      <td>0</td>\n",
       "      <td>0</td>\n",
       "      <td>0</td>\n",
       "      <td>0</td>\n",
       "      <td>...</td>\n",
       "      <td>1</td>\n",
       "      <td>154.0</td>\n",
       "      <td>1</td>\n",
       "      <td>0</td>\n",
       "      <td>0.659164</td>\n",
       "      <td>-1.074516</td>\n",
       "      <td>0.855201</td>\n",
       "      <td>2.426957</td>\n",
       "      <td>0</td>\n",
       "      <td>0</td>\n",
       "    </tr>\n",
       "    <tr>\n",
       "      <th>161497</th>\n",
       "      <td>0</td>\n",
       "      <td>1</td>\n",
       "      <td>0</td>\n",
       "      <td>1970</td>\n",
       "      <td>0</td>\n",
       "      <td>0</td>\n",
       "      <td>0</td>\n",
       "      <td>0</td>\n",
       "      <td>1</td>\n",
       "      <td>0</td>\n",
       "      <td>...</td>\n",
       "      <td>1</td>\n",
       "      <td>167.0</td>\n",
       "      <td>1</td>\n",
       "      <td>0</td>\n",
       "      <td>-0.208026</td>\n",
       "      <td>-1.716854</td>\n",
       "      <td>1.460769</td>\n",
       "      <td>0.166714</td>\n",
       "      <td>0</td>\n",
       "      <td>1</td>\n",
       "    </tr>\n",
       "    <tr>\n",
       "      <th>161498</th>\n",
       "      <td>0</td>\n",
       "      <td>0</td>\n",
       "      <td>1</td>\n",
       "      <td>1950</td>\n",
       "      <td>0</td>\n",
       "      <td>0</td>\n",
       "      <td>1</td>\n",
       "      <td>0</td>\n",
       "      <td>0</td>\n",
       "      <td>0</td>\n",
       "      <td>...</td>\n",
       "      <td>1</td>\n",
       "      <td>167.0</td>\n",
       "      <td>1</td>\n",
       "      <td>0</td>\n",
       "      <td>-0.270337</td>\n",
       "      <td>-3.120069</td>\n",
       "      <td>0.552467</td>\n",
       "      <td>0.000186</td>\n",
       "      <td>1</td>\n",
       "      <td>0</td>\n",
       "    </tr>\n",
       "    <tr>\n",
       "      <th>161499</th>\n",
       "      <td>0</td>\n",
       "      <td>1</td>\n",
       "      <td>0</td>\n",
       "      <td>1970</td>\n",
       "      <td>0</td>\n",
       "      <td>0</td>\n",
       "      <td>0</td>\n",
       "      <td>0</td>\n",
       "      <td>1</td>\n",
       "      <td>0</td>\n",
       "      <td>...</td>\n",
       "      <td>1</td>\n",
       "      <td>185.0</td>\n",
       "      <td>0</td>\n",
       "      <td>1</td>\n",
       "      <td>0.255832</td>\n",
       "      <td>-1.582423</td>\n",
       "      <td>-1.445451</td>\n",
       "      <td>-0.367416</td>\n",
       "      <td>1</td>\n",
       "      <td>1</td>\n",
       "    </tr>\n",
       "  </tbody>\n",
       "</table>\n",
       "<p>161500 rows × 101 columns</p>\n",
       "</div>"
      ],
      "text/plain": [
       "        Band Country of Origin_canada  \\\n",
       "0                                   0   \n",
       "1                                   0   \n",
       "2                                   1   \n",
       "3                                   0   \n",
       "4                                   0   \n",
       "...                               ...   \n",
       "161495                              0   \n",
       "161496                              0   \n",
       "161497                              0   \n",
       "161498                              0   \n",
       "161499                              0   \n",
       "\n",
       "        Band Country of Origin_united kingdom (uk)  \\\n",
       "0                                                0   \n",
       "1                                                0   \n",
       "2                                                0   \n",
       "3                                                0   \n",
       "4                                                0   \n",
       "...                                            ...   \n",
       "161495                                           0   \n",
       "161496                                           0   \n",
       "161497                                           1   \n",
       "161498                                           0   \n",
       "161499                                           1   \n",
       "\n",
       "        Band Country of Origin_united states of america (usa) Band Debut  \\\n",
       "0                                                       1           1970   \n",
       "1                                                       1           1960   \n",
       "2                                                       0           1950   \n",
       "3                                                       1           1990   \n",
       "4                                                       1           1960   \n",
       "...                                                   ...            ...   \n",
       "161495                                                  1           1960   \n",
       "161496                                                  1           1970   \n",
       "161497                                                  0           1970   \n",
       "161498                                                  1           1950   \n",
       "161499                                                  0           1970   \n",
       "\n",
       "        Band Genre_country  Band Genre_heavy metal  Band Genre_hip hop/rap  \\\n",
       "0                        0                       0                       0   \n",
       "1                        0                       0                       0   \n",
       "2                        0                       0                       0   \n",
       "3                        0                       0                       0   \n",
       "4                        0                       0                       0   \n",
       "...                    ...                     ...                     ...   \n",
       "161495                   0                       0                       0   \n",
       "161496                   0                       0                       0   \n",
       "161497                   0                       0                       0   \n",
       "161498                   0                       0                       1   \n",
       "161499                   0                       0                       0   \n",
       "\n",
       "        Band Genre_indie/alt rock  Band Genre_pop music  Band Genre_rnb  ...  \\\n",
       "0                               1                     0               0  ...   \n",
       "1                               0                     1               0  ...   \n",
       "2                               0                     0               0  ...   \n",
       "3                               0                     0               1  ...   \n",
       "4                               0                     1               0  ...   \n",
       "...                           ...                   ...             ...  ...   \n",
       "161495                          0                     1               0  ...   \n",
       "161496                          0                     0               0  ...   \n",
       "161497                          0                     1               0  ...   \n",
       "161498                          0                     0               0  ...   \n",
       "161499                          0                     1               0  ...   \n",
       "\n",
       "        Concert ID_other  Height (cm)  Inside Venue  Out n Rain  \\\n",
       "0                      1        140.0             0           0   \n",
       "1                      1        158.0             1           0   \n",
       "2                      1        159.0             0           0   \n",
       "3                      1        150.0             0           1   \n",
       "4                      1        166.0             0           0   \n",
       "...                  ...          ...           ...         ...   \n",
       "161495                 1        182.0             0           0   \n",
       "161496                 1        154.0             1           0   \n",
       "161497                 1        167.0             1           0   \n",
       "161498                 1        167.0             1           0   \n",
       "161499                 1        185.0             0           1   \n",
       "\n",
       "        Personnality Trait 1  Personnality Trait 2  Personnality Trait 3  \\\n",
       "0                   0.330843             -0.958408             -0.943548   \n",
       "1                  -2.069449              0.017777             -1.910675   \n",
       "2                  -0.484268              1.968772             -0.064167   \n",
       "3                  -0.858054              1.022827             -0.348389   \n",
       "4                  -0.793029             -1.166528             -0.043766   \n",
       "...                      ...                   ...                   ...   \n",
       "161495              0.586789             -0.288211             -0.746254   \n",
       "161496              0.659164             -1.074516              0.855201   \n",
       "161497             -0.208026             -1.716854              1.460769   \n",
       "161498             -0.270337             -3.120069              0.552467   \n",
       "161499              0.255832             -1.582423             -1.445451   \n",
       "\n",
       "        Personnality Trait 4  Rain  Seated  \n",
       "0                  -1.636806     0       0  \n",
       "1                   0.610265     0       1  \n",
       "2                  -1.260871     0       1  \n",
       "3                  -1.147251     1       0  \n",
       "4                   0.969661     0       0  \n",
       "...                      ...   ...     ...  \n",
       "161495              -1.19351     0       0  \n",
       "161496              2.426957     0       0  \n",
       "161497              0.166714     0       1  \n",
       "161498              0.000186     1       0  \n",
       "161499             -0.367416     1       1  \n",
       "\n",
       "[161500 rows x 101 columns]"
      ]
     },
     "execution_count": 326,
     "metadata": {},
     "output_type": "execute_result"
    }
   ],
   "source": [
    "X_train"
   ]
  },
  {
   "cell_type": "markdown",
   "id": "400feb53",
   "metadata": {},
   "source": [
    "# Scale"
   ]
  },
  {
   "cell_type": "code",
   "execution_count": 327,
   "id": "08a19bec",
   "metadata": {},
   "outputs": [],
   "source": [
    "from sklearn.preprocessing import StandardScaler, MinMaxScaler"
   ]
  },
  {
   "cell_type": "code",
   "execution_count": 328,
   "id": "9a467d19",
   "metadata": {},
   "outputs": [],
   "source": [
    "sc = MinMaxScaler()\n",
    "sc.fit(X_train)\n",
    "\n",
    "X_train = sc.transform(X_train)\n",
    "X_eval = sc.transform(X_eval)\n",
    "X_test = sc.transform(X_test)"
   ]
  },
  {
   "cell_type": "markdown",
   "id": "feb8683c",
   "metadata": {},
   "source": [
    "# Predictions"
   ]
  },
  {
   "cell_type": "code",
   "execution_count": 329,
   "id": "8ee93594",
   "metadata": {},
   "outputs": [],
   "source": [
    "from sklearn.neighbors import KNeighborsClassifier"
   ]
  },
  {
   "cell_type": "code",
   "execution_count": 330,
   "id": "c65239b4",
   "metadata": {},
   "outputs": [],
   "source": [
    "knn = KNeighborsClassifier(n_neighbors=27, weights='uniform', p=1, algorithm='kd_tree')"
   ]
  },
  {
   "cell_type": "code",
   "execution_count": 331,
   "id": "f71f3c19",
   "metadata": {},
   "outputs": [],
   "source": [
    "from sklearn.preprocessing import LabelEncoder"
   ]
  },
  {
   "cell_type": "code",
   "execution_count": 332,
   "id": "d73d52c0",
   "metadata": {},
   "outputs": [],
   "source": [
    "le = LabelEncoder().fit(y_train)\n",
    "y_train_encoded = le.transform(y_train)\n",
    "y_eval_encoded = le.transform(y_eval)"
   ]
  },
  {
   "cell_type": "code",
   "execution_count": 333,
   "id": "ddad9d78",
   "metadata": {},
   "outputs": [
    {
     "data": {
      "text/html": [
       "<style>#sk-container-id-10 {color: black;background-color: white;}#sk-container-id-10 pre{padding: 0;}#sk-container-id-10 div.sk-toggleable {background-color: white;}#sk-container-id-10 label.sk-toggleable__label {cursor: pointer;display: block;width: 100%;margin-bottom: 0;padding: 0.3em;box-sizing: border-box;text-align: center;}#sk-container-id-10 label.sk-toggleable__label-arrow:before {content: \"▸\";float: left;margin-right: 0.25em;color: #696969;}#sk-container-id-10 label.sk-toggleable__label-arrow:hover:before {color: black;}#sk-container-id-10 div.sk-estimator:hover label.sk-toggleable__label-arrow:before {color: black;}#sk-container-id-10 div.sk-toggleable__content {max-height: 0;max-width: 0;overflow: hidden;text-align: left;background-color: #f0f8ff;}#sk-container-id-10 div.sk-toggleable__content pre {margin: 0.2em;color: black;border-radius: 0.25em;background-color: #f0f8ff;}#sk-container-id-10 input.sk-toggleable__control:checked~div.sk-toggleable__content {max-height: 200px;max-width: 100%;overflow: auto;}#sk-container-id-10 input.sk-toggleable__control:checked~label.sk-toggleable__label-arrow:before {content: \"▾\";}#sk-container-id-10 div.sk-estimator input.sk-toggleable__control:checked~label.sk-toggleable__label {background-color: #d4ebff;}#sk-container-id-10 div.sk-label input.sk-toggleable__control:checked~label.sk-toggleable__label {background-color: #d4ebff;}#sk-container-id-10 input.sk-hidden--visually {border: 0;clip: rect(1px 1px 1px 1px);clip: rect(1px, 1px, 1px, 1px);height: 1px;margin: -1px;overflow: hidden;padding: 0;position: absolute;width: 1px;}#sk-container-id-10 div.sk-estimator {font-family: monospace;background-color: #f0f8ff;border: 1px dotted black;border-radius: 0.25em;box-sizing: border-box;margin-bottom: 0.5em;}#sk-container-id-10 div.sk-estimator:hover {background-color: #d4ebff;}#sk-container-id-10 div.sk-parallel-item::after {content: \"\";width: 100%;border-bottom: 1px solid gray;flex-grow: 1;}#sk-container-id-10 div.sk-label:hover label.sk-toggleable__label {background-color: #d4ebff;}#sk-container-id-10 div.sk-serial::before {content: \"\";position: absolute;border-left: 1px solid gray;box-sizing: border-box;top: 0;bottom: 0;left: 50%;z-index: 0;}#sk-container-id-10 div.sk-serial {display: flex;flex-direction: column;align-items: center;background-color: white;padding-right: 0.2em;padding-left: 0.2em;position: relative;}#sk-container-id-10 div.sk-item {position: relative;z-index: 1;}#sk-container-id-10 div.sk-parallel {display: flex;align-items: stretch;justify-content: center;background-color: white;position: relative;}#sk-container-id-10 div.sk-item::before, #sk-container-id-10 div.sk-parallel-item::before {content: \"\";position: absolute;border-left: 1px solid gray;box-sizing: border-box;top: 0;bottom: 0;left: 50%;z-index: -1;}#sk-container-id-10 div.sk-parallel-item {display: flex;flex-direction: column;z-index: 1;position: relative;background-color: white;}#sk-container-id-10 div.sk-parallel-item:first-child::after {align-self: flex-end;width: 50%;}#sk-container-id-10 div.sk-parallel-item:last-child::after {align-self: flex-start;width: 50%;}#sk-container-id-10 div.sk-parallel-item:only-child::after {width: 0;}#sk-container-id-10 div.sk-dashed-wrapped {border: 1px dashed gray;margin: 0 0.4em 0.5em 0.4em;box-sizing: border-box;padding-bottom: 0.4em;background-color: white;}#sk-container-id-10 div.sk-label label {font-family: monospace;font-weight: bold;display: inline-block;line-height: 1.2em;}#sk-container-id-10 div.sk-label-container {text-align: center;}#sk-container-id-10 div.sk-container {/* jupyter's `normalize.less` sets `[hidden] { display: none; }` but bootstrap.min.css set `[hidden] { display: none !important; }` so we also need the `!important` here to be able to override the default hidden behavior on the sphinx rendered scikit-learn.org. See: https://github.com/scikit-learn/scikit-learn/issues/21755 */display: inline-block !important;position: relative;}#sk-container-id-10 div.sk-text-repr-fallback {display: none;}</style><div id=\"sk-container-id-10\" class=\"sk-top-container\"><div class=\"sk-text-repr-fallback\"><pre>KNeighborsClassifier(algorithm=&#x27;kd_tree&#x27;, n_neighbors=27, p=1)</pre><b>In a Jupyter environment, please rerun this cell to show the HTML representation or trust the notebook. <br />On GitHub, the HTML representation is unable to render, please try loading this page with nbviewer.org.</b></div><div class=\"sk-container\" hidden><div class=\"sk-item\"><div class=\"sk-estimator sk-toggleable\"><input class=\"sk-toggleable__control sk-hidden--visually\" id=\"sk-estimator-id-10\" type=\"checkbox\" checked><label for=\"sk-estimator-id-10\" class=\"sk-toggleable__label sk-toggleable__label-arrow\">KNeighborsClassifier</label><div class=\"sk-toggleable__content\"><pre>KNeighborsClassifier(algorithm=&#x27;kd_tree&#x27;, n_neighbors=27, p=1)</pre></div></div></div></div></div>"
      ],
      "text/plain": [
       "KNeighborsClassifier(algorithm='kd_tree', n_neighbors=27, p=1)"
      ]
     },
     "execution_count": 333,
     "metadata": {},
     "output_type": "execute_result"
    }
   ],
   "source": [
    "knn.fit(X_train, y_train_encoded)"
   ]
  },
  {
   "cell_type": "code",
   "execution_count": 334,
   "id": "2fde2efd",
   "metadata": {},
   "outputs": [],
   "source": [
    "y_eval_pred = knn.predict(X_eval)"
   ]
  },
  {
   "cell_type": "code",
   "execution_count": 335,
   "id": "09590651",
   "metadata": {},
   "outputs": [
    {
     "data": {
      "text/plain": [
       "array([1, 1, 3, ..., 2, 1, 2])"
      ]
     },
     "execution_count": 335,
     "metadata": {},
     "output_type": "execute_result"
    }
   ],
   "source": [
    "y_eval_pred"
   ]
  },
  {
   "cell_type": "code",
   "execution_count": 336,
   "id": "902f2590",
   "metadata": {},
   "outputs": [
    {
     "name": "stdout",
     "output_type": "stream",
     "text": [
      "[0.33869602 0.67425083 0.67361778 0.45688351]\n"
     ]
    }
   ],
   "source": [
    "from sklearn.metrics import accuracy_score, f1_score\n",
    "\n",
    "acc = f1_score(y_eval_encoded, y_eval_pred, average=None)\n",
    "\n",
    "print(acc)"
   ]
  },
  {
   "cell_type": "code",
   "execution_count": 337,
   "id": "d61594d8",
   "metadata": {},
   "outputs": [
    {
     "name": "stdout",
     "output_type": "stream",
     "text": [
      "0.6337647058823529\n"
     ]
    }
   ],
   "source": [
    "acc = f1_score(y_eval_encoded, y_eval_pred, average='micro')\n",
    "print(acc)"
   ]
  },
  {
   "cell_type": "code",
   "execution_count": 338,
   "id": "cb698554",
   "metadata": {},
   "outputs": [
    {
     "name": "stdout",
     "output_type": "stream",
     "text": [
      "{'Best Concert Ever': 0, 'Did Not Enjoy': 1, 'Enjoyed': 2, 'Worst Concert Ever': 3}\n",
      "              precision    recall  f1-score   support\n",
      "\n",
      "           0       0.56      0.24      0.34       827\n",
      "           1       0.64      0.72      0.67      3387\n",
      "           2       0.63      0.72      0.67      3409\n",
      "           3       0.68      0.34      0.46       877\n",
      "\n",
      "    accuracy                           0.63      8500\n",
      "   macro avg       0.63      0.51      0.54      8500\n",
      "weighted avg       0.63      0.63      0.62      8500\n",
      "\n"
     ]
    }
   ],
   "source": [
    "from sklearn.metrics import classification_report\n",
    "\n",
    "print(dict(zip(le.classes_, le.transform(le.classes_))))\n",
    "print(classification_report(y_eval_encoded, y_eval_pred))"
   ]
  },
  {
   "cell_type": "markdown",
   "id": "1b06b1c3",
   "metadata": {},
   "source": [
    "# Test Predictions"
   ]
  },
  {
   "cell_type": "code",
   "execution_count": 339,
   "id": "ced09c14",
   "metadata": {},
   "outputs": [],
   "source": [
    "y_pred_test = knn.predict(X_test)"
   ]
  },
  {
   "cell_type": "code",
   "execution_count": 340,
   "id": "1cfbcd52",
   "metadata": {},
   "outputs": [],
   "source": [
    "y_pred_test = le.inverse_transform(y_pred_test)"
   ]
  },
  {
   "cell_type": "code",
   "execution_count": 341,
   "id": "fe3ed4ad",
   "metadata": {},
   "outputs": [
    {
     "data": {
      "text/plain": [
       "array(['Best Concert Ever', 'Enjoyed', 'Enjoyed', ..., 'Enjoyed',\n",
       "       'Did Not Enjoy', 'Worst Concert Ever'], dtype=object)"
      ]
     },
     "execution_count": 341,
     "metadata": {},
     "output_type": "execute_result"
    }
   ],
   "source": [
    "y_pred_test"
   ]
  },
  {
   "cell_type": "code",
   "execution_count": 342,
   "id": "2dadf1d9",
   "metadata": {},
   "outputs": [
    {
     "data": {
      "text/plain": [
       "array(['ConcertExperience_70055', 'ConcertExperience_34799',\n",
       "       'ConcertExperience_100410', ..., 'ConcertExperience_197434',\n",
       "       'ConcertExperience_166029', 'ConcertExperience_24025'],\n",
       "      dtype=object)"
      ]
     },
     "execution_count": 342,
     "metadata": {},
     "output_type": "execute_result"
    }
   ],
   "source": [
    "ids_test.values"
   ]
  },
  {
   "cell_type": "code",
   "execution_count": 343,
   "id": "392c68e0",
   "metadata": {},
   "outputs": [],
   "source": [
    "df_soumission = pd.DataFrame({'Id' : ids_test.values, 'Predicted' : y_pred_test})"
   ]
  },
  {
   "cell_type": "code",
   "execution_count": 346,
   "id": "1699bb89",
   "metadata": {},
   "outputs": [],
   "source": [
    "df_soumission.to_csv('Soumission3.csv', index=False)"
   ]
  },
  {
   "cell_type": "code",
   "execution_count": null,
   "id": "6216edfe",
   "metadata": {},
   "outputs": [],
   "source": []
  }
 ],
 "metadata": {
  "kernelspec": {
   "display_name": "Python 3 (ipykernel)",
   "language": "python",
   "name": "python3"
  },
  "language_info": {
   "codemirror_mode": {
    "name": "ipython",
    "version": 3
   },
   "file_extension": ".py",
   "mimetype": "text/x-python",
   "name": "python",
   "nbconvert_exporter": "python",
   "pygments_lexer": "ipython3",
   "version": "3.9.7"
  }
 },
 "nbformat": 4,
 "nbformat_minor": 5
}
