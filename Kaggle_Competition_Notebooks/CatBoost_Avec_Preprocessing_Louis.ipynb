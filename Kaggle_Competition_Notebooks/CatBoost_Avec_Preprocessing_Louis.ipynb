{
  "cells": [
    {
      "cell_type": "markdown",
      "id": "e774ce5e",
      "metadata": {
        "id": "e774ce5e"
      },
      "source": [
        "1. Get train data and test data\n",
        "2. Split train data (train, eval) right away to simulate train vs test data\n",
        "3. Handle missing values (na and 'insert')\n",
        "4. Handle outliers\n"
      ]
    },
    {
      "cell_type": "code",
      "source": [
        "%pip install catboost"
      ],
      "metadata": {
        "colab": {
          "base_uri": "https://localhost:8080/"
        },
        "id": "0STKQ_kQWr7p",
        "outputId": "1ae972d5-93d0-42a4-8be3-b0a70d22ed95"
      },
      "id": "0STKQ_kQWr7p",
      "execution_count": null,
      "outputs": [
        {
          "output_type": "stream",
          "name": "stdout",
          "text": [
            "Looking in indexes: https://pypi.org/simple, https://us-python.pkg.dev/colab-wheels/public/simple/\n",
            "Collecting catboost\n",
            "  Downloading catboost-1.1.1-cp37-none-manylinux1_x86_64.whl (76.6 MB)\n",
            "\u001b[K     |████████████████████████████████| 76.6 MB 1.2 MB/s \n",
            "\u001b[?25hRequirement already satisfied: six in /usr/local/lib/python3.7/dist-packages (from catboost) (1.15.0)\n",
            "Requirement already satisfied: matplotlib in /usr/local/lib/python3.7/dist-packages (from catboost) (3.2.2)\n",
            "Requirement already satisfied: scipy in /usr/local/lib/python3.7/dist-packages (from catboost) (1.7.3)\n",
            "Requirement already satisfied: graphviz in /usr/local/lib/python3.7/dist-packages (from catboost) (0.10.1)\n",
            "Requirement already satisfied: plotly in /usr/local/lib/python3.7/dist-packages (from catboost) (5.5.0)\n",
            "Requirement already satisfied: numpy>=1.16.0 in /usr/local/lib/python3.7/dist-packages (from catboost) (1.21.6)\n",
            "Requirement already satisfied: pandas>=0.24.0 in /usr/local/lib/python3.7/dist-packages (from catboost) (1.3.5)\n",
            "Requirement already satisfied: python-dateutil>=2.7.3 in /usr/local/lib/python3.7/dist-packages (from pandas>=0.24.0->catboost) (2.8.2)\n",
            "Requirement already satisfied: pytz>=2017.3 in /usr/local/lib/python3.7/dist-packages (from pandas>=0.24.0->catboost) (2022.6)\n",
            "Requirement already satisfied: cycler>=0.10 in /usr/local/lib/python3.7/dist-packages (from matplotlib->catboost) (0.11.0)\n",
            "Requirement already satisfied: kiwisolver>=1.0.1 in /usr/local/lib/python3.7/dist-packages (from matplotlib->catboost) (1.4.4)\n",
            "Requirement already satisfied: pyparsing!=2.0.4,!=2.1.2,!=2.1.6,>=2.0.1 in /usr/local/lib/python3.7/dist-packages (from matplotlib->catboost) (3.0.9)\n",
            "Requirement already satisfied: typing-extensions in /usr/local/lib/python3.7/dist-packages (from kiwisolver>=1.0.1->matplotlib->catboost) (4.1.1)\n",
            "Requirement already satisfied: tenacity>=6.2.0 in /usr/local/lib/python3.7/dist-packages (from plotly->catboost) (8.1.0)\n",
            "Installing collected packages: catboost\n",
            "Successfully installed catboost-1.1.1\n"
          ]
        }
      ]
    },
    {
      "cell_type": "markdown",
      "source": [],
      "metadata": {
        "id": "9CGDpEX62ao5"
      },
      "id": "9CGDpEX62ao5"
    },
    {
      "cell_type": "code",
      "execution_count": null,
      "id": "a4ac8607",
      "metadata": {
        "id": "a4ac8607"
      },
      "outputs": [],
      "source": [
        "import numpy as np\n",
        "import pandas as pd\n",
        "import copy\n",
        "from sklearn.model_selection import train_test_split\n",
        "from sklearn import preprocessing\n",
        "import os\n",
        "from scipy import stats\n",
        "from sklearn.preprocessing import OneHotEncoder"
      ]
    },
    {
      "cell_type": "code",
      "execution_count": null,
      "id": "e70ea8f1",
      "metadata": {
        "colab": {
          "base_uri": "https://localhost:8080/"
        },
        "id": "e70ea8f1",
        "outputId": "7e1fdd55-52b2-4711-cb83-be6709f36002"
      },
      "outputs": [
        {
          "output_type": "stream",
          "name": "stdout",
          "text": [
            "(170000, 19)\n",
            "(30000, 18)\n"
          ]
        }
      ],
      "source": [
        "df_train = pd.read_csv('train.csv')\n",
        "df_test = pd.read_csv('test.csv')\n",
        "print(df_train.shape)\n",
        "print(df_test.shape)"
      ]
    },
    {
      "cell_type": "code",
      "execution_count": null,
      "id": "28b9ffc2",
      "metadata": {
        "id": "28b9ffc2"
      },
      "outputs": [],
      "source": [
        "\n",
        "def convertToNum(a):\n",
        "    if a == 'Worst Concert Ever':\n",
        "        return 0\n",
        "    elif a == 'Did Not Enjoy':\n",
        "        return 1\n",
        "    elif a == 'Enjoyed':\n",
        "        return 2\n",
        "    else:\n",
        "        return 3\n",
        "    \n",
        "\n",
        "#df_train['Num Concert Enjoyment'] = df_train['Concert Enjoyment'].replace(\n",
        "#    ['Worst Concert Ever', 'Did Not Enjoy', 'Enjoyed', 'Best Concert Ever'], \n",
        "#    [0,1,2,3]\n",
        "#)"
      ]
    },
    {
      "cell_type": "code",
      "execution_count": null,
      "id": "18cea9d6",
      "metadata": {
        "colab": {
          "base_uri": "https://localhost:8080/"
        },
        "id": "18cea9d6",
        "outputId": "239ae0c0-a333-495c-f935-090eaed67baf"
      },
      "outputs": [
        {
          "output_type": "stream",
          "name": "stdout",
          "text": [
            "(153000, 19)\n",
            "(17000, 19)\n"
          ]
        }
      ],
      "source": [
        "df_train, df_eval = np.split(df_train, [int(0.90*len(df_train))])\n",
        "print(df_train.shape)\n",
        "print(df_eval.shape)"
      ]
    },
    {
      "cell_type": "markdown",
      "id": "119a6926",
      "metadata": {
        "id": "119a6926"
      },
      "source": [
        "# To Lower and To String"
      ]
    },
    {
      "cell_type": "code",
      "execution_count": null,
      "id": "93a6d0c0",
      "metadata": {
        "id": "93a6d0c0"
      },
      "outputs": [],
      "source": [
        "def toLower(a):\n",
        "    if a == None or a != a:\n",
        "        pass\n",
        "    else:\n",
        "        a = a.lower()\n",
        "    return a\n",
        "\n",
        "def toString(a):\n",
        "  if a == None or a!=a :    #if a is none or nan on pass \n",
        "    pass \n",
        "  else:\n",
        "    a = str(int(a))   \n",
        "  return a\n",
        "\n",
        "for c in [\"Band Country of Origin\",\"Band Name\",\"Band Genre\",\"Concert Goer Country of Origin\"]:\n",
        "    df_train[c] = df_train[c].map(toLower)\n",
        "    df_eval[c] = df_eval[c].map(toLower)\n",
        "    df_test[c] = df_test[c].map(toLower)\n",
        "    \n",
        "for c in ['Concert ID']:\n",
        "    df_train[c] = df_train[c].map(toString)\n",
        "    df_eval[c] = df_eval[c].map(toString)\n",
        "    df_test[c] = df_test[c].map(toString)"
      ]
    },
    {
      "cell_type": "markdown",
      "id": "8ba6d285",
      "metadata": {
        "id": "8ba6d285"
      },
      "source": [
        "# By Decile"
      ]
    },
    {
      "cell_type": "code",
      "execution_count": null,
      "id": "1e63ef60",
      "metadata": {
        "id": "1e63ef60"
      },
      "outputs": [],
      "source": [
        "def groupByDecile(a):\n",
        "  if a == None or a!=a :     \n",
        "    pass \n",
        "  elif a< 20:\n",
        "    a = str(16)     #ca permet de faire commencer à 16 ans l'intervalle des âges sinon ce serait 10 ans X(\n",
        "  else :\n",
        "    a = a - a%10        #  Ex : 1976 - 1976%10 = 1970\n",
        "    a = str(int(a))\n",
        "  return a\n",
        "\n",
        "for c in [\"Band Debut\",\"Concert Goer Age\"]:\n",
        "    df_train[c] = df_train[c].map(groupByDecile)\n",
        "    df_eval[c] = df_eval[c].map(groupByDecile)\n",
        "    df_test[c] = df_test[c].map(groupByDecile)"
      ]
    },
    {
      "cell_type": "markdown",
      "id": "44ce7457",
      "metadata": {
        "id": "44ce7457"
      },
      "source": [
        "# Handle Missing values"
      ]
    },
    {
      "cell_type": "code",
      "execution_count": null,
      "id": "d936145c",
      "metadata": {
        "id": "d936145c"
      },
      "outputs": [],
      "source": [
        "# Missing values are nan or '*insert*'\n",
        "# Want to replace by most popular\n",
        "from sklearn.impute import SimpleImputer\n",
        "imp = SimpleImputer(missing_values=np.nan, strategy='most_frequent')\n",
        "\n",
        "X_train = df_train.drop(columns=['Concert Enjoyment'])\n",
        "y_train = df_train['Concert Enjoyment']\n",
        "\n",
        "X_eval = df_eval.drop(columns=['Concert Enjoyment'])\n",
        "y_eval = df_eval['Concert Enjoyment']\n",
        "\n",
        "idx_train = X_train.index\n",
        "idx_eval = X_eval.index\n",
        "\n",
        "imp.fit(X_train)\n",
        "\n",
        "cols = X_train.columns.values\n",
        "\n",
        "X_train = imp.transform(X_train)\n",
        "X_eval = imp.transform(X_eval)\n",
        "X_test = imp.transform(df_test)\n",
        "\n",
        "# Quand soumission on train sur TOUT train\n",
        "df_train = pd.concat([pd.DataFrame(X_train, columns=cols, index=idx_train), y_train], axis=1)\n",
        "df_eval = pd.concat([pd.DataFrame(X_eval, columns=cols, index=idx_eval), y_eval], axis=1)\n",
        "df_test = pd.DataFrame(X_test, columns=cols)\n"
      ]
    },
    {
      "cell_type": "markdown",
      "id": "14f7d21e",
      "metadata": {
        "id": "14f7d21e"
      },
      "source": [
        "# To Int"
      ]
    },
    {
      "cell_type": "code",
      "execution_count": null,
      "id": "bb0fac7d",
      "metadata": {
        "id": "bb0fac7d"
      },
      "outputs": [],
      "source": [
        "cols_to_int = ['Inside Venue','Rain','Seated']\n",
        "for c in cols_to_int:\n",
        "    df_train[c] = df_train[c].astype(int)\n",
        "    df_eval[c] = df_eval[c].astype(int)\n",
        "    # Quand soummission\n",
        "    df_test[c] = df_test[c].astype(int)"
      ]
    },
    {
      "cell_type": "code",
      "execution_count": null,
      "id": "2bcd2941",
      "metadata": {
        "id": "2bcd2941"
      },
      "outputs": [],
      "source": [
        "cols_with_insert = ['Band Name', 'Band Genre', 'Band Country of Origin','Concert Goer Country of Origin']\n",
        "for c in cols_with_insert:\n",
        "    df_train.loc[df_train[c].str.contains('insert'), c] = df_train[c].mode()[0]\n",
        "    df_eval.loc[df_eval[c].str.contains('insert'), c] = df_train[c].mode()[0]\n",
        "    # Quand soumission on fait tout sur le train mode\n",
        "    df_test.loc[df_test[c].str.contains('insert'), c] = df_test[c].mode()[0]"
      ]
    },
    {
      "cell_type": "markdown",
      "id": "0bf33089",
      "metadata": {
        "id": "0bf33089"
      },
      "source": [
        "# Handle Outliers"
      ]
    },
    {
      "cell_type": "code",
      "execution_count": null,
      "id": "d9114119",
      "metadata": {
        "id": "d9114119"
      },
      "outputs": [],
      "source": [
        "def convertConcertAttendance(a):\n",
        "    if int(a) > 162754:\n",
        "        a = (a / 10000)\n",
        "    return a\n",
        "\n",
        "df_train['Concert Attendance'] = df_train['Concert Attendance'].map(convertConcertAttendance)\n",
        "df_eval['Concert Attendance'] = df_eval['Concert Attendance'].map(convertConcertAttendance)\n",
        "# Quand soumission\n",
        "df_test['Concert Attendance'] = df_test['Concert Attendance'].map(convertConcertAttendance)"
      ]
    },
    {
      "cell_type": "code",
      "execution_count": null,
      "id": "d938035b",
      "metadata": {
        "id": "d938035b"
      },
      "outputs": [],
      "source": [
        "df_train.loc[\n",
        "    (df_train['Personnality Trait 2'] < -5) |\n",
        "    (df_train['Personnality Trait 2'] > 5), 'Personnality Trait 2'\n",
        "] = df_train['Personnality Trait 2'].mean()\n",
        "\n",
        "df_eval.loc[\n",
        "    (df_eval['Personnality Trait 2'] < -5) |\n",
        "    (df_eval['Personnality Trait 2'] > 5), 'Personnality Trait 2'\n",
        "] = df_train['Personnality Trait 2'].mean()\n",
        "\n",
        "\n",
        "df_test.loc[\n",
        "    (df_test['Personnality Trait 2'] < -5) |\n",
        "    (df_test['Personnality Trait 2'] > 5), 'Personnality Trait 2'\n",
        "] = df_train['Personnality Trait 2'].mean()\n",
        "\n",
        "# Quand soumission on le fait sur df_test"
      ]
    },
    {
      "cell_type": "markdown",
      "id": "f9492575",
      "metadata": {
        "id": "f9492575"
      },
      "source": [
        "# Group Data"
      ]
    },
    {
      "cell_type": "code",
      "execution_count": null,
      "id": "dd3a1166",
      "metadata": {
        "id": "dd3a1166"
      },
      "outputs": [],
      "source": [
        "def groupCountry(a):\n",
        "    if a not in ['canada', 'united states of america (usa)', 'united kingdom (uk)']:\n",
        "        a = 'other'\n",
        "    return a\n",
        "\n",
        "df_train['Concert Goer Country of Origin'] = df_train['Concert Goer Country of Origin'].map(groupCountry)\n",
        "df_eval['Concert Goer Country of Origin'] = df_eval['Concert Goer Country of Origin'].map(groupCountry)\n",
        "# quand soumission sur test aussi\n",
        "df_test['Concert Goer Country of Origin'] = df_test['Concert Goer Country of Origin'].map(groupCountry)"
      ]
    },
    {
      "cell_type": "markdown",
      "id": "fa743cc7",
      "metadata": {
        "id": "fa743cc7"
      },
      "source": [
        "# Keep Important Concert IDs"
      ]
    },
    {
      "cell_type": "code",
      "execution_count": null,
      "id": "1c36e9fd",
      "metadata": {
        "id": "1c36e9fd"
      },
      "outputs": [],
      "source": [
        "def convertConcertID(a):\n",
        "    # Top 5 meilleurs average rating qui sont a l'interieur, Pire 5 qui sont a l'intérieur\n",
        "    if int(a) in [879, 539, 456, 961, 592, 978, 441, 193, 24, 164]:\n",
        "        return str(a)\n",
        "    else:\n",
        "        return 'other'\n",
        "    \n",
        "df_train['Concert ID'] = df_train['Concert ID'].map(convertConcertID)\n",
        "df_test['Concert ID'] = df_test['Concert ID'].map(convertConcertID)\n",
        "df_eval['Concert ID'] = df_eval['Concert ID'].map(convertConcertID)"
      ]
    },
    {
      "cell_type": "markdown",
      "id": "751bb858",
      "metadata": {
        "id": "751bb858"
      },
      "source": [
        "# Keep Important Concert Goer IDs"
      ]
    },
    {
      "cell_type": "code",
      "execution_count": null,
      "id": "f0b1ac16",
      "metadata": {
        "id": "f0b1ac16"
      },
      "outputs": [],
      "source": [
        "def convertConcertGoerID(a):\n",
        "    if str(a) in ['concert_goer_695', 'concert_goer_413', 'concert_goer_1392', 'concert_goer_398', 'concert_goer_1770', 'concert_goer_1011', 'concert_goer_1414', 'concert_goer_1419', 'concert_goer_1506', 'concert_goer_390']:\n",
        "        return str(a)\n",
        "    else:\n",
        "        return 'other'\n",
        "    \n",
        "df_train['Concert Goer ID'] = df_train['Concert Goer ID'].map(convertConcertGoerID)\n",
        "df_test['Concert Goer ID'] = df_test['Concert Goer ID'].map(convertConcertGoerID)\n",
        "df_eval['Concert Goer ID'] = df_eval['Concert Goer ID'].map(convertConcertGoerID)"
      ]
    },
    {
      "cell_type": "markdown",
      "id": "3b32b23b",
      "metadata": {
        "id": "3b32b23b"
      },
      "source": [
        "# Create New Feature"
      ]
    },
    {
      "cell_type": "code",
      "execution_count": null,
      "id": "1c8ac24d",
      "metadata": {
        "id": "1c8ac24d"
      },
      "outputs": [],
      "source": [
        "df_train['Out n Rain'] = ((df_train['Inside Venue'] == 0) & (df_train['Rain'] == 1)).astype(int)\n",
        "df_test['Out n Rain'] = ((df_test['Inside Venue'] == 0) & (df_test['Rain'] == 1)).astype(int)\n",
        "df_eval['Out n Rain'] = ((df_eval['Inside Venue'] == 0) & (df_eval['Rain'] == 1)).astype(int)"
      ]
    },
    {
      "cell_type": "markdown",
      "id": "412297f8",
      "metadata": {
        "id": "412297f8"
      },
      "source": [
        "# Drop Cols"
      ]
    },
    {
      "cell_type": "code",
      "source": [
        "df_test.columns"
      ],
      "metadata": {
        "colab": {
          "base_uri": "https://localhost:8080/"
        },
        "id": "xCw6Lnj0dirB",
        "outputId": "100fd12e-1afd-4ceb-965d-c9af38278ef1"
      },
      "id": "xCw6Lnj0dirB",
      "execution_count": null,
      "outputs": [
        {
          "output_type": "execute_result",
          "data": {
            "text/plain": [
              "Index(['Id', 'Band Name', 'Band Genre', 'Band Country of Origin', 'Band Debut',\n",
              "       'Concert ID', 'Concert Attendance', 'Inside Venue', 'Rain', 'Seated',\n",
              "       'Personnality Trait 1', 'Personnality Trait 2', 'Personnality Trait 3',\n",
              "       'Personnality Trait 4', 'Concert Goer Age', 'Concert Goer ID',\n",
              "       'Height (cm)', 'Concert Goer Country of Origin', 'Out n Rain'],\n",
              "      dtype='object')"
            ]
          },
          "metadata": {},
          "execution_count": 167
        }
      ]
    },
    {
      "cell_type": "code",
      "execution_count": null,
      "id": "5ddf0759",
      "metadata": {
        "id": "5ddf0759"
      },
      "outputs": [],
      "source": [
        "cols_to_drop = ['Id']\n",
        "ids_test = df_test['Id']\n",
        "df_train = df_train.drop(columns=cols_to_drop)\n",
        "df_eval = df_eval.drop(columns=cols_to_drop)\n",
        "df_test = df_test.drop(columns=cols_to_drop)"
      ]
    },
    {
      "cell_type": "markdown",
      "id": "a83898c4",
      "metadata": {
        "id": "a83898c4"
      },
      "source": [
        "# Balance Dataset"
      ]
    },
    {
      "cell_type": "markdown",
      "id": "bdaed0e9",
      "metadata": {
        "id": "bdaed0e9"
      },
      "source": [
        "from sklearn.metrics import DistanceMetric\n",
        "from imblearn.over_sampling import SMOTENC"
      ]
    },
    {
      "cell_type": "markdown",
      "id": "4d489f31",
      "metadata": {
        "id": "4d489f31"
      },
      "source": [
        "df_train['Concert Enjoyment'].value_counts()"
      ]
    },
    {
      "cell_type": "markdown",
      "id": "52f436bf",
      "metadata": {
        "id": "52f436bf"
      },
      "source": [
        "df_train = df_train.drop(\n",
        "    df_train[\n",
        "        df_train['Concert Enjoyment'] == 'Enjoyed'\n",
        "    ].sample(frac=0.25).index)\n",
        "\n",
        "df_train = df_train.drop(\n",
        "    df_train[\n",
        "        df_train['Concert Enjoyment'] == 'Did Not Enjoy'\n",
        "    ].sample(frac=0.25).index)"
      ]
    },
    {
      "cell_type": "markdown",
      "id": "4b274500",
      "metadata": {
        "id": "4b274500"
      },
      "source": [
        "df_train['Concert Enjoyment'].value_counts()"
      ]
    },
    {
      "cell_type": "markdown",
      "id": "32d69249",
      "metadata": {
        "id": "32d69249"
      },
      "source": [
        "nb_class_dict = {\n",
        "    'Did Not Enjoy':40783,\n",
        "    'Enjoyed':40769,\n",
        "    'Worst Concert Ever':26000,\n",
        "    'Best Concert Ever':26000\n",
        "}\n",
        "X = df_train.drop(columns=['Concert Enjoyment'])\n",
        "y = df_train['Concert Enjoyment']\n",
        "cols = X.columns\n",
        "num_cols = X._get_numeric_data().columns\n",
        "cat_cols = list(set(cols) - set(num_cols))\n",
        "cat_cols_idx = [X.columns.get_loc(c) for c in cat_cols]\n",
        "\n",
        "sm = SMOTENC(random_state=0, sampling_strategy=nb_class_dict, categorical_features=cat_cols_idx)\n",
        "\n",
        "X_bal, y_bal = sm.fit_resample(X, y)"
      ]
    },
    {
      "cell_type": "markdown",
      "id": "1558c429",
      "metadata": {
        "id": "1558c429"
      },
      "source": [
        "df_train = pd.concat([X_bal, y_bal], axis=1)"
      ]
    },
    {
      "cell_type": "markdown",
      "id": "c6dbbaf8",
      "metadata": {
        "id": "c6dbbaf8"
      },
      "source": [
        "df_train['Concert Enjoyment'].value_counts()"
      ]
    },
    {
      "cell_type": "markdown",
      "id": "7ca7fc7c",
      "metadata": {
        "id": "7ca7fc7c"
      },
      "source": [
        "# One Hot"
      ]
    },
    {
      "cell_type": "code",
      "execution_count": null,
      "id": "7f988245",
      "metadata": {
        "id": "7f988245"
      },
      "outputs": [],
      "source": [
        "one_hot_cols = ['Band Name', 'Concert Goer ID', 'Concert ID', 'Band Genre', 'Band Country of Origin', 'Concert Goer Country of Origin']"
      ]
    },
    {
      "cell_type": "code",
      "execution_count": null,
      "id": "d9219379",
      "metadata": {
        "id": "d9219379"
      },
      "outputs": [],
      "source": [
        "from sklearn.preprocessing import OneHotEncoder\n",
        "from sklearn.compose import make_column_transformer"
      ]
    },
    {
      "cell_type": "code",
      "execution_count": null,
      "id": "95a733a7",
      "metadata": {
        "id": "95a733a7"
      },
      "outputs": [],
      "source": [
        "X_train = df_train.drop(columns=['Concert Enjoyment'])\n",
        "X_eval = df_eval.drop(columns=['Concert Enjoyment'])\n",
        "\n",
        "y_train = df_train['Concert Enjoyment']\n",
        "y_eval = df_eval['Concert Enjoyment']"
      ]
    },
    {
      "cell_type": "code",
      "execution_count": null,
      "id": "f8b955e4",
      "metadata": {
        "colab": {
          "base_uri": "https://localhost:8080/"
        },
        "id": "f8b955e4",
        "outputId": "438f1712-1a93-4df2-cbeb-e1543a88771f"
      },
      "outputs": [
        {
          "output_type": "execute_result",
          "data": {
            "text/plain": [
              "array(['Band Name', 'Band Genre', 'Band Country of Origin', 'Band Debut',\n",
              "       'Concert ID', 'Concert Attendance', 'Inside Venue', 'Rain',\n",
              "       'Seated', 'Personnality Trait 1', 'Personnality Trait 2',\n",
              "       'Personnality Trait 3', 'Personnality Trait 4', 'Concert Goer Age',\n",
              "       'Concert Goer ID', 'Height (cm)', 'Concert Goer Country of Origin',\n",
              "       'Out n Rain'], dtype=object)"
            ]
          },
          "metadata": {},
          "execution_count": 172
        }
      ],
      "source": [
        "df_test.columns.values"
      ]
    },
    {
      "cell_type": "code",
      "execution_count": null,
      "id": "574f3aa7",
      "metadata": {
        "id": "574f3aa7"
      },
      "outputs": [],
      "source": [
        "X_train = pd.get_dummies(X_train, columns = one_hot_cols)\n",
        "X_eval = pd.get_dummies(X_eval, columns = one_hot_cols)\n",
        "X_test = pd.get_dummies(df_test, columns = one_hot_cols)"
      ]
    },
    {
      "cell_type": "code",
      "execution_count": null,
      "id": "dfcf4f02",
      "metadata": {
        "colab": {
          "base_uri": "https://localhost:8080/"
        },
        "id": "dfcf4f02",
        "outputId": "e950d3e4-9efc-4da9-b4e6-f966dbbf3a12"
      },
      "outputs": [
        {
          "output_type": "execute_result",
          "data": {
            "text/plain": [
              "Index(['Band Debut', 'Concert Attendance', 'Inside Venue', 'Rain', 'Seated',\n",
              "       'Personnality Trait 1', 'Personnality Trait 2', 'Personnality Trait 3',\n",
              "       'Personnality Trait 4', 'Concert Goer Age',\n",
              "       ...\n",
              "       'Band Genre_pop music', 'Band Genre_rnb', 'Band Genre_rock n roll',\n",
              "       'Band Country of Origin_canada',\n",
              "       'Band Country of Origin_united kingdom (uk)',\n",
              "       'Band Country of Origin_united states of america (usa)',\n",
              "       'Concert Goer Country of Origin_canada',\n",
              "       'Concert Goer Country of Origin_other',\n",
              "       'Concert Goer Country of Origin_united kingdom (uk)',\n",
              "       'Concert Goer Country of Origin_united states of america (usa)'],\n",
              "      dtype='object', length=101)"
            ]
          },
          "metadata": {},
          "execution_count": 174
        }
      ],
      "source": [
        "X_test.columns"
      ]
    },
    {
      "cell_type": "code",
      "execution_count": null,
      "id": "39985ffd",
      "metadata": {
        "id": "39985ffd"
      },
      "outputs": [],
      "source": [
        "X_train = X_train.reindex(sorted(X_train.columns), axis=1)\n",
        "X_eval = X_eval.reindex(sorted(X_train.columns), axis=1)\n",
        "X_test = X_test.reindex(sorted(X_test.columns), axis=1)"
      ]
    },
    {
      "cell_type": "code",
      "execution_count": null,
      "id": "7171e4ff",
      "metadata": {
        "id": "7171e4ff"
      },
      "outputs": [],
      "source": [
        "# Pour verifier qu'ils sont dans le meme ordre\n",
        "for i , c in enumerate(X_train.columns.values):\n",
        "    if X_eval.columns.values[i] != c:\n",
        "        print(c)"
      ]
    },
    {
      "cell_type": "code",
      "execution_count": null,
      "id": "d9a04ae2",
      "metadata": {
        "colab": {
          "base_uri": "https://localhost:8080/",
          "height": 557
        },
        "id": "d9a04ae2",
        "outputId": "b9f31aa8-b2c6-4854-80fb-81e1d27557a3"
      },
      "outputs": [
        {
          "output_type": "execute_result",
          "data": {
            "text/plain": [
              "        Band Country of Origin_canada  \\\n",
              "0                                   0   \n",
              "1                                   0   \n",
              "2                                   1   \n",
              "3                                   0   \n",
              "4                                   0   \n",
              "...                               ...   \n",
              "152995                              0   \n",
              "152996                              1   \n",
              "152997                              0   \n",
              "152998                              0   \n",
              "152999                              0   \n",
              "\n",
              "        Band Country of Origin_united kingdom (uk)  \\\n",
              "0                                                0   \n",
              "1                                                0   \n",
              "2                                                0   \n",
              "3                                                0   \n",
              "4                                                0   \n",
              "...                                            ...   \n",
              "152995                                           0   \n",
              "152996                                           0   \n",
              "152997                                           0   \n",
              "152998                                           1   \n",
              "152999                                           0   \n",
              "\n",
              "        Band Country of Origin_united states of america (usa) Band Debut  \\\n",
              "0                                                       1           1970   \n",
              "1                                                       1           1960   \n",
              "2                                                       0           1950   \n",
              "3                                                       1           1990   \n",
              "4                                                       1           1960   \n",
              "...                                                   ...            ...   \n",
              "152995                                                  1           1990   \n",
              "152996                                                  0           1950   \n",
              "152997                                                  1           2000   \n",
              "152998                                                  0           1990   \n",
              "152999                                                  1           1950   \n",
              "\n",
              "        Band Genre_country  Band Genre_heavy metal  Band Genre_hip hop/rap  \\\n",
              "0                        0                       0                       0   \n",
              "1                        0                       0                       0   \n",
              "2                        0                       0                       0   \n",
              "3                        0                       0                       0   \n",
              "4                        0                       0                       0   \n",
              "...                    ...                     ...                     ...   \n",
              "152995                   0                       0                       1   \n",
              "152996                   0                       0                       1   \n",
              "152997                   0                       0                       1   \n",
              "152998                   0                       0                       0   \n",
              "152999                   0                       0                       1   \n",
              "\n",
              "        Band Genre_indie/alt rock  Band Genre_pop music  Band Genre_rnb  ...  \\\n",
              "0                               1                     0               0  ...   \n",
              "1                               0                     1               0  ...   \n",
              "2                               0                     0               0  ...   \n",
              "3                               0                     0               1  ...   \n",
              "4                               0                     1               0  ...   \n",
              "...                           ...                   ...             ...  ...   \n",
              "152995                          0                     0               0  ...   \n",
              "152996                          0                     0               0  ...   \n",
              "152997                          0                     0               0  ...   \n",
              "152998                          0                     0               1  ...   \n",
              "152999                          0                     0               0  ...   \n",
              "\n",
              "        Concert ID_other  Height (cm)  Inside Venue  Out n Rain  \\\n",
              "0                      1        140.0             0           0   \n",
              "1                      1        158.0             1           0   \n",
              "2                      1        159.0             0           0   \n",
              "3                      1        150.0             0           1   \n",
              "4                      1        166.0             0           0   \n",
              "...                  ...          ...           ...         ...   \n",
              "152995                 1        159.0             1           0   \n",
              "152996                 1        168.0             1           0   \n",
              "152997                 1        142.0             0           0   \n",
              "152998                 1        158.0             1           0   \n",
              "152999                 1        157.0             0           0   \n",
              "\n",
              "        Personnality Trait 1  Personnality Trait 2  Personnality Trait 3  \\\n",
              "0                   0.330843             -0.958408             -0.943548   \n",
              "1                  -2.069449              0.017777             -1.910675   \n",
              "2                  -0.484268              1.968772             -0.064167   \n",
              "3                  -0.858054              1.022827             -0.348389   \n",
              "4                  -0.793029             -1.166528             -0.043766   \n",
              "...                      ...                   ...                   ...   \n",
              "152995             -0.496684             -0.912201             -0.670839   \n",
              "152996             -0.939447              0.478346              0.016814   \n",
              "152997              0.385945             -0.531422              0.452304   \n",
              "152998              0.272322             -0.100891              0.110496   \n",
              "152999               0.71605             -0.452533             -0.705229   \n",
              "\n",
              "        Personnality Trait 4  Rain  Seated  \n",
              "0                  -1.636806     0       0  \n",
              "1                   0.610265     0       1  \n",
              "2                  -1.260871     0       1  \n",
              "3                  -1.147251     1       0  \n",
              "4                   0.969661     0       0  \n",
              "...                      ...   ...     ...  \n",
              "152995             -1.023678     0       1  \n",
              "152996              0.854286     0       0  \n",
              "152997             -1.038035     0       1  \n",
              "152998              0.428983     0       0  \n",
              "152999             -0.771386     0       0  \n",
              "\n",
              "[153000 rows x 101 columns]"
            ],
            "text/html": [
              "\n",
              "  <div id=\"df-e3e0059f-6313-49ea-bb6e-0b759c0a89b2\">\n",
              "    <div class=\"colab-df-container\">\n",
              "      <div>\n",
              "<style scoped>\n",
              "    .dataframe tbody tr th:only-of-type {\n",
              "        vertical-align: middle;\n",
              "    }\n",
              "\n",
              "    .dataframe tbody tr th {\n",
              "        vertical-align: top;\n",
              "    }\n",
              "\n",
              "    .dataframe thead th {\n",
              "        text-align: right;\n",
              "    }\n",
              "</style>\n",
              "<table border=\"1\" class=\"dataframe\">\n",
              "  <thead>\n",
              "    <tr style=\"text-align: right;\">\n",
              "      <th></th>\n",
              "      <th>Band Country of Origin_canada</th>\n",
              "      <th>Band Country of Origin_united kingdom (uk)</th>\n",
              "      <th>Band Country of Origin_united states of america (usa)</th>\n",
              "      <th>Band Debut</th>\n",
              "      <th>Band Genre_country</th>\n",
              "      <th>Band Genre_heavy metal</th>\n",
              "      <th>Band Genre_hip hop/rap</th>\n",
              "      <th>Band Genre_indie/alt rock</th>\n",
              "      <th>Band Genre_pop music</th>\n",
              "      <th>Band Genre_rnb</th>\n",
              "      <th>...</th>\n",
              "      <th>Concert ID_other</th>\n",
              "      <th>Height (cm)</th>\n",
              "      <th>Inside Venue</th>\n",
              "      <th>Out n Rain</th>\n",
              "      <th>Personnality Trait 1</th>\n",
              "      <th>Personnality Trait 2</th>\n",
              "      <th>Personnality Trait 3</th>\n",
              "      <th>Personnality Trait 4</th>\n",
              "      <th>Rain</th>\n",
              "      <th>Seated</th>\n",
              "    </tr>\n",
              "  </thead>\n",
              "  <tbody>\n",
              "    <tr>\n",
              "      <th>0</th>\n",
              "      <td>0</td>\n",
              "      <td>0</td>\n",
              "      <td>1</td>\n",
              "      <td>1970</td>\n",
              "      <td>0</td>\n",
              "      <td>0</td>\n",
              "      <td>0</td>\n",
              "      <td>1</td>\n",
              "      <td>0</td>\n",
              "      <td>0</td>\n",
              "      <td>...</td>\n",
              "      <td>1</td>\n",
              "      <td>140.0</td>\n",
              "      <td>0</td>\n",
              "      <td>0</td>\n",
              "      <td>0.330843</td>\n",
              "      <td>-0.958408</td>\n",
              "      <td>-0.943548</td>\n",
              "      <td>-1.636806</td>\n",
              "      <td>0</td>\n",
              "      <td>0</td>\n",
              "    </tr>\n",
              "    <tr>\n",
              "      <th>1</th>\n",
              "      <td>0</td>\n",
              "      <td>0</td>\n",
              "      <td>1</td>\n",
              "      <td>1960</td>\n",
              "      <td>0</td>\n",
              "      <td>0</td>\n",
              "      <td>0</td>\n",
              "      <td>0</td>\n",
              "      <td>1</td>\n",
              "      <td>0</td>\n",
              "      <td>...</td>\n",
              "      <td>1</td>\n",
              "      <td>158.0</td>\n",
              "      <td>1</td>\n",
              "      <td>0</td>\n",
              "      <td>-2.069449</td>\n",
              "      <td>0.017777</td>\n",
              "      <td>-1.910675</td>\n",
              "      <td>0.610265</td>\n",
              "      <td>0</td>\n",
              "      <td>1</td>\n",
              "    </tr>\n",
              "    <tr>\n",
              "      <th>2</th>\n",
              "      <td>1</td>\n",
              "      <td>0</td>\n",
              "      <td>0</td>\n",
              "      <td>1950</td>\n",
              "      <td>0</td>\n",
              "      <td>0</td>\n",
              "      <td>0</td>\n",
              "      <td>0</td>\n",
              "      <td>0</td>\n",
              "      <td>0</td>\n",
              "      <td>...</td>\n",
              "      <td>1</td>\n",
              "      <td>159.0</td>\n",
              "      <td>0</td>\n",
              "      <td>0</td>\n",
              "      <td>-0.484268</td>\n",
              "      <td>1.968772</td>\n",
              "      <td>-0.064167</td>\n",
              "      <td>-1.260871</td>\n",
              "      <td>0</td>\n",
              "      <td>1</td>\n",
              "    </tr>\n",
              "    <tr>\n",
              "      <th>3</th>\n",
              "      <td>0</td>\n",
              "      <td>0</td>\n",
              "      <td>1</td>\n",
              "      <td>1990</td>\n",
              "      <td>0</td>\n",
              "      <td>0</td>\n",
              "      <td>0</td>\n",
              "      <td>0</td>\n",
              "      <td>0</td>\n",
              "      <td>1</td>\n",
              "      <td>...</td>\n",
              "      <td>1</td>\n",
              "      <td>150.0</td>\n",
              "      <td>0</td>\n",
              "      <td>1</td>\n",
              "      <td>-0.858054</td>\n",
              "      <td>1.022827</td>\n",
              "      <td>-0.348389</td>\n",
              "      <td>-1.147251</td>\n",
              "      <td>1</td>\n",
              "      <td>0</td>\n",
              "    </tr>\n",
              "    <tr>\n",
              "      <th>4</th>\n",
              "      <td>0</td>\n",
              "      <td>0</td>\n",
              "      <td>1</td>\n",
              "      <td>1960</td>\n",
              "      <td>0</td>\n",
              "      <td>0</td>\n",
              "      <td>0</td>\n",
              "      <td>0</td>\n",
              "      <td>1</td>\n",
              "      <td>0</td>\n",
              "      <td>...</td>\n",
              "      <td>1</td>\n",
              "      <td>166.0</td>\n",
              "      <td>0</td>\n",
              "      <td>0</td>\n",
              "      <td>-0.793029</td>\n",
              "      <td>-1.166528</td>\n",
              "      <td>-0.043766</td>\n",
              "      <td>0.969661</td>\n",
              "      <td>0</td>\n",
              "      <td>0</td>\n",
              "    </tr>\n",
              "    <tr>\n",
              "      <th>...</th>\n",
              "      <td>...</td>\n",
              "      <td>...</td>\n",
              "      <td>...</td>\n",
              "      <td>...</td>\n",
              "      <td>...</td>\n",
              "      <td>...</td>\n",
              "      <td>...</td>\n",
              "      <td>...</td>\n",
              "      <td>...</td>\n",
              "      <td>...</td>\n",
              "      <td>...</td>\n",
              "      <td>...</td>\n",
              "      <td>...</td>\n",
              "      <td>...</td>\n",
              "      <td>...</td>\n",
              "      <td>...</td>\n",
              "      <td>...</td>\n",
              "      <td>...</td>\n",
              "      <td>...</td>\n",
              "      <td>...</td>\n",
              "      <td>...</td>\n",
              "    </tr>\n",
              "    <tr>\n",
              "      <th>152995</th>\n",
              "      <td>0</td>\n",
              "      <td>0</td>\n",
              "      <td>1</td>\n",
              "      <td>1990</td>\n",
              "      <td>0</td>\n",
              "      <td>0</td>\n",
              "      <td>1</td>\n",
              "      <td>0</td>\n",
              "      <td>0</td>\n",
              "      <td>0</td>\n",
              "      <td>...</td>\n",
              "      <td>1</td>\n",
              "      <td>159.0</td>\n",
              "      <td>1</td>\n",
              "      <td>0</td>\n",
              "      <td>-0.496684</td>\n",
              "      <td>-0.912201</td>\n",
              "      <td>-0.670839</td>\n",
              "      <td>-1.023678</td>\n",
              "      <td>0</td>\n",
              "      <td>1</td>\n",
              "    </tr>\n",
              "    <tr>\n",
              "      <th>152996</th>\n",
              "      <td>1</td>\n",
              "      <td>0</td>\n",
              "      <td>0</td>\n",
              "      <td>1950</td>\n",
              "      <td>0</td>\n",
              "      <td>0</td>\n",
              "      <td>1</td>\n",
              "      <td>0</td>\n",
              "      <td>0</td>\n",
              "      <td>0</td>\n",
              "      <td>...</td>\n",
              "      <td>1</td>\n",
              "      <td>168.0</td>\n",
              "      <td>1</td>\n",
              "      <td>0</td>\n",
              "      <td>-0.939447</td>\n",
              "      <td>0.478346</td>\n",
              "      <td>0.016814</td>\n",
              "      <td>0.854286</td>\n",
              "      <td>0</td>\n",
              "      <td>0</td>\n",
              "    </tr>\n",
              "    <tr>\n",
              "      <th>152997</th>\n",
              "      <td>0</td>\n",
              "      <td>0</td>\n",
              "      <td>1</td>\n",
              "      <td>2000</td>\n",
              "      <td>0</td>\n",
              "      <td>0</td>\n",
              "      <td>1</td>\n",
              "      <td>0</td>\n",
              "      <td>0</td>\n",
              "      <td>0</td>\n",
              "      <td>...</td>\n",
              "      <td>1</td>\n",
              "      <td>142.0</td>\n",
              "      <td>0</td>\n",
              "      <td>0</td>\n",
              "      <td>0.385945</td>\n",
              "      <td>-0.531422</td>\n",
              "      <td>0.452304</td>\n",
              "      <td>-1.038035</td>\n",
              "      <td>0</td>\n",
              "      <td>1</td>\n",
              "    </tr>\n",
              "    <tr>\n",
              "      <th>152998</th>\n",
              "      <td>0</td>\n",
              "      <td>1</td>\n",
              "      <td>0</td>\n",
              "      <td>1990</td>\n",
              "      <td>0</td>\n",
              "      <td>0</td>\n",
              "      <td>0</td>\n",
              "      <td>0</td>\n",
              "      <td>0</td>\n",
              "      <td>1</td>\n",
              "      <td>...</td>\n",
              "      <td>1</td>\n",
              "      <td>158.0</td>\n",
              "      <td>1</td>\n",
              "      <td>0</td>\n",
              "      <td>0.272322</td>\n",
              "      <td>-0.100891</td>\n",
              "      <td>0.110496</td>\n",
              "      <td>0.428983</td>\n",
              "      <td>0</td>\n",
              "      <td>0</td>\n",
              "    </tr>\n",
              "    <tr>\n",
              "      <th>152999</th>\n",
              "      <td>0</td>\n",
              "      <td>0</td>\n",
              "      <td>1</td>\n",
              "      <td>1950</td>\n",
              "      <td>0</td>\n",
              "      <td>0</td>\n",
              "      <td>1</td>\n",
              "      <td>0</td>\n",
              "      <td>0</td>\n",
              "      <td>0</td>\n",
              "      <td>...</td>\n",
              "      <td>1</td>\n",
              "      <td>157.0</td>\n",
              "      <td>0</td>\n",
              "      <td>0</td>\n",
              "      <td>0.71605</td>\n",
              "      <td>-0.452533</td>\n",
              "      <td>-0.705229</td>\n",
              "      <td>-0.771386</td>\n",
              "      <td>0</td>\n",
              "      <td>0</td>\n",
              "    </tr>\n",
              "  </tbody>\n",
              "</table>\n",
              "<p>153000 rows × 101 columns</p>\n",
              "</div>\n",
              "      <button class=\"colab-df-convert\" onclick=\"convertToInteractive('df-e3e0059f-6313-49ea-bb6e-0b759c0a89b2')\"\n",
              "              title=\"Convert this dataframe to an interactive table.\"\n",
              "              style=\"display:none;\">\n",
              "        \n",
              "  <svg xmlns=\"http://www.w3.org/2000/svg\" height=\"24px\"viewBox=\"0 0 24 24\"\n",
              "       width=\"24px\">\n",
              "    <path d=\"M0 0h24v24H0V0z\" fill=\"none\"/>\n",
              "    <path d=\"M18.56 5.44l.94 2.06.94-2.06 2.06-.94-2.06-.94-.94-2.06-.94 2.06-2.06.94zm-11 1L8.5 8.5l.94-2.06 2.06-.94-2.06-.94L8.5 2.5l-.94 2.06-2.06.94zm10 10l.94 2.06.94-2.06 2.06-.94-2.06-.94-.94-2.06-.94 2.06-2.06.94z\"/><path d=\"M17.41 7.96l-1.37-1.37c-.4-.4-.92-.59-1.43-.59-.52 0-1.04.2-1.43.59L10.3 9.45l-7.72 7.72c-.78.78-.78 2.05 0 2.83L4 21.41c.39.39.9.59 1.41.59.51 0 1.02-.2 1.41-.59l7.78-7.78 2.81-2.81c.8-.78.8-2.07 0-2.86zM5.41 20L4 18.59l7.72-7.72 1.47 1.35L5.41 20z\"/>\n",
              "  </svg>\n",
              "      </button>\n",
              "      \n",
              "  <style>\n",
              "    .colab-df-container {\n",
              "      display:flex;\n",
              "      flex-wrap:wrap;\n",
              "      gap: 12px;\n",
              "    }\n",
              "\n",
              "    .colab-df-convert {\n",
              "      background-color: #E8F0FE;\n",
              "      border: none;\n",
              "      border-radius: 50%;\n",
              "      cursor: pointer;\n",
              "      display: none;\n",
              "      fill: #1967D2;\n",
              "      height: 32px;\n",
              "      padding: 0 0 0 0;\n",
              "      width: 32px;\n",
              "    }\n",
              "\n",
              "    .colab-df-convert:hover {\n",
              "      background-color: #E2EBFA;\n",
              "      box-shadow: 0px 1px 2px rgba(60, 64, 67, 0.3), 0px 1px 3px 1px rgba(60, 64, 67, 0.15);\n",
              "      fill: #174EA6;\n",
              "    }\n",
              "\n",
              "    [theme=dark] .colab-df-convert {\n",
              "      background-color: #3B4455;\n",
              "      fill: #D2E3FC;\n",
              "    }\n",
              "\n",
              "    [theme=dark] .colab-df-convert:hover {\n",
              "      background-color: #434B5C;\n",
              "      box-shadow: 0px 1px 3px 1px rgba(0, 0, 0, 0.15);\n",
              "      filter: drop-shadow(0px 1px 2px rgba(0, 0, 0, 0.3));\n",
              "      fill: #FFFFFF;\n",
              "    }\n",
              "  </style>\n",
              "\n",
              "      <script>\n",
              "        const buttonEl =\n",
              "          document.querySelector('#df-e3e0059f-6313-49ea-bb6e-0b759c0a89b2 button.colab-df-convert');\n",
              "        buttonEl.style.display =\n",
              "          google.colab.kernel.accessAllowed ? 'block' : 'none';\n",
              "\n",
              "        async function convertToInteractive(key) {\n",
              "          const element = document.querySelector('#df-e3e0059f-6313-49ea-bb6e-0b759c0a89b2');\n",
              "          const dataTable =\n",
              "            await google.colab.kernel.invokeFunction('convertToInteractive',\n",
              "                                                     [key], {});\n",
              "          if (!dataTable) return;\n",
              "\n",
              "          const docLinkHtml = 'Like what you see? Visit the ' +\n",
              "            '<a target=\"_blank\" href=https://colab.research.google.com/notebooks/data_table.ipynb>data table notebook</a>'\n",
              "            + ' to learn more about interactive tables.';\n",
              "          element.innerHTML = '';\n",
              "          dataTable['output_type'] = 'display_data';\n",
              "          await google.colab.output.renderOutput(dataTable, element);\n",
              "          const docLink = document.createElement('div');\n",
              "          docLink.innerHTML = docLinkHtml;\n",
              "          element.appendChild(docLink);\n",
              "        }\n",
              "      </script>\n",
              "    </div>\n",
              "  </div>\n",
              "  "
            ]
          },
          "metadata": {},
          "execution_count": 177
        }
      ],
      "source": [
        "X_train"
      ]
    },
    {
      "cell_type": "markdown",
      "id": "400feb53",
      "metadata": {
        "id": "400feb53"
      },
      "source": [
        "# Scale"
      ]
    },
    {
      "cell_type": "code",
      "execution_count": null,
      "id": "08a19bec",
      "metadata": {
        "id": "08a19bec"
      },
      "outputs": [],
      "source": [
        "from sklearn.preprocessing import StandardScaler, MinMaxScaler"
      ]
    },
    {
      "cell_type": "code",
      "execution_count": null,
      "id": "9a467d19",
      "metadata": {
        "id": "9a467d19"
      },
      "outputs": [],
      "source": [
        "sc = MinMaxScaler()\n",
        "sc.fit(X_train)\n",
        "\n",
        "X_train = sc.transform(X_train)\n",
        "X_eval = sc.transform(X_eval)\n",
        "X_test = sc.transform(X_test)"
      ]
    },
    {
      "cell_type": "code",
      "source": [
        "X_train"
      ],
      "metadata": {
        "colab": {
          "base_uri": "https://localhost:8080/"
        },
        "id": "pfC8GTc83M_-",
        "outputId": "c63a12d6-032e-431b-bec7-cfce4d896091"
      },
      "id": "pfC8GTc83M_-",
      "execution_count": null,
      "outputs": [
        {
          "output_type": "execute_result",
          "data": {
            "text/plain": [
              "array([[0.        , 0.        , 1.        , ..., 0.23192147, 0.        ,\n",
              "        0.        ],\n",
              "       [0.        , 0.        , 1.        , ..., 0.54757852, 0.        ,\n",
              "        1.        ],\n",
              "       [1.        , 0.        , 0.        , ..., 0.2847309 , 0.        ,\n",
              "        1.        ],\n",
              "       ...,\n",
              "       [0.        , 0.        , 1.        , ..., 0.31603367, 0.        ,\n",
              "        1.        ],\n",
              "       [0.        , 1.        , 0.        , ..., 0.52211287, 0.        ,\n",
              "        0.        ],\n",
              "       [0.        , 0.        , 1.        , ..., 0.35349125, 0.        ,\n",
              "        0.        ]])"
            ]
          },
          "metadata": {},
          "execution_count": 180
        }
      ]
    },
    {
      "cell_type": "markdown",
      "id": "feb8683c",
      "metadata": {
        "id": "feb8683c"
      },
      "source": [
        "# Predictions"
      ]
    },
    {
      "cell_type": "code",
      "execution_count": null,
      "id": "8ee93594",
      "metadata": {
        "id": "8ee93594"
      },
      "outputs": [],
      "source": [
        "from catboost import CatBoostClassifier"
      ]
    },
    {
      "cell_type": "code",
      "execution_count": null,
      "id": "c65239b4",
      "metadata": {
        "id": "c65239b4"
      },
      "outputs": [],
      "source": [
        "cat = CatBoostClassifier(random_state=0) "
      ]
    },
    {
      "cell_type": "code",
      "execution_count": null,
      "id": "f71f3c19",
      "metadata": {
        "id": "f71f3c19"
      },
      "outputs": [],
      "source": [
        "from sklearn.preprocessing import LabelEncoder"
      ]
    },
    {
      "cell_type": "code",
      "execution_count": null,
      "id": "d73d52c0",
      "metadata": {
        "id": "d73d52c0"
      },
      "outputs": [],
      "source": [
        "le = LabelEncoder().fit(y_train)\n",
        "y_train_encoded = le.transform(y_train)\n",
        "y_eval_encoded = le.transform(y_eval)"
      ]
    },
    {
      "cell_type": "code",
      "execution_count": null,
      "id": "ddad9d78",
      "metadata": {
        "colab": {
          "base_uri": "https://localhost:8080/"
        },
        "id": "ddad9d78",
        "outputId": "b15bc6b9-e244-475d-b0c4-364cf61defbd"
      },
      "outputs": [
        {
          "output_type": "stream",
          "name": "stdout",
          "text": [
            "Learning rate set to 0.102269\n",
            "0:\tlearn: 1.3301257\ttotal: 70.5ms\tremaining: 1m 10s\n",
            "1:\tlearn: 1.2846028\ttotal: 148ms\tremaining: 1m 13s\n",
            "2:\tlearn: 1.2495977\ttotal: 214ms\tremaining: 1m 11s\n",
            "3:\tlearn: 1.2156911\ttotal: 296ms\tremaining: 1m 13s\n",
            "4:\tlearn: 1.1899044\ttotal: 365ms\tremaining: 1m 12s\n",
            "5:\tlearn: 1.1669800\ttotal: 434ms\tremaining: 1m 11s\n",
            "6:\tlearn: 1.1475682\ttotal: 508ms\tremaining: 1m 12s\n",
            "7:\tlearn: 1.1297237\ttotal: 580ms\tremaining: 1m 11s\n",
            "8:\tlearn: 1.1141516\ttotal: 655ms\tremaining: 1m 12s\n",
            "9:\tlearn: 1.1007398\ttotal: 725ms\tremaining: 1m 11s\n",
            "10:\tlearn: 1.0890030\ttotal: 797ms\tremaining: 1m 11s\n",
            "11:\tlearn: 1.0774924\ttotal: 884ms\tremaining: 1m 12s\n",
            "12:\tlearn: 1.0672400\ttotal: 953ms\tremaining: 1m 12s\n",
            "13:\tlearn: 1.0583148\ttotal: 1.02s\tremaining: 1m 11s\n",
            "14:\tlearn: 1.0501288\ttotal: 1.09s\tremaining: 1m 11s\n",
            "15:\tlearn: 1.0429526\ttotal: 1.16s\tremaining: 1m 11s\n",
            "16:\tlearn: 1.0333808\ttotal: 1.25s\tremaining: 1m 12s\n",
            "17:\tlearn: 1.0265028\ttotal: 1.32s\tremaining: 1m 11s\n",
            "18:\tlearn: 1.0184805\ttotal: 1.39s\tremaining: 1m 11s\n",
            "19:\tlearn: 1.0123197\ttotal: 1.47s\tremaining: 1m 11s\n",
            "20:\tlearn: 1.0055728\ttotal: 1.55s\tremaining: 1m 12s\n",
            "21:\tlearn: 0.9995551\ttotal: 1.64s\tremaining: 1m 12s\n",
            "22:\tlearn: 0.9947508\ttotal: 1.71s\tremaining: 1m 12s\n",
            "23:\tlearn: 0.9898650\ttotal: 1.78s\tremaining: 1m 12s\n",
            "24:\tlearn: 0.9844973\ttotal: 1.89s\tremaining: 1m 13s\n",
            "25:\tlearn: 0.9803202\ttotal: 1.95s\tremaining: 1m 13s\n",
            "26:\tlearn: 0.9760669\ttotal: 2.04s\tremaining: 1m 13s\n",
            "27:\tlearn: 0.9706286\ttotal: 2.1s\tremaining: 1m 13s\n",
            "28:\tlearn: 0.9663020\ttotal: 2.17s\tremaining: 1m 12s\n",
            "29:\tlearn: 0.9622710\ttotal: 2.25s\tremaining: 1m 12s\n",
            "30:\tlearn: 0.9587881\ttotal: 2.32s\tremaining: 1m 12s\n",
            "31:\tlearn: 0.9548114\ttotal: 2.4s\tremaining: 1m 12s\n",
            "32:\tlearn: 0.9513134\ttotal: 2.47s\tremaining: 1m 12s\n",
            "33:\tlearn: 0.9471633\ttotal: 2.54s\tremaining: 1m 12s\n",
            "34:\tlearn: 0.9426926\ttotal: 2.62s\tremaining: 1m 12s\n",
            "35:\tlearn: 0.9398610\ttotal: 2.69s\tremaining: 1m 12s\n",
            "36:\tlearn: 0.9356569\ttotal: 2.76s\tremaining: 1m 11s\n",
            "37:\tlearn: 0.9324227\ttotal: 2.84s\tremaining: 1m 11s\n",
            "38:\tlearn: 0.9301289\ttotal: 2.92s\tremaining: 1m 11s\n",
            "39:\tlearn: 0.9250613\ttotal: 3s\tremaining: 1m 12s\n",
            "40:\tlearn: 0.9219175\ttotal: 3.08s\tremaining: 1m 11s\n",
            "41:\tlearn: 0.9191731\ttotal: 3.14s\tremaining: 1m 11s\n",
            "42:\tlearn: 0.9167878\ttotal: 3.21s\tremaining: 1m 11s\n",
            "43:\tlearn: 0.9147333\ttotal: 3.27s\tremaining: 1m 11s\n",
            "44:\tlearn: 0.9116421\ttotal: 3.35s\tremaining: 1m 11s\n",
            "45:\tlearn: 0.9090933\ttotal: 3.43s\tremaining: 1m 11s\n",
            "46:\tlearn: 0.9071927\ttotal: 3.49s\tremaining: 1m 10s\n",
            "47:\tlearn: 0.9039722\ttotal: 3.58s\tremaining: 1m 11s\n",
            "48:\tlearn: 0.9011997\ttotal: 3.67s\tremaining: 1m 11s\n",
            "49:\tlearn: 0.8988971\ttotal: 3.74s\tremaining: 1m 11s\n",
            "50:\tlearn: 0.8971797\ttotal: 3.82s\tremaining: 1m 11s\n",
            "51:\tlearn: 0.8957212\ttotal: 3.88s\tremaining: 1m 10s\n",
            "52:\tlearn: 0.8941171\ttotal: 3.96s\tremaining: 1m 10s\n",
            "53:\tlearn: 0.8922144\ttotal: 4.04s\tremaining: 1m 10s\n",
            "54:\tlearn: 0.8897148\ttotal: 4.12s\tremaining: 1m 10s\n",
            "55:\tlearn: 0.8883987\ttotal: 4.19s\tremaining: 1m 10s\n",
            "56:\tlearn: 0.8864916\ttotal: 4.27s\tremaining: 1m 10s\n",
            "57:\tlearn: 0.8844030\ttotal: 4.34s\tremaining: 1m 10s\n",
            "58:\tlearn: 0.8826461\ttotal: 4.41s\tremaining: 1m 10s\n",
            "59:\tlearn: 0.8812545\ttotal: 4.48s\tremaining: 1m 10s\n",
            "60:\tlearn: 0.8801266\ttotal: 4.55s\tremaining: 1m 10s\n",
            "61:\tlearn: 0.8780109\ttotal: 4.64s\tremaining: 1m 10s\n",
            "62:\tlearn: 0.8766770\ttotal: 4.71s\tremaining: 1m 10s\n",
            "63:\tlearn: 0.8748365\ttotal: 4.79s\tremaining: 1m 10s\n",
            "64:\tlearn: 0.8737521\ttotal: 4.86s\tremaining: 1m 9s\n",
            "65:\tlearn: 0.8715324\ttotal: 4.94s\tremaining: 1m 9s\n",
            "66:\tlearn: 0.8704248\ttotal: 5.01s\tremaining: 1m 9s\n",
            "67:\tlearn: 0.8691025\ttotal: 5.08s\tremaining: 1m 9s\n",
            "68:\tlearn: 0.8671809\ttotal: 5.17s\tremaining: 1m 9s\n",
            "69:\tlearn: 0.8660290\ttotal: 5.24s\tremaining: 1m 9s\n",
            "70:\tlearn: 0.8650494\ttotal: 5.31s\tremaining: 1m 9s\n",
            "71:\tlearn: 0.8635490\ttotal: 5.39s\tremaining: 1m 9s\n",
            "72:\tlearn: 0.8624378\ttotal: 5.46s\tremaining: 1m 9s\n",
            "73:\tlearn: 0.8606733\ttotal: 5.55s\tremaining: 1m 9s\n",
            "74:\tlearn: 0.8598026\ttotal: 5.62s\tremaining: 1m 9s\n",
            "75:\tlearn: 0.8582651\ttotal: 5.71s\tremaining: 1m 9s\n",
            "76:\tlearn: 0.8572717\ttotal: 5.77s\tremaining: 1m 9s\n",
            "77:\tlearn: 0.8556342\ttotal: 5.86s\tremaining: 1m 9s\n",
            "78:\tlearn: 0.8547984\ttotal: 5.92s\tremaining: 1m 9s\n",
            "79:\tlearn: 0.8538805\ttotal: 6.01s\tremaining: 1m 9s\n",
            "80:\tlearn: 0.8521887\ttotal: 6.09s\tremaining: 1m 9s\n",
            "81:\tlearn: 0.8511327\ttotal: 6.17s\tremaining: 1m 9s\n",
            "82:\tlearn: 0.8504818\ttotal: 6.24s\tremaining: 1m 8s\n",
            "83:\tlearn: 0.8497004\ttotal: 6.31s\tremaining: 1m 8s\n",
            "84:\tlearn: 0.8484609\ttotal: 6.38s\tremaining: 1m 8s\n",
            "85:\tlearn: 0.8473524\ttotal: 6.46s\tremaining: 1m 8s\n",
            "86:\tlearn: 0.8460018\ttotal: 6.55s\tremaining: 1m 8s\n",
            "87:\tlearn: 0.8449334\ttotal: 6.62s\tremaining: 1m 8s\n",
            "88:\tlearn: 0.8440665\ttotal: 6.69s\tremaining: 1m 8s\n",
            "89:\tlearn: 0.8429252\ttotal: 6.78s\tremaining: 1m 8s\n",
            "90:\tlearn: 0.8418035\ttotal: 6.85s\tremaining: 1m 8s\n",
            "91:\tlearn: 0.8409361\ttotal: 6.93s\tremaining: 1m 8s\n",
            "92:\tlearn: 0.8402273\ttotal: 7.01s\tremaining: 1m 8s\n",
            "93:\tlearn: 0.8393661\ttotal: 7.09s\tremaining: 1m 8s\n",
            "94:\tlearn: 0.8383854\ttotal: 7.17s\tremaining: 1m 8s\n",
            "95:\tlearn: 0.8377780\ttotal: 7.25s\tremaining: 1m 8s\n",
            "96:\tlearn: 0.8371114\ttotal: 7.32s\tremaining: 1m 8s\n",
            "97:\tlearn: 0.8361712\ttotal: 7.39s\tremaining: 1m 8s\n",
            "98:\tlearn: 0.8351193\ttotal: 7.48s\tremaining: 1m 8s\n",
            "99:\tlearn: 0.8345456\ttotal: 7.55s\tremaining: 1m 7s\n",
            "100:\tlearn: 0.8340785\ttotal: 7.63s\tremaining: 1m 7s\n",
            "101:\tlearn: 0.8331724\ttotal: 7.71s\tremaining: 1m 7s\n",
            "102:\tlearn: 0.8322584\ttotal: 7.79s\tremaining: 1m 7s\n",
            "103:\tlearn: 0.8317422\ttotal: 7.85s\tremaining: 1m 7s\n",
            "104:\tlearn: 0.8311253\ttotal: 7.92s\tremaining: 1m 7s\n",
            "105:\tlearn: 0.8305342\ttotal: 8s\tremaining: 1m 7s\n",
            "106:\tlearn: 0.8297958\ttotal: 8.08s\tremaining: 1m 7s\n",
            "107:\tlearn: 0.8292489\ttotal: 8.15s\tremaining: 1m 7s\n",
            "108:\tlearn: 0.8285881\ttotal: 8.22s\tremaining: 1m 7s\n",
            "109:\tlearn: 0.8275289\ttotal: 8.31s\tremaining: 1m 7s\n",
            "110:\tlearn: 0.8264449\ttotal: 8.39s\tremaining: 1m 7s\n",
            "111:\tlearn: 0.8257513\ttotal: 8.46s\tremaining: 1m 7s\n",
            "112:\tlearn: 0.8250909\ttotal: 8.54s\tremaining: 1m 7s\n",
            "113:\tlearn: 0.8243255\ttotal: 8.62s\tremaining: 1m 7s\n",
            "114:\tlearn: 0.8237813\ttotal: 8.73s\tremaining: 1m 7s\n",
            "115:\tlearn: 0.8229805\ttotal: 8.8s\tremaining: 1m 7s\n",
            "116:\tlearn: 0.8224806\ttotal: 8.88s\tremaining: 1m 6s\n",
            "117:\tlearn: 0.8218195\ttotal: 8.95s\tremaining: 1m 6s\n",
            "118:\tlearn: 0.8212685\ttotal: 9.04s\tremaining: 1m 6s\n",
            "119:\tlearn: 0.8206390\ttotal: 9.11s\tremaining: 1m 6s\n",
            "120:\tlearn: 0.8200974\ttotal: 9.18s\tremaining: 1m 6s\n",
            "121:\tlearn: 0.8193771\ttotal: 9.25s\tremaining: 1m 6s\n",
            "122:\tlearn: 0.8189898\ttotal: 9.32s\tremaining: 1m 6s\n",
            "123:\tlearn: 0.8185839\ttotal: 9.39s\tremaining: 1m 6s\n",
            "124:\tlearn: 0.8180189\ttotal: 9.47s\tremaining: 1m 6s\n",
            "125:\tlearn: 0.8176023\ttotal: 9.54s\tremaining: 1m 6s\n",
            "126:\tlearn: 0.8170760\ttotal: 9.62s\tremaining: 1m 6s\n",
            "127:\tlearn: 0.8166374\ttotal: 9.69s\tremaining: 1m 6s\n",
            "128:\tlearn: 0.8159360\ttotal: 9.77s\tremaining: 1m 5s\n",
            "129:\tlearn: 0.8153147\ttotal: 9.84s\tremaining: 1m 5s\n",
            "130:\tlearn: 0.8148190\ttotal: 9.92s\tremaining: 1m 5s\n",
            "131:\tlearn: 0.8141820\ttotal: 9.99s\tremaining: 1m 5s\n",
            "132:\tlearn: 0.8136054\ttotal: 10.1s\tremaining: 1m 5s\n",
            "133:\tlearn: 0.8131650\ttotal: 10.1s\tremaining: 1m 5s\n",
            "134:\tlearn: 0.8128710\ttotal: 10.2s\tremaining: 1m 5s\n",
            "135:\tlearn: 0.8123846\ttotal: 10.3s\tremaining: 1m 5s\n",
            "136:\tlearn: 0.8120189\ttotal: 10.4s\tremaining: 1m 5s\n",
            "137:\tlearn: 0.8116025\ttotal: 10.4s\tremaining: 1m 5s\n",
            "138:\tlearn: 0.8110559\ttotal: 10.5s\tremaining: 1m 5s\n",
            "139:\tlearn: 0.8106118\ttotal: 10.6s\tremaining: 1m 5s\n",
            "140:\tlearn: 0.8100419\ttotal: 10.7s\tremaining: 1m 5s\n",
            "141:\tlearn: 0.8095540\ttotal: 10.7s\tremaining: 1m 4s\n",
            "142:\tlearn: 0.8091791\ttotal: 10.8s\tremaining: 1m 4s\n",
            "143:\tlearn: 0.8087438\ttotal: 10.9s\tremaining: 1m 4s\n",
            "144:\tlearn: 0.8083299\ttotal: 11s\tremaining: 1m 4s\n",
            "145:\tlearn: 0.8079481\ttotal: 11.1s\tremaining: 1m 4s\n",
            "146:\tlearn: 0.8076131\ttotal: 11.1s\tremaining: 1m 4s\n",
            "147:\tlearn: 0.8072685\ttotal: 11.2s\tremaining: 1m 4s\n",
            "148:\tlearn: 0.8069191\ttotal: 11.3s\tremaining: 1m 4s\n",
            "149:\tlearn: 0.8066345\ttotal: 11.3s\tremaining: 1m 4s\n",
            "150:\tlearn: 0.8063732\ttotal: 11.4s\tremaining: 1m 4s\n",
            "151:\tlearn: 0.8057827\ttotal: 11.5s\tremaining: 1m 4s\n",
            "152:\tlearn: 0.8054522\ttotal: 11.5s\tremaining: 1m 3s\n",
            "153:\tlearn: 0.8050806\ttotal: 11.6s\tremaining: 1m 3s\n",
            "154:\tlearn: 0.8044370\ttotal: 11.7s\tremaining: 1m 3s\n",
            "155:\tlearn: 0.8040524\ttotal: 11.8s\tremaining: 1m 3s\n",
            "156:\tlearn: 0.8036658\ttotal: 11.8s\tremaining: 1m 3s\n",
            "157:\tlearn: 0.8032603\ttotal: 11.9s\tremaining: 1m 3s\n",
            "158:\tlearn: 0.8028112\ttotal: 12s\tremaining: 1m 3s\n",
            "159:\tlearn: 0.8024946\ttotal: 12.1s\tremaining: 1m 3s\n",
            "160:\tlearn: 0.8021679\ttotal: 12.2s\tremaining: 1m 3s\n",
            "161:\tlearn: 0.8018415\ttotal: 12.2s\tremaining: 1m 3s\n",
            "162:\tlearn: 0.8015581\ttotal: 12.3s\tremaining: 1m 3s\n",
            "163:\tlearn: 0.8012783\ttotal: 12.4s\tremaining: 1m 3s\n",
            "164:\tlearn: 0.8008816\ttotal: 12.5s\tremaining: 1m 3s\n",
            "165:\tlearn: 0.8005114\ttotal: 12.5s\tremaining: 1m 2s\n",
            "166:\tlearn: 0.8002300\ttotal: 12.6s\tremaining: 1m 2s\n",
            "167:\tlearn: 0.7999343\ttotal: 12.7s\tremaining: 1m 2s\n",
            "168:\tlearn: 0.7995543\ttotal: 12.7s\tremaining: 1m 2s\n",
            "169:\tlearn: 0.7992488\ttotal: 12.8s\tremaining: 1m 2s\n",
            "170:\tlearn: 0.7990034\ttotal: 12.9s\tremaining: 1m 2s\n",
            "171:\tlearn: 0.7987732\ttotal: 13s\tremaining: 1m 2s\n",
            "172:\tlearn: 0.7985153\ttotal: 13s\tremaining: 1m 2s\n",
            "173:\tlearn: 0.7980795\ttotal: 13.1s\tremaining: 1m 2s\n",
            "174:\tlearn: 0.7977658\ttotal: 13.2s\tremaining: 1m 2s\n",
            "175:\tlearn: 0.7973281\ttotal: 13.3s\tremaining: 1m 2s\n",
            "176:\tlearn: 0.7970836\ttotal: 13.3s\tremaining: 1m 2s\n",
            "177:\tlearn: 0.7968164\ttotal: 13.4s\tremaining: 1m 1s\n",
            "178:\tlearn: 0.7965077\ttotal: 13.5s\tremaining: 1m 1s\n",
            "179:\tlearn: 0.7960388\ttotal: 13.6s\tremaining: 1m 1s\n",
            "180:\tlearn: 0.7958044\ttotal: 13.6s\tremaining: 1m 1s\n",
            "181:\tlearn: 0.7955340\ttotal: 13.7s\tremaining: 1m 1s\n",
            "182:\tlearn: 0.7952992\ttotal: 13.8s\tremaining: 1m 1s\n",
            "183:\tlearn: 0.7949103\ttotal: 13.9s\tremaining: 1m 1s\n",
            "184:\tlearn: 0.7946691\ttotal: 13.9s\tremaining: 1m 1s\n",
            "185:\tlearn: 0.7944128\ttotal: 14s\tremaining: 1m 1s\n",
            "186:\tlearn: 0.7942222\ttotal: 14.1s\tremaining: 1m 1s\n",
            "187:\tlearn: 0.7940295\ttotal: 14.2s\tremaining: 1m 1s\n",
            "188:\tlearn: 0.7937497\ttotal: 14.2s\tremaining: 1m 1s\n",
            "189:\tlearn: 0.7934340\ttotal: 14.3s\tremaining: 1m 1s\n",
            "190:\tlearn: 0.7929651\ttotal: 14.4s\tremaining: 1m\n",
            "191:\tlearn: 0.7926872\ttotal: 14.5s\tremaining: 1m\n",
            "192:\tlearn: 0.7924533\ttotal: 14.6s\tremaining: 1m\n",
            "193:\tlearn: 0.7922381\ttotal: 14.6s\tremaining: 1m\n",
            "194:\tlearn: 0.7920039\ttotal: 14.7s\tremaining: 1m\n",
            "195:\tlearn: 0.7918192\ttotal: 14.8s\tremaining: 1m\n",
            "196:\tlearn: 0.7915893\ttotal: 14.9s\tremaining: 1m\n",
            "197:\tlearn: 0.7914069\ttotal: 14.9s\tremaining: 1m\n",
            "198:\tlearn: 0.7912046\ttotal: 15s\tremaining: 1m\n",
            "199:\tlearn: 0.7909747\ttotal: 15.1s\tremaining: 1m\n",
            "200:\tlearn: 0.7907537\ttotal: 15.2s\tremaining: 1m\n",
            "201:\tlearn: 0.7905143\ttotal: 15.4s\tremaining: 1m\n",
            "202:\tlearn: 0.7902780\ttotal: 15.6s\tremaining: 1m 1s\n",
            "203:\tlearn: 0.7899457\ttotal: 15.8s\tremaining: 1m 1s\n",
            "204:\tlearn: 0.7897590\ttotal: 15.9s\tremaining: 1m 1s\n",
            "205:\tlearn: 0.7895060\ttotal: 16s\tremaining: 1m 1s\n",
            "206:\tlearn: 0.7893329\ttotal: 16s\tremaining: 1m 1s\n",
            "207:\tlearn: 0.7891447\ttotal: 16.1s\tremaining: 1m 1s\n",
            "208:\tlearn: 0.7889902\ttotal: 16.2s\tremaining: 1m 1s\n",
            "209:\tlearn: 0.7888336\ttotal: 16.3s\tremaining: 1m 1s\n",
            "210:\tlearn: 0.7886743\ttotal: 16.5s\tremaining: 1m 1s\n",
            "211:\tlearn: 0.7884675\ttotal: 16.7s\tremaining: 1m 2s\n",
            "212:\tlearn: 0.7883114\ttotal: 16.9s\tremaining: 1m 2s\n",
            "213:\tlearn: 0.7880688\ttotal: 17s\tremaining: 1m 2s\n",
            "214:\tlearn: 0.7878610\ttotal: 17.1s\tremaining: 1m 2s\n",
            "215:\tlearn: 0.7876634\ttotal: 17.1s\tremaining: 1m 2s\n",
            "216:\tlearn: 0.7875330\ttotal: 17.2s\tremaining: 1m 2s\n",
            "217:\tlearn: 0.7873674\ttotal: 17.3s\tremaining: 1m 2s\n",
            "218:\tlearn: 0.7871969\ttotal: 17.4s\tremaining: 1m 1s\n",
            "219:\tlearn: 0.7870191\ttotal: 17.6s\tremaining: 1m 2s\n",
            "220:\tlearn: 0.7866566\ttotal: 17.9s\tremaining: 1m 2s\n",
            "221:\tlearn: 0.7864918\ttotal: 18s\tremaining: 1m 3s\n",
            "222:\tlearn: 0.7861512\ttotal: 18.1s\tremaining: 1m 3s\n",
            "223:\tlearn: 0.7859465\ttotal: 18.2s\tremaining: 1m 2s\n",
            "224:\tlearn: 0.7857089\ttotal: 18.3s\tremaining: 1m 2s\n",
            "225:\tlearn: 0.7855517\ttotal: 18.3s\tremaining: 1m 2s\n",
            "226:\tlearn: 0.7854045\ttotal: 18.4s\tremaining: 1m 2s\n",
            "227:\tlearn: 0.7851703\ttotal: 18.5s\tremaining: 1m 2s\n",
            "228:\tlearn: 0.7849599\ttotal: 18.6s\tremaining: 1m 2s\n",
            "229:\tlearn: 0.7847210\ttotal: 18.6s\tremaining: 1m 2s\n",
            "230:\tlearn: 0.7845136\ttotal: 18.7s\tremaining: 1m 2s\n",
            "231:\tlearn: 0.7843846\ttotal: 18.8s\tremaining: 1m 2s\n",
            "232:\tlearn: 0.7842546\ttotal: 18.9s\tremaining: 1m 2s\n",
            "233:\tlearn: 0.7840832\ttotal: 19s\tremaining: 1m 2s\n",
            "234:\tlearn: 0.7839322\ttotal: 19s\tremaining: 1m 1s\n",
            "235:\tlearn: 0.7837671\ttotal: 19.1s\tremaining: 1m 1s\n",
            "236:\tlearn: 0.7835788\ttotal: 19.2s\tremaining: 1m 1s\n",
            "237:\tlearn: 0.7834236\ttotal: 19.3s\tremaining: 1m 1s\n",
            "238:\tlearn: 0.7831872\ttotal: 19.3s\tremaining: 1m 1s\n",
            "239:\tlearn: 0.7829359\ttotal: 19.4s\tremaining: 1m 1s\n",
            "240:\tlearn: 0.7827651\ttotal: 19.5s\tremaining: 1m 1s\n",
            "241:\tlearn: 0.7824999\ttotal: 19.6s\tremaining: 1m 1s\n",
            "242:\tlearn: 0.7822693\ttotal: 19.6s\tremaining: 1m 1s\n",
            "243:\tlearn: 0.7820273\ttotal: 19.7s\tremaining: 1m 1s\n",
            "244:\tlearn: 0.7818907\ttotal: 19.8s\tremaining: 1m 1s\n",
            "245:\tlearn: 0.7817804\ttotal: 19.9s\tremaining: 1m\n",
            "246:\tlearn: 0.7816845\ttotal: 20s\tremaining: 1m\n",
            "247:\tlearn: 0.7815688\ttotal: 20s\tremaining: 1m\n",
            "248:\tlearn: 0.7814346\ttotal: 20.1s\tremaining: 1m\n",
            "249:\tlearn: 0.7812588\ttotal: 20.2s\tremaining: 1m\n",
            "250:\tlearn: 0.7811308\ttotal: 20.3s\tremaining: 1m\n",
            "251:\tlearn: 0.7809699\ttotal: 20.3s\tremaining: 1m\n",
            "252:\tlearn: 0.7807454\ttotal: 20.4s\tremaining: 1m\n",
            "253:\tlearn: 0.7805545\ttotal: 20.5s\tremaining: 1m\n",
            "254:\tlearn: 0.7803945\ttotal: 20.6s\tremaining: 1m\n",
            "255:\tlearn: 0.7802458\ttotal: 20.7s\tremaining: 1m\n",
            "256:\tlearn: 0.7801119\ttotal: 20.7s\tremaining: 59.9s\n",
            "257:\tlearn: 0.7798870\ttotal: 20.8s\tremaining: 59.9s\n",
            "258:\tlearn: 0.7796761\ttotal: 20.9s\tremaining: 59.8s\n",
            "259:\tlearn: 0.7795590\ttotal: 21s\tremaining: 59.7s\n",
            "260:\tlearn: 0.7794331\ttotal: 21s\tremaining: 59.6s\n",
            "261:\tlearn: 0.7793178\ttotal: 21.1s\tremaining: 59.5s\n",
            "262:\tlearn: 0.7790389\ttotal: 21.2s\tremaining: 59.4s\n",
            "263:\tlearn: 0.7788022\ttotal: 21.3s\tremaining: 59.4s\n",
            "264:\tlearn: 0.7786744\ttotal: 21.4s\tremaining: 59.3s\n",
            "265:\tlearn: 0.7785747\ttotal: 21.4s\tremaining: 59.2s\n",
            "266:\tlearn: 0.7784266\ttotal: 21.5s\tremaining: 59.1s\n",
            "267:\tlearn: 0.7782809\ttotal: 21.6s\tremaining: 59s\n",
            "268:\tlearn: 0.7781330\ttotal: 21.7s\tremaining: 58.9s\n",
            "269:\tlearn: 0.7780009\ttotal: 21.8s\tremaining: 58.8s\n",
            "270:\tlearn: 0.7778686\ttotal: 21.8s\tremaining: 58.7s\n",
            "271:\tlearn: 0.7777465\ttotal: 21.9s\tremaining: 58.6s\n",
            "272:\tlearn: 0.7775616\ttotal: 22s\tremaining: 58.5s\n",
            "273:\tlearn: 0.7774694\ttotal: 22.1s\tremaining: 58.4s\n",
            "274:\tlearn: 0.7773467\ttotal: 22.1s\tremaining: 58.3s\n",
            "275:\tlearn: 0.7772444\ttotal: 22.2s\tremaining: 58.3s\n",
            "276:\tlearn: 0.7771123\ttotal: 22.3s\tremaining: 58.2s\n",
            "277:\tlearn: 0.7769595\ttotal: 22.4s\tremaining: 58.1s\n",
            "278:\tlearn: 0.7767368\ttotal: 22.4s\tremaining: 58s\n",
            "279:\tlearn: 0.7766411\ttotal: 22.5s\tremaining: 57.9s\n",
            "280:\tlearn: 0.7765021\ttotal: 22.6s\tremaining: 57.8s\n",
            "281:\tlearn: 0.7763567\ttotal: 22.7s\tremaining: 57.8s\n",
            "282:\tlearn: 0.7762128\ttotal: 22.8s\tremaining: 57.7s\n",
            "283:\tlearn: 0.7761163\ttotal: 22.8s\tremaining: 57.6s\n",
            "284:\tlearn: 0.7759201\ttotal: 22.9s\tremaining: 57.5s\n",
            "285:\tlearn: 0.7758217\ttotal: 23s\tremaining: 57.4s\n",
            "286:\tlearn: 0.7756708\ttotal: 23.1s\tremaining: 57.3s\n",
            "287:\tlearn: 0.7755598\ttotal: 23.1s\tremaining: 57.2s\n",
            "288:\tlearn: 0.7754405\ttotal: 23.2s\tremaining: 57.1s\n",
            "289:\tlearn: 0.7753378\ttotal: 23.3s\tremaining: 57.1s\n",
            "290:\tlearn: 0.7752365\ttotal: 23.4s\tremaining: 57s\n",
            "291:\tlearn: 0.7751120\ttotal: 23.5s\tremaining: 56.9s\n",
            "292:\tlearn: 0.7749572\ttotal: 23.5s\tremaining: 56.8s\n",
            "293:\tlearn: 0.7748799\ttotal: 23.6s\tremaining: 56.7s\n",
            "294:\tlearn: 0.7747671\ttotal: 23.7s\tremaining: 56.6s\n",
            "295:\tlearn: 0.7746753\ttotal: 23.8s\tremaining: 56.5s\n",
            "296:\tlearn: 0.7745510\ttotal: 23.8s\tremaining: 56.4s\n",
            "297:\tlearn: 0.7744522\ttotal: 23.9s\tremaining: 56.3s\n",
            "298:\tlearn: 0.7743519\ttotal: 24s\tremaining: 56.2s\n",
            "299:\tlearn: 0.7742368\ttotal: 24.1s\tremaining: 56.1s\n",
            "300:\tlearn: 0.7741311\ttotal: 24.1s\tremaining: 56s\n",
            "301:\tlearn: 0.7740234\ttotal: 24.2s\tremaining: 55.9s\n",
            "302:\tlearn: 0.7739378\ttotal: 24.3s\tremaining: 55.9s\n",
            "303:\tlearn: 0.7738273\ttotal: 24.4s\tremaining: 55.8s\n",
            "304:\tlearn: 0.7736788\ttotal: 24.4s\tremaining: 55.7s\n",
            "305:\tlearn: 0.7735549\ttotal: 24.5s\tremaining: 55.6s\n",
            "306:\tlearn: 0.7734245\ttotal: 24.6s\tremaining: 55.5s\n",
            "307:\tlearn: 0.7733266\ttotal: 24.7s\tremaining: 55.4s\n",
            "308:\tlearn: 0.7732132\ttotal: 24.8s\tremaining: 55.4s\n",
            "309:\tlearn: 0.7730896\ttotal: 24.8s\tremaining: 55.3s\n",
            "310:\tlearn: 0.7729807\ttotal: 24.9s\tremaining: 55.2s\n",
            "311:\tlearn: 0.7728175\ttotal: 25s\tremaining: 55.1s\n",
            "312:\tlearn: 0.7727474\ttotal: 25.1s\tremaining: 55s\n",
            "313:\tlearn: 0.7726125\ttotal: 25.1s\tremaining: 54.9s\n",
            "314:\tlearn: 0.7725011\ttotal: 25.2s\tremaining: 54.8s\n",
            "315:\tlearn: 0.7723919\ttotal: 25.3s\tremaining: 54.7s\n",
            "316:\tlearn: 0.7722701\ttotal: 25.4s\tremaining: 54.6s\n",
            "317:\tlearn: 0.7721816\ttotal: 25.4s\tremaining: 54.6s\n",
            "318:\tlearn: 0.7720735\ttotal: 25.5s\tremaining: 54.5s\n",
            "319:\tlearn: 0.7719342\ttotal: 25.6s\tremaining: 54.4s\n",
            "320:\tlearn: 0.7718105\ttotal: 25.7s\tremaining: 54.3s\n",
            "321:\tlearn: 0.7717193\ttotal: 25.8s\tremaining: 54.2s\n",
            "322:\tlearn: 0.7716451\ttotal: 25.8s\tremaining: 54.1s\n",
            "323:\tlearn: 0.7715373\ttotal: 25.9s\tremaining: 54s\n",
            "324:\tlearn: 0.7714160\ttotal: 26s\tremaining: 53.9s\n",
            "325:\tlearn: 0.7713272\ttotal: 26s\tremaining: 53.9s\n",
            "326:\tlearn: 0.7712271\ttotal: 26.1s\tremaining: 53.8s\n",
            "327:\tlearn: 0.7711217\ttotal: 26.2s\tremaining: 53.7s\n",
            "328:\tlearn: 0.7710227\ttotal: 26.3s\tremaining: 53.6s\n",
            "329:\tlearn: 0.7709469\ttotal: 26.4s\tremaining: 53.5s\n",
            "330:\tlearn: 0.7708840\ttotal: 26.4s\tremaining: 53.4s\n",
            "331:\tlearn: 0.7707902\ttotal: 26.5s\tremaining: 53.3s\n",
            "332:\tlearn: 0.7706947\ttotal: 26.6s\tremaining: 53.3s\n",
            "333:\tlearn: 0.7704795\ttotal: 26.7s\tremaining: 53.2s\n",
            "334:\tlearn: 0.7703751\ttotal: 26.7s\tremaining: 53.1s\n",
            "335:\tlearn: 0.7702815\ttotal: 26.8s\tremaining: 53s\n",
            "336:\tlearn: 0.7700516\ttotal: 26.9s\tremaining: 52.9s\n",
            "337:\tlearn: 0.7699677\ttotal: 27s\tremaining: 52.8s\n",
            "338:\tlearn: 0.7697526\ttotal: 27s\tremaining: 52.7s\n",
            "339:\tlearn: 0.7696424\ttotal: 27.1s\tremaining: 52.7s\n",
            "340:\tlearn: 0.7695768\ttotal: 27.2s\tremaining: 52.6s\n",
            "341:\tlearn: 0.7694610\ttotal: 27.3s\tremaining: 52.5s\n",
            "342:\tlearn: 0.7693716\ttotal: 27.4s\tremaining: 52.4s\n",
            "343:\tlearn: 0.7692666\ttotal: 27.4s\tremaining: 52.3s\n",
            "344:\tlearn: 0.7691316\ttotal: 27.5s\tremaining: 52.2s\n",
            "345:\tlearn: 0.7690324\ttotal: 27.6s\tremaining: 52.2s\n",
            "346:\tlearn: 0.7689692\ttotal: 27.7s\tremaining: 52.1s\n",
            "347:\tlearn: 0.7688354\ttotal: 27.7s\tremaining: 52s\n",
            "348:\tlearn: 0.7686685\ttotal: 27.8s\tremaining: 51.9s\n",
            "349:\tlearn: 0.7685574\ttotal: 27.9s\tremaining: 51.8s\n",
            "350:\tlearn: 0.7684222\ttotal: 28s\tremaining: 51.7s\n",
            "351:\tlearn: 0.7683368\ttotal: 28.1s\tremaining: 51.6s\n",
            "352:\tlearn: 0.7681936\ttotal: 28.1s\tremaining: 51.6s\n",
            "353:\tlearn: 0.7681288\ttotal: 28.2s\tremaining: 51.5s\n",
            "354:\tlearn: 0.7680434\ttotal: 28.3s\tremaining: 51.4s\n",
            "355:\tlearn: 0.7679769\ttotal: 28.4s\tremaining: 51.3s\n",
            "356:\tlearn: 0.7679049\ttotal: 28.5s\tremaining: 51.3s\n",
            "357:\tlearn: 0.7678247\ttotal: 28.5s\tremaining: 51.2s\n",
            "358:\tlearn: 0.7677328\ttotal: 28.6s\tremaining: 51.1s\n",
            "359:\tlearn: 0.7676264\ttotal: 28.7s\tremaining: 51s\n",
            "360:\tlearn: 0.7675366\ttotal: 28.8s\tremaining: 50.9s\n",
            "361:\tlearn: 0.7674510\ttotal: 28.8s\tremaining: 50.8s\n",
            "362:\tlearn: 0.7673271\ttotal: 28.9s\tremaining: 50.8s\n",
            "363:\tlearn: 0.7672511\ttotal: 29s\tremaining: 50.7s\n",
            "364:\tlearn: 0.7671735\ttotal: 29.1s\tremaining: 50.6s\n",
            "365:\tlearn: 0.7670355\ttotal: 29.2s\tremaining: 50.5s\n",
            "366:\tlearn: 0.7669609\ttotal: 29.2s\tremaining: 50.4s\n",
            "367:\tlearn: 0.7668092\ttotal: 29.3s\tremaining: 50.4s\n",
            "368:\tlearn: 0.7666292\ttotal: 29.4s\tremaining: 50.3s\n",
            "369:\tlearn: 0.7665529\ttotal: 29.5s\tremaining: 50.2s\n",
            "370:\tlearn: 0.7664159\ttotal: 29.6s\tremaining: 50.2s\n",
            "371:\tlearn: 0.7663208\ttotal: 29.7s\tremaining: 50.1s\n",
            "372:\tlearn: 0.7662445\ttotal: 29.7s\tremaining: 50s\n",
            "373:\tlearn: 0.7660924\ttotal: 29.8s\tremaining: 49.9s\n",
            "374:\tlearn: 0.7660124\ttotal: 29.9s\tremaining: 49.8s\n",
            "375:\tlearn: 0.7659303\ttotal: 30s\tremaining: 49.7s\n",
            "376:\tlearn: 0.7658206\ttotal: 30.1s\tremaining: 49.7s\n",
            "377:\tlearn: 0.7657637\ttotal: 30.1s\tremaining: 49.6s\n",
            "378:\tlearn: 0.7656781\ttotal: 30.2s\tremaining: 49.5s\n",
            "379:\tlearn: 0.7655871\ttotal: 30.3s\tremaining: 49.4s\n",
            "380:\tlearn: 0.7654467\ttotal: 30.4s\tremaining: 49.3s\n",
            "381:\tlearn: 0.7653855\ttotal: 30.4s\tremaining: 49.3s\n",
            "382:\tlearn: 0.7653264\ttotal: 30.5s\tremaining: 49.2s\n",
            "383:\tlearn: 0.7652857\ttotal: 30.6s\tremaining: 49.1s\n",
            "384:\tlearn: 0.7652139\ttotal: 30.7s\tremaining: 49s\n",
            "385:\tlearn: 0.7651156\ttotal: 30.7s\tremaining: 48.9s\n",
            "386:\tlearn: 0.7650334\ttotal: 30.8s\tremaining: 48.8s\n",
            "387:\tlearn: 0.7649553\ttotal: 30.9s\tremaining: 48.7s\n",
            "388:\tlearn: 0.7648591\ttotal: 31s\tremaining: 48.6s\n",
            "389:\tlearn: 0.7647974\ttotal: 31s\tremaining: 48.6s\n",
            "390:\tlearn: 0.7647383\ttotal: 31.1s\tremaining: 48.5s\n",
            "391:\tlearn: 0.7646666\ttotal: 31.2s\tremaining: 48.4s\n",
            "392:\tlearn: 0.7645944\ttotal: 31.3s\tremaining: 48.3s\n",
            "393:\tlearn: 0.7645359\ttotal: 31.3s\tremaining: 48.2s\n",
            "394:\tlearn: 0.7644700\ttotal: 31.4s\tremaining: 48.1s\n",
            "395:\tlearn: 0.7644221\ttotal: 31.5s\tremaining: 48s\n",
            "396:\tlearn: 0.7643557\ttotal: 31.6s\tremaining: 48s\n",
            "397:\tlearn: 0.7642999\ttotal: 31.6s\tremaining: 47.9s\n",
            "398:\tlearn: 0.7642055\ttotal: 31.7s\tremaining: 47.8s\n",
            "399:\tlearn: 0.7640829\ttotal: 31.8s\tremaining: 47.7s\n",
            "400:\tlearn: 0.7640213\ttotal: 31.9s\tremaining: 47.6s\n",
            "401:\tlearn: 0.7638938\ttotal: 32s\tremaining: 47.6s\n",
            "402:\tlearn: 0.7638226\ttotal: 32s\tremaining: 47.5s\n",
            "403:\tlearn: 0.7637648\ttotal: 32.1s\tremaining: 47.4s\n",
            "404:\tlearn: 0.7637018\ttotal: 32.2s\tremaining: 47.3s\n",
            "405:\tlearn: 0.7636093\ttotal: 32.3s\tremaining: 47.2s\n",
            "406:\tlearn: 0.7635459\ttotal: 32.3s\tremaining: 47.1s\n",
            "407:\tlearn: 0.7634877\ttotal: 32.4s\tremaining: 47.1s\n",
            "408:\tlearn: 0.7633514\ttotal: 32.5s\tremaining: 47s\n",
            "409:\tlearn: 0.7632812\ttotal: 32.6s\tremaining: 46.9s\n",
            "410:\tlearn: 0.7632194\ttotal: 32.7s\tremaining: 46.8s\n",
            "411:\tlearn: 0.7631017\ttotal: 32.7s\tremaining: 46.7s\n",
            "412:\tlearn: 0.7630283\ttotal: 32.8s\tremaining: 46.6s\n",
            "413:\tlearn: 0.7629589\ttotal: 32.9s\tremaining: 46.5s\n",
            "414:\tlearn: 0.7628735\ttotal: 33s\tremaining: 46.5s\n",
            "415:\tlearn: 0.7627790\ttotal: 33.1s\tremaining: 46.4s\n",
            "416:\tlearn: 0.7626813\ttotal: 33.1s\tremaining: 46.3s\n",
            "417:\tlearn: 0.7625837\ttotal: 33.2s\tremaining: 46.2s\n",
            "418:\tlearn: 0.7625062\ttotal: 33.3s\tremaining: 46.2s\n",
            "419:\tlearn: 0.7624490\ttotal: 33.4s\tremaining: 46.1s\n",
            "420:\tlearn: 0.7623760\ttotal: 33.5s\tremaining: 46s\n",
            "421:\tlearn: 0.7622897\ttotal: 33.5s\tremaining: 45.9s\n",
            "422:\tlearn: 0.7621863\ttotal: 33.6s\tremaining: 45.9s\n",
            "423:\tlearn: 0.7620982\ttotal: 33.7s\tremaining: 45.8s\n",
            "424:\tlearn: 0.7620205\ttotal: 33.8s\tremaining: 45.7s\n",
            "425:\tlearn: 0.7619608\ttotal: 33.8s\tremaining: 45.6s\n",
            "426:\tlearn: 0.7618355\ttotal: 33.9s\tremaining: 45.5s\n",
            "427:\tlearn: 0.7617409\ttotal: 34s\tremaining: 45.4s\n",
            "428:\tlearn: 0.7616882\ttotal: 34.1s\tremaining: 45.4s\n",
            "429:\tlearn: 0.7616164\ttotal: 34.1s\tremaining: 45.3s\n",
            "430:\tlearn: 0.7615745\ttotal: 34.2s\tremaining: 45.2s\n",
            "431:\tlearn: 0.7615183\ttotal: 34.3s\tremaining: 45.1s\n",
            "432:\tlearn: 0.7614204\ttotal: 34.4s\tremaining: 45s\n",
            "433:\tlearn: 0.7613563\ttotal: 34.5s\tremaining: 44.9s\n",
            "434:\tlearn: 0.7612618\ttotal: 34.5s\tremaining: 44.9s\n",
            "435:\tlearn: 0.7611897\ttotal: 34.6s\tremaining: 44.8s\n",
            "436:\tlearn: 0.7611275\ttotal: 34.7s\tremaining: 44.7s\n",
            "437:\tlearn: 0.7610451\ttotal: 34.8s\tremaining: 44.6s\n",
            "438:\tlearn: 0.7609942\ttotal: 34.8s\tremaining: 44.5s\n",
            "439:\tlearn: 0.7609114\ttotal: 34.9s\tremaining: 44.4s\n",
            "440:\tlearn: 0.7608183\ttotal: 35s\tremaining: 44.3s\n",
            "441:\tlearn: 0.7607481\ttotal: 35.1s\tremaining: 44.3s\n",
            "442:\tlearn: 0.7606758\ttotal: 35.1s\tremaining: 44.2s\n",
            "443:\tlearn: 0.7606209\ttotal: 35.2s\tremaining: 44.1s\n",
            "444:\tlearn: 0.7605592\ttotal: 35.3s\tremaining: 44s\n",
            "445:\tlearn: 0.7605093\ttotal: 35.4s\tremaining: 43.9s\n",
            "446:\tlearn: 0.7604317\ttotal: 35.4s\tremaining: 43.8s\n",
            "447:\tlearn: 0.7603634\ttotal: 35.5s\tremaining: 43.8s\n",
            "448:\tlearn: 0.7603007\ttotal: 35.6s\tremaining: 43.7s\n",
            "449:\tlearn: 0.7602164\ttotal: 35.7s\tremaining: 43.6s\n",
            "450:\tlearn: 0.7601434\ttotal: 35.7s\tremaining: 43.5s\n",
            "451:\tlearn: 0.7600886\ttotal: 35.8s\tremaining: 43.4s\n",
            "452:\tlearn: 0.7600000\ttotal: 35.9s\tremaining: 43.3s\n",
            "453:\tlearn: 0.7598915\ttotal: 36s\tremaining: 43.3s\n",
            "454:\tlearn: 0.7597696\ttotal: 36.1s\tremaining: 43.2s\n",
            "455:\tlearn: 0.7596907\ttotal: 36.1s\tremaining: 43.1s\n",
            "456:\tlearn: 0.7596335\ttotal: 36.2s\tremaining: 43s\n",
            "457:\tlearn: 0.7595730\ttotal: 36.3s\tremaining: 42.9s\n",
            "458:\tlearn: 0.7595082\ttotal: 36.4s\tremaining: 42.9s\n",
            "459:\tlearn: 0.7594199\ttotal: 36.4s\tremaining: 42.8s\n",
            "460:\tlearn: 0.7593629\ttotal: 36.5s\tremaining: 42.7s\n",
            "461:\tlearn: 0.7593153\ttotal: 36.6s\tremaining: 42.6s\n",
            "462:\tlearn: 0.7592602\ttotal: 36.7s\tremaining: 42.6s\n",
            "463:\tlearn: 0.7591967\ttotal: 36.8s\tremaining: 42.5s\n",
            "464:\tlearn: 0.7591286\ttotal: 36.8s\tremaining: 42.4s\n",
            "465:\tlearn: 0.7590505\ttotal: 36.9s\tremaining: 42.3s\n",
            "466:\tlearn: 0.7589331\ttotal: 37s\tremaining: 42.2s\n",
            "467:\tlearn: 0.7588329\ttotal: 37.1s\tremaining: 42.1s\n",
            "468:\tlearn: 0.7587610\ttotal: 37.2s\tremaining: 42.1s\n",
            "469:\tlearn: 0.7586983\ttotal: 37.2s\tremaining: 42s\n",
            "470:\tlearn: 0.7586252\ttotal: 37.3s\tremaining: 41.9s\n",
            "471:\tlearn: 0.7585612\ttotal: 37.4s\tremaining: 41.8s\n",
            "472:\tlearn: 0.7585063\ttotal: 37.5s\tremaining: 41.7s\n",
            "473:\tlearn: 0.7584271\ttotal: 37.5s\tremaining: 41.7s\n",
            "474:\tlearn: 0.7583753\ttotal: 37.6s\tremaining: 41.6s\n",
            "475:\tlearn: 0.7583174\ttotal: 37.7s\tremaining: 41.5s\n",
            "476:\tlearn: 0.7582515\ttotal: 37.8s\tremaining: 41.4s\n",
            "477:\tlearn: 0.7581854\ttotal: 37.8s\tremaining: 41.3s\n",
            "478:\tlearn: 0.7581273\ttotal: 37.9s\tremaining: 41.2s\n",
            "479:\tlearn: 0.7580688\ttotal: 38s\tremaining: 41.2s\n",
            "480:\tlearn: 0.7580055\ttotal: 38.1s\tremaining: 41.1s\n",
            "481:\tlearn: 0.7579372\ttotal: 38.1s\tremaining: 41s\n",
            "482:\tlearn: 0.7578673\ttotal: 38.2s\tremaining: 40.9s\n",
            "483:\tlearn: 0.7577887\ttotal: 38.3s\tremaining: 40.8s\n",
            "484:\tlearn: 0.7577187\ttotal: 38.4s\tremaining: 40.8s\n",
            "485:\tlearn: 0.7576670\ttotal: 38.5s\tremaining: 40.7s\n",
            "486:\tlearn: 0.7576001\ttotal: 38.5s\tremaining: 40.6s\n",
            "487:\tlearn: 0.7575526\ttotal: 38.6s\tremaining: 40.5s\n",
            "488:\tlearn: 0.7574554\ttotal: 38.7s\tremaining: 40.4s\n",
            "489:\tlearn: 0.7573934\ttotal: 38.8s\tremaining: 40.3s\n",
            "490:\tlearn: 0.7573136\ttotal: 38.8s\tremaining: 40.3s\n",
            "491:\tlearn: 0.7572333\ttotal: 38.9s\tremaining: 40.2s\n",
            "492:\tlearn: 0.7571755\ttotal: 39s\tremaining: 40.1s\n",
            "493:\tlearn: 0.7571034\ttotal: 39.1s\tremaining: 40s\n",
            "494:\tlearn: 0.7570470\ttotal: 39.2s\tremaining: 40s\n",
            "495:\tlearn: 0.7569773\ttotal: 39.2s\tremaining: 39.9s\n",
            "496:\tlearn: 0.7569084\ttotal: 39.3s\tremaining: 39.8s\n",
            "497:\tlearn: 0.7568108\ttotal: 39.4s\tremaining: 39.7s\n",
            "498:\tlearn: 0.7567519\ttotal: 39.5s\tremaining: 39.6s\n",
            "499:\tlearn: 0.7566943\ttotal: 39.6s\tremaining: 39.6s\n",
            "500:\tlearn: 0.7565625\ttotal: 39.6s\tremaining: 39.5s\n",
            "501:\tlearn: 0.7564588\ttotal: 39.7s\tremaining: 39.4s\n",
            "502:\tlearn: 0.7563994\ttotal: 39.8s\tremaining: 39.3s\n",
            "503:\tlearn: 0.7563301\ttotal: 39.9s\tremaining: 39.2s\n",
            "504:\tlearn: 0.7561910\ttotal: 40s\tremaining: 39.2s\n",
            "505:\tlearn: 0.7561367\ttotal: 40s\tremaining: 39.1s\n",
            "506:\tlearn: 0.7560550\ttotal: 40.1s\tremaining: 39s\n",
            "507:\tlearn: 0.7560202\ttotal: 40.2s\tremaining: 38.9s\n",
            "508:\tlearn: 0.7559505\ttotal: 40.3s\tremaining: 38.8s\n",
            "509:\tlearn: 0.7558966\ttotal: 40.3s\tremaining: 38.8s\n",
            "510:\tlearn: 0.7558252\ttotal: 40.4s\tremaining: 38.7s\n",
            "511:\tlearn: 0.7557665\ttotal: 40.5s\tremaining: 38.6s\n",
            "512:\tlearn: 0.7557005\ttotal: 40.6s\tremaining: 38.5s\n",
            "513:\tlearn: 0.7556340\ttotal: 40.7s\tremaining: 38.5s\n",
            "514:\tlearn: 0.7555526\ttotal: 40.9s\tremaining: 38.5s\n",
            "515:\tlearn: 0.7555125\ttotal: 41.2s\tremaining: 38.6s\n",
            "516:\tlearn: 0.7554929\ttotal: 41.4s\tremaining: 38.7s\n",
            "517:\tlearn: 0.7554041\ttotal: 41.5s\tremaining: 38.6s\n",
            "518:\tlearn: 0.7553375\ttotal: 41.6s\tremaining: 38.5s\n",
            "519:\tlearn: 0.7552585\ttotal: 41.7s\tremaining: 38.5s\n",
            "520:\tlearn: 0.7551943\ttotal: 41.7s\tremaining: 38.4s\n",
            "521:\tlearn: 0.7551320\ttotal: 41.8s\tremaining: 38.3s\n",
            "522:\tlearn: 0.7550714\ttotal: 42s\tremaining: 38.3s\n",
            "523:\tlearn: 0.7550127\ttotal: 42.3s\tremaining: 38.4s\n",
            "524:\tlearn: 0.7549446\ttotal: 42.5s\tremaining: 38.5s\n",
            "525:\tlearn: 0.7548827\ttotal: 42.6s\tremaining: 38.4s\n",
            "526:\tlearn: 0.7548487\ttotal: 42.7s\tremaining: 38.3s\n",
            "527:\tlearn: 0.7547898\ttotal: 42.8s\tremaining: 38.2s\n",
            "528:\tlearn: 0.7547291\ttotal: 42.9s\tremaining: 38.2s\n",
            "529:\tlearn: 0.7547017\ttotal: 42.9s\tremaining: 38.1s\n",
            "530:\tlearn: 0.7546500\ttotal: 43s\tremaining: 38s\n",
            "531:\tlearn: 0.7545785\ttotal: 43.2s\tremaining: 38s\n",
            "532:\tlearn: 0.7545065\ttotal: 43.5s\tremaining: 38.1s\n",
            "533:\tlearn: 0.7544521\ttotal: 43.6s\tremaining: 38.1s\n",
            "534:\tlearn: 0.7543927\ttotal: 43.8s\tremaining: 38.1s\n",
            "535:\tlearn: 0.7543284\ttotal: 43.9s\tremaining: 38s\n",
            "536:\tlearn: 0.7542894\ttotal: 44s\tremaining: 37.9s\n",
            "537:\tlearn: 0.7542415\ttotal: 44s\tremaining: 37.8s\n",
            "538:\tlearn: 0.7541829\ttotal: 44.1s\tremaining: 37.7s\n",
            "539:\tlearn: 0.7541077\ttotal: 44.2s\tremaining: 37.7s\n",
            "540:\tlearn: 0.7540391\ttotal: 44.3s\tremaining: 37.6s\n",
            "541:\tlearn: 0.7539643\ttotal: 44.4s\tremaining: 37.5s\n",
            "542:\tlearn: 0.7539117\ttotal: 44.4s\tremaining: 37.4s\n",
            "543:\tlearn: 0.7538196\ttotal: 44.5s\tremaining: 37.3s\n",
            "544:\tlearn: 0.7537334\ttotal: 44.6s\tremaining: 37.2s\n",
            "545:\tlearn: 0.7537020\ttotal: 44.7s\tremaining: 37.2s\n",
            "546:\tlearn: 0.7536390\ttotal: 44.8s\tremaining: 37.1s\n",
            "547:\tlearn: 0.7535686\ttotal: 44.8s\tremaining: 37s\n",
            "548:\tlearn: 0.7535217\ttotal: 44.9s\tremaining: 36.9s\n",
            "549:\tlearn: 0.7534703\ttotal: 45s\tremaining: 36.8s\n",
            "550:\tlearn: 0.7534283\ttotal: 45.1s\tremaining: 36.7s\n",
            "551:\tlearn: 0.7533746\ttotal: 45.2s\tremaining: 36.6s\n",
            "552:\tlearn: 0.7533193\ttotal: 45.2s\tremaining: 36.6s\n",
            "553:\tlearn: 0.7532905\ttotal: 45.3s\tremaining: 36.5s\n",
            "554:\tlearn: 0.7532354\ttotal: 45.4s\tremaining: 36.4s\n",
            "555:\tlearn: 0.7531790\ttotal: 45.5s\tremaining: 36.3s\n",
            "556:\tlearn: 0.7531338\ttotal: 45.6s\tremaining: 36.2s\n",
            "557:\tlearn: 0.7530835\ttotal: 45.6s\tremaining: 36.2s\n",
            "558:\tlearn: 0.7530183\ttotal: 45.7s\tremaining: 36.1s\n",
            "559:\tlearn: 0.7529524\ttotal: 45.8s\tremaining: 36s\n",
            "560:\tlearn: 0.7529013\ttotal: 45.9s\tremaining: 35.9s\n",
            "561:\tlearn: 0.7528593\ttotal: 46s\tremaining: 35.8s\n",
            "562:\tlearn: 0.7528075\ttotal: 46s\tremaining: 35.7s\n",
            "563:\tlearn: 0.7527618\ttotal: 46.1s\tremaining: 35.6s\n",
            "564:\tlearn: 0.7527388\ttotal: 46.2s\tremaining: 35.6s\n",
            "565:\tlearn: 0.7526803\ttotal: 46.3s\tremaining: 35.5s\n",
            "566:\tlearn: 0.7526511\ttotal: 46.3s\tremaining: 35.4s\n",
            "567:\tlearn: 0.7526115\ttotal: 46.4s\tremaining: 35.3s\n",
            "568:\tlearn: 0.7525411\ttotal: 46.5s\tremaining: 35.2s\n",
            "569:\tlearn: 0.7524944\ttotal: 46.6s\tremaining: 35.1s\n",
            "570:\tlearn: 0.7524472\ttotal: 46.7s\tremaining: 35.1s\n",
            "571:\tlearn: 0.7523693\ttotal: 46.7s\tremaining: 35s\n",
            "572:\tlearn: 0.7523264\ttotal: 46.8s\tremaining: 34.9s\n",
            "573:\tlearn: 0.7522887\ttotal: 46.9s\tremaining: 34.8s\n",
            "574:\tlearn: 0.7522363\ttotal: 47s\tremaining: 34.7s\n",
            "575:\tlearn: 0.7521201\ttotal: 47.1s\tremaining: 34.6s\n",
            "576:\tlearn: 0.7520737\ttotal: 47.1s\tremaining: 34.6s\n",
            "577:\tlearn: 0.7520109\ttotal: 47.2s\tremaining: 34.5s\n",
            "578:\tlearn: 0.7519311\ttotal: 47.3s\tremaining: 34.4s\n",
            "579:\tlearn: 0.7518653\ttotal: 47.4s\tremaining: 34.3s\n",
            "580:\tlearn: 0.7518010\ttotal: 47.4s\tremaining: 34.2s\n",
            "581:\tlearn: 0.7517492\ttotal: 47.5s\tremaining: 34.1s\n",
            "582:\tlearn: 0.7516879\ttotal: 47.6s\tremaining: 34.1s\n",
            "583:\tlearn: 0.7516388\ttotal: 47.7s\tremaining: 34s\n",
            "584:\tlearn: 0.7515931\ttotal: 47.8s\tremaining: 33.9s\n",
            "585:\tlearn: 0.7515374\ttotal: 47.9s\tremaining: 33.8s\n",
            "586:\tlearn: 0.7514870\ttotal: 48s\tremaining: 33.7s\n",
            "587:\tlearn: 0.7514518\ttotal: 48s\tremaining: 33.6s\n",
            "588:\tlearn: 0.7513997\ttotal: 48.1s\tremaining: 33.6s\n",
            "589:\tlearn: 0.7513488\ttotal: 48.2s\tremaining: 33.5s\n",
            "590:\tlearn: 0.7512714\ttotal: 48.3s\tremaining: 33.4s\n",
            "591:\tlearn: 0.7511936\ttotal: 48.4s\tremaining: 33.3s\n",
            "592:\tlearn: 0.7511521\ttotal: 48.4s\tremaining: 33.2s\n",
            "593:\tlearn: 0.7510887\ttotal: 48.5s\tremaining: 33.1s\n",
            "594:\tlearn: 0.7510292\ttotal: 48.6s\tremaining: 33.1s\n",
            "595:\tlearn: 0.7509368\ttotal: 48.7s\tremaining: 33s\n",
            "596:\tlearn: 0.7508813\ttotal: 48.7s\tremaining: 32.9s\n",
            "597:\tlearn: 0.7508232\ttotal: 48.8s\tremaining: 32.8s\n",
            "598:\tlearn: 0.7507747\ttotal: 48.9s\tremaining: 32.7s\n",
            "599:\tlearn: 0.7507345\ttotal: 49s\tremaining: 32.7s\n",
            "600:\tlearn: 0.7506798\ttotal: 49.1s\tremaining: 32.6s\n",
            "601:\tlearn: 0.7506242\ttotal: 49.1s\tremaining: 32.5s\n",
            "602:\tlearn: 0.7505840\ttotal: 49.2s\tremaining: 32.4s\n",
            "603:\tlearn: 0.7505177\ttotal: 49.3s\tremaining: 32.3s\n",
            "604:\tlearn: 0.7504495\ttotal: 49.4s\tremaining: 32.3s\n",
            "605:\tlearn: 0.7504064\ttotal: 49.5s\tremaining: 32.2s\n",
            "606:\tlearn: 0.7503620\ttotal: 49.5s\tremaining: 32.1s\n",
            "607:\tlearn: 0.7503206\ttotal: 49.6s\tremaining: 32s\n",
            "608:\tlearn: 0.7502645\ttotal: 49.7s\tremaining: 31.9s\n",
            "609:\tlearn: 0.7502134\ttotal: 49.8s\tremaining: 31.8s\n",
            "610:\tlearn: 0.7501868\ttotal: 49.9s\tremaining: 31.7s\n",
            "611:\tlearn: 0.7501583\ttotal: 49.9s\tremaining: 31.6s\n",
            "612:\tlearn: 0.7501237\ttotal: 50s\tremaining: 31.6s\n",
            "613:\tlearn: 0.7500732\ttotal: 50.1s\tremaining: 31.5s\n",
            "614:\tlearn: 0.7500225\ttotal: 50.2s\tremaining: 31.4s\n",
            "615:\tlearn: 0.7499744\ttotal: 50.2s\tremaining: 31.3s\n",
            "616:\tlearn: 0.7498742\ttotal: 50.3s\tremaining: 31.2s\n",
            "617:\tlearn: 0.7498399\ttotal: 50.4s\tremaining: 31.1s\n",
            "618:\tlearn: 0.7497906\ttotal: 50.5s\tremaining: 31.1s\n",
            "619:\tlearn: 0.7497217\ttotal: 50.5s\tremaining: 31s\n",
            "620:\tlearn: 0.7496913\ttotal: 50.6s\tremaining: 30.9s\n",
            "621:\tlearn: 0.7496226\ttotal: 50.7s\tremaining: 30.8s\n",
            "622:\tlearn: 0.7495934\ttotal: 50.8s\tremaining: 30.7s\n",
            "623:\tlearn: 0.7495396\ttotal: 50.9s\tremaining: 30.6s\n",
            "624:\tlearn: 0.7494947\ttotal: 50.9s\tremaining: 30.6s\n",
            "625:\tlearn: 0.7494517\ttotal: 51s\tremaining: 30.5s\n",
            "626:\tlearn: 0.7493707\ttotal: 51.1s\tremaining: 30.4s\n",
            "627:\tlearn: 0.7493229\ttotal: 51.2s\tremaining: 30.3s\n",
            "628:\tlearn: 0.7492876\ttotal: 51.3s\tremaining: 30.2s\n",
            "629:\tlearn: 0.7492599\ttotal: 51.3s\tremaining: 30.1s\n",
            "630:\tlearn: 0.7492254\ttotal: 51.4s\tremaining: 30.1s\n",
            "631:\tlearn: 0.7491570\ttotal: 51.5s\tremaining: 30s\n",
            "632:\tlearn: 0.7491047\ttotal: 51.6s\tremaining: 29.9s\n",
            "633:\tlearn: 0.7490593\ttotal: 51.6s\tremaining: 29.8s\n",
            "634:\tlearn: 0.7490219\ttotal: 51.7s\tremaining: 29.7s\n",
            "635:\tlearn: 0.7490007\ttotal: 51.8s\tremaining: 29.6s\n",
            "636:\tlearn: 0.7489298\ttotal: 51.9s\tremaining: 29.6s\n",
            "637:\tlearn: 0.7488655\ttotal: 52s\tremaining: 29.5s\n",
            "638:\tlearn: 0.7487990\ttotal: 52s\tremaining: 29.4s\n",
            "639:\tlearn: 0.7487505\ttotal: 52.1s\tremaining: 29.3s\n",
            "640:\tlearn: 0.7487013\ttotal: 52.2s\tremaining: 29.2s\n",
            "641:\tlearn: 0.7486615\ttotal: 52.3s\tremaining: 29.1s\n",
            "642:\tlearn: 0.7486140\ttotal: 52.3s\tremaining: 29.1s\n",
            "643:\tlearn: 0.7485528\ttotal: 52.4s\tremaining: 29s\n",
            "644:\tlearn: 0.7484976\ttotal: 52.5s\tremaining: 28.9s\n",
            "645:\tlearn: 0.7484390\ttotal: 52.6s\tremaining: 28.8s\n",
            "646:\tlearn: 0.7483921\ttotal: 52.7s\tremaining: 28.7s\n",
            "647:\tlearn: 0.7483374\ttotal: 52.7s\tremaining: 28.7s\n",
            "648:\tlearn: 0.7482766\ttotal: 52.8s\tremaining: 28.6s\n",
            "649:\tlearn: 0.7482462\ttotal: 52.9s\tremaining: 28.5s\n",
            "650:\tlearn: 0.7482068\ttotal: 53s\tremaining: 28.4s\n",
            "651:\tlearn: 0.7481329\ttotal: 53.1s\tremaining: 28.3s\n",
            "652:\tlearn: 0.7480858\ttotal: 53.1s\tremaining: 28.2s\n",
            "653:\tlearn: 0.7480297\ttotal: 53.2s\tremaining: 28.1s\n",
            "654:\tlearn: 0.7479272\ttotal: 53.3s\tremaining: 28.1s\n",
            "655:\tlearn: 0.7478910\ttotal: 53.4s\tremaining: 28s\n",
            "656:\tlearn: 0.7478420\ttotal: 53.4s\tremaining: 27.9s\n",
            "657:\tlearn: 0.7477866\ttotal: 53.5s\tremaining: 27.8s\n",
            "658:\tlearn: 0.7477464\ttotal: 53.6s\tremaining: 27.7s\n",
            "659:\tlearn: 0.7476958\ttotal: 53.7s\tremaining: 27.6s\n",
            "660:\tlearn: 0.7476316\ttotal: 53.7s\tremaining: 27.6s\n",
            "661:\tlearn: 0.7475734\ttotal: 53.8s\tremaining: 27.5s\n",
            "662:\tlearn: 0.7475148\ttotal: 53.9s\tremaining: 27.4s\n",
            "663:\tlearn: 0.7474644\ttotal: 54s\tremaining: 27.3s\n",
            "664:\tlearn: 0.7474021\ttotal: 54.1s\tremaining: 27.2s\n",
            "665:\tlearn: 0.7473453\ttotal: 54.1s\tremaining: 27.2s\n",
            "666:\tlearn: 0.7472225\ttotal: 54.2s\tremaining: 27.1s\n",
            "667:\tlearn: 0.7471608\ttotal: 54.3s\tremaining: 27s\n",
            "668:\tlearn: 0.7470935\ttotal: 54.4s\tremaining: 26.9s\n",
            "669:\tlearn: 0.7470450\ttotal: 54.5s\tremaining: 26.8s\n",
            "670:\tlearn: 0.7469983\ttotal: 54.5s\tremaining: 26.7s\n",
            "671:\tlearn: 0.7469584\ttotal: 54.6s\tremaining: 26.7s\n",
            "672:\tlearn: 0.7469200\ttotal: 54.7s\tremaining: 26.6s\n",
            "673:\tlearn: 0.7468690\ttotal: 54.8s\tremaining: 26.5s\n",
            "674:\tlearn: 0.7468211\ttotal: 54.9s\tremaining: 26.4s\n",
            "675:\tlearn: 0.7467806\ttotal: 54.9s\tremaining: 26.3s\n",
            "676:\tlearn: 0.7467420\ttotal: 55s\tremaining: 26.2s\n",
            "677:\tlearn: 0.7466957\ttotal: 55.1s\tremaining: 26.2s\n",
            "678:\tlearn: 0.7466424\ttotal: 55.2s\tremaining: 26.1s\n",
            "679:\tlearn: 0.7466113\ttotal: 55.2s\tremaining: 26s\n",
            "680:\tlearn: 0.7465797\ttotal: 55.3s\tremaining: 25.9s\n",
            "681:\tlearn: 0.7465283\ttotal: 55.4s\tremaining: 25.8s\n",
            "682:\tlearn: 0.7464986\ttotal: 55.5s\tremaining: 25.7s\n",
            "683:\tlearn: 0.7464137\ttotal: 55.5s\tremaining: 25.7s\n",
            "684:\tlearn: 0.7463892\ttotal: 55.6s\tremaining: 25.6s\n",
            "685:\tlearn: 0.7463413\ttotal: 55.7s\tremaining: 25.5s\n",
            "686:\tlearn: 0.7462903\ttotal: 55.8s\tremaining: 25.4s\n",
            "687:\tlearn: 0.7462427\ttotal: 55.9s\tremaining: 25.3s\n",
            "688:\tlearn: 0.7462111\ttotal: 55.9s\tremaining: 25.3s\n",
            "689:\tlearn: 0.7461652\ttotal: 56s\tremaining: 25.2s\n",
            "690:\tlearn: 0.7461131\ttotal: 56.1s\tremaining: 25.1s\n",
            "691:\tlearn: 0.7460706\ttotal: 56.2s\tremaining: 25s\n",
            "692:\tlearn: 0.7460367\ttotal: 56.2s\tremaining: 24.9s\n",
            "693:\tlearn: 0.7459794\ttotal: 56.3s\tremaining: 24.8s\n",
            "694:\tlearn: 0.7459327\ttotal: 56.4s\tremaining: 24.8s\n",
            "695:\tlearn: 0.7458950\ttotal: 56.5s\tremaining: 24.7s\n",
            "696:\tlearn: 0.7458347\ttotal: 56.6s\tremaining: 24.6s\n",
            "697:\tlearn: 0.7457822\ttotal: 56.6s\tremaining: 24.5s\n",
            "698:\tlearn: 0.7457476\ttotal: 56.7s\tremaining: 24.4s\n",
            "699:\tlearn: 0.7456969\ttotal: 56.8s\tremaining: 24.3s\n",
            "700:\tlearn: 0.7456480\ttotal: 56.9s\tremaining: 24.3s\n",
            "701:\tlearn: 0.7456064\ttotal: 57s\tremaining: 24.2s\n",
            "702:\tlearn: 0.7455463\ttotal: 57s\tremaining: 24.1s\n",
            "703:\tlearn: 0.7454944\ttotal: 57.1s\tremaining: 24s\n",
            "704:\tlearn: 0.7454377\ttotal: 57.2s\tremaining: 23.9s\n",
            "705:\tlearn: 0.7454007\ttotal: 57.3s\tremaining: 23.8s\n",
            "706:\tlearn: 0.7453659\ttotal: 57.3s\tremaining: 23.8s\n",
            "707:\tlearn: 0.7453250\ttotal: 57.4s\tremaining: 23.7s\n",
            "708:\tlearn: 0.7452906\ttotal: 57.5s\tremaining: 23.6s\n",
            "709:\tlearn: 0.7452200\ttotal: 57.6s\tremaining: 23.5s\n",
            "710:\tlearn: 0.7451735\ttotal: 57.7s\tremaining: 23.4s\n",
            "711:\tlearn: 0.7451165\ttotal: 57.7s\tremaining: 23.4s\n",
            "712:\tlearn: 0.7450590\ttotal: 57.8s\tremaining: 23.3s\n",
            "713:\tlearn: 0.7450085\ttotal: 57.9s\tremaining: 23.2s\n",
            "714:\tlearn: 0.7449585\ttotal: 58s\tremaining: 23.1s\n",
            "715:\tlearn: 0.7449082\ttotal: 58s\tremaining: 23s\n",
            "716:\tlearn: 0.7448629\ttotal: 58.1s\tremaining: 22.9s\n",
            "717:\tlearn: 0.7448347\ttotal: 58.2s\tremaining: 22.9s\n",
            "718:\tlearn: 0.7448125\ttotal: 58.3s\tremaining: 22.8s\n",
            "719:\tlearn: 0.7447583\ttotal: 58.3s\tremaining: 22.7s\n",
            "720:\tlearn: 0.7446993\ttotal: 58.4s\tremaining: 22.6s\n",
            "721:\tlearn: 0.7446507\ttotal: 58.5s\tremaining: 22.5s\n",
            "722:\tlearn: 0.7446118\ttotal: 58.6s\tremaining: 22.4s\n",
            "723:\tlearn: 0.7445710\ttotal: 58.6s\tremaining: 22.4s\n",
            "724:\tlearn: 0.7445511\ttotal: 58.7s\tremaining: 22.3s\n",
            "725:\tlearn: 0.7444827\ttotal: 58.8s\tremaining: 22.2s\n",
            "726:\tlearn: 0.7444433\ttotal: 58.9s\tremaining: 22.1s\n",
            "727:\tlearn: 0.7444113\ttotal: 59s\tremaining: 22s\n",
            "728:\tlearn: 0.7443517\ttotal: 59s\tremaining: 21.9s\n",
            "729:\tlearn: 0.7443075\ttotal: 59.1s\tremaining: 21.9s\n",
            "730:\tlearn: 0.7442801\ttotal: 59.2s\tremaining: 21.8s\n",
            "731:\tlearn: 0.7442103\ttotal: 59.3s\tremaining: 21.7s\n",
            "732:\tlearn: 0.7441518\ttotal: 59.3s\tremaining: 21.6s\n",
            "733:\tlearn: 0.7441130\ttotal: 59.4s\tremaining: 21.5s\n",
            "734:\tlearn: 0.7440657\ttotal: 59.5s\tremaining: 21.4s\n",
            "735:\tlearn: 0.7440048\ttotal: 59.6s\tremaining: 21.4s\n",
            "736:\tlearn: 0.7439311\ttotal: 59.7s\tremaining: 21.3s\n",
            "737:\tlearn: 0.7438785\ttotal: 59.8s\tremaining: 21.2s\n",
            "738:\tlearn: 0.7438415\ttotal: 59.8s\tremaining: 21.1s\n",
            "739:\tlearn: 0.7438151\ttotal: 59.9s\tremaining: 21.1s\n",
            "740:\tlearn: 0.7437859\ttotal: 60s\tremaining: 21s\n",
            "741:\tlearn: 0.7437413\ttotal: 1m\tremaining: 20.9s\n",
            "742:\tlearn: 0.7436652\ttotal: 1m\tremaining: 20.8s\n",
            "743:\tlearn: 0.7436293\ttotal: 1m\tremaining: 20.7s\n",
            "744:\tlearn: 0.7435834\ttotal: 1m\tremaining: 20.6s\n",
            "745:\tlearn: 0.7435365\ttotal: 1m\tremaining: 20.6s\n",
            "746:\tlearn: 0.7434870\ttotal: 1m\tremaining: 20.5s\n",
            "747:\tlearn: 0.7434497\ttotal: 1m\tremaining: 20.4s\n",
            "748:\tlearn: 0.7433988\ttotal: 1m\tremaining: 20.3s\n",
            "749:\tlearn: 0.7433431\ttotal: 1m\tremaining: 20.2s\n",
            "750:\tlearn: 0.7433023\ttotal: 1m\tremaining: 20.2s\n",
            "751:\tlearn: 0.7432749\ttotal: 1m\tremaining: 20.1s\n",
            "752:\tlearn: 0.7432232\ttotal: 1m\tremaining: 20s\n",
            "753:\tlearn: 0.7431843\ttotal: 1m 1s\tremaining: 19.9s\n",
            "754:\tlearn: 0.7431584\ttotal: 1m 1s\tremaining: 19.8s\n",
            "755:\tlearn: 0.7431387\ttotal: 1m 1s\tremaining: 19.7s\n",
            "756:\tlearn: 0.7430901\ttotal: 1m 1s\tremaining: 19.7s\n",
            "757:\tlearn: 0.7430655\ttotal: 1m 1s\tremaining: 19.6s\n",
            "758:\tlearn: 0.7430356\ttotal: 1m 1s\tremaining: 19.5s\n",
            "759:\tlearn: 0.7430094\ttotal: 1m 1s\tremaining: 19.4s\n",
            "760:\tlearn: 0.7429701\ttotal: 1m 1s\tremaining: 19.3s\n",
            "761:\tlearn: 0.7429528\ttotal: 1m 1s\tremaining: 19.2s\n",
            "762:\tlearn: 0.7429079\ttotal: 1m 1s\tremaining: 19.2s\n",
            "763:\tlearn: 0.7428813\ttotal: 1m 1s\tremaining: 19.1s\n",
            "764:\tlearn: 0.7428409\ttotal: 1m 1s\tremaining: 19s\n",
            "765:\tlearn: 0.7428056\ttotal: 1m 1s\tremaining: 18.9s\n",
            "766:\tlearn: 0.7427656\ttotal: 1m 2s\tremaining: 18.8s\n",
            "767:\tlearn: 0.7427177\ttotal: 1m 2s\tremaining: 18.8s\n",
            "768:\tlearn: 0.7426931\ttotal: 1m 2s\tremaining: 18.7s\n",
            "769:\tlearn: 0.7426521\ttotal: 1m 2s\tremaining: 18.6s\n",
            "770:\tlearn: 0.7426214\ttotal: 1m 2s\tremaining: 18.5s\n",
            "771:\tlearn: 0.7425404\ttotal: 1m 2s\tremaining: 18.4s\n",
            "772:\tlearn: 0.7424885\ttotal: 1m 2s\tremaining: 18.3s\n",
            "773:\tlearn: 0.7424304\ttotal: 1m 2s\tremaining: 18.3s\n",
            "774:\tlearn: 0.7423687\ttotal: 1m 2s\tremaining: 18.2s\n",
            "775:\tlearn: 0.7423006\ttotal: 1m 2s\tremaining: 18.1s\n",
            "776:\tlearn: 0.7422649\ttotal: 1m 2s\tremaining: 18s\n",
            "777:\tlearn: 0.7422018\ttotal: 1m 2s\tremaining: 17.9s\n",
            "778:\tlearn: 0.7421538\ttotal: 1m 2s\tremaining: 17.9s\n",
            "779:\tlearn: 0.7421142\ttotal: 1m 3s\tremaining: 17.8s\n",
            "780:\tlearn: 0.7420865\ttotal: 1m 3s\tremaining: 17.7s\n",
            "781:\tlearn: 0.7420625\ttotal: 1m 3s\tremaining: 17.6s\n",
            "782:\tlearn: 0.7420109\ttotal: 1m 3s\tremaining: 17.5s\n",
            "783:\tlearn: 0.7419715\ttotal: 1m 3s\tremaining: 17.5s\n",
            "784:\tlearn: 0.7419171\ttotal: 1m 3s\tremaining: 17.4s\n",
            "785:\tlearn: 0.7418749\ttotal: 1m 3s\tremaining: 17.3s\n",
            "786:\tlearn: 0.7418396\ttotal: 1m 3s\tremaining: 17.2s\n",
            "787:\tlearn: 0.7418049\ttotal: 1m 3s\tremaining: 17.1s\n",
            "788:\tlearn: 0.7417695\ttotal: 1m 3s\tremaining: 17s\n",
            "789:\tlearn: 0.7417359\ttotal: 1m 3s\tremaining: 17s\n",
            "790:\tlearn: 0.7417044\ttotal: 1m 3s\tremaining: 16.9s\n",
            "791:\tlearn: 0.7416527\ttotal: 1m 3s\tremaining: 16.8s\n",
            "792:\tlearn: 0.7416057\ttotal: 1m 4s\tremaining: 16.7s\n",
            "793:\tlearn: 0.7415772\ttotal: 1m 4s\tremaining: 16.6s\n",
            "794:\tlearn: 0.7415435\ttotal: 1m 4s\tremaining: 16.6s\n",
            "795:\tlearn: 0.7415071\ttotal: 1m 4s\tremaining: 16.5s\n",
            "796:\tlearn: 0.7414621\ttotal: 1m 4s\tremaining: 16.4s\n",
            "797:\tlearn: 0.7414223\ttotal: 1m 4s\tremaining: 16.3s\n",
            "798:\tlearn: 0.7413814\ttotal: 1m 4s\tremaining: 16.2s\n",
            "799:\tlearn: 0.7413502\ttotal: 1m 4s\tremaining: 16.1s\n",
            "800:\tlearn: 0.7413170\ttotal: 1m 4s\tremaining: 16.1s\n",
            "801:\tlearn: 0.7412598\ttotal: 1m 4s\tremaining: 16s\n",
            "802:\tlearn: 0.7412244\ttotal: 1m 4s\tremaining: 15.9s\n",
            "803:\tlearn: 0.7411895\ttotal: 1m 4s\tremaining: 15.8s\n",
            "804:\tlearn: 0.7411626\ttotal: 1m 4s\tremaining: 15.7s\n",
            "805:\tlearn: 0.7411451\ttotal: 1m 5s\tremaining: 15.7s\n",
            "806:\tlearn: 0.7411146\ttotal: 1m 5s\tremaining: 15.6s\n",
            "807:\tlearn: 0.7410681\ttotal: 1m 5s\tremaining: 15.5s\n",
            "808:\tlearn: 0.7410436\ttotal: 1m 5s\tremaining: 15.4s\n",
            "809:\tlearn: 0.7409897\ttotal: 1m 5s\tremaining: 15.3s\n",
            "810:\tlearn: 0.7409632\ttotal: 1m 5s\tremaining: 15.3s\n",
            "811:\tlearn: 0.7409028\ttotal: 1m 5s\tremaining: 15.2s\n",
            "812:\tlearn: 0.7408403\ttotal: 1m 5s\tremaining: 15.1s\n",
            "813:\tlearn: 0.7408210\ttotal: 1m 5s\tremaining: 15s\n",
            "814:\tlearn: 0.7407816\ttotal: 1m 5s\tremaining: 14.9s\n",
            "815:\tlearn: 0.7407608\ttotal: 1m 5s\tremaining: 14.8s\n",
            "816:\tlearn: 0.7406891\ttotal: 1m 5s\tremaining: 14.8s\n",
            "817:\tlearn: 0.7406389\ttotal: 1m 5s\tremaining: 14.7s\n",
            "818:\tlearn: 0.7405923\ttotal: 1m 6s\tremaining: 14.6s\n",
            "819:\tlearn: 0.7405581\ttotal: 1m 6s\tremaining: 14.5s\n",
            "820:\tlearn: 0.7405124\ttotal: 1m 6s\tremaining: 14.4s\n",
            "821:\tlearn: 0.7404450\ttotal: 1m 6s\tremaining: 14.4s\n",
            "822:\tlearn: 0.7404115\ttotal: 1m 6s\tremaining: 14.3s\n",
            "823:\tlearn: 0.7403539\ttotal: 1m 6s\tremaining: 14.2s\n",
            "824:\tlearn: 0.7402938\ttotal: 1m 6s\tremaining: 14.1s\n",
            "825:\tlearn: 0.7402297\ttotal: 1m 6s\tremaining: 14s\n",
            "826:\tlearn: 0.7401838\ttotal: 1m 6s\tremaining: 14s\n",
            "827:\tlearn: 0.7401565\ttotal: 1m 6s\tremaining: 13.9s\n",
            "828:\tlearn: 0.7401170\ttotal: 1m 6s\tremaining: 13.8s\n",
            "829:\tlearn: 0.7400882\ttotal: 1m 6s\tremaining: 13.7s\n",
            "830:\tlearn: 0.7400272\ttotal: 1m 7s\tremaining: 13.6s\n",
            "831:\tlearn: 0.7400118\ttotal: 1m 7s\tremaining: 13.6s\n",
            "832:\tlearn: 0.7399728\ttotal: 1m 7s\tremaining: 13.5s\n",
            "833:\tlearn: 0.7399167\ttotal: 1m 7s\tremaining: 13.4s\n",
            "834:\tlearn: 0.7398775\ttotal: 1m 7s\tremaining: 13.3s\n",
            "835:\tlearn: 0.7398320\ttotal: 1m 7s\tremaining: 13.2s\n",
            "836:\tlearn: 0.7397647\ttotal: 1m 7s\tremaining: 13.2s\n",
            "837:\tlearn: 0.7397442\ttotal: 1m 7s\tremaining: 13.1s\n",
            "838:\tlearn: 0.7397067\ttotal: 1m 7s\tremaining: 13s\n",
            "839:\tlearn: 0.7396735\ttotal: 1m 7s\tremaining: 12.9s\n",
            "840:\tlearn: 0.7396323\ttotal: 1m 7s\tremaining: 12.8s\n",
            "841:\tlearn: 0.7395854\ttotal: 1m 7s\tremaining: 12.7s\n",
            "842:\tlearn: 0.7395251\ttotal: 1m 8s\tremaining: 12.7s\n",
            "843:\tlearn: 0.7394919\ttotal: 1m 8s\tremaining: 12.6s\n",
            "844:\tlearn: 0.7394308\ttotal: 1m 8s\tremaining: 12.5s\n",
            "845:\tlearn: 0.7393869\ttotal: 1m 8s\tremaining: 12.4s\n",
            "846:\tlearn: 0.7393475\ttotal: 1m 8s\tremaining: 12.3s\n",
            "847:\tlearn: 0.7392998\ttotal: 1m 8s\tremaining: 12.3s\n",
            "848:\tlearn: 0.7392708\ttotal: 1m 8s\tremaining: 12.2s\n",
            "849:\tlearn: 0.7392277\ttotal: 1m 8s\tremaining: 12.1s\n",
            "850:\tlearn: 0.7392059\ttotal: 1m 8s\tremaining: 12s\n",
            "851:\tlearn: 0.7391614\ttotal: 1m 8s\tremaining: 11.9s\n",
            "852:\tlearn: 0.7390922\ttotal: 1m 8s\tremaining: 11.9s\n",
            "853:\tlearn: 0.7390578\ttotal: 1m 8s\tremaining: 11.8s\n",
            "854:\tlearn: 0.7390141\ttotal: 1m 8s\tremaining: 11.7s\n",
            "855:\tlearn: 0.7389796\ttotal: 1m 9s\tremaining: 11.6s\n",
            "856:\tlearn: 0.7389411\ttotal: 1m 9s\tremaining: 11.5s\n",
            "857:\tlearn: 0.7388991\ttotal: 1m 9s\tremaining: 11.5s\n",
            "858:\tlearn: 0.7388549\ttotal: 1m 9s\tremaining: 11.4s\n",
            "859:\tlearn: 0.7388093\ttotal: 1m 9s\tremaining: 11.3s\n",
            "860:\tlearn: 0.7387737\ttotal: 1m 9s\tremaining: 11.2s\n",
            "861:\tlearn: 0.7387344\ttotal: 1m 9s\tremaining: 11.1s\n",
            "862:\tlearn: 0.7387044\ttotal: 1m 9s\tremaining: 11s\n",
            "863:\tlearn: 0.7386735\ttotal: 1m 9s\tremaining: 11s\n",
            "864:\tlearn: 0.7386279\ttotal: 1m 9s\tremaining: 10.9s\n",
            "865:\tlearn: 0.7385849\ttotal: 1m 9s\tremaining: 10.8s\n",
            "866:\tlearn: 0.7385638\ttotal: 1m 9s\tremaining: 10.7s\n",
            "867:\tlearn: 0.7385358\ttotal: 1m 9s\tremaining: 10.6s\n",
            "868:\tlearn: 0.7385166\ttotal: 1m 10s\tremaining: 10.6s\n",
            "869:\tlearn: 0.7384600\ttotal: 1m 10s\tremaining: 10.5s\n",
            "870:\tlearn: 0.7384046\ttotal: 1m 10s\tremaining: 10.4s\n",
            "871:\tlearn: 0.7383403\ttotal: 1m 10s\tremaining: 10.3s\n",
            "872:\tlearn: 0.7382870\ttotal: 1m 10s\tremaining: 10.2s\n",
            "873:\tlearn: 0.7382580\ttotal: 1m 10s\tremaining: 10.2s\n",
            "874:\tlearn: 0.7382100\ttotal: 1m 10s\tremaining: 10.1s\n",
            "875:\tlearn: 0.7381794\ttotal: 1m 10s\tremaining: 9.99s\n",
            "876:\tlearn: 0.7381409\ttotal: 1m 10s\tremaining: 9.91s\n",
            "877:\tlearn: 0.7380856\ttotal: 1m 10s\tremaining: 9.83s\n",
            "878:\tlearn: 0.7380673\ttotal: 1m 10s\tremaining: 9.75s\n",
            "879:\tlearn: 0.7380336\ttotal: 1m 10s\tremaining: 9.67s\n",
            "880:\tlearn: 0.7380126\ttotal: 1m 10s\tremaining: 9.59s\n",
            "881:\tlearn: 0.7379751\ttotal: 1m 11s\tremaining: 9.51s\n",
            "882:\tlearn: 0.7379358\ttotal: 1m 11s\tremaining: 9.43s\n",
            "883:\tlearn: 0.7378939\ttotal: 1m 11s\tremaining: 9.35s\n",
            "884:\tlearn: 0.7378467\ttotal: 1m 11s\tremaining: 9.27s\n",
            "885:\tlearn: 0.7378076\ttotal: 1m 11s\tremaining: 9.19s\n",
            "886:\tlearn: 0.7377634\ttotal: 1m 11s\tremaining: 9.11s\n",
            "887:\tlearn: 0.7377073\ttotal: 1m 11s\tremaining: 9.03s\n",
            "888:\tlearn: 0.7376663\ttotal: 1m 11s\tremaining: 8.95s\n",
            "889:\tlearn: 0.7376169\ttotal: 1m 11s\tremaining: 8.86s\n",
            "890:\tlearn: 0.7376049\ttotal: 1m 11s\tremaining: 8.78s\n",
            "891:\tlearn: 0.7375663\ttotal: 1m 11s\tremaining: 8.7s\n",
            "892:\tlearn: 0.7375412\ttotal: 1m 11s\tremaining: 8.62s\n",
            "893:\tlearn: 0.7374970\ttotal: 1m 12s\tremaining: 8.54s\n",
            "894:\tlearn: 0.7374483\ttotal: 1m 12s\tremaining: 8.46s\n",
            "895:\tlearn: 0.7374300\ttotal: 1m 12s\tremaining: 8.38s\n",
            "896:\tlearn: 0.7373896\ttotal: 1m 12s\tremaining: 8.3s\n",
            "897:\tlearn: 0.7373497\ttotal: 1m 12s\tremaining: 8.22s\n",
            "898:\tlearn: 0.7373257\ttotal: 1m 12s\tremaining: 8.13s\n",
            "899:\tlearn: 0.7373119\ttotal: 1m 12s\tremaining: 8.05s\n",
            "900:\tlearn: 0.7372752\ttotal: 1m 12s\tremaining: 7.97s\n",
            "901:\tlearn: 0.7372445\ttotal: 1m 12s\tremaining: 7.89s\n",
            "902:\tlearn: 0.7372007\ttotal: 1m 12s\tremaining: 7.81s\n",
            "903:\tlearn: 0.7371436\ttotal: 1m 12s\tremaining: 7.73s\n",
            "904:\tlearn: 0.7370750\ttotal: 1m 12s\tremaining: 7.65s\n",
            "905:\tlearn: 0.7369940\ttotal: 1m 12s\tremaining: 7.57s\n",
            "906:\tlearn: 0.7369526\ttotal: 1m 13s\tremaining: 7.49s\n",
            "907:\tlearn: 0.7369070\ttotal: 1m 13s\tremaining: 7.41s\n",
            "908:\tlearn: 0.7368717\ttotal: 1m 13s\tremaining: 7.33s\n",
            "909:\tlearn: 0.7368432\ttotal: 1m 13s\tremaining: 7.25s\n",
            "910:\tlearn: 0.7368261\ttotal: 1m 13s\tremaining: 7.17s\n",
            "911:\tlearn: 0.7368001\ttotal: 1m 13s\tremaining: 7.08s\n",
            "912:\tlearn: 0.7367754\ttotal: 1m 13s\tremaining: 7s\n",
            "913:\tlearn: 0.7367372\ttotal: 1m 13s\tremaining: 6.92s\n",
            "914:\tlearn: 0.7366838\ttotal: 1m 13s\tremaining: 6.84s\n",
            "915:\tlearn: 0.7366569\ttotal: 1m 13s\tremaining: 6.76s\n",
            "916:\tlearn: 0.7366018\ttotal: 1m 13s\tremaining: 6.68s\n",
            "917:\tlearn: 0.7365463\ttotal: 1m 13s\tremaining: 6.6s\n",
            "918:\tlearn: 0.7365149\ttotal: 1m 13s\tremaining: 6.52s\n",
            "919:\tlearn: 0.7364950\ttotal: 1m 14s\tremaining: 6.44s\n",
            "920:\tlearn: 0.7364753\ttotal: 1m 14s\tremaining: 6.36s\n",
            "921:\tlearn: 0.7364191\ttotal: 1m 14s\tremaining: 6.28s\n",
            "922:\tlearn: 0.7363943\ttotal: 1m 14s\tremaining: 6.2s\n",
            "923:\tlearn: 0.7363589\ttotal: 1m 14s\tremaining: 6.12s\n",
            "924:\tlearn: 0.7363295\ttotal: 1m 14s\tremaining: 6.04s\n",
            "925:\tlearn: 0.7362767\ttotal: 1m 14s\tremaining: 5.95s\n",
            "926:\tlearn: 0.7362472\ttotal: 1m 14s\tremaining: 5.87s\n",
            "927:\tlearn: 0.7362064\ttotal: 1m 14s\tremaining: 5.79s\n",
            "928:\tlearn: 0.7361806\ttotal: 1m 14s\tremaining: 5.71s\n",
            "929:\tlearn: 0.7361535\ttotal: 1m 14s\tremaining: 5.63s\n",
            "930:\tlearn: 0.7361118\ttotal: 1m 14s\tremaining: 5.55s\n",
            "931:\tlearn: 0.7360664\ttotal: 1m 14s\tremaining: 5.47s\n",
            "932:\tlearn: 0.7360214\ttotal: 1m 15s\tremaining: 5.39s\n",
            "933:\tlearn: 0.7359746\ttotal: 1m 15s\tremaining: 5.31s\n",
            "934:\tlearn: 0.7359472\ttotal: 1m 15s\tremaining: 5.23s\n",
            "935:\tlearn: 0.7358958\ttotal: 1m 15s\tremaining: 5.15s\n",
            "936:\tlearn: 0.7358682\ttotal: 1m 15s\tremaining: 5.07s\n",
            "937:\tlearn: 0.7358415\ttotal: 1m 15s\tremaining: 4.99s\n",
            "938:\tlearn: 0.7358006\ttotal: 1m 15s\tremaining: 4.91s\n",
            "939:\tlearn: 0.7357562\ttotal: 1m 15s\tremaining: 4.83s\n",
            "940:\tlearn: 0.7357167\ttotal: 1m 15s\tremaining: 4.75s\n",
            "941:\tlearn: 0.7356944\ttotal: 1m 15s\tremaining: 4.67s\n",
            "942:\tlearn: 0.7356573\ttotal: 1m 15s\tremaining: 4.58s\n",
            "943:\tlearn: 0.7356351\ttotal: 1m 15s\tremaining: 4.5s\n",
            "944:\tlearn: 0.7356173\ttotal: 1m 16s\tremaining: 4.42s\n",
            "945:\tlearn: 0.7355659\ttotal: 1m 16s\tremaining: 4.34s\n",
            "946:\tlearn: 0.7355399\ttotal: 1m 16s\tremaining: 4.26s\n",
            "947:\tlearn: 0.7355135\ttotal: 1m 16s\tremaining: 4.18s\n",
            "948:\tlearn: 0.7354851\ttotal: 1m 16s\tremaining: 4.1s\n",
            "949:\tlearn: 0.7354409\ttotal: 1m 16s\tremaining: 4.02s\n",
            "950:\tlearn: 0.7354031\ttotal: 1m 16s\tremaining: 3.94s\n",
            "951:\tlearn: 0.7353561\ttotal: 1m 16s\tremaining: 3.86s\n",
            "952:\tlearn: 0.7352975\ttotal: 1m 16s\tremaining: 3.78s\n",
            "953:\tlearn: 0.7352520\ttotal: 1m 16s\tremaining: 3.7s\n",
            "954:\tlearn: 0.7352145\ttotal: 1m 16s\tremaining: 3.62s\n",
            "955:\tlearn: 0.7351761\ttotal: 1m 16s\tremaining: 3.54s\n",
            "956:\tlearn: 0.7351315\ttotal: 1m 16s\tremaining: 3.46s\n",
            "957:\tlearn: 0.7350917\ttotal: 1m 17s\tremaining: 3.38s\n",
            "958:\tlearn: 0.7350523\ttotal: 1m 17s\tremaining: 3.29s\n",
            "959:\tlearn: 0.7350296\ttotal: 1m 17s\tremaining: 3.21s\n",
            "960:\tlearn: 0.7350029\ttotal: 1m 17s\tremaining: 3.13s\n",
            "961:\tlearn: 0.7349380\ttotal: 1m 17s\tremaining: 3.05s\n",
            "962:\tlearn: 0.7349108\ttotal: 1m 17s\tremaining: 2.97s\n",
            "963:\tlearn: 0.7348576\ttotal: 1m 17s\tremaining: 2.89s\n",
            "964:\tlearn: 0.7348063\ttotal: 1m 17s\tremaining: 2.81s\n",
            "965:\tlearn: 0.7347745\ttotal: 1m 17s\tremaining: 2.73s\n",
            "966:\tlearn: 0.7347526\ttotal: 1m 17s\tremaining: 2.65s\n",
            "967:\tlearn: 0.7347341\ttotal: 1m 17s\tremaining: 2.57s\n",
            "968:\tlearn: 0.7346764\ttotal: 1m 17s\tremaining: 2.49s\n",
            "969:\tlearn: 0.7346395\ttotal: 1m 17s\tremaining: 2.41s\n",
            "970:\tlearn: 0.7345882\ttotal: 1m 18s\tremaining: 2.33s\n",
            "971:\tlearn: 0.7345385\ttotal: 1m 18s\tremaining: 2.25s\n",
            "972:\tlearn: 0.7345160\ttotal: 1m 18s\tremaining: 2.17s\n",
            "973:\tlearn: 0.7344557\ttotal: 1m 18s\tremaining: 2.09s\n",
            "974:\tlearn: 0.7344197\ttotal: 1m 18s\tremaining: 2.01s\n",
            "975:\tlearn: 0.7343937\ttotal: 1m 18s\tremaining: 1.93s\n",
            "976:\tlearn: 0.7343589\ttotal: 1m 18s\tremaining: 1.85s\n",
            "977:\tlearn: 0.7343233\ttotal: 1m 18s\tremaining: 1.77s\n",
            "978:\tlearn: 0.7342965\ttotal: 1m 18s\tremaining: 1.69s\n",
            "979:\tlearn: 0.7342595\ttotal: 1m 18s\tremaining: 1.61s\n",
            "980:\tlearn: 0.7342054\ttotal: 1m 18s\tremaining: 1.53s\n",
            "981:\tlearn: 0.7341677\ttotal: 1m 18s\tremaining: 1.45s\n",
            "982:\tlearn: 0.7341121\ttotal: 1m 18s\tremaining: 1.36s\n",
            "983:\tlearn: 0.7340785\ttotal: 1m 19s\tremaining: 1.28s\n",
            "984:\tlearn: 0.7340288\ttotal: 1m 19s\tremaining: 1.2s\n",
            "985:\tlearn: 0.7339826\ttotal: 1m 19s\tremaining: 1.12s\n",
            "986:\tlearn: 0.7339528\ttotal: 1m 19s\tremaining: 1.04s\n",
            "987:\tlearn: 0.7339276\ttotal: 1m 19s\tremaining: 964ms\n",
            "988:\tlearn: 0.7338840\ttotal: 1m 19s\tremaining: 883ms\n",
            "989:\tlearn: 0.7338382\ttotal: 1m 19s\tremaining: 803ms\n",
            "990:\tlearn: 0.7337792\ttotal: 1m 19s\tremaining: 723ms\n",
            "991:\tlearn: 0.7337561\ttotal: 1m 19s\tremaining: 642ms\n",
            "992:\tlearn: 0.7337139\ttotal: 1m 19s\tremaining: 562ms\n",
            "993:\tlearn: 0.7336795\ttotal: 1m 19s\tremaining: 482ms\n",
            "994:\tlearn: 0.7336485\ttotal: 1m 19s\tremaining: 401ms\n",
            "995:\tlearn: 0.7336114\ttotal: 1m 19s\tremaining: 321ms\n",
            "996:\tlearn: 0.7335922\ttotal: 1m 20s\tremaining: 241ms\n",
            "997:\tlearn: 0.7335625\ttotal: 1m 20s\tremaining: 161ms\n",
            "998:\tlearn: 0.7335418\ttotal: 1m 20s\tremaining: 80.3ms\n",
            "999:\tlearn: 0.7335097\ttotal: 1m 20s\tremaining: 0us\n"
          ]
        },
        {
          "output_type": "execute_result",
          "data": {
            "text/plain": [
              "<catboost.core.CatBoostClassifier at 0x7fa3d407f190>"
            ]
          },
          "metadata": {},
          "execution_count": 146
        }
      ],
      "source": [
        "cat.fit(X_train, y_train_encoded)"
      ]
    },
    {
      "cell_type": "code",
      "execution_count": null,
      "id": "2fde2efd",
      "metadata": {
        "id": "2fde2efd"
      },
      "outputs": [],
      "source": [
        "y_eval_pred = cat.predict(X_eval)"
      ]
    },
    {
      "cell_type": "code",
      "execution_count": null,
      "id": "09590651",
      "metadata": {
        "colab": {
          "base_uri": "https://localhost:8080/"
        },
        "id": "09590651",
        "outputId": "5c497b5f-dfa0-473f-d9ea-b354f595ee0d"
      },
      "outputs": [
        {
          "output_type": "execute_result",
          "data": {
            "text/plain": [
              "array([[1],\n",
              "       [2],\n",
              "       [2],\n",
              "       ...,\n",
              "       [1],\n",
              "       [1],\n",
              "       [2]])"
            ]
          },
          "metadata": {},
          "execution_count": 148
        }
      ],
      "source": [
        "y_eval_pred"
      ]
    },
    {
      "cell_type": "code",
      "execution_count": null,
      "id": "902f2590",
      "metadata": {
        "colab": {
          "base_uri": "https://localhost:8080/"
        },
        "id": "902f2590",
        "outputId": "f23c315a-88fa-4845-bb52-3ff08f68cf67"
      },
      "outputs": [
        {
          "output_type": "stream",
          "name": "stdout",
          "text": [
            "[0.37354409 0.69159938 0.69411364 0.51455264]\n"
          ]
        }
      ],
      "source": [
        "from sklearn.metrics import accuracy_score, f1_score\n",
        "\n",
        "acc = f1_score(y_eval_encoded, y_eval_pred, average=None)\n",
        "\n",
        "print(acc)"
      ]
    },
    {
      "cell_type": "code",
      "execution_count": null,
      "id": "d61594d8",
      "metadata": {
        "colab": {
          "base_uri": "https://localhost:8080/"
        },
        "id": "d61594d8",
        "outputId": "d16372ee-f38e-4bd9-bc89-bcd5ebb7ed2b"
      },
      "outputs": [
        {
          "output_type": "stream",
          "name": "stdout",
          "text": [
            "0.6557058823529411\n"
          ]
        }
      ],
      "source": [
        "acc = f1_score(y_eval_encoded, y_eval_pred, average='micro')\n",
        "print(acc)"
      ]
    },
    {
      "cell_type": "code",
      "execution_count": null,
      "id": "cb698554",
      "metadata": {
        "colab": {
          "base_uri": "https://localhost:8080/"
        },
        "id": "cb698554",
        "outputId": "d369c8e7-a156-4a4e-834c-a59fe5eb0870"
      },
      "outputs": [
        {
          "output_type": "stream",
          "name": "stdout",
          "text": [
            "{'Best Concert Ever': 0, 'Did Not Enjoy': 1, 'Enjoyed': 2, 'Worst Concert Ever': 3}\n",
            "              precision    recall  f1-score   support\n",
            "\n",
            "           0       0.62      0.27      0.37      1684\n",
            "           1       0.66      0.73      0.69      6712\n",
            "           2       0.65      0.74      0.69      6865\n",
            "           3       0.69      0.41      0.51      1739\n",
            "\n",
            "    accuracy                           0.66     17000\n",
            "   macro avg       0.65      0.54      0.57     17000\n",
            "weighted avg       0.66      0.66      0.64     17000\n",
            "\n"
          ]
        }
      ],
      "source": [
        "from sklearn.metrics import classification_report\n",
        "\n",
        "print(dict(zip(le.classes_, le.transform(le.classes_))))\n",
        "print(classification_report(y_eval_encoded, y_eval_pred))"
      ]
    },
    {
      "cell_type": "markdown",
      "source": [
        "# Hypertuning"
      ],
      "metadata": {
        "id": "7eHRE6HTecgQ"
      },
      "id": "7eHRE6HTecgQ"
    },
    {
      "cell_type": "code",
      "source": [
        "https://catboost.ai/en/docs/concepts/python-reference_catboostclassifier_randomized_search"
      ],
      "metadata": {
        "id": "pfpDLfveebvs"
      },
      "id": "pfpDLfveebvs",
      "execution_count": null,
      "outputs": []
    },
    {
      "cell_type": "markdown",
      "id": "1b06b1c3",
      "metadata": {
        "id": "1b06b1c3"
      },
      "source": [
        "# Test Predictions"
      ]
    },
    {
      "cell_type": "code",
      "execution_count": null,
      "id": "ced09c14",
      "metadata": {
        "id": "ced09c14"
      },
      "outputs": [],
      "source": [
        "y_pred_test = cat.predict(X_test)"
      ]
    },
    {
      "cell_type": "code",
      "execution_count": null,
      "id": "1cfbcd52",
      "metadata": {
        "id": "1cfbcd52"
      },
      "outputs": [],
      "source": [
        "y_pred_test = le.inverse_transform(y_pred_test)"
      ]
    },
    {
      "cell_type": "code",
      "execution_count": null,
      "id": "fe3ed4ad",
      "metadata": {
        "colab": {
          "base_uri": "https://localhost:8080/"
        },
        "id": "fe3ed4ad",
        "outputId": "fc2bdd72-9767-44ed-c4b9-b090ff0c8992"
      },
      "outputs": [
        {
          "output_type": "execute_result",
          "data": {
            "text/plain": [
              "array(['Best Concert Ever', 'Enjoyed', 'Enjoyed', ..., 'Enjoyed',\n",
              "       'Worst Concert Ever', 'Worst Concert Ever'], dtype=object)"
            ]
          },
          "metadata": {},
          "execution_count": 92
        }
      ],
      "source": [
        "y_pred_test"
      ]
    },
    {
      "cell_type": "code",
      "execution_count": null,
      "id": "2dadf1d9",
      "metadata": {
        "colab": {
          "base_uri": "https://localhost:8080/"
        },
        "id": "2dadf1d9",
        "outputId": "b23e6ae6-9221-4197-d40c-7247e0dcb567"
      },
      "outputs": [
        {
          "output_type": "execute_result",
          "data": {
            "text/plain": [
              "array(['ConcertExperience_70055', 'ConcertExperience_34799',\n",
              "       'ConcertExperience_100410', ..., 'ConcertExperience_197434',\n",
              "       'ConcertExperience_166029', 'ConcertExperience_24025'],\n",
              "      dtype=object)"
            ]
          },
          "metadata": {},
          "execution_count": 93
        }
      ],
      "source": [
        "ids_test.values"
      ]
    },
    {
      "cell_type": "code",
      "execution_count": null,
      "id": "392c68e0",
      "metadata": {
        "id": "392c68e0"
      },
      "outputs": [],
      "source": [
        "df_soumission = pd.DataFrame({'Id' : ids_test.values, 'Predicted' : y_pred_test})"
      ]
    },
    {
      "cell_type": "code",
      "execution_count": null,
      "id": "1699bb89",
      "metadata": {
        "id": "1699bb89"
      },
      "outputs": [],
      "source": [
        "df_soumission.to_csv('Soumission5.csv', index=False)"
      ]
    },
    {
      "cell_type": "code",
      "execution_count": null,
      "id": "6216edfe",
      "metadata": {
        "id": "6216edfe"
      },
      "outputs": [],
      "source": []
    }
  ],
  "metadata": {
    "kernelspec": {
      "display_name": "Python 3 (ipykernel)",
      "language": "python",
      "name": "python3"
    },
    "language_info": {
      "codemirror_mode": {
        "name": "ipython",
        "version": 3
      },
      "file_extension": ".py",
      "mimetype": "text/x-python",
      "name": "python",
      "nbconvert_exporter": "python",
      "pygments_lexer": "ipython3",
      "version": "3.9.7"
    },
    "colab": {
      "provenance": [],
      "collapsed_sections": [
        "8ba6d285",
        "44ce7457",
        "14f7d21e",
        "f9492575",
        "fa743cc7",
        "751bb858",
        "3b32b23b",
        "412297f8",
        "a83898c4",
        "400feb53"
      ]
    }
  },
  "nbformat": 4,
  "nbformat_minor": 5
}